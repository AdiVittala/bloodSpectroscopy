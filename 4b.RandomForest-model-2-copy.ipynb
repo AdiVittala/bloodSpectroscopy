{
  "cells": [
    {
      "cell_type": "markdown",
      "source": [
        "**RandomForest**"
      ],
      "metadata": {
        "nteract": {
          "transient": {
            "deleting": false
          }
        }
      }
    },
    {
      "cell_type": "code",
      "source": [
        "import pandas as pd\n",
        "import glob\n",
        "import numpy as np\n",
        "import seaborn as sns\n",
        "import matplotlib.pyplot as plt\n",
        "import matplotlib\n",
        "from sklearn.preprocessing import OneHotEncoder\n",
        "from sklearn.model_selection import train_test_split\n",
        "from sklearn.metrics import classification_report\n",
        "from sklearn.metrics import confusion_matrix\n",
        "from sklearn.metrics import precision_recall_fscore_support\n",
        "from sklearn.metrics import accuracy_score\n",
        "from sklearn.model_selection import GridSearchCV\n",
        "from sklearn.tree import DecisionTreeClassifier\n",
        "from sklearn.ensemble import RandomForestClassifier\n",
        "from sklearn.metrics import precision_recall_curve\n",
        "from sklearn.model_selection import RandomizedSearchCV"
      ],
      "outputs": [],
      "execution_count": 1,
      "metadata": {
        "gather": {
          "logged": 1627521074514
        }
      }
    },
    {
      "cell_type": "code",
      "source": [
        "dataset = pd.read_csv('dataset_anomaly_threshold_1.2.csv')"
      ],
      "outputs": [],
      "execution_count": 2,
      "metadata": {
        "gather": {
          "logged": 1627521075172
        }
      }
    },
    {
      "cell_type": "code",
      "source": [
        "dataset.drop(['Unnamed: 0'], axis=1, inplace=True)"
      ],
      "outputs": [],
      "execution_count": 3,
      "metadata": {
        "gather": {
          "logged": 1627521075467
        }
      }
    },
    {
      "cell_type": "code",
      "source": [
        "com_columns = dataset.columns.tolist()"
      ],
      "outputs": [],
      "execution_count": 4,
      "metadata": {
        "gather": {
          "logged": 1627521075730
        }
      }
    },
    {
      "cell_type": "code",
      "source": [
        "com_columns"
      ],
      "outputs": [
        {
          "output_type": "execute_result",
          "execution_count": 5,
          "data": {
            "text/plain": "['Wmi_SerialNumber',\n 'socket',\n 'channel',\n 'bank',\n 'Generation_x',\n 'ClusterType_x',\n 'HwSkuId_x',\n 'BIOSVersion',\n 'CPUID',\n 'MemoryManufacturer',\n 'MemoryPartNumber',\n 'AgeOfDimm',\n 'UEfit_sum',\n 'MA_Uefit',\n 'logMA_Uefit',\n 'fm_nibble7_sum',\n 'fm_nibble6_sum',\n 'fm_nibble5_sum',\n 'fm_nibble4_sum',\n 'fm_nibble3_sum',\n 'fm_nibble2_sum',\n 'fm_nibble1_sum',\n 'fm_nibble0_sum',\n 'cnt_rk7_sum',\n 'cnt_rk6_sum',\n 'cnt_rk5_sum',\n 'cnt_rk4_sum',\n 'cnt_rk3_sum',\n 'cnt_rk2_sum',\n 'cnt_rk1_sum',\n 'cnt_rk0_sum',\n 'diffUECount_sum',\n 'DimmTemp_avg',\n 'TotalDIMMCount_sum',\n 'repeatue_sum',\n 'z_ma_uefit',\n 'anomaly_label',\n 'anomaly_id']"
          },
          "metadata": {}
        }
      ],
      "execution_count": 5,
      "metadata": {
        "gather": {
          "logged": 1627521076016
        }
      }
    },
    {
      "cell_type": "code",
      "source": [
        "subset_cols = ['AgeOfDimm', 'MemoryManufacturer','diffUECount_sum', 'TotalDIMMCount_sum', 'fm_nibble7_sum', 'fm_nibble6_sum', 'fm_nibble5_sum', 'fm_nibble4_sum', 'fm_nibble3_sum', 'fm_nibble2_sum', 'fm_nibble1_sum','fm_nibble0_sum', 'cnt_rk7_sum', 'cnt_rk6_sum', 'cnt_rk5_sum', 'cnt_rk4_sum', 'cnt_rk3_sum', 'cnt_rk2_sum', 'cnt_rk1_sum', 'cnt_rk0_sum', 'DimmTemp_avg', 'repeatue_sum', 'anomaly_label']\r\n",
        "dataset_sub = dataset[subset_cols]"
      ],
      "outputs": [],
      "execution_count": 6,
      "metadata": {
        "gather": {
          "logged": 1627521076422
        }
      }
    },
    {
      "cell_type": "code",
      "source": [
        "encoder = OneHotEncoder(sparse=False, handle_unknown='ignore')\r\n",
        "    \r\n",
        "dataset_encoded = pd.DataFrame(encoder.fit_transform(dataset_sub[['MemoryManufacturer']]))\r\n",
        "dataset_encoded.columns = encoder.get_feature_names(['MemoryManufacturer'])\r\n",
        "dataset_sub.drop(['MemoryManufacturer'], axis=1, inplace=True)\r\n",
        "    \r\n",
        "dataset_sub_enc = pd.concat([dataset_encoded, dataset_sub], axis=1)"
      ],
      "outputs": [
        {
          "output_type": "stream",
          "name": "stderr",
          "text": [
            "/anaconda/envs/azureml_py36/lib/python3.6/site-packages/pandas/core/frame.py:4117: SettingWithCopyWarning: \n",
            "A value is trying to be set on a copy of a slice from a DataFrame\n",
            "\n",
            "See the caveats in the documentation: http://pandas.pydata.org/pandas-docs/stable/user_guide/indexing.html#returning-a-view-versus-a-copy\n",
            "  errors=errors,\n"
          ]
        }
      ],
      "execution_count": 7,
      "metadata": {
        "gather": {
          "logged": 1627521076873
        }
      }
    },
    {
      "cell_type": "code",
      "source": [
        "X = dataset_sub_enc.drop(axis=1, labels=['anomaly_label'])\r\n",
        "y = dataset_sub_enc['anomaly_label']\r\n",
        "\r\n",
        "#X_train, X_test, y_train, y_test = train_test_split(X.values, y.values, test_size=0.3, random_state=42)\r\n",
        "X_train, X_test, y_train, y_test = train_test_split(X, y, test_size=0.3, random_state=42)\r\n",
        "\r\n",
        "print(y.value_counts())"
      ],
      "outputs": [
        {
          "output_type": "stream",
          "name": "stdout",
          "text": [
            "0    3454\n",
            "1     348\n",
            "Name: anomaly_label, dtype: int64\n"
          ]
        }
      ],
      "execution_count": 8,
      "metadata": {
        "gather": {
          "logged": 1627521077338
        }
      }
    },
    {
      "cell_type": "code",
      "source": [
        "algorithm_stats = pd.DataFrame()"
      ],
      "outputs": [],
      "execution_count": 9,
      "metadata": {
        "gather": {
          "logged": 1627521078410
        }
      }
    },
    {
      "cell_type": "code",
      "source": [
        "def print_report(y_true, y_pred):\r\n",
        "    print('Accuracy: %.4f\\n' % (accuracy_score(y_true, y_pred)))\r\n",
        "    print('Classification Report:')\r\n",
        "    print(classification_report(y_true, y_pred, target_names=['Non-Anomaly', 'Anomaly']))\r\n",
        "    #print(confusion_matrix(y_true, y_pred))\r\n",
        "    cm = pd.DataFrame(confusion_matrix(y_true, y_pred))\r\n",
        "    cm['Total'] = np.sum(cm, axis=1)\r\n",
        "    cm = cm.append(np.sum(cm, axis=0), ignore_index=True)\r\n",
        "    cm.columns = ['Predicted Non-Anomaly', 'Predicted Anomaly', 'Total']\r\n",
        "    cm = cm.set_index([['Actual Non-Anomaly', 'Actual Anomaly', 'Total']])\r\n",
        "    print(cm)\r\n",
        "\r\n",
        "def create_stats(y_true, y_pred):\r\n",
        "    acc = accuracy_score(y_true, y_pred)\r\n",
        "    stats = precision_recall_fscore_support(y_true, y_pred, average='weighted')\r\n",
        "    return pd.Series([acc, stats[0], stats[1], stats[2]], index=['Accuracy', 'Precision', 'Recall', 'F1'])"
      ],
      "outputs": [],
      "execution_count": 10,
      "metadata": {
        "gather": {
          "logged": 1627521079596
        }
      }
    },
    {
      "cell_type": "code",
      "source": [
        "param_grid = {\r\n",
        "    'n_estimators': [int(x) for x in np.linspace(start = 100, stop = 1000, num = 10)], \r\n",
        "    'max_depth': [int(x) for x in np.linspace(start = 1, stop = 100, num = 20)], \r\n",
        "    'min_weight_fraction_leaf': np.arange(0.1, 0.5, 0.1),\r\n",
        "    'min_samples_split': [2, 4, 8, 16, 32, 64, 128],\r\n",
        "    'min_samples_leaf': [1, 2, 4, 6, 8, 10],\r\n",
        "    'bootstrap': [True, False],\r\n",
        "    'max_features': ['auto', 'sqrt', 'log2'],\r\n",
        "    'class_weight': ['balanced', 'balanced_subsample'],\r\n",
        "    'criterion': ['gini', 'entropy'],\r\n",
        "    'oob_score': [True, False]\r\n",
        "}\r\n",
        "\r\n",
        "clf_forest = RandomizedSearchCV(\r\n",
        "    estimator=RandomForestClassifier(verbose=2), \r\n",
        "    param_distributions=param_grid, \r\n",
        "    n_iter=100,\r\n",
        "    cv=5,\r\n",
        "    scoring='f1',\r\n",
        "    random_state=42,\r\n",
        "    n_jobs=-1\r\n",
        ")\r\n",
        "\r\n",
        "clf_forest.fit(X_train, y_train)\r\n",
        "\r\n",
        "print(f'Best  score: {clf_forest.best_score_}')\r\n",
        "print(f'Best params: {clf_forest.best_params_}\\n')\r\n",
        "\r\n",
        "algorithm_stats['RandomForest'] = create_stats(y_test, clf_forest.predict(X_test))\r\n",
        "print_report(y_test, clf_forest.predict(X_test))"
      ],
      "outputs": [
        {
          "output_type": "stream",
          "name": "stdout",
          "text": [
            "building tree 1 of 300\n",
            "building tree 2 of 300\n",
            "building tree 3 of 300\n",
            "building tree 4 of 300\n",
            "building tree 5 of 300\n",
            "building tree 6 of 300\n",
            "building tree 7 of 300\n",
            "building tree 8 of 300\n",
            "building tree 9 of 300\n",
            "building tree 10 of 300\n",
            "building tree 11 of 300\n",
            "building tree 12 of 300\n",
            "building tree 13 of 300\n",
            "building tree 14 of 300\n",
            "building tree 15 of 300\n",
            "building tree 16 of 300\n",
            "building tree 17 of 300\n",
            "building tree 18 of 300\n",
            "building tree 19 of 300\n",
            "building tree 20 of 300\n",
            "building tree 21 of 300\n",
            "building tree 22 of 300\n",
            "building tree 23 of 300\n",
            "building tree 24 of 300\n",
            "building tree 25 of 300\n",
            "building tree 26 of 300\n",
            "building tree 27 of 300\n",
            "building tree 28 of 300\n",
            "building tree 29 of 300\n",
            "building tree 30 of 300\n",
            "building tree 31 of 300\n",
            "building tree 32 of 300\n",
            "building tree 33 of 300\n",
            "building tree 34 of 300\n",
            "building tree 35 of 300\n",
            "building tree 36 of 300\n",
            "building tree 37 of 300\n",
            "building tree 38 of 300\n",
            "building tree 39 of 300\n",
            "building tree 40 of 300\n",
            "building tree 41 of 300\n",
            "building tree 42 of 300\n",
            "building tree 43 of 300\n",
            "building tree 44 of 300\n",
            "building tree 45 of 300\n",
            "building tree 46 of 300\n",
            "building tree 47 of 300\n",
            "building tree 48 of 300\n",
            "building tree 49 of 300\n",
            "building tree 50 of 300\n",
            "building tree 51 of 300\n",
            "building tree 52 of 300\n",
            "building tree 53 of 300\n",
            "building tree 54 of 300\n",
            "building tree 55 of 300\n",
            "building tree 56 of 300\n",
            "building tree 57 of 300\n",
            "building tree 58 of 300\n",
            "building tree 59 of 300\n",
            "building tree 60 of 300\n",
            "building tree 61 of 300\n",
            "building tree 62 of 300\n",
            "building tree 63 of 300\n",
            "building tree 64 of 300\n",
            "building tree 65 of 300\n",
            "building tree 66 of 300\n",
            "building tree 67 of 300\n",
            "building tree 68 of 300\n",
            "building tree 69 of 300\n",
            "building tree 70 of 300\n",
            "building tree 71 of 300\n",
            "building tree 72 of 300\n",
            "building tree 73 of 300\n",
            "building tree 74 of 300\n",
            "building tree 75 of 300\n",
            "building tree 76 of 300\n",
            "building tree 77 of 300\n",
            "building tree 78 of 300\n",
            "building tree 79 of 300\n",
            "building tree 80 of 300\n",
            "building tree 81 of 300\n",
            "building tree 82 of 300\n",
            "building tree 83 of 300\n",
            "building tree 84 of 300\n",
            "building tree 85 of 300\n",
            "building tree 86 of 300\n",
            "building tree 87 of 300\n",
            "building tree 88 of 300\n",
            "building tree 89 of 300\n",
            "building tree 90 of 300\n",
            "building tree 91 of 300\n",
            "building tree 92 of 300\n",
            "building tree 93 of 300\n",
            "building tree 94 of 300\n",
            "building tree 95 of 300\n",
            "building tree 96 of 300\n",
            "building tree 97 of 300\n",
            "building tree 98 of 300\n",
            "building tree 99 of 300\n",
            "building tree 100 of 300\n",
            "building tree 101 of 300\n",
            "building tree 102 of 300\n",
            "building tree 103 of 300\n",
            "building tree 104 of 300\n",
            "building tree 105 of 300\n",
            "building tree 106 of 300\n",
            "building tree 107 of 300\n",
            "building tree 108 of 300\n",
            "building tree 109 of 300\n",
            "building tree 110 of 300\n",
            "building tree 111 of 300\n",
            "building tree 112 of 300\n",
            "building tree 113 of 300\n",
            "building tree 114 of 300\n",
            "building tree 115 of 300\n",
            "building tree 116 of 300\n",
            "building tree 117 of 300\n",
            "building tree 118 of 300\n",
            "building tree 119 of 300\n",
            "building tree 120 of 300\n",
            "building tree 121 of 300\n",
            "building tree 122 of 300\n",
            "building tree 123 of 300\n",
            "building tree 124 of 300\n",
            "building tree 125 of 300\n",
            "building tree 126 of 300\n",
            "building tree 127 of 300\n",
            "building tree 128 of 300\n",
            "building tree 129 of 300\n",
            "building tree 130 of 300\n",
            "building tree 131 of 300\n",
            "building tree 132 of 300\n",
            "building tree 133 of 300\n",
            "building tree 134 of 300\n",
            "building tree 135 of 300\n",
            "building tree 136 of 300\n",
            "building tree 137 of 300\n",
            "building tree 138 of 300\n",
            "building tree 139 of 300\n",
            "building tree 140 of 300\n",
            "building tree 141 of 300\n",
            "building tree 142 of 300\n",
            "building tree 143 of 300\n",
            "building tree 144 of 300\n",
            "building tree 145 of 300\n",
            "building tree 146 of 300\n",
            "building tree 147 of 300\n",
            "building tree 148 of 300\n",
            "building tree 149 of 300\n",
            "building tree 150 of 300\n",
            "building tree 151 of 300\n",
            "building tree 152 of 300\n",
            "building tree 153 of 300\n",
            "building tree 154 of 300\n",
            "building tree 155 of 300\n",
            "building tree 156 of 300\n",
            "building tree 157 of 300\n",
            "building tree 158 of 300\n",
            "building tree 159 of 300\n",
            "building tree 160 of 300\n",
            "building tree 161 of 300\n",
            "building tree 162 of 300\n",
            "building tree 163 of 300\n",
            "building tree 164 of 300\n",
            "building tree 165 of 300\n",
            "building tree 166 of 300\n",
            "building tree 167 of 300\n",
            "building tree 168 of 300\n",
            "building tree 169 of 300\n",
            "building tree 170 of 300\n",
            "building tree 171 of 300\n",
            "building tree 172 of 300\n",
            "building tree 173 of 300\n",
            "building tree 174 of 300\n",
            "building tree 175 of 300\n",
            "building tree 176 of 300\n",
            "building tree 177 of 300\n",
            "building tree 178 of 300\n",
            "building tree 179 of 300\n",
            "building tree 180 of 300\n",
            "building tree 181 of 300\n",
            "building tree 182 of 300\n",
            "building tree 183 of 300\n",
            "building tree 184 of 300\n",
            "building tree 185 of 300\n",
            "building tree 186 of 300\n",
            "building tree 187 of 300\n",
            "building tree 188 of 300\n",
            "building tree 189 of 300\n",
            "building tree 190 of 300\n",
            "building tree 191 of 300\n",
            "building tree 192 of 300\n",
            "building tree 193 of 300\n",
            "building tree 194 of 300\n",
            "building tree 195 of 300\n",
            "building tree 196 of 300\n",
            "building tree 197 of 300\n",
            "building tree 198 of 300\n",
            "building tree 199 of 300\n",
            "building tree 200 of 300\n",
            "building tree 201 of 300\n",
            "building tree 202 of 300\n",
            "building tree 203 of 300\n",
            "building tree 204 of 300\n",
            "building tree 205 of 300\n",
            "building tree 206 of 300\n",
            "building tree 207 of 300\n",
            "building tree 208 of 300\n",
            "building tree 209 of 300\n",
            "building tree 210 of 300\n",
            "building tree 211 of 300\n",
            "building tree 212 of 300\n",
            "building tree 213 of 300\n",
            "building tree 214 of 300\n",
            "building tree 215 of 300\n",
            "building tree 216 of 300\n",
            "building tree 217 of 300\n",
            "building tree 218 of 300\n",
            "building tree 219 of 300\n",
            "building tree 220 of 300\n",
            "building tree 221 of 300\n",
            "building tree 222 of 300\n",
            "building tree 223 of 300\n",
            "building tree 224 of 300\n",
            "building tree 225 of 300\n",
            "building tree 226 of 300\n",
            "building tree 227 of 300\n",
            "building tree 228 of 300\n",
            "building tree 229 of 300\n",
            "building tree 230 of 300\n",
            "building tree 231 of 300\n",
            "building tree 232 of 300\n",
            "building tree 233 of 300\n",
            "building tree 234 of 300\n",
            "building tree 235 of 300\n",
            "building tree 236 of 300\n",
            "building tree 237 of 300\n",
            "building tree 238 of 300\n",
            "building tree 239 of 300\n",
            "building tree 240 of 300\n",
            "building tree 241 of 300\n",
            "building tree 242 of 300\n",
            "building tree 243 of 300\n",
            "building tree 244 of 300\n",
            "building tree 245 of 300\n",
            "building tree 246 of 300\n",
            "building tree 247 of 300\n",
            "building tree 248 of 300\n",
            "building tree 249 of 300\n",
            "building tree 250 of 300\n",
            "building tree 251 of 300\n",
            "building tree 252 of 300\n",
            "building tree 253 of 300\n",
            "building tree 254 of 300\n",
            "building tree 255 of 300\n",
            "building tree 256 of 300\n",
            "building tree 257 of 300\n",
            "building tree 258 of 300\n",
            "building tree 259 of 300\n",
            "building tree 260 of 300\n",
            "building tree 261 of 300\n",
            "building tree 262 of 300\n",
            "building tree 263 of 300\n",
            "building tree 264 of 300\n",
            "building tree 265 of 300\n",
            "building tree 266 of 300\n",
            "building tree 267 of 300\n",
            "building tree 268 of 300\n",
            "building tree 269 of 300\n",
            "building tree 270 of 300\n",
            "building tree 271 of 300\n",
            "building tree 272 of 300\n",
            "building tree 273 of 300\n",
            "building tree 274 of 300\n",
            "building tree 275 of 300\n",
            "building tree 276 of 300\n",
            "building tree 277 of 300\n",
            "building tree 278 of 300\n",
            "building tree 279 of 300\n",
            "building tree 280 of 300\n",
            "building tree 281 of 300\n",
            "building tree 282 of 300\n",
            "building tree 283 of 300\n",
            "building tree 284 of 300\n",
            "building tree 285 of 300\n",
            "building tree 286 of 300\n",
            "building tree 287 of 300\n",
            "building tree 288 of 300\n",
            "building tree 289 of 300\n",
            "building tree 290 of 300\n",
            "building tree 291 of 300\n",
            "building tree 292 of 300\n",
            "building tree 293 of 300\n",
            "building tree 294 of 300\n",
            "building tree 295 of 300\n",
            "building tree 296 of 300\n",
            "building tree 297 of 300\n",
            "building tree 298 of 300\n",
            "building tree 299 of 300\n",
            "building tree 300 of 300\n",
            "Best  score: 0.47691404119125824\n",
            "Best params: {'oob_score': False, 'n_estimators': 300, 'min_weight_fraction_leaf': 0.1, 'min_samples_split': 4, 'min_samples_leaf': 1, 'max_features': 'log2', 'max_depth': 63, 'criterion': 'entropy', 'class_weight': 'balanced', 'bootstrap': True}\n",
            "\n",
            "Accuracy: 0.8291\n",
            "\n",
            "Classification Report:\n",
            "              precision    recall  f1-score   support\n",
            "\n",
            " Non-Anomaly       0.96      0.85      0.90      1041\n",
            "     Anomaly       0.29      0.66      0.40       100\n",
            "\n",
            "    accuracy                           0.83      1141\n",
            "   macro avg       0.63      0.75      0.65      1141\n",
            "weighted avg       0.90      0.83      0.86      1141\n",
            "\n",
            "                    Predicted Non-Anomaly  Predicted Anomaly  Total\n",
            "Actual Non-Anomaly                    880                161   1041\n",
            "Actual Anomaly                         34                 66    100\n",
            "Total                                 914                227   1141\n"
          ]
        },
        {
          "output_type": "stream",
          "name": "stderr",
          "text": [
            "[Parallel(n_jobs=1)]: Using backend SequentialBackend with 1 concurrent workers.\n",
            "[Parallel(n_jobs=1)]: Done   1 out of   1 | elapsed:    0.0s remaining:    0.0s\n",
            "[Parallel(n_jobs=1)]: Done 300 out of 300 | elapsed:    0.7s finished\n",
            "[Parallel(n_jobs=1)]: Using backend SequentialBackend with 1 concurrent workers.\n",
            "[Parallel(n_jobs=1)]: Done   1 out of   1 | elapsed:    0.0s remaining:    0.0s\n",
            "[Parallel(n_jobs=1)]: Done 300 out of 300 | elapsed:    0.1s finished\n",
            "[Parallel(n_jobs=1)]: Using backend SequentialBackend with 1 concurrent workers.\n",
            "[Parallel(n_jobs=1)]: Done   1 out of   1 | elapsed:    0.0s remaining:    0.0s\n",
            "[Parallel(n_jobs=1)]: Done 300 out of 300 | elapsed:    0.1s finished\n"
          ]
        }
      ],
      "execution_count": 11,
      "metadata": {
        "gather": {
          "logged": 1627521393144
        }
      }
    },
    {
      "cell_type": "code",
      "source": [
        "rf_clf = RandomForestClassifier()\r\n",
        "rf_clf.set_params(**clf_forest.best_params_)\r\n",
        "rf_clf.fit(X_train, y_train)"
      ],
      "outputs": [
        {
          "output_type": "execute_result",
          "execution_count": 12,
          "data": {
            "text/plain": "RandomForestClassifier(bootstrap=True, ccp_alpha=0.0, class_weight='balanced',\n                       criterion='entropy', max_depth=63, max_features='log2',\n                       max_leaf_nodes=None, max_samples=None,\n                       min_impurity_decrease=0.0, min_impurity_split=None,\n                       min_samples_leaf=1, min_samples_split=4,\n                       min_weight_fraction_leaf=0.1, n_estimators=300,\n                       n_jobs=None, oob_score=False, random_state=None,\n                       verbose=0, warm_start=False)"
          },
          "metadata": {}
        }
      ],
      "execution_count": 12,
      "metadata": {
        "collapsed": true,
        "jupyter": {
          "source_hidden": false,
          "outputs_hidden": false
        },
        "nteract": {
          "transient": {
            "deleting": false
          }
        },
        "gather": {
          "logged": 1627521393761
        }
      }
    },
    {
      "cell_type": "code",
      "source": [
        "sizes = [10, 100, 400, 800, 1200, 1600, 2000, 2394]\r\n",
        "from sklearn.model_selection import learning_curve\r\n",
        "\r\n",
        "train_sizes, train_scores, validation_scores = learning_curve(\r\n",
        "    estimator=rf_clf,\r\n",
        "    X = X_train,\r\n",
        "    y = y_train,\r\n",
        "    train_sizes = sizes,\r\n",
        "    cv = 10,\r\n",
        "    scoring = 'f1'\r\n",
        ")\r\n",
        "\r\n",
        "train_score_mean = train_scores.mean(axis=1)\r\n",
        "validation_score_mean = validation_scores.mean(axis=1)"
      ],
      "outputs": [
        {
          "output_type": "stream",
          "name": "stderr",
          "text": [
            "/anaconda/envs/azureml_py36/lib/python3.6/site-packages/sklearn/metrics/_classification.py:1515: UndefinedMetricWarning: F-score is ill-defined and being set to 0.0 due to no true nor predicted samples. Use `zero_division` parameter to control this behavior.\n",
            "  average, \"true nor predicted\", 'F-score is', len(true_sum)\n"
          ]
        }
      ],
      "execution_count": 13,
      "metadata": {
        "collapsed": true,
        "jupyter": {
          "source_hidden": false,
          "outputs_hidden": false
        },
        "nteract": {
          "transient": {
            "deleting": false
          }
        },
        "gather": {
          "logged": 1627521443663
        }
      }
    },
    {
      "cell_type": "code",
      "source": [
        "idx_train_size = [i for i, element in enumerate(train_score_mean) if element == 0]\r\n",
        "\r\n",
        "if idx_train_size:\r\n",
        "    train_sizes = np.delete(train_sizes, idx_train_size)\r\n",
        "    train_score_mean = [i for i in train_score_mean if i != 0]\r\n",
        "    validation_score_mean = [i for i in validation_score_mean if i != 0]\r\n",
        "\r\n",
        "plt.plot(train_sizes, train_score_mean, marker='*', linestyle='--',color='blue',label='Training Score')\r\n",
        "plt.plot(train_sizes, validation_score_mean, marker='x', linestyle='--', color='green',label='Validation Score')\r\n",
        "plt.ylabel('Mean F1 Score')\r\n",
        "plt.xlabel('Training set size')\r\n",
        "plt.title('Learning Curves for Random Forest model')\r\n",
        "plt.grid()\r\n",
        "plt.legend()"
      ],
      "outputs": [
        {
          "output_type": "execute_result",
          "execution_count": 14,
          "data": {
            "text/plain": "<matplotlib.legend.Legend at 0x7fa7d565d208>"
          },
          "metadata": {}
        },
        {
          "output_type": "display_data",
          "data": {
            "text/plain": "<Figure size 432x288 with 1 Axes>",
            "image/png": "[encoded data removed]"
          },
          "metadata": {
            "needs_background": "light"
          }
        }
      ],
      "execution_count": 14,
      "metadata": {
        "collapsed": true,
        "jupyter": {
          "source_hidden": false,
          "outputs_hidden": false
        },
        "nteract": {
          "transient": {
            "deleting": false
          }
        },
        "gather": {
          "logged": 1627521444172
        }
      }
    },
    {
      "cell_type": "code",
      "source": [
        "from numpy import argmax\r\n",
        "\r\n",
        "# predict probabilities\r\n",
        "ypred = rf_clf.predict_proba(X_test)\r\n",
        "# retrieve the probabilities for the positive class (anomaly)\r\n",
        "pos_probs = ypred[:, 1]\r\n",
        "# calculate the no skill line as the proportion of the positive class\r\n",
        "no_skill = len(y[y==1])/len(y)\r\n",
        "# plot the no skill precision-recall curve\r\n",
        "plt.plot([0, 1], [no_skill, no_skill], linestyle='--', label='No Skill')\r\n",
        "# calculate model precision-recall curve\r\n",
        "precision, recall, thresholds = precision_recall_curve(y_test, pos_probs)\r\n",
        "# convert to f score\r\n",
        "fscore = (2*precision*recall)/(precision+recall)\r\n",
        "# locate index of the largest f score\r\n",
        "ix = argmax(fscore)\r\n",
        "print('Best Threshold=%f, F-Score=%.3f' % (thresholds[ix], fscore[ix]))\r\n",
        "# plot the model precision recall curve\r\n",
        "plt.plot(recall, precision, marker='.', label='RandomForest')\r\n",
        "plt.scatter(recall[ix], precision[ix], marker='o', color='black', label='Best')\r\n",
        "plt.xlabel('Recall')\r\n",
        "plt.ylabel('Precision')\r\n",
        "plt.legend()\r\n",
        "plt.grid()\r\n",
        "plt.savefig('RandomForest_PR_Threshold')\r\n",
        "plt.show()"
      ],
      "outputs": [
        {
          "output_type": "stream",
          "name": "stdout",
          "text": [
            "Best Threshold=0.630516, F-Score=0.525\n"
          ]
        },
        {
          "output_type": "display_data",
          "data": {
            "text/plain": "<Figure size 432x288 with 1 Axes>",
            "image/png": "[encoded data removed]"
          },
          "metadata": {
            "needs_background": "light"
          }
        }
      ],
      "execution_count": 15,
      "metadata": {
        "gather": {
          "logged": 1627521444658
        }
      }
    },
    {
      "cell_type": "code",
      "source": [
        "from sklearn.metrics import plot_precision_recall_curve\n",
        "\n",
        "plot_precision_recall_curve(rf_clf, X_test, y_test, name='RandomForest')"
      ],
      "outputs": [
        {
          "output_type": "execute_result",
          "execution_count": 16,
          "data": {
            "text/plain": "<sklearn.metrics._plot.precision_recall_curve.PrecisionRecallDisplay at 0x7fa7d4c50b38>"
          },
          "metadata": {}
        },
        {
          "output_type": "display_data",
          "data": {
            "text/plain": "<Figure size 432x288 with 1 Axes>",
            "image/png": "[encoded data removed]"
          },
          "metadata": {
            "needs_background": "light"
          }
        }
      ],
      "execution_count": 16,
      "metadata": {
        "gather": {
          "logged": 1627521445157
        }
      }
    },
    {
      "cell_type": "code",
      "source": [
        "# apply threshold to positive probabilities to create labels\n",
        "def to_labels(pos_probs, threshold):\n",
        "    return(pos_probs >= threshold).astype('int')"
      ],
      "outputs": [],
      "execution_count": 17,
      "metadata": {
        "gather": {
          "logged": 1627521445423
        }
      }
    },
    {
      "cell_type": "code",
      "source": [
        "from numpy import arange\n",
        "from numpy import argmax\n",
        "from sklearn.metrics import f1_score\n",
        "# define thresholds\n",
        "self_thresholds = arange(0, 1, 0.001)\n",
        "# evaluate each threshold\n",
        "scores = [f1_score(y_test, to_labels(pos_probs, t)) for t in self_thresholds]\n",
        "# get best threshold\n",
        "ix = argmax(scores)\n",
        "print('Threshold=%.3f, F-Score=%.5f' % (self_thresholds[ix], scores[ix]))"
      ],
      "outputs": [
        {
          "output_type": "stream",
          "name": "stdout",
          "text": [
            "Threshold=0.627, F-Score=0.52514\n"
          ]
        }
      ],
      "execution_count": 18,
      "metadata": {
        "scrolled": false,
        "gather": {
          "logged": 1627521446091
        }
      }
    },
    {
      "cell_type": "code",
      "source": [
        "t = self_thresholds[ix]\r\n",
        "algorithm_stats['RandomForest_NewThreshold'] = create_stats(y_test, to_labels(pos_probs, t))\r\n",
        "print_report(y_test, to_labels(pos_probs, t))"
      ],
      "outputs": [
        {
          "output_type": "stream",
          "name": "stdout",
          "text": [
            "Accuracy: 0.9255\n",
            "\n",
            "Classification Report:\n",
            "              precision    recall  f1-score   support\n",
            "\n",
            " Non-Anomaly       0.95      0.97      0.96      1041\n",
            "     Anomaly       0.59      0.47      0.53       100\n",
            "\n",
            "    accuracy                           0.93      1141\n",
            "   macro avg       0.77      0.72      0.74      1141\n",
            "weighted avg       0.92      0.93      0.92      1141\n",
            "\n",
            "                    Predicted Non-Anomaly  Predicted Anomaly  Total\n",
            "Actual Non-Anomaly                   1009                 32   1041\n",
            "Actual Anomaly                         53                 47    100\n",
            "Total                                1062                 79   1141\n"
          ]
        }
      ],
      "execution_count": 19,
      "metadata": {
        "collapsed": true,
        "jupyter": {
          "source_hidden": false,
          "outputs_hidden": false
        },
        "nteract": {
          "transient": {
            "deleting": false
          }
        },
        "gather": {
          "logged": 1627521446702
        }
      }
    },
    {
      "cell_type": "code",
      "source": [
        "import shap\r\n",
        "\r\n",
        "explainer = shap.TreeExplainer(rf_clf)\r\n",
        "shap_values = explainer.shap_values(X_test)\r\n",
        "\r\n",
        "shap.summary_plot(shap_values, X_test)"
      ],
      "outputs": [
        {
          "output_type": "stream",
          "name": "stderr",
          "text": [
            "Setting feature_perturbation = \"tree_path_dependent\" because no background data was given.\n"
          ]
        },
        {
          "output_type": "display_data",
          "data": {
            "text/plain": "<Figure size 576x684 with 1 Axes>",
            "image/png": "[encoded data removed]"
          },
          "metadata": {
            "needs_background": "light"
          }
        }
      ],
      "execution_count": 20,
      "metadata": {
        "collapsed": true,
        "jupyter": {
          "source_hidden": false,
          "outputs_hidden": false
        },
        "nteract": {
          "transient": {
            "deleting": false
          }
        },
        "gather": {
          "logged": 1627521447100
        }
      }
    }
  ],
  "metadata": {
    "kernel_info": {
      "name": "python3"
    },
    "kernelspec": {
      "name": "python3",
      "language": "python",
      "display_name": "Python 3"
    },
    "language_info": {
      "name": "python",
      "version": "3.6.9",
      "mimetype": "text/x-python",
      "codemirror_mode": {
        "name": "ipython",
        "version": 3
      },
      "pygments_lexer": "ipython3",
      "nbconvert_exporter": "python",
      "file_extension": ".py"
    },
    "nteract": {
      "version": "nteract-front-end@1.0.0"
    },
    "microsoft": {
      "host": {
        "AzureML": {
          "notebookHasBeenCompleted": true
        }
      }
    }
  },
  "nbformat": 4,
  "nbformat_minor": 4
}