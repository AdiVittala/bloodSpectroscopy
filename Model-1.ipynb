{
  "cells": [
    {
      "cell_type": "code",
      "source": [
        "# This model will be a deep neural network\n",
        "# Second model that I will explore will be a MLKNN( Multi Layer K-Nearest Neighbor)"
      ],
      "outputs": [],
      "execution_count": 1,
      "metadata": {
        "jupyter": {
          "source_hidden": false,
          "outputs_hidden": false
        },
        "nteract": {
          "transient": {
            "deleting": false
          }
        },
        "gather": {
          "logged": 1640898170881
        }
      }
    },
    {
      "cell_type": "code",
      "source": [
        "# !pip install keras==2.5.0rc0\n",
        "# !pip install tensorflow-addons\n",
        "# !pip install --upgrade tensorflow==2.4.0\n",
        "# !pip install mltb\n",
        "# !pip install h5py"
      ],
      "outputs": [
        {
          "output_type": "stream",
          "name": "stdout",
          "text": "Requirement already satisfied: h5py in /anaconda/envs/azureml_py36/lib/python3.6/site-packages (2.10.0)\r\nRequirement already satisfied: numpy>=1.7 in /anaconda/envs/azureml_py36/lib/python3.6/site-packages (from h5py) (1.19.5)\r\nRequirement already satisfied: six in /anaconda/envs/azureml_py36/lib/python3.6/site-packages (from h5py) (1.15.0)\r\n"
        }
      ],
      "execution_count": 22,
      "metadata": {
        "jupyter": {
          "source_hidden": false,
          "outputs_hidden": false
        },
        "nteract": {
          "transient": {
            "deleting": false
          }
        },
        "gather": {
          "logged": 1641168643012
        }
      }
    },
    {
      "cell_type": "code",
      "source": [
        "import pandas as pd\n",
        "import matplotlib.pyplot as plt\n",
        "from matplotlib import figure\n",
        "import numpy as np\n",
        "import statsmodels.api as sm\n",
        "import pylab as pl\n",
        "from sklearn.model_selection import train_test_split\n",
        "from sklearn.preprocessing import LabelEncoder\n",
        "from sklearn.preprocessing import MultiLabelBinarizer\n",
        "from sklearn.preprocessing import label_binarize\n",
        "from sklearn.metrics import multilabel_confusion_matrix\n",
        "from sklearn.metrics import classification_report\n",
        "import math\n",
        "from tensorflow import keras\n",
        "from tensorflow.keras.models import Sequential\n",
        "from tensorflow.keras.layers import Dense\n",
        "from sklearn.model_selection import GridSearchCV\n",
        "from tensorflow.keras.wrappers.scikit_learn import KerasClassifier\n",
        "from tensorflow.keras.callbacks import EarlyStopping\n",
        "from tensorflow.keras.callbacks import ModelCheckpoint\n",
        "from tensorflow.keras.models import load_model\n",
        "# import tensorflow_addons as tfa\n",
        "from IPython.display import clear_output"
      ],
      "outputs": [],
      "execution_count": 1,
      "metadata": {
        "gather": {
          "logged": 1641281892902
        }
      }
    },
    {
      "cell_type": "code",
      "source": [
        "data = pd.read_csv('mod_train.csv')\n",
        "unk_data_2 = pd.read_csv('mod_test.csv')"
      ],
      "outputs": [],
      "execution_count": 2,
      "metadata": {
        "jupyter": {
          "source_hidden": false,
          "outputs_hidden": false
        },
        "nteract": {
          "transient": {
            "deleting": false
          }
        },
        "gather": {
          "logged": 1641281917154
        }
      }
    },
    {
      "cell_type": "code",
      "source": [
        "unk_data = unk_data_2.drop(['Reading_ID'], axis=1)"
      ],
      "outputs": [],
      "execution_count": 3,
      "metadata": {
        "jupyter": {
          "source_hidden": false,
          "outputs_hidden": false
        },
        "nteract": {
          "transient": {
            "deleting": false
          }
        },
        "gather": {
          "logged": 1641281924390
        }
      }
    },
    {
      "cell_type": "code",
      "source": [
        "ID_df = unk_data_2[['Reading_ID']]"
      ],
      "outputs": [],
      "execution_count": 4,
      "metadata": {
        "jupyter": {
          "source_hidden": false,
          "outputs_hidden": false
        },
        "nteract": {
          "transient": {
            "deleting": false
          }
        },
        "gather": {
          "logged": 1641281931540
        }
      }
    },
    {
      "cell_type": "code",
      "source": [
        "# Split in to X and Y\n",
        "X = data.drop(['Reading_ID','hdl_cholesterol_human', 'hemoglobin_human', 'cholesterol_ldl_human'], axis=1)\n",
        "Y = data[['hdl_cholesterol_human', 'hemoglobin_human', 'cholesterol_ldl_human']]"
      ],
      "outputs": [],
      "execution_count": 5,
      "metadata": {
        "jupyter": {
          "source_hidden": false,
          "outputs_hidden": false
        },
        "nteract": {
          "transient": {
            "deleting": false
          }
        },
        "gather": {
          "logged": 1641281935708
        }
      }
    },
    {
      "cell_type": "code",
      "source": [
        "# N_s -> Number of Samples\n",
        "# N_i -> Number of input features\n",
        "\n",
        "N_s, N_i = X.shape"
      ],
      "outputs": [],
      "execution_count": 6,
      "metadata": {
        "jupyter": {
          "source_hidden": false,
          "outputs_hidden": false
        },
        "nteract": {
          "transient": {
            "deleting": false
          }
        },
        "gather": {
          "logged": 1641281938472
        }
      }
    },
    {
      "cell_type": "code",
      "source": [
        "Y_2 = pd.get_dummies(Y)"
      ],
      "outputs": [],
      "execution_count": 7,
      "metadata": {
        "jupyter": {
          "source_hidden": false,
          "outputs_hidden": false
        },
        "nteract": {
          "transient": {
            "deleting": false
          }
        },
        "gather": {
          "logged": 1641281941018
        }
      }
    },
    {
      "cell_type": "code",
      "source": [
        "Y_2"
      ],
      "outputs": [
        {
          "output_type": "execute_result",
          "execution_count": 8,
          "data": {
            "text/plain": "       hdl_cholesterol_human_high  hdl_cholesterol_human_low  \\\n0                               0                          0   \n1                               0                          0   \n2                               0                          0   \n3                               0                          1   \n4                               0                          0   \n...                           ...                        ...   \n13135                           1                          0   \n13136                           0                          0   \n13137                           0                          0   \n13138                           0                          0   \n13139                           1                          0   \n\n       hdl_cholesterol_human_ok  hemoglobin_human_high  hemoglobin_human_low  \\\n0                             1                      0                     0   \n1                             1                      1                     0   \n2                             1                      0                     0   \n3                             0                      0                     0   \n4                             1                      0                     0   \n...                         ...                    ...                   ...   \n13135                         0                      0                     0   \n13136                         1                      0                     0   \n13137                         1                      0                     0   \n13138                         1                      0                     0   \n13139                         0                      0                     0   \n\n       hemoglobin_human_ok  cholesterol_ldl_human_high  \\\n0                        1                           0   \n1                        0                           1   \n2                        1                           1   \n3                        1                           1   \n4                        1                           1   \n...                    ...                         ...   \n13135                    1                           0   \n13136                    1                           0   \n13137                    1                           0   \n13138                    1                           0   \n13139                    1                           1   \n\n       cholesterol_ldl_human_low  cholesterol_ldl_human_ok  \n0                              0                         1  \n1                              0                         0  \n2                              0                         0  \n3                              0                         0  \n4                              0                         0  \n...                          ...                       ...  \n13135                          0                         1  \n13136                          0                         1  \n13137                          0                         1  \n13138                          0                         1  \n13139                          0                         0  \n\n[13140 rows x 9 columns]",
            "text/html": "<div>\n<style scoped>\n    .dataframe tbody tr th:only-of-type {\n        vertical-align: middle;\n    }\n\n    .dataframe tbody tr th {\n        vertical-align: top;\n    }\n\n    .dataframe thead th {\n        text-align: right;\n    }\n</style>\n<table border=\"1\" class=\"dataframe\">\n  <thead>\n    <tr style=\"text-align: right;\">\n      <th></th>\n      <th>hdl_cholesterol_human_high</th>\n      <th>hdl_cholesterol_human_low</th>\n      <th>hdl_cholesterol_human_ok</th>\n      <th>hemoglobin_human_high</th>\n      <th>hemoglobin_human_low</th>\n      <th>hemoglobin_human_ok</th>\n      <th>cholesterol_ldl_human_high</th>\n      <th>cholesterol_ldl_human_low</th>\n      <th>cholesterol_ldl_human_ok</th>\n    </tr>\n  </thead>\n  <tbody>\n    <tr>\n      <th>0</th>\n      <td>0</td>\n      <td>0</td>\n      <td>1</td>\n      <td>0</td>\n      <td>0</td>\n      <td>1</td>\n      <td>0</td>\n      <td>0</td>\n      <td>1</td>\n    </tr>\n    <tr>\n      <th>1</th>\n      <td>0</td>\n      <td>0</td>\n      <td>1</td>\n      <td>1</td>\n      <td>0</td>\n      <td>0</td>\n      <td>1</td>\n      <td>0</td>\n      <td>0</td>\n    </tr>\n    <tr>\n      <th>2</th>\n      <td>0</td>\n      <td>0</td>\n      <td>1</td>\n      <td>0</td>\n      <td>0</td>\n      <td>1</td>\n      <td>1</td>\n      <td>0</td>\n      <td>0</td>\n    </tr>\n    <tr>\n      <th>3</th>\n      <td>0</td>\n      <td>1</td>\n      <td>0</td>\n      <td>0</td>\n      <td>0</td>\n      <td>1</td>\n      <td>1</td>\n      <td>0</td>\n      <td>0</td>\n    </tr>\n    <tr>\n      <th>4</th>\n      <td>0</td>\n      <td>0</td>\n      <td>1</td>\n      <td>0</td>\n      <td>0</td>\n      <td>1</td>\n      <td>1</td>\n      <td>0</td>\n      <td>0</td>\n    </tr>\n    <tr>\n      <th>...</th>\n      <td>...</td>\n      <td>...</td>\n      <td>...</td>\n      <td>...</td>\n      <td>...</td>\n      <td>...</td>\n      <td>...</td>\n      <td>...</td>\n      <td>...</td>\n    </tr>\n    <tr>\n      <th>13135</th>\n      <td>1</td>\n      <td>0</td>\n      <td>0</td>\n      <td>0</td>\n      <td>0</td>\n      <td>1</td>\n      <td>0</td>\n      <td>0</td>\n      <td>1</td>\n    </tr>\n    <tr>\n      <th>13136</th>\n      <td>0</td>\n      <td>0</td>\n      <td>1</td>\n      <td>0</td>\n      <td>0</td>\n      <td>1</td>\n      <td>0</td>\n      <td>0</td>\n      <td>1</td>\n    </tr>\n    <tr>\n      <th>13137</th>\n      <td>0</td>\n      <td>0</td>\n      <td>1</td>\n      <td>0</td>\n      <td>0</td>\n      <td>1</td>\n      <td>0</td>\n      <td>0</td>\n      <td>1</td>\n    </tr>\n    <tr>\n      <th>13138</th>\n      <td>0</td>\n      <td>0</td>\n      <td>1</td>\n      <td>0</td>\n      <td>0</td>\n      <td>1</td>\n      <td>0</td>\n      <td>0</td>\n      <td>1</td>\n    </tr>\n    <tr>\n      <th>13139</th>\n      <td>1</td>\n      <td>0</td>\n      <td>0</td>\n      <td>0</td>\n      <td>0</td>\n      <td>1</td>\n      <td>1</td>\n      <td>0</td>\n      <td>0</td>\n    </tr>\n  </tbody>\n</table>\n<p>13140 rows × 9 columns</p>\n</div>"
          },
          "metadata": {}
        }
      ],
      "execution_count": 8,
      "metadata": {
        "jupyter": {
          "source_hidden": false,
          "outputs_hidden": false
        },
        "nteract": {
          "transient": {
            "deleting": false
          }
        },
        "gather": {
          "logged": 1641281944286
        }
      }
    },
    {
      "cell_type": "code",
      "source": [
        "N_so, N_o = Y_2.shape"
      ],
      "outputs": [],
      "execution_count": 9,
      "metadata": {
        "jupyter": {
          "source_hidden": false,
          "outputs_hidden": false
        },
        "nteract": {
          "transient": {
            "deleting": false
          }
        },
        "gather": {
          "logged": 1641281948359
        }
      }
    },
    {
      "cell_type": "code",
      "source": [
        "# blood_levels = {'low': ([0,0,1]),\n",
        "                # 'ok': ([0,1,0]),\n",
        "                # 'high': ([1,0,0])}\n",
        "# Y['hdl_cholesterol_human_ord'] = Y.hdl_cholesterol_human.map(blood_levels)\n",
        "# Y['hemoglobin_human_ord'] = Y.hemoglobin_human.map(blood_levels)\n",
        "# Y['cholesterol_ldl_human_ord'] = Y.cholesterol_ldl_human.map(blood_levels)\n",
        "# Y_mod = Y.drop(['hdl_cholesterol_human', 'hemoglobin_human', 'cholesterol_ldl_human'], axis=1)"
      ],
      "outputs": [],
      "execution_count": 12,
      "metadata": {
        "jupyter": {
          "source_hidden": false,
          "outputs_hidden": false
        },
        "nteract": {
          "transient": {
            "deleting": false
          }
        },
        "gather": {
          "logged": 1640765646363
        }
      }
    },
    {
      "cell_type": "code",
      "source": [
        "# Y_mod['hdl_cholesterol_human_ord'] = Y_mod['hdl_cholesterol_human_ord'].apply(np.array)\n",
        "# Y_mod['hemoglobin_human_ord'] = Y_mod['hemoglobin_human_ord'].apply(np.array)\n",
        "# Y_mod['cholesterol_ldl_human_ord'] = Y_mod['cholesterol_ldl_human_ord'].apply(np.array)"
      ],
      "outputs": [],
      "execution_count": 13,
      "metadata": {
        "jupyter": {
          "source_hidden": false,
          "outputs_hidden": false
        },
        "nteract": {
          "transient": {
            "deleting": false
          }
        },
        "gather": {
          "logged": 1640765646654
        }
      }
    },
    {
      "cell_type": "code",
      "source": [
        "# for idx, row in Y_mod.iterrows():\n",
        "    # row.hdl_cholesterol_human_ord = np.array(row.hdl_cholesterol_human_ord)"
      ],
      "outputs": [],
      "execution_count": 14,
      "metadata": {
        "jupyter": {
          "source_hidden": false,
          "outputs_hidden": false
        },
        "nteract": {
          "transient": {
            "deleting": false
          }
        },
        "gather": {
          "logged": 1640765646937
        }
      }
    },
    {
      "cell_type": "code",
      "source": [
        "# temp = np.array(Y_mod['hdl_cholesterol_human_ord'].iloc[0])"
      ],
      "outputs": [],
      "execution_count": 15,
      "metadata": {
        "jupyter": {
          "source_hidden": false,
          "outputs_hidden": false
        },
        "nteract": {
          "transient": {
            "deleting": false
          }
        },
        "gather": {
          "logged": 1640765647319
        }
      }
    },
    {
      "cell_type": "code",
      "source": [
        "# Label encoder for Target variables\n",
        "# le = LabelEncoder()\n",
        "# Y_enc = Y.apply(le.fit_transform)"
      ],
      "outputs": [],
      "execution_count": 16,
      "metadata": {
        "jupyter": {
          "source_hidden": false,
          "outputs_hidden": false
        },
        "nteract": {
          "transient": {
            "deleting": false
          }
        },
        "gather": {
          "logged": 1640765647591
        }
      }
    },
    {
      "cell_type": "code",
      "source": [
        "# Normalization of X\n",
        "\n",
        "# https://www.analyticsvidhya.com/blog/2020/04/feature-scaling-machine-learning-normalization-standardization/\n",
        "#Normalization is good to use when you know that the distribution of your data does not follow a \n",
        "#Gaussian distribution. \n",
        "#This can be useful in algorithms that do not assume any distribution of the data like \n",
        "#K-Nearest Neighbors and Neural Networks.\n",
        "#Standardization, on the other hand, can be helpful in cases where the data follows a Gaussian distribution. \n",
        "#However, this does not have to be necessarily true. Also, unlike normalization, standardization does not have a \n",
        "#bounding range. So, even if you have outliers in your data, they will not be affected by standardization.\n",
        "\n",
        "#https://machinelearningmastery.com/how-to-improve-neural-network-stability-and-modeling-performance-with-data-scaling/\n",
        "#If the distribution of the quantity is normal, then it should be standardized, otherwise the data should \n",
        "#be normalized. This applies if the range of quantity values is large (10s, 100s, etc.) or small (0.01, 0.0001).\n",
        "\n",
        "from sklearn.preprocessing import MinMaxScaler\n",
        "\n",
        "# fit scaler on training data\n",
        "norm = MinMaxScaler().fit(X)\n",
        "\n",
        "# transform training data\n",
        "X_norm = norm.transform(X)\n",
        "\n",
        "# transform validation data\n",
        "# X_val_norm = norm.transform(X_val)\n",
        "\n",
        "# transform test data\n",
        "# X_test_norm = norm.transform(X_test)"
      ],
      "outputs": [],
      "execution_count": 10,
      "metadata": {
        "jupyter": {
          "source_hidden": false,
          "outputs_hidden": false
        },
        "nteract": {
          "transient": {
            "deleting": false
          }
        },
        "gather": {
          "logged": 1641281959710
        }
      }
    },
    {
      "cell_type": "code",
      "source": [
        "X_train, X_test, Y_train, Y_test = train_test_split(X_norm,Y_2,test_size=0.2,random_state=27)\n",
        "# X_val, X_test, Y_val, Y_test = train_test_split(X_test, Y_test, test_size=0.5, random_state=27)"
      ],
      "outputs": [],
      "execution_count": 11,
      "metadata": {
        "jupyter": {
          "source_hidden": false,
          "outputs_hidden": false
        },
        "nteract": {
          "transient": {
            "deleting": false
          }
        },
        "gather": {
          "logged": 1641281967636
        }
      }
    },
    {
      "cell_type": "code",
      "source": [
        "X_train.shape"
      ],
      "outputs": [
        {
          "output_type": "execute_result",
          "execution_count": 12,
          "data": {
            "text/plain": "(10512, 182)"
          },
          "metadata": {}
        }
      ],
      "execution_count": 12,
      "metadata": {
        "jupyter": {
          "source_hidden": false,
          "outputs_hidden": false
        },
        "nteract": {
          "transient": {
            "deleting": false
          }
        },
        "gather": {
          "logged": 1641281971837
        }
      }
    },
    {
      "cell_type": "code",
      "source": [
        "sm.qqplot(X_norm, line ='45')\n",
        "pl.show()"
      ],
      "outputs": [
        {
          "output_type": "display_data",
          "data": {
            "text/plain": "<Figure size 432x288 with 1 Axes>",
            "image/png": "[encoded data removed]"
          },
          "metadata": {
            "needs_background": "light"
          }
        }
      ],
      "execution_count": 13,
      "metadata": {
        "jupyter": {
          "source_hidden": false,
          "outputs_hidden": false
        },
        "nteract": {
          "transient": {
            "deleting": false
          }
        },
        "gather": {
          "logged": 1641281980899
        }
      }
    },
    {
      "cell_type": "code",
      "source": [
        "# Calculating number of neurons in hidden layers\n",
        "# one additional rule of thumb that helps for supervised learning problems. You can usually prevent over-fitting if you keep your number of neurons below:\n",
        "\n",
        "# Nh=Ns/(α∗(Ni+No))\n",
        "\n",
        "# Ni = number of input neurons.\n",
        "# No = number of output neurons.\n",
        "# Ns = number of samples in training data set.\n",
        "# α  = an arbitrary scaling factor usually 2-10.\n",
        "\n",
        "# Others recommend setting α to a value between 5 and 10, but I find a value of 2 will often work without overfitting. You can think of α as \n",
        "# the effective branching factor or number of nonzero weights for each neuron. Dropout layers will bring the \"effective\" branching factor way down \n",
        "# from the actual mean branching factor for your network.\n",
        "\n",
        "# As explained by this excellent NN Design text, you want to limit the number of free parameters in your model (its degree or number of nonzero weights) to a \n",
        "# small portion of the degrees of freedom in your data. The degrees of freedom in your data is the number samples * degrees of freedom (dimensions) in each \n",
        "# sample or Ns∗(Ni+No)\n",
        "# (assuming they're all independent). So α is a way to indicate how general you want your model to be, or how much you want to prevent overfitting.\n",
        "\n",
        "# For an automated procedure you'd start with an α of 2 (twice as many degrees of freedom in your training data as your model) and work your way up to 10 \n",
        "# if the error (loss) for your training dataset is significantly smaller than for your test dataset.\n",
        "\n",
        "\n",
        "# There are many rule-of-thumb methods for determining the correct number of neurons to use in the hidden layers, such as the following:\n",
        "# \n",
        "# The number of hidden neurons should be between the size of the input layer and the size of the output layer.\n",
        "# The number of hidden neurons should be 2/3 the size of the input layer, plus the size of the output layer.\n",
        "# The number of hidden neurons should be less than twice the size of the input layer.\n",
        "\n",
        "alpha = 2\n",
        "N_h = math.ceil(N_s/(alpha * (N_i + N_o)))\n"
      ],
      "outputs": [],
      "execution_count": 14,
      "metadata": {
        "jupyter": {
          "source_hidden": false,
          "outputs_hidden": false
        },
        "nteract": {
          "transient": {
            "deleting": false
          }
        },
        "gather": {
          "logged": 1641281986406
        }
      }
    },
    {
      "cell_type": "code",
      "source": [
        "def create_model(learning_rate=0.001):\n",
        "    model = Sequential()\n",
        "    model.add(Dense(N_h, input_dim=N_i, kernel_initializer='he_uniform', activation='relu'))\n",
        "    model.add(Dense(N_h, kernel_initializer='he_uniform', activation='relu'))\n",
        "    model.add(Dense(N_o, kernel_initializer='he_uniform', activation='sigmoid'))\n",
        "    optimizer = keras.optimizers.Adam(learning_rate=learning_rate)\n",
        "    model.compile(loss='binary_crossentropy', optimizer=optimizer, metrics=['accuracy'])\n",
        "    \n",
        "    return model"
      ],
      "outputs": [],
      "execution_count": 15,
      "metadata": {
        "jupyter": {
          "source_hidden": false,
          "outputs_hidden": false
        },
        "nteract": {
          "transient": {
            "deleting": false
          }
        },
        "gather": {
          "logged": 1641281991739
        }
      }
    },
    {
      "cell_type": "code",
      "source": [
        "%%time\n",
        "seed=7\n",
        "np.random.seed(seed)\n",
        "epochs = 100\n",
        "model_CV = KerasClassifier(build_fn=create_model, epochs=epochs, verbose=1)\n",
        "\n",
        "batch_size = [1,10, 100, 500, 1000, X_train.shape[0]]\n",
        "leraning_rate = [0.1, 0.01, 0.001, 0.0001]\n",
        "param_grid = dict(batch_size=batch_size, learning_rate=leraning_rate)\n",
        "\n",
        "grid = GridSearchCV(estimator=model_CV, param_grid=param_grid, n_jobs=-1, cv=10)\n",
        "grid_result = grid.fit(X_train, Y_train)\n",
        "\n",
        "print(f'Best Accuracy for {grid_result.best_score_} using {grid_result.best_params_}')\n",
        "means = grid_result.cv_results_['mean_test_score']\n",
        "stds = grid_result.cv_results_['std_test_score']\n",
        "params = grid_result.cv_results_['params']\n",
        "for mean, stdev, param in zip(means, stds, params):\n",
        "    print(f' mean={mean:.4}, std={stdev:.4} using {param}')"
      ],
      "outputs": [
        {
          "output_type": "stream",
          "name": "stderr",
          "text": "/anaconda/envs/azureml_py36/lib/python3.6/site-packages/joblib/externals/loky/process_executor.py:706: UserWarning: A worker stopped while some jobs were given to the executor. This can be caused by a too short worker timeout or by a memory leak.\n  \"timeout or by a memory leak.\", UserWarning\n"
        },
        {
          "output_type": "stream",
          "name": "stdout",
          "text": "Train on 10512 samples\nEpoch 1/100\n10512/10512 [==============================] - 2s 182us/sample - loss: 0.4565 - accuracy: 0.7794\b\b\b\b\b\b\b\b\b\b\b\b\b\b\b\b\b\b\b\b\b\b\b\b\b\b\b\b\b\b\b\b\b\b\b\b\b\b\b\b\b\b\b\b\b\b\b\b\b\b\b\b\b\b\b\b\b\b\b\b\b\b\b\b\b\b\b\b\b\b\b\b\b\b\b\b\b\b\b\b\b\b\b\b\nEpoch 2/100\n10512/10512 [==============================] - 1s 130us/sample - loss: 0.4405 - accuracy: 0.7880\b\b\b\b\b\b\b\b\b\b\b\b\b\b\b\b\b\b\b\b\b\b\b\b\b\b\b\b\b\b\b\b\b\b\b\b\b\b\b\b\b\b\b\b\b\b\b\b\b\b\b\b\b\b\b\b\b\b\b\b\b\b\b\b\b\b\b\b\b\b\b\b\b\b\b\b\b\b\b\b\nEpoch 3/100\n10512/10512 [==============================] - 1s 133us/sample - loss: 0.4335 - accuracy: 0.7910\b\b\b\b\b\b\b\b\b\b\b\b\b\b\b\b\b\b\b\b\b\b\b\b\b\b\b\b\b\b\b\b\b\b\b\b\b\b\b\b\b\b\b\b\b\b\b\b\b\b\b\b\b\b\b\b\b\b\b\b\b\b\b\b\b\b\b\b\b\b\b\b\b\b\b\b\b\b\b\b\nEpoch 4/100\n10512/10512 [==============================] - 1s 133us/sample - loss: 0.4255 - accuracy: 0.7942\b\b\b\b\b\b\b\b\b\b\b\b\b\b\b\b\b\b\b\b\b\b\b\b\b\b\b\b\b\b\b\b\b\b\b\b\b\b\b\b\b\b\b\b\b\b\b\b\b\b\b\b\b\b\b\b\b\b\b\b\b\b\b\b\b\b\b\b\b\b\b\b\b\b\b\b\b\b\b\b\nEpoch 5/100\n10512/10512 [==============================] - 1s 131us/sample - loss: 0.4185 - accuracy: 0.7976\b\b\b\b\b\b\b\b\b\b\b\b\b\b\b\b\b\b\b\b\b\b\b\b\b\b\b\b\b\b\b\b\b\b\b\b\b\b\b\b\b\b\b\b\b\b\b\b\b\b\b\b\b\b\b\b\b\b\b\b\b\b\b\b\b\b\b\b\b\b\b\b\b\b\b\b\b\b\b\b\nEpoch 6/100\n10512/10512 [==============================] - 1s 128us/sample - loss: 0.4120 - accuracy: 0.7991\b\b\b\b\b\b\b\b\b\b\b\b\b\b\b\b\b\b\b\b\b\b\b\b\b\b\b\b\b\b\b\b\b\b\b\b\b\b\b\b\b\b\b\b\b\b\b\b\b\b\b\b\b\b\b\b\b\b\b\b\b\b\b\b\b\b\b\b\b\b\b\b\b\b\b\b\b\b\b\b\nEpoch 7/100\n10512/10512 [==============================] - 1s 131us/sample - loss: 0.4058 - accuracy: 0.8018\b\b\b\b\b\b\b\b\b\b\b\b\b\b\b\b\b\b\b\b\b\b\b\b\b\b\b\b\b\b\b\b\b\b\b\b\b\b\b\b\b\b\b\b\b\b\b\b\b\b\b\b\b\b\b\b\b\b\b\b\b\b\b\b\b\b\b\b\b\b\b\b\b\b\b\b\b\b\b\b\nEpoch 8/100\n10512/10512 [==============================] - 1s 132us/sample - loss: 0.4007 - accuracy: 0.8048\b\b\b\b\b\b\b\b\b\b\b\b\b\b\b\b\b\b\b\b\b\b\b\b\b\b\b\b\b\b\b\b\b\b\b\b\b\b\b\b\b\b\b\b\b\b\b\b\b\b\b\b\b\b\b\b\b\b\b\b\b\b\b\b\b\b\b\b\b\b\b\b\b\b\b\b\b\b\b\b\nEpoch 9/100\n10512/10512 [==============================] - 1s 128us/sample - loss: 0.3956 - accuracy: 0.8082\b\b\b\b\b\b\b\b\b\b\b\b\b\b\b\b\b\b\b\b\b\b\b\b\b\b\b\b\b\b\b\b\b\b\b\b\b\b\b\b\b\b\b\b\b\b\b\b\b\b\b\b\b\b\b\b\b\b\b\b\b\b\b\b\b\b\b\b\b\b\b\b\b\b\b\b\b\b\b\b\nEpoch 10/100\n10512/10512 [==============================] - 1s 128us/sample - loss: 0.3907 - accuracy: 0.8120\b\b\b\b\b\b\b\b\b\b\b\b\b\b\b\b\b\b\b\b\b\b\b\b\b\b\b\b\b\b\b\b\b\b\b\b\b\b\b\b\b\b\b\b\b\b\b\b\b\b\b\b\b\b\b\b\b\b\b\b\b\b\b\b\b\b\b\b\b\b\b\b\b\b\b\b\b\b\b\b\nEpoch 11/100\n10512/10512 [==============================] - 1s 129us/sample - loss: 0.3870 - accuracy: 0.8126\b\b\b\b\b\b\b\b\b\b\b\b\b\b\b\b\b\b\b\b\b\b\b\b\b\b\b\b\b\b\b\b\b\b\b\b\b\b\b\b\b\b\b\b\b\b\b\b\b\b\b\b\b\b\b\b\b\b\b\b\b\b\b\b\b\b\b\b\b\b\b\b\b\b\b\b\b\b\b\b\nEpoch 12/100\n10512/10512 [==============================] - 1s 129us/sample - loss: 0.3819 - accuracy: 0.8162\b\b\b\b\b\b\b\b\b\b\b\b\b\b\b\b\b\b\b\b\b\b\b\b\b\b\b\b\b\b\b\b\b\b\b\b\b\b\b\b\b\b\b\b\b\b\b\b\b\b\b\b\b\b\b\b\b\b\b\b\b\b\b\b\b\b\b\b\b\b\b\b\b\b\b\b\b\b\b\b\nEpoch 13/100\n10512/10512 [==============================] - 1s 128us/sample - loss: 0.3772 - accuracy: 0.8202\b\b\b\b\b\b\b\b\b\b\b\b\b\b\b\b\b\b\b\b\b\b\b\b\b\b\b\b\b\b\b\b\b\b\b\b\b\b\b\b\b\b\b\b\b\b\b\b\b\b\b\b\b\b\b\b\b\b\b\b\b\b\b\b\b\b\b\b\b\b\b\b\b\b\b\b\b\b\b\b\nEpoch 14/100\n10512/10512 [==============================] - 1s 131us/sample - loss: 0.3734 - accuracy: 0.8230\b\b\b\b\b\b\b\b\b\b\b\b\b\b\b\b\b\b\b\b\b\b\b\b\b\b\b\b\b\b\b\b\b\b\b\b\b\b\b\b\b\b\b\b\b\b\b\b\b\b\b\b\b\b\b\b\b\b\b\b\b\b\b\b\b\b\b\b\b\b\b\b\b\b\b\b\b\b\b\b\nEpoch 15/100\n10512/10512 [==============================] - 1s 129us/sample - loss: 0.3675 - accuracy: 0.8258\b\b\b\b\b\b\b\b\b\b\b\b\b\b\b\b\b\b\b\b\b\b\b\b\b\b\b\b\b\b\b\b\b\b\b\b\b\b\b\b\b\b\b\b\b\b\b\b\b\b\b\b\b\b\b\b\b\b\b\b\b\b\b\b\b\b\b\b\b\b\b\b\b\b\b\b\b\b\b\b\nEpoch 16/100\n10512/10512 [==============================] - 1s 131us/sample - loss: 0.3644 - accuracy: 0.8280\b\b\b\b\b\b\b\b\b\b\b\b\b\b\b\b\b\b\b\b\b\b\b\b\b\b\b\b\b\b\b\b\b\b\b\b\b\b\b\b\b\b\b\b\b\b\b\b\b\b\b\b\b\b\b\b\b\b\b\b\b\b\b\b\b\b\b\b\b\b\b\b\b\b\b\b\b\b\b\b\nEpoch 17/100\n10512/10512 [==============================] - 1s 129us/sample - loss: 0.3588 - accuracy: 0.8315\b\b\b\b\b\b\b\b\b\b\b\b\b\b\b\b\b\b\b\b\b\b\b\b\b\b\b\b\b\b\b\b\b\b\b\b\b\b\b\b\b\b\b\b\b\b\b\b\b\b\b\b\b\b\b\b\b\b\b\b\b\b\b\b\b\b\b\b\b\b\b\b\b\b\b\b\b\b\b\b\nEpoch 18/100\n10512/10512 [==============================] - 1s 132us/sample - loss: 0.3562 - accuracy: 0.8322\b\b\b\b\b\b\b\b\b\b\b\b\b\b\b\b\b\b\b\b\b\b\b\b\b\b\b\b\b\b\b\b\b\b\b\b\b\b\b\b\b\b\b\b\b\b\b\b\b\b\b\b\b\b\b\b\b\b\b\b\b\b\b\b\b\b\b\b\b\b\b\b\b\b\b\b\b\b\b\b\nEpoch 19/100\n10512/10512 [==============================] - 1s 129us/sample - loss: 0.3504 - accuracy: 0.8350\b\b\b\b\b\b\b\b\b\b\b\b\b\b\b\b\b\b\b\b\b\b\b\b\b\b\b\b\b\b\b\b\b\b\b\b\b\b\b\b\b\b\b\b\b\b\b\b\b\b\b\b\b\b\b\b\b\b\b\b\b\b\b\b\b\b\b\b\b\b\b\b\b\b\b\b\b\b\b\b\nEpoch 20/100\n10512/10512 [==============================] - 1s 129us/sample - loss: 0.3485 - accuracy: 0.8369\b\b\b\b\b\b\b\b\b\b\b\b\b\b\b\b\b\b\b\b\b\b\b\b\b\b\b\b\b\b\b\b\b\b\b\b\b\b\b\b\b\b\b\b\b\b\b\b\b\b\b\b\b\b\b\b\b\b\b\b\b\b\b\b\b\b\b\b\b\b\b\b\b\b\b\b\b\b\b\b\nEpoch 21/100\n10512/10512 [==============================] - 1s 128us/sample - loss: 0.3460 - accuracy: 0.8377\b\b\b\b\b\b\b\b\b\b\b\b\b\b\b\b\b\b\b\b\b\b\b\b\b\b\b\b\b\b\b\b\b\b\b\b\b\b\b\b\b\b\b\b\b\b\b\b\b\b\b\b\b\b\b\b\b\b\b\b\b\b\b\b\b\b\b\b\b\b\b\b\b\b\b\b\b\b\b\b\nEpoch 22/100\n10512/10512 [==============================] - 1s 131us/sample - loss: 0.3418 - accuracy: 0.8405\b\b\b\b\b\b\b\b\b\b\b\b\b\b\b\b\b\b\b\b\b\b\b\b\b\b\b\b\b\b\b\b\b\b\b\b\b\b\b\b\b\b\b\b\b\b\b\b\b\b\b\b\b\b\b\b\b\b\b\b\b\b\b\b\b\b\b\b\b\b\b\b\b\b\b\b\b\b\b\b\nEpoch 23/100\n10512/10512 [==============================] - 1s 128us/sample - loss: 0.3373 - accuracy: 0.8428\b\b\b\b\b\b\b\b\b\b\b\b\b\b\b\b\b\b\b\b\b\b\b\b\b\b\b\b\b\b\b\b\b\b\b\b\b\b\b\b\b\b\b\b\b\b\b\b\b\b\b\b\b\b\b\b\b\b\b\b\b\b\b\b\b\b\b\b\b\b\b\b\b\b\b\b\b\b\b\b\nEpoch 24/100\n10512/10512 [==============================] - 1s 128us/sample - loss: 0.3316 - accuracy: 0.8465\b\b\b\b\b\b\b\b\b\b\b\b\b\b\b\b\b\b\b\b\b\b\b\b\b\b\b\b\b\b\b\b\b\b\b\b\b\b\b\b\b\b\b\b\b\b\b\b\b\b\b\b\b\b\b\b\b\b\b\b\b\b\b\b\b\b\b\b\b\b\b\b\b\b\b\b\b\b\b\b\nEpoch 25/100\n10512/10512 [==============================] - 1s 131us/sample - loss: 0.3303 - accuracy: 0.8480\b\b\b\b\b\b\b\b\b\b\b\b\b\b\b\b\b\b\b\b\b\b\b\b\b\b\b\b\b\b\b\b\b\b\b\b\b\b\b\b\b\b\b\b\b\b\b\b\b\b\b\b\b\b\b\b\b\b\b\b\b\b\b\b\b\b\b\b\b\b\b\b\b\b\b\b\b\b\b\b\nEpoch 26/100\n10512/10512 [==============================] - 1s 129us/sample - loss: 0.3250 - accuracy: 0.8509\b\b\b\b\b\b\b\b\b\b\b\b\b\b\b\b\b\b\b\b\b\b\b\b\b\b\b\b\b\b\b\b\b\b\b\b\b\b\b\b\b\b\b\b\b\b\b\b\b\b\b\b\b\b\b\b\b\b\b\b\b\b\b\b\b\b\b\b\b\b\b\b\b\b\b\b\b\b\b\b\nEpoch 27/100\n10512/10512 [==============================] - 1s 131us/sample - loss: 0.3218 - accuracy: 0.8537\b\b\b\b\b\b\b\b\b\b\b\b\b\b\b\b\b\b\b\b\b\b\b\b\b\b\b\b\b\b\b\b\b\b\b\b\b\b\b\b\b\b\b\b\b\b\b\b\b\b\b\b\b\b\b\b\b\b\b\b\b\b\b\b\b\b\b\b\b\b\b\b\b\b\b\b\b\b\b\b\nEpoch 28/100\n10512/10512 [==============================] - 1s 129us/sample - loss: 0.3176 - accuracy: 0.8545\b\b\b\b\b\b\b\b\b\b\b\b\b\b\b\b\b\b\b\b\b\b\b\b\b\b\b\b\b\b\b\b\b\b\b\b\b\b\b\b\b\b\b\b\b\b\b\b\b\b\b\b\b\b\b\b\b\b\b\b\b\b\b\b\b\b\b\b\b\b\b\b\b\b\b\b\b\b\b\b\nEpoch 29/100\n10512/10512 [==============================] - 1s 129us/sample - loss: 0.3127 - accuracy: 0.8567\b\b\b\b\b\b\b\b\b\b\b\b\b\b\b\b\b\b\b\b\b\b\b\b\b\b\b\b\b\b\b\b\b\b\b\b\b\b\b\b\b\b\b\b\b\b\b\b\b\b\b\b\b\b\b\b\b\b\b\b\b\b\b\b\b\b\b\b\b\b\b\b\b\b\b\b\b\b\b\b\nEpoch 30/100\n10512/10512 [==============================] - 1s 128us/sample - loss: 0.3083 - accuracy: 0.8586\b\b\b\b\b\b\b\b\b\b\b\b\b\b\b\b\b\b\b\b\b\b\b\b\b\b\b\b\b\b\b\b\b\b\b\b\b\b\b\b\b\b\b\b\b\b\b\b\b\b\b\b\b\b\b\b\b\b\b\b\b\b\b\b\b\b\b\b\b\b\b\b\b\b\b\b\b\b\b\b\nEpoch 31/100\n10512/10512 [==============================] - 1s 131us/sample - loss: 0.3052 - accuracy: 0.8608\b\b\b\b\b\b\b\b\b\b\b\b\b\b\b\b\b\b\b\b\b\b\b\b\b\b\b\b\b\b\b\b\b\b\b\b\b\b\b\b\b\b\b\b\b\b\b\b\b\b\b\b\b\b\b\b\b\b\b\b\b\b\b\b\b\b\b\b\b\b\b\b\b\b\b\b\b\b\b\b\nEpoch 32/100\n10512/10512 [==============================] - 1s 128us/sample - loss: 0.3015 - accuracy: 0.8621\b\b\b\b\b\b\b\b\b\b\b\b\b\b\b\b\b\b\b\b\b\b\b\b\b\b\b\b\b\b\b\b\b\b\b\b\b\b\b\b\b\b\b\b\b\b\b\b\b\b\b\b\b\b\b\b\b\b\b\b\b\b\b\b\b\b\b\b\b\b\b\b\b\b\b\b\b\b\b\b\nEpoch 33/100\n10512/10512 [==============================] - 1s 128us/sample - loss: 0.2979 - accuracy: 0.8643\b\b\b\b\b\b\b\b\b\b\b\b\b\b\b\b\b\b\b\b\b\b\b\b\b\b\b\b\b\b\b\b\b\b\b\b\b\b\b\b\b\b\b\b\b\b\b\b\b\b\b\b\b\b\b\b\b\b\b\b\b\b\b\b\b\b\b\b\b\b\b\b\b\b\b\b\b\b\b\b\nEpoch 34/100\n10512/10512 [==============================] - 1s 128us/sample - loss: 0.2950 - accuracy: 0.8655\b\b\b\b\b\b\b\b\b\b\b\b\b\b\b\b\b\b\b\b\b\b\b\b\b\b\b\b\b\b\b\b\b\b\b\b\b\b\b\b\b\b\b\b\b\b\b\b\b\b\b\b\b\b\b\b\b\b\b\b\b\b\b\b\b\b\b\b\b\b\b\b\b\b\b\b\b\b\b\b\nEpoch 35/100\n10512/10512 [==============================] - 1s 130us/sample - loss: 0.2915 - accuracy: 0.8665\b\b\b\b\b\b\b\b\b\b\b\b\b\b\b\b\b\b\b\b\b\b\b\b\b\b\b\b\b\b\b\b\b\b\b\b\b\b\b\b\b\b\b\b\b\b\b\b\b\b\b\b\b\b\b\b\b\b\b\b\b\b\b\b\b\b\b\b\b\b\b\b\b\b\b\b\b\b\b\b\nEpoch 36/100\n10512/10512 [==============================] - 1s 130us/sample - loss: 0.2871 - accuracy: 0.8708\b\b\b\b\b\b\b\b\b\b\b\b\b\b\b\b\b\b\b\b\b\b\b\b\b\b\b\b\b\b\b\b\b\b\b\b\b\b\b\b\b\b\b\b\b\b\b\b\b\b\b\b\b\b\b\b\b\b\b\b\b\b\b\b\b\b\b\b\b\b\b\b\b\b\b\b\b\b\b\b\nEpoch 37/100\n10512/10512 [==============================] - 1s 132us/sample - loss: 0.2838 - accuracy: 0.8698\b\b\b\b\b\b\b\b\b\b\b\b\b\b\b\b\b\b\b\b\b\b\b\b\b\b\b\b\b\b\b\b\b\b\b\b\b\b\b\b\b\b\b\b\b\b\b\b\b\b\b\b\b\b\b\b\b\b\b\b\b\b\b\b\b\b\b\b\b\b\b\b\b\b\b\b\b\b\b\b\nEpoch 38/100\n10512/10512 [==============================] - 1s 133us/sample - loss: 0.2811 - accuracy: 0.8742\b\b\b\b\b\b\b\b\b\b\b\b\b\b\b\b\b\b\b\b\b\b\b\b\b\b\b\b\b\b\b\b\b\b\b\b\b\b\b\b\b\b\b\b\b\b\b\b\b\b\b\b\b\b\b\b\b\b\b\b\b\b\b\b\b\b\b\b\b\b\b\b\b\b\b\b\b\b\b\b\nEpoch 39/100\n10512/10512 [==============================] - 1s 131us/sample - loss: 0.2770 - accuracy: 0.8759\b\b\b\b\b\b\b\b\b\b\b\b\b\b\b\b\b\b\b\b\b\b\b\b\b\b\b\b\b\b\b\b\b\b\b\b\b\b\b\b\b\b\b\b\b\b\b\b\b\b\b\b\b\b\b\b\b\b\b\b\b\b\b\b\b\b\b\b\b\b\b\b\b\b\b\b\b\b\b\b\nEpoch 40/100\n10512/10512 [==============================] - 1s 131us/sample - loss: 0.2760 - accuracy: 0.8750\b\b\b\b\b\b\b\b\b\b\b\b\b\b\b\b\b\b\b\b\b\b\b\b\b\b\b\b\b\b\b\b\b\b\b\b\b\b\b\b\b\b\b\b\b\b\b\b\b\b\b\b\b\b\b\b\b\b\b\b\b\b\b\b\b\b\b\b\b\b\b\b\b\b\b\b\b\b\b\b\nEpoch 41/100\n10512/10512 [==============================] - 1s 128us/sample - loss: 0.2725 - accuracy: 0.8764\b\b\b\b\b\b\b\b\b\b\b\b\b\b\b\b\b\b\b\b\b\b\b\b\b\b\b\b\b\b\b\b\b\b\b\b\b\b\b\b\b\b\b\b\b\b\b\b\b\b\b\b\b\b\b\b\b\b\b\b\b\b\b\b\b\b\b\b\b\b\b\b\b\b\b\b\b\b\b\b\nEpoch 42/100\n10512/10512 [==============================] - 1s 129us/sample - loss: 0.2683 - accuracy: 0.8801\b\b\b\b\b\b\b\b\b\b\b\b\b\b\b\b\b\b\b\b\b\b\b\b\b\b\b\b\b\b\b\b\b\b\b\b\b\b\b\b\b\b\b\b\b\b\b\b\b\b\b\b\b\b\b\b\b\b\b\b\b\b\b\b\b\b\b\b\b\b\b\b\b\b\b\b\b\b\b\b\nEpoch 43/100\n10512/10512 [==============================] - 1s 130us/sample - loss: 0.2658 - accuracy: 0.8812\b\b\b\b\b\b\b\b\b\b\b\b\b\b\b\b\b\b\b\b\b\b\b\b\b\b\b\b\b\b\b\b\b\b\b\b\b\b\b\b\b\b\b\b\b\b\b\b\b\b\b\b\b\b\b\b\b\b\b\b\b\b\b\b\b\b\b\b\b\b\b\b\b\b\b\b\b\b\b\b\nEpoch 44/100\n10512/10512 [==============================] - 1s 132us/sample - loss: 0.2627 - accuracy: 0.8828\b\b\b\b\b\b\b\b\b\b\b\b\b\b\b\b\b\b\b\b\b\b\b\b\b\b\b\b\b\b\b\b\b\b\b\b\b\b\b\b\b\b\b\b\b\b\b\b\b\b\b\b\b\b\b\b\b\b\b\b\b\b\b\b\b\b\b\b\b\b\b\b\b\b\b\b\b\b\b\b\nEpoch 45/100\n10512/10512 [==============================] - 1s 133us/sample - loss: 0.2593 - accuracy: 0.8853\b\b\b\b\b\b\b\b\b\b\b\b\b\b\b\b\b\b\b\b\b\b\b\b\b\b\b\b\b\b\b\b\b\b\b\b\b\b\b\b\b\b\b\b\b\b\b\b\b\b\b\b\b\b\b\b\b\b\b\b\b\b\b\b\b\b\b\b\b\b\b\b\b\b\b\b\b\b\b\b\nEpoch 46/100\n10512/10512 [==============================] - 1s 132us/sample - loss: 0.2574 - accuracy: 0.8870\b\b\b\b\b\b\b\b\b\b\b\b\b\b\b\b\b\b\b\b\b\b\b\b\b\b\b\b\b\b\b\b\b\b\b\b\b\b\b\b\b\b\b\b\b\b\b\b\b\b\b\b\b\b\b\b\b\b\b\b\b\b\b\b\b\b\b\b\b\b\b\b\b\b\b\b\b\b\b\b\nEpoch 47/100\n10512/10512 [==============================] - 1s 131us/sample - loss: 0.2555 - accuracy: 0.8862\b\b\b\b\b\b\b\b\b\b\b\b\b\b\b\b\b\b\b\b\b\b\b\b\b\b\b\b\b\b\b\b\b\b\b\b\b\b\b\b\b\b\b\b\b\b\b\b\b\b\b\b\b\b\b\b\b\b\b\b\b\b\b\b\b\b\b\b\b\b\b\b\b\b\b\b\b\b\b\b\nEpoch 48/100\n10512/10512 [==============================] - 1s 131us/sample - loss: 0.2529 - accuracy: 0.8879\b\b\b\b\b\b\b\b\b\b\b\b\b\b\b\b\b\b\b\b\b\b\b\b\b\b\b\b\b\b\b\b\b\b\b\b\b\b\b\b\b\b\b\b\b\b\b\b\b\b\b\b\b\b\b\b\b\b\b\b\b\b\b\b\b\b\b\b\b\b\b\b\b\b\b\b\b\b\b\b\nEpoch 49/100\n10512/10512 [==============================] - 1s 131us/sample - loss: 0.2496 - accuracy: 0.8902\b\b\b\b\b\b\b\b\b\b\b\b\b\b\b\b\b\b\b\b\b\b\b\b\b\b\b\b\b\b\b\b\b\b\b\b\b\b\b\b\b\b\b\b\b\b\b\b\b\b\b\b\b\b\b\b\b\b\b\b\b\b\b\b\b\b\b\b\b\b\b\b\b\b\b\b\b\b\b\b\nEpoch 50/100\n10512/10512 [==============================] - 1s 130us/sample - loss: 0.2475 - accuracy: 0.8910\b\b\b\b\b\b\b\b\b\b\b\b\b\b\b\b\b\b\b\b\b\b\b\b\b\b\b\b\b\b\b\b\b\b\b\b\b\b\b\b\b\b\b\b\b\b\b\b\b\b\b\b\b\b\b\b\b\b\b\b\b\b\b\b\b\b\b\b\b\b\b\b\b\b\b\b\b\b\b\b\nEpoch 51/100\n10512/10512 [==============================] - 1s 129us/sample - loss: 0.2461 - accuracy: 0.8921\b\b\b\b\b\b\b\b\b\b\b\b\b\b\b\b\b\b\b\b\b\b\b\b\b\b\b\b\b\b\b\b\b\b\b\b\b\b\b\b\b\b\b\b\b\b\b\b\b\b\b\b\b\b\b\b\b\b\b\b\b\b\b\b\b\b\b\b\b\b\b\b\b\b\b\b\b\b\b\b\nEpoch 52/100\n10512/10512 [==============================] - 1s 131us/sample - loss: 0.2424 - accuracy: 0.8939\b\b\b\b\b\b\b\b\b\b\b\b\b\b\b\b\b\b\b\b\b\b\b\b\b\b\b\b\b\b\b\b\b\b\b\b\b\b\b\b\b\b\b\b\b\b\b\b\b\b\b\b\b\b\b\b\b\b\b\b\b\b\b\b\b\b\b\b\b\b\b\b\b\b\b\b\b\b\b\b\nEpoch 53/100\n10512/10512 [==============================] - 1s 129us/sample - loss: 0.2419 - accuracy: 0.8939\b\b\b\b\b\b\b\b\b\b\b\b\b\b\b\b\b\b\b\b\b\b\b\b\b\b\b\b\b\b\b\b\b\b\b\b\b\b\b\b\b\b\b\b\b\b\b\b\b\b\b\b\b\b\b\b\b\b\b\b\b\b\b\b\b\b\b\b\b\b\b\b\b\b\b\b\b\b\b\b\nEpoch 54/100\n10512/10512 [==============================] - 1s 128us/sample - loss: 0.2394 - accuracy: 0.8958\b\b\b\b\b\b\b\b\b\b\b\b\b\b\b\b\b\b\b\b\b\b\b\b\b\b\b\b\b\b\b\b\b\b\b\b\b\b\b\b\b\b\b\b\b\b\b\b\b\b\b\b\b\b\b\b\b\b\b\b\b\b\b\b\b\b\b\b\b\b\b\b\b\b\b\b\b\b\b\b\nEpoch 55/100\n10512/10512 [==============================] - 1s 131us/sample - loss: 0.2368 - accuracy: 0.8982\b\b\b\b\b\b\b\b\b\b\b\b\b\b\b\b\b\b\b\b\b\b\b\b\b\b\b\b\b\b\b\b\b\b\b\b\b\b\b\b\b\b\b\b\b\b\b\b\b\b\b\b\b\b\b\b\b\b\b\b\b\b\b\b\b\b\b\b\b\b\b\b\b\b\b\b\b\b\b\b\nEpoch 56/100\n10512/10512 [==============================] - 1s 128us/sample - loss: 0.2351 - accuracy: 0.8972\b\b\b\b\b\b\b\b\b\b\b\b\b\b\b\b\b\b\b\b\b\b\b\b\b\b\b\b\b\b\b\b\b\b\b\b\b\b\b\b\b\b\b\b\b\b\b\b\b\b\b\b\b\b\b\b\b\b\b\b\b\b\b\b\b\b\b\b\b\b\b\b\b\b\b\b\b\b\b\b\nEpoch 57/100\n10512/10512 [==============================] - 1s 132us/sample - loss: 0.2346 - accuracy: 0.8966\b\b\b\b\b\b\b\b\b\b\b\b\b\b\b\b\b\b\b\b\b\b\b\b\b\b\b\b\b\b\b\b\b\b\b\b\b\b\b\b\b\b\b\b\b\b\b\b\b\b\b\b\b\b\b\b\b\b\b\b\b\b\b\b\b\b\b\b\b\b\b\b\b\b\b\b\b\b\b\b\nEpoch 58/100\n10512/10512 [==============================] - 1s 129us/sample - loss: 0.2317 - accuracy: 0.8996\b\b\b\b\b\b\b\b\b\b\b\b\b\b\b\b\b\b\b\b\b\b\b\b\b\b\b\b\b\b\b\b\b\b\b\b\b\b\b\b\b\b\b\b\b\b\b\b\b\b\b\b\b\b\b\b\b\b\b\b\b\b\b\b\b\b\b\b\b\b\b\b\b\b\b\b\b\b\b\b\nEpoch 59/100\n10512/10512 [==============================] - 1s 133us/sample - loss: 0.2303 - accuracy: 0.9001\b\b\b\b\b\b\b\b\b\b\b\b\b\b\b\b\b\b\b\b\b\b\b\b\b\b\b\b\b\b\b\b\b\b\b\b\b\b\b\b\b\b\b\b\b\b\b\b\b\b\b\b\b\b\b\b\b\b\b\b\b\b\b\b\b\b\b\b\b\b\b\b\b\b\b\b\b\b\b\b\nEpoch 60/100\n10512/10512 [==============================] - 1s 132us/sample - loss: 0.2266 - accuracy: 0.9023\b\b\b\b\b\b\b\b\b\b\b\b\b\b\b\b\b\b\b\b\b\b\b\b\b\b\b\b\b\b\b\b\b\b\b\b\b\b\b\b\b\b\b\b\b\b\b\b\b\b\b\b\b\b\b\b\b\b\b\b\b\b\b\b\b\b\b\b\b\b\b\b\b\b\b\b\b\b\b\b\nEpoch 61/100\n10512/10512 [==============================] - 1s 130us/sample - loss: 0.2262 - accuracy: 0.9021\b\b\b\b\b\b\b\b\b\b\b\b\b\b\b\b\b\b\b\b\b\b\b\b\b\b\b\b\b\b\b\b\b\b\b\b\b\b\b\b\b\b\b\b\b\b\b\b\b\b\b\b\b\b\b\b\b\b\b\b\b\b\b\b\b\b\b\b\b\b\b\b\b\b\b\b\b\b\b\b\nEpoch 62/100\n10512/10512 [==============================] - 1s 130us/sample - loss: 0.2239 - accuracy: 0.9042\b\b\b\b\b\b\b\b\b\b\b\b\b\b\b\b\b\b\b\b\b\b\b\b\b\b\b\b\b\b\b\b\b\b\b\b\b\b\b\b\b\b\b\b\b\b\b\b\b\b\b\b\b\b\b\b\b\b\b\b\b\b\b\b\b\b\b\b\b\b\b\b\b\b\b\b\b\b\b\b\nEpoch 63/100\n10512/10512 [==============================] - 1s 131us/sample - loss: 0.2193 - accuracy: 0.9073\b\b\b\b\b\b\b\b\b\b\b\b\b\b\b\b\b\b\b\b\b\b\b\b\b\b\b\b\b\b\b\b\b\b\b\b\b\b\b\b\b\b\b\b\b\b\b\b\b\b\b\b\b\b\b\b\b\b\b\b\b\b\b\b\b\b\b\b\b\b\b\b\b\b\b\b\b\b\b\b\nEpoch 64/100\n10512/10512 [==============================] - 1s 130us/sample - loss: 0.2180 - accuracy: 0.9063\b\b\b\b\b\b\b\b\b\b\b\b\b\b\b\b\b\b\b\b\b\b\b\b\b\b\b\b\b\b\b\b\b\b\b\b\b\b\b\b\b\b\b\b\b\b\b\b\b\b\b\b\b\b\b\b\b\b\b\b\b\b\b\b\b\b\b\b\b\b\b\b\b\b\b\b\b\b\b\b\nEpoch 65/100\n10512/10512 [==============================] - 1s 132us/sample - loss: 0.2183 - accuracy: 0.9073\b\b\b\b\b\b\b\b\b\b\b\b\b\b\b\b\b\b\b\b\b\b\b\b\b\b\b\b\b\b\b\b\b\b\b\b\b\b\b\b\b\b\b\b\b\b\b\b\b\b\b\b\b\b\b\b\b\b\b\b\b\b\b\b\b\b\b\b\b\b\b\b\b\b\b\b\b\b\b\b\nEpoch 66/100\n10512/10512 [==============================] - 1s 132us/sample - loss: 0.2150 - accuracy: 0.9081\b\b\b\b\b\b\b\b\b\b\b\b\b\b\b\b\b\b\b\b\b\b\b\b\b\b\b\b\b\b\b\b\b\b\b\b\b\b\b\b\b\b\b\b\b\b\b\b\b\b\b\b\b\b\b\b\b\b\b\b\b\b\b\b\b\b\b\b\b\b\b\b\b\b\b\b\b\b\b\b\nEpoch 67/100\n10512/10512 [==============================] - 1s 132us/sample - loss: 0.2133 - accuracy: 0.9093\b\b\b\b\b\b\b\b\b\b\b\b\b\b\b\b\b\b\b\b\b\b\b\b\b\b\b\b\b\b\b\b\b\b\b\b\b\b\b\b\b\b\b\b\b\b\b\b\b\b\b\b\b\b\b\b\b\b\b\b\b\b\b\b\b\b\b\b\b\b\b\b\b\b\b\b\b\b\b\b\nEpoch 68/100\n10512/10512 [==============================] - 1s 132us/sample - loss: 0.2113 - accuracy: 0.9101\b\b\b\b\b\b\b\b\b\b\b\b\b\b\b\b\b\b\b\b\b\b\b\b\b\b\b\b\b\b\b\b\b\b\b\b\b\b\b\b\b\b\b\b\b\b\b\b\b\b\b\b\b\b\b\b\b\b\b\b\b\b\b\b\b\b\b\b\b\b\b\b\b\b\b\b\b\b\b\b\nEpoch 69/100\n10512/10512 [==============================] - 1s 133us/sample - loss: 0.2089 - accuracy: 0.9124\b\b\b\b\b\b\b\b\b\b\b\b\b\b\b\b\b\b\b\b\b\b\b\b\b\b\b\b\b\b\b\b\b\b\b\b\b\b\b\b\b\b\b\b\b\b\b\b\b\b\b\b\b\b\b\b\b\b\b\b\b\b\b\b\b\b\b\b\b\b\b\b\b\b\b\b\b\b\b\b\nEpoch 70/100\n10512/10512 [==============================] - 1s 132us/sample - loss: 0.2096 - accuracy: 0.9117\b\b\b\b\b\b\b\b\b\b\b\b\b\b\b\b\b\b\b\b\b\b\b\b\b\b\b\b\b\b\b\b\b\b\b\b\b\b\b\b\b\b\b\b\b\b\b\b\b\b\b\b\b\b\b\b\b\b\b\b\b\b\b\b\b\b\b\b\b\b\b\b\b\b\b\b\b\b\b\b\nEpoch 71/100\n10512/10512 [==============================] - 1s 128us/sample - loss: 0.2066 - accuracy: 0.9123\b\b\b\b\b\b\b\b\b\b\b\b\b\b\b\b\b\b\b\b\b\b\b\b\b\b\b\b\b\b\b\b\b\b\b\b\b\b\b\b\b\b\b\b\b\b\b\b\b\b\b\b\b\b\b\b\b\b\b\b\b\b\b\b\b\b\b\b\b\b\b\b\b\b\b\b\b\b\b\b\nEpoch 72/100\n10512/10512 [==============================] - 1s 129us/sample - loss: 0.2045 - accuracy: 0.9150\b\b\b\b\b\b\b\b\b\b\b\b\b\b\b\b\b\b\b\b\b\b\b\b\b\b\b\b\b\b\b\b\b\b\b\b\b\b\b\b\b\b\b\b\b\b\b\b\b\b\b\b\b\b\b\b\b\b\b\b\b\b\b\b\b\b\b\b\b\b\b\b\b\b\b\b\b\b\b\b\nEpoch 73/100\n10512/10512 [==============================] - 1s 133us/sample - loss: 0.2043 - accuracy: 0.9141\b\b\b\b\b\b\b\b\b\b\b\b\b\b\b\b\b\b\b\b\b\b\b\b\b\b\b\b\b\b\b\b\b\b\b\b\b\b\b\b\b\b\b\b\b\b\b\b\b\b\b\b\b\b\b\b\b\b\b\b\b\b\b\b\b\b\b\b\b\b\b\b\b\b\b\b\b\b\b\b\nEpoch 74/100\n10512/10512 [==============================] - 1s 131us/sample - loss: 0.2015 - accuracy: 0.9166\b\b\b\b\b\b\b\b\b\b\b\b\b\b\b\b\b\b\b\b\b\b\b\b\b\b\b\b\b\b\b\b\b\b\b\b\b\b\b\b\b\b\b\b\b\b\b\b\b\b\b\b\b\b\b\b\b\b\b\b\b\b\b\b\b\b\b\b\b\b\b\b\b\b\b\b\b\b\b\b\nEpoch 75/100\n10512/10512 [==============================] - 1s 131us/sample - loss: 0.2018 - accuracy: 0.9152\b\b\b\b\b\b\b\b\b\b\b\b\b\b\b\b\b\b\b\b\b\b\b\b\b\b\b\b\b\b\b\b\b\b\b\b\b\b\b\b\b\b\b\b\b\b\b\b\b\b\b\b\b\b\b\b\b\b\b\b\b\b\b\b\b\b\b\b\b\b\b\b\b\b\b\b\b\b\b\b\nEpoch 76/100\n10512/10512 [==============================] - 1s 133us/sample - loss: 0.1993 - accuracy: 0.9165\b\b\b\b\b\b\b\b\b\b\b\b\b\b\b\b\b\b\b\b\b\b\b\b\b\b\b\b\b\b\b\b\b\b\b\b\b\b\b\b\b\b\b\b\b\b\b\b\b\b\b\b\b\b\b\b\b\b\b\b\b\b\b\b\b\b\b\b\b\b\b\b\b\b\b\b\b\b\b\b\nEpoch 77/100\n10512/10512 [==============================] - 1s 133us/sample - loss: 0.1989 - accuracy: 0.9166\b\b\b\b\b\b\b\b\b\b\b\b\b\b\b\b\b\b\b\b\b\b\b\b\b\b\b\b\b\b\b\b\b\b\b\b\b\b\b\b\b\b\b\b\b\b\b\b\b\b\b\b\b\b\b\b\b\b\b\b\b\b\b\b\b\b\b\b\b\b\b\b\b\b\b\b\b\b\b\b\nEpoch 78/100\n10512/10512 [==============================] - 1s 133us/sample - loss: 0.1960 - accuracy: 0.9192\b\b\b\b\b\b\b\b\b\b\b\b\b\b\b\b\b\b\b\b\b\b\b\b\b\b\b\b\b\b\b\b\b\b\b\b\b\b\b\b\b\b\b\b\b\b\b\b\b\b\b\b\b\b\b\b\b\b\b\b\b\b\b\b\b\b\b\b\b\b\b\b\b\b\b\b\b\b\b\b\nEpoch 79/100\n10512/10512 [==============================] - 1s 132us/sample - loss: 0.1936 - accuracy: 0.9196\b\b\b\b\b\b\b\b\b\b\b\b\b\b\b\b\b\b\b\b\b\b\b\b\b\b\b\b\b\b\b\b\b\b\b\b\b\b\b\b\b\b\b\b\b\b\b\b\b\b\b\b\b\b\b\b\b\b\b\b\b\b\b\b\b\b\b\b\b\b\b\b\b\b\b\b\b\b\b\b\nEpoch 80/100\n10512/10512 [==============================] - 1s 133us/sample - loss: 0.1939 - accuracy: 0.9191\b\b\b\b\b\b\b\b\b\b\b\b\b\b\b\b\b\b\b\b\b\b\b\b\b\b\b\b\b\b\b\b\b\b\b\b\b\b\b\b\b\b\b\b\b\b\b\b\b\b\b\b\b\b\b\b\b\b\b\b\b\b\b\b\b\b\b\b\b\b\b\b\b\b\b\b\b\b\b\b\nEpoch 81/100\n10512/10512 [==============================] - 1s 131us/sample - loss: 0.1927 - accuracy: 0.9199\b\b\b\b\b\b\b\b\b\b\b\b\b\b\b\b\b\b\b\b\b\b\b\b\b\b\b\b\b\b\b\b\b\b\b\b\b\b\b\b\b\b\b\b\b\b\b\b\b\b\b\b\b\b\b\b\b\b\b\b\b\b\b\b\b\b\b\b\b\b\b\b\b\b\b\b\b\b\b\b\nEpoch 82/100\n10512/10512 [==============================] - 1s 131us/sample - loss: 0.1916 - accuracy: 0.9204\b\b\b\b\b\b\b\b\b\b\b\b\b\b\b\b\b\b\b\b\b\b\b\b\b\b\b\b\b\b\b\b\b\b\b\b\b\b\b\b\b\b\b\b\b\b\b\b\b\b\b\b\b\b\b\b\b\b\b\b\b\b\b\b\b\b\b\b\b\b\b\b\b\b\b\b\b\b\b\b\nEpoch 83/100\n10512/10512 [==============================] - 1s 130us/sample - loss: 0.1909 - accuracy: 0.9215\b\b\b\b\b\b\b\b\b\b\b\b\b\b\b\b\b\b\b\b\b\b\b\b\b\b\b\b\b\b\b\b\b\b\b\b\b\b\b\b\b\b\b\b\b\b\b\b\b\b\b\b\b\b\b\b\b\b\b\b\b\b\b\b\b\b\b\b\b\b\b\b\b\b\b\b\b\b\b\b\nEpoch 84/100\n10512/10512 [==============================] - 1s 130us/sample - loss: 0.1879 - accuracy: 0.9226\b\b\b\b\b\b\b\b\b\b\b\b\b\b\b\b\b\b\b\b\b\b\b\b\b\b\b\b\b\b\b\b\b\b\b\b\b\b\b\b\b\b\b\b\b\b\b\b\b\b\b\b\b\b\b\b\b\b\b\b\b\b\b\b\b\b\b\b\b\b\b\b\b\b\b\b\b\b\b\b\nEpoch 85/100\n10512/10512 [==============================] - 1s 132us/sample - loss: 0.1896 - accuracy: 0.9216\b\b\b\b\b\b\b\b\b\b\b\b\b\b\b\b\b\b\b\b\b\b\b\b\b\b\b\b\b\b\b\b\b\b\b\b\b\b\b\b\b\b\b\b\b\b\b\b\b\b\b\b\b\b\b\b\b\b\b\b\b\b\b\b\b\b\b\b\b\b\b\b\b\b\b\b\b\b\b\b\nEpoch 86/100\n10512/10512 [==============================] - 1s 133us/sample - loss: 0.1877 - accuracy: 0.9212\b\b\b\b\b\b\b\b\b\b\b\b\b\b\b\b\b\b\b\b\b\b\b\b\b\b\b\b\b\b\b\b\b\b\b\b\b\b\b\b\b\b\b\b\b\b\b\b\b\b\b\b\b\b\b\b\b\b\b\b\b\b\b\b\b\b\b\b\b\b\b\b\b\b\b\b\b\b\b\b\nEpoch 87/100\n10512/10512 [==============================] - 1s 135us/sample - loss: 0.1869 - accuracy: 0.9220\b\b\b\b\b\b\b\b\b\b\b\b\b\b\b\b\b\b\b\b\b\b\b\b\b\b\b\b\b\b\b\b\b\b\b\b\b\b\b\b\b\b\b\b\b\b\b\b\b\b\b\b\b\b\b\b\b\b\b\b\b\b\b\b\b\b\b\b\b\b\b\b\b\b\b\b\b\b\b\b\nEpoch 88/100\n10512/10512 [==============================] - 1s 135us/sample - loss: 0.1854 - accuracy: 0.9237\b\b\b\b\b\b\b\b\b\b\b\b\b\b\b\b\b\b\b\b\b\b\b\b\b\b\b\b\b\b\b\b\b\b\b\b\b\b\b\b\b\b\b\b\b\b\b\b\b\b\b\b\b\b\b\b\b\b\b\b\b\b\b\b\b\b\b\b\b\b\b\b\b\b\b\b\b\b\b\b\nEpoch 89/100\n10512/10512 [==============================] - 1s 134us/sample - loss: 0.1837 - accuracy: 0.9246\b\b\b\b\b\b\b\b\b\b\b\b\b\b\b\b\b\b\b\b\b\b\b\b\b\b\b\b\b\b\b\b\b\b\b\b\b\b\b\b\b\b\b\b\b\b\b\b\b\b\b\b\b\b\b\b\b\b\b\b\b\b\b\b\b\b\b\b\b\b\b\b\b\b\b\b\b\b\b\b\nEpoch 90/100\n10512/10512 [==============================] - 1s 137us/sample - loss: 0.1817 - accuracy: 0.9247\b\b\b\b\b\b\b\b\b\b\b\b\b\b\b\b\b\b\b\b\b\b\b\b\b\b\b\b\b\b\b\b\b\b\b\b\b\b\b\b\b\b\b\b\b\b\b\b\b\b\b\b\b\b\b\b\b\b\b\b\b\b\b\b\b\b\b\b\b\b\b\b\b\b\b\b\b\b\b\b\nEpoch 91/100\n10512/10512 [==============================] - 1s 129us/sample - loss: 0.1809 - accuracy: 0.9247\b\b\b\b\b\b\b\b\b\b\b\b\b\b\b\b\b\b\b\b\b\b\b\b\b\b\b\b\b\b\b\b\b\b\b\b\b\b\b\b\b\b\b\b\b\b\b\b\b\b\b\b\b\b\b\b\b\b\b\b\b\b\b\b\b\b\b\b\b\b\b\b\b\b\b\b\b\b\b\b\nEpoch 92/100\n10512/10512 [==============================] - 1s 134us/sample - loss: 0.1788 - accuracy: 0.9259\b\b\b\b\b\b\b\b\b\b\b\b\b\b\b\b\b\b\b\b\b\b\b\b\b\b\b\b\b\b\b\b\b\b\b\b\b\b\b\b\b\b\b\b\b\b\b\b\b\b\b\b\b\b\b\b\b\b\b\b\b\b\b\b\b\b\b\b\b\b\b\b\b\b\b\b\b\b\b\b\nEpoch 93/100\n10512/10512 [==============================] - 1s 136us/sample - loss: 0.1772 - accuracy: 0.9264\b\b\b\b\b\b\b\b\b\b\b\b\b\b\b\b\b\b\b\b\b\b\b\b\b\b\b\b\b\b\b\b\b\b\b\b\b\b\b\b\b\b\b\b\b\b\b\b\b\b\b\b\b\b\b\b\b\b\b\b\b\b\b\b\b\b\b\b\b\b\b\b\b\b\b\b\b\b\b\b\nEpoch 94/100\n10512/10512 [==============================] - 1s 139us/sample - loss: 0.1770 - accuracy: 0.9273\b\b\b\b\b\b\b\b\b\b\b\b\b\b\b\b\b\b\b\b\b\b\b\b\b\b\b\b\b\b\b\b\b\b\b\b\b\b\b\b\b\b\b\b\b\b\b\b\b\b\b\b\b\b\b\b\b\b\b\b\b\b\b\b\b\b\b\b\b\b\b\b\b\b\b\b\b\b\b\b\nEpoch 95/100\n10512/10512 [==============================] - 1s 138us/sample - loss: 0.1751 - accuracy: 0.9279\b\b\b\b\b\b\b\b\b\b\b\b\b\b\b\b\b\b\b\b\b\b\b\b\b\b\b\b\b\b\b\b\b\b\b\b\b\b\b\b\b\b\b\b\b\b\b\b\b\b\b\b\b\b\b\b\b\b\b\b\b\b\b\b\b\b\b\b\b\b\b\b\b\b\b\b\b\b\b\b\nEpoch 96/100\n10512/10512 [==============================] - 1s 135us/sample - loss: 0.1758 - accuracy: 0.9279\b\b\b\b\b\b\b\b\b\b\b\b\b\b\b\b\b\b\b\b\b\b\b\b\b\b\b\b\b\b\b\b\b\b\b\b\b\b\b\b\b\b\b\b\b\b\b\b\b\b\b\b\b\b\b\b\b\b\b\b\b\b\b\b\b\b\b\b\b\b\b\b\b\b\b\b\b\b\b\b\nEpoch 97/100\n10512/10512 [==============================] - 1s 131us/sample - loss: 0.1729 - accuracy: 0.9285\b\b\b\b\b\b\b\b\b\b\b\b\b\b\b\b\b\b\b\b\b\b\b\b\b\b\b\b\b\b\b\b\b\b\b\b\b\b\b\b\b\b\b\b\b\b\b\b\b\b\b\b\b\b\b\b\b\b\b\b\b\b\b\b\b\b\b\b\b\b\b\b\b\b\b\b\b\b\b\b\nEpoch 98/100\n10512/10512 [==============================] - 1s 131us/sample - loss: 0.1734 - accuracy: 0.9287\b\b\b\b\b\b\b\b\b\b\b\b\b\b\b\b\b\b\b\b\b\b\b\b\b\b\b\b\b\b\b\b\b\b\b\b\b\b\b\b\b\b\b\b\b\b\b\b\b\b\b\b\b\b\b\b\b\b\b\b\b\b\b\b\b\b\b\b\b\b\b\b\b\b\b\b\b\b\b\b\nEpoch 99/100\n10512/10512 [==============================] - 1s 130us/sample - loss: 0.1694 - accuracy: 0.9305\b\b\b\b\b\b\b\b\b\b\b\b\b\b\b\b\b\b\b\b\b\b\b\b\b\b\b\b\b\b\b\b\b\b\b\b\b\b\b\b\b\b\b\b\b\b\b\b\b\b\b\b\b\b\b\b\b\b\b\b\b\b\b\b\b\b\b\b\b\b\b\b\b\b\b\b\b\b\b\b\nEpoch 100/100\n10512/10512 [==============================] - 1s 131us/sample - loss: 0.1720 - accuracy: 0.9293\b\b\b\b\b\b\b\b\b\b\b\b\b\b\b\b\b\b\b\b\b\b\b\b\b\b\b\b\b\b\b\b\b\b\b\b\b\b\b\b\b\b\b\b\b\b\b\b\b\b\b\b\b\b\b\b\b\b\b\b\b\b\b\b\b\b\b\b\b\b\b\b\b\b\b\b\b\b\b\b\nBest Accuracy for 0.913220340013504 using {'batch_size': 10, 'learning_rate': 0.001}\n mean=0.7628, std=0.01462 using {'batch_size': 1, 'learning_rate': 0.1}\n mean=0.7812, std=0.004055 using {'batch_size': 1, 'learning_rate': 0.01}\n mean=0.8821, std=0.01273 using {'batch_size': 1, 'learning_rate': 0.001}\n mean=0.876, std=0.008437 using {'batch_size': 1, 'learning_rate': 0.0001}\n mean=0.7801, std=0.005818 using {'batch_size': 10, 'learning_rate': 0.1}\n mean=0.7827, std=0.005083 using {'batch_size': 10, 'learning_rate': 0.01}\n mean=0.9132, std=0.01362 using {'batch_size': 10, 'learning_rate': 0.001}\n mean=0.8233, std=0.006306 using {'batch_size': 10, 'learning_rate': 0.0001}\n mean=0.7815, std=0.004057 using {'batch_size': 100, 'learning_rate': 0.1}\n mean=0.8644, std=0.01883 using {'batch_size': 100, 'learning_rate': 0.01}\n mean=0.857, std=0.0119 using {'batch_size': 100, 'learning_rate': 0.001}\n mean=0.7987, std=0.006827 using {'batch_size': 100, 'learning_rate': 0.0001}\n mean=0.7832, std=0.005798 using {'batch_size': 500, 'learning_rate': 0.1}\n mean=0.8572, std=0.01644 using {'batch_size': 500, 'learning_rate': 0.01}\n mean=0.8148, std=0.005364 using {'batch_size': 500, 'learning_rate': 0.001}\n mean=0.789, std=0.005655 using {'batch_size': 500, 'learning_rate': 0.0001}\n mean=0.782, std=0.004546 using {'batch_size': 1000, 'learning_rate': 0.1}\n mean=0.8369, std=0.007374 using {'batch_size': 1000, 'learning_rate': 0.01}\n mean=0.8028, std=0.007999 using {'batch_size': 1000, 'learning_rate': 0.001}\n mean=0.7868, std=0.006288 using {'batch_size': 1000, 'learning_rate': 0.0001}\n mean=0.7822, std=0.004141 using {'batch_size': 10512, 'learning_rate': 0.1}\n mean=0.79, std=0.004055 using {'batch_size': 10512, 'learning_rate': 0.01}\n mean=0.7828, std=0.003511 using {'batch_size': 10512, 'learning_rate': 0.001}\n mean=0.7345, std=0.05289 using {'batch_size': 10512, 'learning_rate': 0.0001}\nCPU times: user 3min 25s, sys: 26.4 s, total: 3min 51s\nWall time: 6h 7min 9s\n"
        }
      ],
      "execution_count": 16,
      "metadata": {
        "jupyter": {
          "source_hidden": false,
          "outputs_hidden": false
        },
        "nteract": {
          "transient": {
            "deleting": false
          }
        }
      }
    },
    {
      "cell_type": "code",
      "source": [
        "class PlotLearning(keras.callbacks.Callback):\n",
        "    \"\"\"\n",
        "    Callback to plot learning curves of the model during training\n",
        "    \"\"\"\n",
        "    def on_train_begin(self, logs={}):\n",
        "        self.metrics = {}\n",
        "        for metric in logs:\n",
        "            self.metrics[metric] = []\n",
        "\n",
        "    \n",
        "    def on_epoch_end(self, epoch, logs={}):\n",
        "        # Storing metrics\n",
        "        for metric in logs:\n",
        "            if metric in self.metrics:\n",
        "                self.metrics[metric].append(logs.get(metric))\n",
        "            else:\n",
        "                self.metrics[metric] = [logs.get(metric)]\n",
        "        \n",
        "\n",
        "        # Plotting\n",
        "        metrics = [x for x in logs if 'val' not in x]\n",
        "\n",
        "        f, axs = plt.subplots(1, len(metrics), figsize=(15, 5))\n",
        "        clear_output(wait=True)\n",
        "\n",
        "        for i, metric in enumerate(metrics):\n",
        "            axs[i].plot(range(1, epoch +2), self.metrics[metric], label=metric)\n",
        "            if logs['val_' + metric]:\n",
        "                axs[i].plot(range(1, epoch + 2), self.metrics['val_' + metric], label='val_' + metric)\n",
        "            \n",
        "            axs[i].legend()\n",
        "            axs[i].grid()\n",
        "\n",
        "        \n",
        "        plt.tight_layout()\n",
        "        plt.show()\n",
        "        \n"
      ],
      "outputs": [],
      "execution_count": 16,
      "metadata": {
        "jupyter": {
          "source_hidden": false,
          "outputs_hidden": false
        },
        "nteract": {
          "transient": {
            "deleting": false
          }
        },
        "gather": {
          "logged": 1641281999379
        }
      }
    },
    {
      "cell_type": "code",
      "source": [
        "class PlotLosses(keras.callbacks.Callback):\n",
        "    def on_train_begin(self, logs={}):\n",
        "        self.i = 0\n",
        "        self.x = []\n",
        "        self.losses = []\n",
        "        self.val_losses = []\n",
        "\n",
        "        self.fig = plt.figure()\n",
        "\n",
        "        self.logs = []\n",
        "    \n",
        "    def on_epoch_end(self, epoch, logs={}):\n",
        "\n",
        "        self.logs.append(logs)\n",
        "        self.x.append(self.i)\n",
        "        self.losses.append(logs.get('loss'))\n",
        "        self.val_losses.append(logs.get('val_loss'))\n",
        "        self.i += 1\n",
        "\n",
        "        clear_output(wait=True)\n",
        "        plt.plot(self.x, self.losses, label='loss')\n",
        "        plt.plot(self.x, self.val_losses, label='val_loss')\n",
        "        plt.legend()\n",
        "        plt.show();\n",
        "\n",
        "plot_losses = PlotLosses()"
      ],
      "outputs": [],
      "execution_count": 17,
      "metadata": {
        "jupyter": {
          "source_hidden": false,
          "outputs_hidden": false
        },
        "nteract": {
          "transient": {
            "deleting": false
          }
        },
        "gather": {
          "logged": 1641282003047
        }
      }
    },
    {
      "cell_type": "code",
      "source": [
        "# Building model\n",
        "# Hyperparameters to consider by order of importance\n",
        "    # 1. Learing rate alpha\n",
        "    # iterations\n",
        "    # 3. Hidden layers L\n",
        "    # 4. Number of nuerons per hidden layer\n",
        "    # Regularization\n",
        "        # L2 Regularization\n",
        "        # Dropout Regularization (keep probability)\n",
        "    # Adam Optimization technique for optimizing weights (w, b) \n",
        "    # It is combination of Momentum and RMS prop is used to speed up gradient descent\n",
        "        # 2.alpha (learning rate) and beta1 of momentum.\n",
        "        # 2. beta2 of RMS prop\n",
        "        # then apply Bias correction\n",
        "        # 2. epsilon\n",
        "    # 5. Learning Rate Decay\n",
        "    # One of the things that help speed up learning of algorithm us to slowly reduce learning rate over time\n",
        "    # alpha = (1/(1+ (decay rate * epoch number))) * aplha0\n",
        "    # 6. Number of mini-batches\n",
        "\n",
        "# batch_size = grid_result.best_params_['batch_size']\n",
        "# learning_rate = grid_result.best_params_['learning_rate']\n",
        "\n",
        "batch_size = 10\n",
        "learning_rate = 0.001\n",
        "filepath = 'best_model.hdf5'\n",
        "\n",
        "# bcm_callback = mltb.keras.BinaryClassifierMetricsCallback(X_test, Y_test)\n",
        "# es_callback = EarlyStopping(monitor='val_f1', patience=200,  mode='max')\n",
        "early_stopping = EarlyStopping(monitor='val_loss', patience=200, mode='min')\n",
        "check_point = ModelCheckpoint(filepath=filepath, monitor='val_loss', mode='min', verbose=1, save_best_only=True)\n",
        "\n",
        "# callbacks_list = [PlotLearning()]\n",
        "callbacks_list = [plot_losses, early_stopping, check_point]\n",
        "\n",
        "model = Sequential()\n",
        "model.add(Dense(N_h, input_dim=N_i, kernel_initializer='he_uniform', activation='relu'))\n",
        "model.add(Dense(N_h, kernel_initializer='he_uniform', activation='relu'))\n",
        "model.add(Dense(N_o, kernel_initializer='he_uniform', activation='sigmoid'))\n",
        "optimizer = keras.optimizers.Adam(learning_rate=learning_rate)\n",
        "# model.compile(loss='binary_crossentropy', optimizer=optimizer, metrics=['accuracy'])\n",
        "model.compile(loss='binary_crossentropy', optimizer=optimizer, metrics=['accuracy', 'binary_accuracy'])\n",
        "\n",
        "\n",
        "# Fit the model\n",
        "# history = model.fit(X_train, Y_train, epochs=5000, batch_size = batch_size, verbose=1, validation_data=(X_test, Y_test), shuffle=True, callbacks=callbacks_list)\n",
        "history = model.fit(X_train, Y_train, epochs=5000, batch_size = batch_size, verbose=1, validation_data=(X_test, Y_test), shuffle=True, callbacks=callbacks_list)\n",
        "# list all data in history\n",
        "print(history.history.keys())\n",
        "# summarize history for accuracy\n",
        "plt.plot(history.history['accuracy'])\n",
        "plt.plot(history.history['val_accuracy'])\n",
        "plt.title('model accuracy')\n",
        "plt.ylabel('accuracy')\n",
        "plt.xlabel('epoch')\n",
        "plt.legend(['train', 'test'], loc='upper left')\n",
        "plt.show()\n",
        "# summarize history for accuracy\n",
        "plt.plot(history.history['binary_accuracy'])\n",
        "plt.plot(history.history['val_binary_accuracy'])\n",
        "plt.title('model binary accuracy')\n",
        "plt.ylabel('bin_accuracy')\n",
        "plt.xlabel('epoch')\n",
        "plt.legend(['train', 'test'], loc='upper left')\n",
        "plt.show()\n",
        "# summarize history for loss\n",
        "# plt.plot(history.history['loss'])\n",
        "# plt.plot(history.history['val_loss'])\n",
        "# plt.title('model loss')\n",
        "# plt.ylabel('loss')\n",
        "# plt.xlabel('epoch')\n",
        "# plt.legend(['train', 'test'], loc='upper left')\n",
        "# plt.show()"
      ],
      "outputs": [
        {
          "output_type": "stream",
          "name": "stdout",
          "text": "\b\b\b\b\b\b\b\b\b\b\b\b\b\b\b\b\b\b\b\b\b\b\b\b\b\b\b\b\b\b\b\b\b\b\b\b\b\b\b\b\b\b\b\b\b\b\b\b\b\b\b\b\b\b\b\b\b\b\b\b\b\b\b\b\b\b\b\b\b\b\b\b\b\b\b\b\b\b\b\b\b\b\b\b\b\b\b\b\b\b\b\b\b\b\b\b\b\b\b\b\b\b\b\b\b\b\b\b\b\b\b\b\r1052/1052 [==============================] - 1s 1ms/step - loss: 0.0505 - accuracy: 0.3828 - binary_accuracy: 0.9810 - val_loss: 0.0567 - val_accuracy: 0.3729 - val_binary_accuracy: 0.9810\n"
        },
        {
          "output_type": "display_data",
          "data": {
            "text/plain": "<Figure size 432x288 with 1 Axes>",
            "image/png": "[encoded data removed]"
          },
          "metadata": {
            "needs_background": "light"
          }
        },
        {
          "output_type": "stream",
          "name": "stdout",
          "text": "\nEpoch 01695: val_loss did not improve from 0.05215\ndict_keys(['loss', 'accuracy', 'binary_accuracy', 'val_loss', 'val_accuracy', 'val_binary_accuracy'])\n"
        },
        {
          "output_type": "display_data",
          "data": {
            "text/plain": "<Figure size 432x288 with 1 Axes>",
            "image/png": "[encoded data removed]"
          },
          "metadata": {
            "needs_background": "light"
          }
        },
        {
          "output_type": "display_data",
          "data": {
            "text/plain": "<Figure size 432x288 with 1 Axes>",
            "image/png": "[encoded data removed]"
          },
          "metadata": {
            "needs_background": "light"
          }
        }
      ],
      "execution_count": 19,
      "metadata": {
        "jupyter": {
          "source_hidden": false,
          "outputs_hidden": false
        },
        "nteract": {
          "transient": {
            "deleting": false
          }
        },
        "gather": {
          "logged": 1641191467088
        }
      }
    },
    {
      "cell_type": "code",
      "source": [
        "saved_model = load_model('best_model.hdf5')"
      ],
      "outputs": [],
      "execution_count": 18,
      "metadata": {
        "jupyter": {
          "source_hidden": false,
          "outputs_hidden": false
        },
        "nteract": {
          "transient": {
            "deleting": false
          }
        },
        "gather": {
          "logged": 1641282012596
        }
      }
    },
    {
      "cell_type": "code",
      "source": [
        "predictions = (saved_model.predict(X_test) > 0.5).astype('int32')"
      ],
      "outputs": [],
      "execution_count": 19,
      "metadata": {
        "jupyter": {
          "source_hidden": false,
          "outputs_hidden": false
        },
        "nteract": {
          "transient": {
            "deleting": false
          }
        },
        "gather": {
          "logged": 1641282016907
        }
      }
    },
    {
      "cell_type": "code",
      "source": [
        "Y_true = Y_test.reset_index(drop=True)"
      ],
      "outputs": [],
      "execution_count": 20,
      "metadata": {
        "jupyter": {
          "source_hidden": false,
          "outputs_hidden": false
        },
        "nteract": {
          "transient": {
            "deleting": false
          }
        },
        "gather": {
          "logged": 1641282023550
        }
      }
    },
    {
      "cell_type": "code",
      "source": [
        "Y_true"
      ],
      "outputs": [
        {
          "output_type": "execute_result",
          "execution_count": 21,
          "data": {
            "text/plain": "      hdl_cholesterol_human_high  hdl_cholesterol_human_low  \\\n0                              0                          1   \n1                              0                          0   \n2                              1                          0   \n3                              1                          0   \n4                              1                          0   \n...                          ...                        ...   \n2623                           0                          0   \n2624                           1                          0   \n2625                           0                          0   \n2626                           0                          1   \n2627                           1                          0   \n\n      hdl_cholesterol_human_ok  hemoglobin_human_high  hemoglobin_human_low  \\\n0                            0                      0                     0   \n1                            1                      0                     0   \n2                            0                      0                     0   \n3                            0                      0                     0   \n4                            0                      0                     0   \n...                        ...                    ...                   ...   \n2623                         1                      0                     0   \n2624                         0                      0                     0   \n2625                         1                      0                     0   \n2626                         0                      0                     0   \n2627                         0                      0                     0   \n\n      hemoglobin_human_ok  cholesterol_ldl_human_high  \\\n0                       1                           0   \n1                       1                           1   \n2                       1                           1   \n3                       1                           0   \n4                       1                           1   \n...                   ...                         ...   \n2623                    1                           1   \n2624                    1                           1   \n2625                    1                           0   \n2626                    1                           0   \n2627                    1                           0   \n\n      cholesterol_ldl_human_low  cholesterol_ldl_human_ok  \n0                             0                         1  \n1                             0                         0  \n2                             0                         0  \n3                             0                         1  \n4                             0                         0  \n...                         ...                       ...  \n2623                          0                         0  \n2624                          0                         0  \n2625                          0                         1  \n2626                          0                         1  \n2627                          0                         1  \n\n[2628 rows x 9 columns]",
            "text/html": "<div>\n<style scoped>\n    .dataframe tbody tr th:only-of-type {\n        vertical-align: middle;\n    }\n\n    .dataframe tbody tr th {\n        vertical-align: top;\n    }\n\n    .dataframe thead th {\n        text-align: right;\n    }\n</style>\n<table border=\"1\" class=\"dataframe\">\n  <thead>\n    <tr style=\"text-align: right;\">\n      <th></th>\n      <th>hdl_cholesterol_human_high</th>\n      <th>hdl_cholesterol_human_low</th>\n      <th>hdl_cholesterol_human_ok</th>\n      <th>hemoglobin_human_high</th>\n      <th>hemoglobin_human_low</th>\n      <th>hemoglobin_human_ok</th>\n      <th>cholesterol_ldl_human_high</th>\n      <th>cholesterol_ldl_human_low</th>\n      <th>cholesterol_ldl_human_ok</th>\n    </tr>\n  </thead>\n  <tbody>\n    <tr>\n      <th>0</th>\n      <td>0</td>\n      <td>1</td>\n      <td>0</td>\n      <td>0</td>\n      <td>0</td>\n      <td>1</td>\n      <td>0</td>\n      <td>0</td>\n      <td>1</td>\n    </tr>\n    <tr>\n      <th>1</th>\n      <td>0</td>\n      <td>0</td>\n      <td>1</td>\n      <td>0</td>\n      <td>0</td>\n      <td>1</td>\n      <td>1</td>\n      <td>0</td>\n      <td>0</td>\n    </tr>\n    <tr>\n      <th>2</th>\n      <td>1</td>\n      <td>0</td>\n      <td>0</td>\n      <td>0</td>\n      <td>0</td>\n      <td>1</td>\n      <td>1</td>\n      <td>0</td>\n      <td>0</td>\n    </tr>\n    <tr>\n      <th>3</th>\n      <td>1</td>\n      <td>0</td>\n      <td>0</td>\n      <td>0</td>\n      <td>0</td>\n      <td>1</td>\n      <td>0</td>\n      <td>0</td>\n      <td>1</td>\n    </tr>\n    <tr>\n      <th>4</th>\n      <td>1</td>\n      <td>0</td>\n      <td>0</td>\n      <td>0</td>\n      <td>0</td>\n      <td>1</td>\n      <td>1</td>\n      <td>0</td>\n      <td>0</td>\n    </tr>\n    <tr>\n      <th>...</th>\n      <td>...</td>\n      <td>...</td>\n      <td>...</td>\n      <td>...</td>\n      <td>...</td>\n      <td>...</td>\n      <td>...</td>\n      <td>...</td>\n      <td>...</td>\n    </tr>\n    <tr>\n      <th>2623</th>\n      <td>0</td>\n      <td>0</td>\n      <td>1</td>\n      <td>0</td>\n      <td>0</td>\n      <td>1</td>\n      <td>1</td>\n      <td>0</td>\n      <td>0</td>\n    </tr>\n    <tr>\n      <th>2624</th>\n      <td>1</td>\n      <td>0</td>\n      <td>0</td>\n      <td>0</td>\n      <td>0</td>\n      <td>1</td>\n      <td>1</td>\n      <td>0</td>\n      <td>0</td>\n    </tr>\n    <tr>\n      <th>2625</th>\n      <td>0</td>\n      <td>0</td>\n      <td>1</td>\n      <td>0</td>\n      <td>0</td>\n      <td>1</td>\n      <td>0</td>\n      <td>0</td>\n      <td>1</td>\n    </tr>\n    <tr>\n      <th>2626</th>\n      <td>0</td>\n      <td>1</td>\n      <td>0</td>\n      <td>0</td>\n      <td>0</td>\n      <td>1</td>\n      <td>0</td>\n      <td>0</td>\n      <td>1</td>\n    </tr>\n    <tr>\n      <th>2627</th>\n      <td>1</td>\n      <td>0</td>\n      <td>0</td>\n      <td>0</td>\n      <td>0</td>\n      <td>1</td>\n      <td>0</td>\n      <td>0</td>\n      <td>1</td>\n    </tr>\n  </tbody>\n</table>\n<p>2628 rows × 9 columns</p>\n</div>"
          },
          "metadata": {}
        }
      ],
      "execution_count": 21,
      "metadata": {
        "jupyter": {
          "source_hidden": false,
          "outputs_hidden": false
        },
        "nteract": {
          "transient": {
            "deleting": false
          }
        },
        "gather": {
          "logged": 1641282025796
        }
      }
    },
    {
      "cell_type": "code",
      "source": [
        "column_names = ['hdl_cholesterol_human_high_pred', 'hdl_cholesterol_human_low_pred', 'hdl_cholesterol_human_ok_pred', 'hemoglobin_human_high_pred', 'hemoglobin_human_low_pred', 'hemoglobin_human_ok_pred', 'cholesterol_ldl_human_high_pred', 'cholesterol_ldl_human_low_pred', 'cholesterol_ldl_human_ok_pred']\n",
        "Y_test_pred = pd.DataFrame(data=predictions, columns=column_names)"
      ],
      "outputs": [],
      "execution_count": 22,
      "metadata": {
        "jupyter": {
          "source_hidden": false,
          "outputs_hidden": false
        },
        "nteract": {
          "transient": {
            "deleting": false
          }
        },
        "gather": {
          "logged": 1641282032522
        }
      }
    },
    {
      "cell_type": "code",
      "source": [
        "Y_test_pred"
      ],
      "outputs": [
        {
          "output_type": "execute_result",
          "execution_count": 23,
          "data": {
            "text/plain": "      hdl_cholesterol_human_high_pred  hdl_cholesterol_human_low_pred  \\\n0                                   0                               1   \n1                                   0                               0   \n2                                   1                               0   \n3                                   1                               0   \n4                                   1                               0   \n...                               ...                             ...   \n2623                                0                               0   \n2624                                1                               0   \n2625                                0                               0   \n2626                                0                               1   \n2627                                1                               0   \n\n      hdl_cholesterol_human_ok_pred  hemoglobin_human_high_pred  \\\n0                                 0                           0   \n1                                 1                           0   \n2                                 0                           0   \n3                                 0                           0   \n4                                 0                           0   \n...                             ...                         ...   \n2623                              1                           0   \n2624                              0                           0   \n2625                              1                           0   \n2626                              0                           0   \n2627                              0                           0   \n\n      hemoglobin_human_low_pred  hemoglobin_human_ok_pred  \\\n0                             0                         1   \n1                             0                         1   \n2                             0                         1   \n3                             0                         1   \n4                             0                         1   \n...                         ...                       ...   \n2623                          0                         1   \n2624                          0                         1   \n2625                          0                         1   \n2626                          0                         1   \n2627                          0                         1   \n\n      cholesterol_ldl_human_high_pred  cholesterol_ldl_human_low_pred  \\\n0                                   0                               0   \n1                                   1                               0   \n2                                   0                               0   \n3                                   0                               0   \n4                                   1                               0   \n...                               ...                             ...   \n2623                                1                               0   \n2624                                1                               0   \n2625                                0                               0   \n2626                                0                               0   \n2627                                0                               0   \n\n      cholesterol_ldl_human_ok_pred  \n0                                 1  \n1                                 0  \n2                                 0  \n3                                 1  \n4                                 0  \n...                             ...  \n2623                              0  \n2624                              0  \n2625                              1  \n2626                              1  \n2627                              1  \n\n[2628 rows x 9 columns]",
            "text/html": "<div>\n<style scoped>\n    .dataframe tbody tr th:only-of-type {\n        vertical-align: middle;\n    }\n\n    .dataframe tbody tr th {\n        vertical-align: top;\n    }\n\n    .dataframe thead th {\n        text-align: right;\n    }\n</style>\n<table border=\"1\" class=\"dataframe\">\n  <thead>\n    <tr style=\"text-align: right;\">\n      <th></th>\n      <th>hdl_cholesterol_human_high_pred</th>\n      <th>hdl_cholesterol_human_low_pred</th>\n      <th>hdl_cholesterol_human_ok_pred</th>\n      <th>hemoglobin_human_high_pred</th>\n      <th>hemoglobin_human_low_pred</th>\n      <th>hemoglobin_human_ok_pred</th>\n      <th>cholesterol_ldl_human_high_pred</th>\n      <th>cholesterol_ldl_human_low_pred</th>\n      <th>cholesterol_ldl_human_ok_pred</th>\n    </tr>\n  </thead>\n  <tbody>\n    <tr>\n      <th>0</th>\n      <td>0</td>\n      <td>1</td>\n      <td>0</td>\n      <td>0</td>\n      <td>0</td>\n      <td>1</td>\n      <td>0</td>\n      <td>0</td>\n      <td>1</td>\n    </tr>\n    <tr>\n      <th>1</th>\n      <td>0</td>\n      <td>0</td>\n      <td>1</td>\n      <td>0</td>\n      <td>0</td>\n      <td>1</td>\n      <td>1</td>\n      <td>0</td>\n      <td>0</td>\n    </tr>\n    <tr>\n      <th>2</th>\n      <td>1</td>\n      <td>0</td>\n      <td>0</td>\n      <td>0</td>\n      <td>0</td>\n      <td>1</td>\n      <td>0</td>\n      <td>0</td>\n      <td>0</td>\n    </tr>\n    <tr>\n      <th>3</th>\n      <td>1</td>\n      <td>0</td>\n      <td>0</td>\n      <td>0</td>\n      <td>0</td>\n      <td>1</td>\n      <td>0</td>\n      <td>0</td>\n      <td>1</td>\n    </tr>\n    <tr>\n      <th>4</th>\n      <td>1</td>\n      <td>0</td>\n      <td>0</td>\n      <td>0</td>\n      <td>0</td>\n      <td>1</td>\n      <td>1</td>\n      <td>0</td>\n      <td>0</td>\n    </tr>\n    <tr>\n      <th>...</th>\n      <td>...</td>\n      <td>...</td>\n      <td>...</td>\n      <td>...</td>\n      <td>...</td>\n      <td>...</td>\n      <td>...</td>\n      <td>...</td>\n      <td>...</td>\n    </tr>\n    <tr>\n      <th>2623</th>\n      <td>0</td>\n      <td>0</td>\n      <td>1</td>\n      <td>0</td>\n      <td>0</td>\n      <td>1</td>\n      <td>1</td>\n      <td>0</td>\n      <td>0</td>\n    </tr>\n    <tr>\n      <th>2624</th>\n      <td>1</td>\n      <td>0</td>\n      <td>0</td>\n      <td>0</td>\n      <td>0</td>\n      <td>1</td>\n      <td>1</td>\n      <td>0</td>\n      <td>0</td>\n    </tr>\n    <tr>\n      <th>2625</th>\n      <td>0</td>\n      <td>0</td>\n      <td>1</td>\n      <td>0</td>\n      <td>0</td>\n      <td>1</td>\n      <td>0</td>\n      <td>0</td>\n      <td>1</td>\n    </tr>\n    <tr>\n      <th>2626</th>\n      <td>0</td>\n      <td>1</td>\n      <td>0</td>\n      <td>0</td>\n      <td>0</td>\n      <td>1</td>\n      <td>0</td>\n      <td>0</td>\n      <td>1</td>\n    </tr>\n    <tr>\n      <th>2627</th>\n      <td>1</td>\n      <td>0</td>\n      <td>0</td>\n      <td>0</td>\n      <td>0</td>\n      <td>1</td>\n      <td>0</td>\n      <td>0</td>\n      <td>1</td>\n    </tr>\n  </tbody>\n</table>\n<p>2628 rows × 9 columns</p>\n</div>"
          },
          "metadata": {}
        }
      ],
      "execution_count": 23,
      "metadata": {
        "jupyter": {
          "source_hidden": false,
          "outputs_hidden": false
        },
        "nteract": {
          "transient": {
            "deleting": false
          }
        },
        "gather": {
          "logged": 1641282035300
        }
      }
    },
    {
      "cell_type": "code",
      "source": [
        "mcm = multilabel_confusion_matrix(Y_true, Y_test_pred)\n",
        "print(mcm)"
      ],
      "outputs": [
        {
          "output_type": "stream",
          "name": "stdout",
          "text": "[[[2111   14]\n  [  68  435]]\n\n [[1990   28]\n  [  39  571]]\n\n [[1053   60]\n  [  51 1464]]\n\n [[2428    9]\n  [  16  175]]\n\n [[2511    5]\n  [   2  110]]\n\n [[ 277   26]\n  [  10 2315]]\n\n [[1592   10]\n  [  47  979]]\n\n [[2515    6]\n  [   3  104]]\n\n [[1100   33]\n  [  31 1464]]]\n"
        }
      ],
      "execution_count": 24,
      "metadata": {
        "jupyter": {
          "source_hidden": false,
          "outputs_hidden": false
        },
        "nteract": {
          "transient": {
            "deleting": false
          }
        },
        "gather": {
          "logged": 1641282040407
        }
      }
    },
    {
      "cell_type": "code",
      "source": [
        "print(classification_report(Y_true, Y_test_pred))"
      ],
      "outputs": [
        {
          "output_type": "stream",
          "name": "stdout",
          "text": "              precision    recall  f1-score   support\n\n           0       0.97      0.86      0.91       503\n           1       0.95      0.94      0.94       610\n           2       0.96      0.97      0.96      1515\n           3       0.95      0.92      0.93       191\n           4       0.96      0.98      0.97       112\n           5       0.99      1.00      0.99      2325\n           6       0.99      0.95      0.97      1026\n           7       0.95      0.97      0.96       107\n           8       0.98      0.98      0.98      1495\n\n   micro avg       0.98      0.97      0.97      7884\n   macro avg       0.97      0.95      0.96      7884\nweighted avg       0.98      0.97      0.97      7884\n samples avg       0.98      0.97      0.97      7884\n\n"
        }
      ],
      "execution_count": 25,
      "metadata": {
        "jupyter": {
          "source_hidden": false,
          "outputs_hidden": false
        },
        "nteract": {
          "transient": {
            "deleting": false
          }
        },
        "gather": {
          "logged": 1641282044018
        }
      }
    },
    {
      "cell_type": "code",
      "source": [
        "# Normalization of X\n",
        "\n",
        "# https://www.analyticsvidhya.com/blog/2020/04/feature-scaling-machine-learning-normalization-standardization/\n",
        "#Normalization is good to use when you know that the distribution of your data does not follow a \n",
        "#Gaussian distribution. \n",
        "#This can be useful in algorithms that do not assume any distribution of the data like \n",
        "#K-Nearest Neighbors and Neural Networks.\n",
        "#Standardization, on the other hand, can be helpful in cases where the data follows a Gaussian distribution. \n",
        "#However, this does not have to be necessarily true. Also, unlike normalization, standardization does not have a \n",
        "#bounding range. So, even if you have outliers in your data, they will not be affected by standardization.\n",
        "\n",
        "#https://machinelearningmastery.com/how-to-improve-neural-network-stability-and-modeling-performance-with-data-scaling/\n",
        "#If the distribution of the quantity is normal, then it should be standardized, otherwise the data should \n",
        "#be normalized. This applies if the range of quantity values is large (10s, 100s, etc.) or small (0.01, 0.0001).\n",
        "\n",
        "from sklearn.preprocessing import MinMaxScaler\n",
        "\n",
        "# fit scaler on training data\n",
        "norm_2 = MinMaxScaler().fit(unk_data)\n",
        "\n",
        "# transform training data\n",
        "unk_data_norm = norm_2.transform(unk_data)\n",
        "\n",
        "# transform validation data\n",
        "# X_val_norm = norm.transform(X_val)\n",
        "\n",
        "# transform test data\n",
        "# X_test_norm = norm.transform(X_test)"
      ],
      "outputs": [],
      "execution_count": 26,
      "metadata": {
        "jupyter": {
          "source_hidden": false,
          "outputs_hidden": false
        },
        "nteract": {
          "transient": {
            "deleting": false
          }
        },
        "gather": {
          "logged": 1641282056451
        }
      }
    },
    {
      "cell_type": "code",
      "source": [
        "unknown_predictions = (saved_model.predict(unk_data_norm) > 0.5).astype('int32')\n",
        "column_names = ['hdl_cholesterol_human_high_pred', 'hdl_cholesterol_human_low_pred', 'hdl_cholesterol_human_ok_pred', 'hemoglobin_human_high_pred', 'hemoglobin_human_low_pred', 'hemoglobin_human_ok_pred', 'cholesterol_ldl_human_high_pred', 'cholesterol_ldl_human_low_pred', 'cholesterol_ldl_human_ok_pred']\n",
        "unknown_pred_classes = pd.DataFrame(data=unknown_predictions, columns=column_names)"
      ],
      "outputs": [],
      "execution_count": 27,
      "metadata": {
        "jupyter": {
          "source_hidden": false,
          "outputs_hidden": false
        },
        "nteract": {
          "transient": {
            "deleting": false
          }
        },
        "gather": {
          "logged": 1641282060333
        }
      }
    },
    {
      "cell_type": "code",
      "source": [
        "unknown_pred_classes"
      ],
      "outputs": [
        {
          "output_type": "execute_result",
          "execution_count": 28,
          "data": {
            "text/plain": "      hdl_cholesterol_human_high_pred  hdl_cholesterol_human_low_pred  \\\n0                                   0                               0   \n1                                   1                               1   \n2                                   0                               1   \n3                                   0                               0   \n4                                   0                               0   \n...                               ...                             ...   \n3655                                0                               0   \n3656                                0                               1   \n3657                                1                               0   \n3658                                0                               1   \n3659                                0                               1   \n\n      hdl_cholesterol_human_ok_pred  hemoglobin_human_high_pred  \\\n0                                 1                           1   \n1                                 0                           0   \n2                                 0                           0   \n3                                 1                           0   \n4                                 1                           0   \n...                             ...                         ...   \n3655                              1                           0   \n3656                              0                           0   \n3657                              1                           0   \n3658                              0                           0   \n3659                              0                           0   \n\n      hemoglobin_human_low_pred  hemoglobin_human_ok_pred  \\\n0                             0                         0   \n1                             0                         1   \n2                             0                         1   \n3                             0                         1   \n4                             0                         1   \n...                         ...                       ...   \n3655                          0                         1   \n3656                          0                         1   \n3657                          0                         1   \n3658                          0                         1   \n3659                          0                         1   \n\n      cholesterol_ldl_human_high_pred  cholesterol_ldl_human_low_pred  \\\n0                                   0                               0   \n1                                   1                               0   \n2                                   1                               0   \n3                                   1                               0   \n4                                   1                               0   \n...                               ...                             ...   \n3655                                0                               0   \n3656                                0                               0   \n3657                                0                               1   \n3658                                1                               0   \n3659                                0                               0   \n\n      cholesterol_ldl_human_ok_pred  \n0                                 1  \n1                                 0  \n2                                 0  \n3                                 0  \n4                                 0  \n...                             ...  \n3655                              1  \n3656                              1  \n3657                              0  \n3658                              0  \n3659                              1  \n\n[3660 rows x 9 columns]",
            "text/html": "<div>\n<style scoped>\n    .dataframe tbody tr th:only-of-type {\n        vertical-align: middle;\n    }\n\n    .dataframe tbody tr th {\n        vertical-align: top;\n    }\n\n    .dataframe thead th {\n        text-align: right;\n    }\n</style>\n<table border=\"1\" class=\"dataframe\">\n  <thead>\n    <tr style=\"text-align: right;\">\n      <th></th>\n      <th>hdl_cholesterol_human_high_pred</th>\n      <th>hdl_cholesterol_human_low_pred</th>\n      <th>hdl_cholesterol_human_ok_pred</th>\n      <th>hemoglobin_human_high_pred</th>\n      <th>hemoglobin_human_low_pred</th>\n      <th>hemoglobin_human_ok_pred</th>\n      <th>cholesterol_ldl_human_high_pred</th>\n      <th>cholesterol_ldl_human_low_pred</th>\n      <th>cholesterol_ldl_human_ok_pred</th>\n    </tr>\n  </thead>\n  <tbody>\n    <tr>\n      <th>0</th>\n      <td>0</td>\n      <td>0</td>\n      <td>1</td>\n      <td>1</td>\n      <td>0</td>\n      <td>0</td>\n      <td>0</td>\n      <td>0</td>\n      <td>1</td>\n    </tr>\n    <tr>\n      <th>1</th>\n      <td>1</td>\n      <td>1</td>\n      <td>0</td>\n      <td>0</td>\n      <td>0</td>\n      <td>1</td>\n      <td>1</td>\n      <td>0</td>\n      <td>0</td>\n    </tr>\n    <tr>\n      <th>2</th>\n      <td>0</td>\n      <td>1</td>\n      <td>0</td>\n      <td>0</td>\n      <td>0</td>\n      <td>1</td>\n      <td>1</td>\n      <td>0</td>\n      <td>0</td>\n    </tr>\n    <tr>\n      <th>3</th>\n      <td>0</td>\n      <td>0</td>\n      <td>1</td>\n      <td>0</td>\n      <td>0</td>\n      <td>1</td>\n      <td>1</td>\n      <td>0</td>\n      <td>0</td>\n    </tr>\n    <tr>\n      <th>4</th>\n      <td>0</td>\n      <td>0</td>\n      <td>1</td>\n      <td>0</td>\n      <td>0</td>\n      <td>1</td>\n      <td>1</td>\n      <td>0</td>\n      <td>0</td>\n    </tr>\n    <tr>\n      <th>...</th>\n      <td>...</td>\n      <td>...</td>\n      <td>...</td>\n      <td>...</td>\n      <td>...</td>\n      <td>...</td>\n      <td>...</td>\n      <td>...</td>\n      <td>...</td>\n    </tr>\n    <tr>\n      <th>3655</th>\n      <td>0</td>\n      <td>0</td>\n      <td>1</td>\n      <td>0</td>\n      <td>0</td>\n      <td>1</td>\n      <td>0</td>\n      <td>0</td>\n      <td>1</td>\n    </tr>\n    <tr>\n      <th>3656</th>\n      <td>0</td>\n      <td>1</td>\n      <td>0</td>\n      <td>0</td>\n      <td>0</td>\n      <td>1</td>\n      <td>0</td>\n      <td>0</td>\n      <td>1</td>\n    </tr>\n    <tr>\n      <th>3657</th>\n      <td>1</td>\n      <td>0</td>\n      <td>1</td>\n      <td>0</td>\n      <td>0</td>\n      <td>1</td>\n      <td>0</td>\n      <td>1</td>\n      <td>0</td>\n    </tr>\n    <tr>\n      <th>3658</th>\n      <td>0</td>\n      <td>1</td>\n      <td>0</td>\n      <td>0</td>\n      <td>0</td>\n      <td>1</td>\n      <td>1</td>\n      <td>0</td>\n      <td>0</td>\n    </tr>\n    <tr>\n      <th>3659</th>\n      <td>0</td>\n      <td>1</td>\n      <td>0</td>\n      <td>0</td>\n      <td>0</td>\n      <td>1</td>\n      <td>0</td>\n      <td>0</td>\n      <td>1</td>\n    </tr>\n  </tbody>\n</table>\n<p>3660 rows × 9 columns</p>\n</div>"
          },
          "metadata": {}
        }
      ],
      "execution_count": 28,
      "metadata": {
        "jupyter": {
          "source_hidden": false,
          "outputs_hidden": false
        },
        "nteract": {
          "transient": {
            "deleting": false
          }
        },
        "gather": {
          "logged": 1641282063051
        }
      }
    },
    {
      "cell_type": "code",
      "source": [
        "total_df = pd.concat([ID_df, unknown_pred_classes], axis=1)"
      ],
      "outputs": [],
      "execution_count": 29,
      "metadata": {
        "jupyter": {
          "source_hidden": false,
          "outputs_hidden": false
        },
        "nteract": {
          "transient": {
            "deleting": false
          }
        },
        "gather": {
          "logged": 1641282068959
        }
      }
    },
    {
      "cell_type": "code",
      "source": [
        "total_df"
      ],
      "outputs": [
        {
          "output_type": "execute_result",
          "execution_count": 30,
          "data": {
            "text/plain": "       Reading_ID  hdl_cholesterol_human_high_pred  \\\n0     ID_37BEI22R                                0   \n1     ID_4W85V5DV                                1   \n2     ID_L4YR3NDY                                0   \n3     ID_U88E3SQ6                                0   \n4     ID_NW7Z3XU7                                0   \n...           ...                              ...   \n3655  ID_ADCBL266                                0   \n3656  ID_SW51B61O                                0   \n3657  ID_CO8IHJRA                                1   \n3658  ID_VN5CP3ZZ                                0   \n3659  ID_UPO13B7Z                                0   \n\n      hdl_cholesterol_human_low_pred  hdl_cholesterol_human_ok_pred  \\\n0                                  0                              1   \n1                                  1                              0   \n2                                  1                              0   \n3                                  0                              1   \n4                                  0                              1   \n...                              ...                            ...   \n3655                               0                              1   \n3656                               1                              0   \n3657                               0                              1   \n3658                               1                              0   \n3659                               1                              0   \n\n      hemoglobin_human_high_pred  hemoglobin_human_low_pred  \\\n0                              1                          0   \n1                              0                          0   \n2                              0                          0   \n3                              0                          0   \n4                              0                          0   \n...                          ...                        ...   \n3655                           0                          0   \n3656                           0                          0   \n3657                           0                          0   \n3658                           0                          0   \n3659                           0                          0   \n\n      hemoglobin_human_ok_pred  cholesterol_ldl_human_high_pred  \\\n0                            0                                0   \n1                            1                                1   \n2                            1                                1   \n3                            1                                1   \n4                            1                                1   \n...                        ...                              ...   \n3655                         1                                0   \n3656                         1                                0   \n3657                         1                                0   \n3658                         1                                1   \n3659                         1                                0   \n\n      cholesterol_ldl_human_low_pred  cholesterol_ldl_human_ok_pred  \n0                                  0                              1  \n1                                  0                              0  \n2                                  0                              0  \n3                                  0                              0  \n4                                  0                              0  \n...                              ...                            ...  \n3655                               0                              1  \n3656                               0                              1  \n3657                               1                              0  \n3658                               0                              0  \n3659                               0                              1  \n\n[3660 rows x 10 columns]",
            "text/html": "<div>\n<style scoped>\n    .dataframe tbody tr th:only-of-type {\n        vertical-align: middle;\n    }\n\n    .dataframe tbody tr th {\n        vertical-align: top;\n    }\n\n    .dataframe thead th {\n        text-align: right;\n    }\n</style>\n<table border=\"1\" class=\"dataframe\">\n  <thead>\n    <tr style=\"text-align: right;\">\n      <th></th>\n      <th>Reading_ID</th>\n      <th>hdl_cholesterol_human_high_pred</th>\n      <th>hdl_cholesterol_human_low_pred</th>\n      <th>hdl_cholesterol_human_ok_pred</th>\n      <th>hemoglobin_human_high_pred</th>\n      <th>hemoglobin_human_low_pred</th>\n      <th>hemoglobin_human_ok_pred</th>\n      <th>cholesterol_ldl_human_high_pred</th>\n      <th>cholesterol_ldl_human_low_pred</th>\n      <th>cholesterol_ldl_human_ok_pred</th>\n    </tr>\n  </thead>\n  <tbody>\n    <tr>\n      <th>0</th>\n      <td>ID_37BEI22R</td>\n      <td>0</td>\n      <td>0</td>\n      <td>1</td>\n      <td>1</td>\n      <td>0</td>\n      <td>0</td>\n      <td>0</td>\n      <td>0</td>\n      <td>1</td>\n    </tr>\n    <tr>\n      <th>1</th>\n      <td>ID_4W85V5DV</td>\n      <td>1</td>\n      <td>1</td>\n      <td>0</td>\n      <td>0</td>\n      <td>0</td>\n      <td>1</td>\n      <td>1</td>\n      <td>0</td>\n      <td>0</td>\n    </tr>\n    <tr>\n      <th>2</th>\n      <td>ID_L4YR3NDY</td>\n      <td>0</td>\n      <td>1</td>\n      <td>0</td>\n      <td>0</td>\n      <td>0</td>\n      <td>1</td>\n      <td>1</td>\n      <td>0</td>\n      <td>0</td>\n    </tr>\n    <tr>\n      <th>3</th>\n      <td>ID_U88E3SQ6</td>\n      <td>0</td>\n      <td>0</td>\n      <td>1</td>\n      <td>0</td>\n      <td>0</td>\n      <td>1</td>\n      <td>1</td>\n      <td>0</td>\n      <td>0</td>\n    </tr>\n    <tr>\n      <th>4</th>\n      <td>ID_NW7Z3XU7</td>\n      <td>0</td>\n      <td>0</td>\n      <td>1</td>\n      <td>0</td>\n      <td>0</td>\n      <td>1</td>\n      <td>1</td>\n      <td>0</td>\n      <td>0</td>\n    </tr>\n    <tr>\n      <th>...</th>\n      <td>...</td>\n      <td>...</td>\n      <td>...</td>\n      <td>...</td>\n      <td>...</td>\n      <td>...</td>\n      <td>...</td>\n      <td>...</td>\n      <td>...</td>\n      <td>...</td>\n    </tr>\n    <tr>\n      <th>3655</th>\n      <td>ID_ADCBL266</td>\n      <td>0</td>\n      <td>0</td>\n      <td>1</td>\n      <td>0</td>\n      <td>0</td>\n      <td>1</td>\n      <td>0</td>\n      <td>0</td>\n      <td>1</td>\n    </tr>\n    <tr>\n      <th>3656</th>\n      <td>ID_SW51B61O</td>\n      <td>0</td>\n      <td>1</td>\n      <td>0</td>\n      <td>0</td>\n      <td>0</td>\n      <td>1</td>\n      <td>0</td>\n      <td>0</td>\n      <td>1</td>\n    </tr>\n    <tr>\n      <th>3657</th>\n      <td>ID_CO8IHJRA</td>\n      <td>1</td>\n      <td>0</td>\n      <td>1</td>\n      <td>0</td>\n      <td>0</td>\n      <td>1</td>\n      <td>0</td>\n      <td>1</td>\n      <td>0</td>\n    </tr>\n    <tr>\n      <th>3658</th>\n      <td>ID_VN5CP3ZZ</td>\n      <td>0</td>\n      <td>1</td>\n      <td>0</td>\n      <td>0</td>\n      <td>0</td>\n      <td>1</td>\n      <td>1</td>\n      <td>0</td>\n      <td>0</td>\n    </tr>\n    <tr>\n      <th>3659</th>\n      <td>ID_UPO13B7Z</td>\n      <td>0</td>\n      <td>1</td>\n      <td>0</td>\n      <td>0</td>\n      <td>0</td>\n      <td>1</td>\n      <td>0</td>\n      <td>0</td>\n      <td>1</td>\n    </tr>\n  </tbody>\n</table>\n<p>3660 rows × 10 columns</p>\n</div>"
          },
          "metadata": {}
        }
      ],
      "execution_count": 30,
      "metadata": {
        "jupyter": {
          "source_hidden": false,
          "outputs_hidden": false
        },
        "nteract": {
          "transient": {
            "deleting": false
          }
        },
        "gather": {
          "logged": 1641282071316
        }
      }
    },
    {
      "cell_type": "code",
      "source": [
        "id_list = []\n",
        "for ind in total_df.index:\n",
        "    id_list.append(total_df['Reading_ID'][ind]+'_hdl_cholesterol_human')\n",
        "    id_list.append(total_df['Reading_ID'][ind]+'_hemoglobin(hgb)_human')\n",
        "    id_list.append(total_df['Reading_ID'][ind]+'_cholesterol_ldl_human')\n"
      ],
      "outputs": [],
      "execution_count": 31,
      "metadata": {
        "jupyter": {
          "source_hidden": false,
          "outputs_hidden": true
        },
        "nteract": {
          "transient": {
            "deleting": false
          }
        },
        "gather": {
          "logged": 1641282077752
        }
      }
    }
  ],
  "metadata": {
    "kernelspec": {
      "name": "python3-azureml",
      "language": "python",
      "display_name": "Python 3.6 - AzureML"
    },
    "language_info": {
      "name": "python",
      "version": "3.6.9",
      "mimetype": "text/x-python",
      "codemirror_mode": {
        "name": "ipython",
        "version": 3
      },
      "pygments_lexer": "ipython3",
      "nbconvert_exporter": "python",
      "file_extension": ".py"
    },
    "kernel_info": {
      "name": "python3-azureml"
    },
    "nteract": {
      "version": "nteract-front-end@1.0.0"
    },
    "microsoft": {
      "host": {
        "AzureML": {
          "notebookHasBeenCompleted": true
        }
      }
    }
  },
  "nbformat": 4,
  "nbformat_minor": 2
}