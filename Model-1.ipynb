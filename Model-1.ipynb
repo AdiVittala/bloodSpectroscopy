{
  "cells": [
    {
      "cell_type": "code",
      "source": [
        "# This model will be a deep neural network\n",
        "# Second model that I will explore will be a MLKNN( Multi Layer K-Nearest Neighbor)"
      ],
      "outputs": [],
      "execution_count": 1,
      "metadata": {
        "jupyter": {
          "source_hidden": false,
          "outputs_hidden": false
        },
        "nteract": {
          "transient": {
            "deleting": false
          }
        },
        "gather": {
          "logged": 1640898170881
        }
      }
    },
    {
      "cell_type": "code",
      "source": [
        "# !pip install keras==2.5.0rc0\n",
        "# !pip install tensorflow-addons\n",
        "# !pip install --upgrade tensorflow==2.4.0\n",
        "# !pip install mltb\n",
        "# !pip install h5py\n",
        "# !pip install imbalanced-learn"
      ],
      "outputs": [
        {
          "output_type": "stream",
          "name": "stdout",
          "text": "Collecting imbalanced-learn\n  Downloading imbalanced_learn-0.8.1-py3-none-any.whl (189 kB)\n\u001b[K     |████████████████████████████████| 189 kB 22.6 MB/s eta 0:00:01\n\u001b[?25hRequirement already satisfied: joblib>=0.11 in /anaconda/envs/azureml_py36/lib/python3.6/site-packages (from imbalanced-learn) (0.14.1)\nCollecting scikit-learn>=0.24\n  Downloading scikit_learn-0.24.2-cp36-cp36m-manylinux2010_x86_64.whl (22.2 MB)\n\u001b[K     |████████████████████████████████| 22.2 MB 68.6 MB/s eta 0:00:01\n\u001b[?25hRequirement already satisfied: scipy>=0.19.1 in /anaconda/envs/azureml_py36/lib/python3.6/site-packages (from imbalanced-learn) (1.5.2)\nRequirement already satisfied: numpy>=1.13.3 in /anaconda/envs/azureml_py36/lib/python3.6/site-packages (from imbalanced-learn) (1.18.5)\nRequirement already satisfied: threadpoolctl>=2.0.0 in /anaconda/envs/azureml_py36/lib/python3.6/site-packages (from scikit-learn>=0.24->imbalanced-learn) (2.1.0)\n\u001b[31mERROR: raiwidgets 0.2.2 has requirement lightgbm>=3.1.1, but you'll have lightgbm 2.3.0 which is incompatible.\u001b[0m\n\u001b[31mERROR: azureml-train-automl-runtime 1.27.0 has requirement scikit-learn<0.23.0,>=0.19.0, but you'll have scikit-learn 0.24.2 which is incompatible.\u001b[0m\n\u001b[31mERROR: azureml-automl-runtime 1.27.0 has requirement scikit-learn<0.23.0,>=0.19.0, but you'll have scikit-learn 0.24.2 which is incompatible.\u001b[0m\n\u001b[31mERROR: autokeras 1.0.12 has requirement tensorflow>=2.3.0, but you'll have tensorflow 2.1.0 which is incompatible.\u001b[0m\nInstalling collected packages: scikit-learn, imbalanced-learn\n  Attempting uninstall: scikit-learn\n    Found existing installation: scikit-learn 0.22.2.post1\n    Uninstalling scikit-learn-0.22.2.post1:\n      Successfully uninstalled scikit-learn-0.22.2.post1\nSuccessfully installed imbalanced-learn-0.8.1 scikit-learn-0.24.2\n"
        }
      ],
      "execution_count": 2,
      "metadata": {
        "jupyter": {
          "source_hidden": false,
          "outputs_hidden": false
        },
        "nteract": {
          "transient": {
            "deleting": false
          }
        },
        "gather": {
          "logged": 1641882687086
        }
      }
    },
    {
      "cell_type": "code",
      "source": [
        "import pandas as pd\n",
        "import matplotlib.pyplot as plt\n",
        "from matplotlib import figure\n",
        "import numpy as np\n",
        "import statsmodels.api as sm\n",
        "import pylab as pl\n",
        "from sklearn.model_selection import train_test_split\n",
        "from sklearn.preprocessing import LabelEncoder\n",
        "from sklearn.preprocessing import MultiLabelBinarizer\n",
        "from sklearn.preprocessing import label_binarize\n",
        "from sklearn.metrics import multilabel_confusion_matrix\n",
        "from sklearn.metrics import classification_report\n",
        "import math\n",
        "from tensorflow import keras\n",
        "from tensorflow.keras.models import Sequential\n",
        "from tensorflow.keras.layers import Dense\n",
        "from sklearn.model_selection import GridSearchCV\n",
        "from tensorflow.keras.wrappers.scikit_learn import KerasClassifier\n",
        "from tensorflow.keras.callbacks import EarlyStopping\n",
        "from tensorflow.keras.callbacks import ModelCheckpoint\n",
        "from tensorflow.keras.models import load_model\n",
        "# import tensorflow_addons as tfa\n",
        "from IPython.display import clear_output\n",
        "from imblearn.over_sampling import SMOTE"
      ],
      "outputs": [],
      "execution_count": 53,
      "metadata": {
        "gather": {
          "logged": 1642017996851
        }
      }
    },
    {
      "cell_type": "code",
      "source": [
        "data = pd.read_csv('mod_train.csv')\n",
        "unk_data_2 = pd.read_csv('mod_test.csv')"
      ],
      "outputs": [],
      "execution_count": 54,
      "metadata": {
        "jupyter": {
          "source_hidden": false,
          "outputs_hidden": false
        },
        "nteract": {
          "transient": {
            "deleting": false
          }
        },
        "gather": {
          "logged": 1642018002516
        }
      }
    },
    {
      "cell_type": "code",
      "source": [
        "unk_data = unk_data_2.drop(['Reading_ID'], axis=1)"
      ],
      "outputs": [],
      "execution_count": 55,
      "metadata": {
        "jupyter": {
          "source_hidden": false,
          "outputs_hidden": false
        },
        "nteract": {
          "transient": {
            "deleting": false
          }
        },
        "gather": {
          "logged": 1642018004987
        }
      }
    },
    {
      "cell_type": "code",
      "source": [
        "ID_df = unk_data_2[['Reading_ID']]"
      ],
      "outputs": [],
      "execution_count": 56,
      "metadata": {
        "jupyter": {
          "source_hidden": false,
          "outputs_hidden": false
        },
        "nteract": {
          "transient": {
            "deleting": false
          }
        },
        "gather": {
          "logged": 1642018008512
        }
      }
    },
    {
      "cell_type": "code",
      "source": [
        "# Split in to X and Y\n",
        "X = data.drop(['Reading_ID','hdl_cholesterol_human', 'hemoglobin_human', 'cholesterol_ldl_human'], axis=1)\n",
        "Y = data[['hdl_cholesterol_human', 'hemoglobin_human', 'cholesterol_ldl_human']]"
      ],
      "outputs": [],
      "execution_count": 57,
      "metadata": {
        "jupyter": {
          "source_hidden": false,
          "outputs_hidden": false
        },
        "nteract": {
          "transient": {
            "deleting": false
          }
        },
        "gather": {
          "logged": 1642018010824
        }
      }
    },
    {
      "cell_type": "code",
      "source": [
        "# N_s -> Number of Samples\n",
        "# N_i -> Number of input features\n",
        "\n",
        "N_s, N_i = X.shape"
      ],
      "outputs": [],
      "execution_count": 58,
      "metadata": {
        "jupyter": {
          "source_hidden": false,
          "outputs_hidden": false
        },
        "nteract": {
          "transient": {
            "deleting": false
          }
        },
        "gather": {
          "logged": 1642018013775
        }
      }
    },
    {
      "cell_type": "code",
      "source": [
        "Y_2 = pd.get_dummies(Y)"
      ],
      "outputs": [],
      "execution_count": 59,
      "metadata": {
        "jupyter": {
          "source_hidden": false,
          "outputs_hidden": false
        },
        "nteract": {
          "transient": {
            "deleting": false
          }
        },
        "gather": {
          "logged": 1642018016055
        }
      }
    },
    {
      "cell_type": "code",
      "source": [
        "Y_2"
      ],
      "outputs": [
        {
          "output_type": "execute_result",
          "execution_count": 60,
          "data": {
            "text/plain": "       hdl_cholesterol_human_high  hdl_cholesterol_human_low  \\\n0                               0                          0   \n1                               0                          0   \n2                               0                          0   \n3                               0                          1   \n4                               0                          0   \n...                           ...                        ...   \n13135                           1                          0   \n13136                           0                          0   \n13137                           0                          0   \n13138                           0                          0   \n13139                           1                          0   \n\n       hdl_cholesterol_human_ok  hemoglobin_human_high  hemoglobin_human_low  \\\n0                             1                      0                     0   \n1                             1                      1                     0   \n2                             1                      0                     0   \n3                             0                      0                     0   \n4                             1                      0                     0   \n...                         ...                    ...                   ...   \n13135                         0                      0                     0   \n13136                         1                      0                     0   \n13137                         1                      0                     0   \n13138                         1                      0                     0   \n13139                         0                      0                     0   \n\n       hemoglobin_human_ok  cholesterol_ldl_human_high  \\\n0                        1                           0   \n1                        0                           1   \n2                        1                           1   \n3                        1                           1   \n4                        1                           1   \n...                    ...                         ...   \n13135                    1                           0   \n13136                    1                           0   \n13137                    1                           0   \n13138                    1                           0   \n13139                    1                           1   \n\n       cholesterol_ldl_human_low  cholesterol_ldl_human_ok  \n0                              0                         1  \n1                              0                         0  \n2                              0                         0  \n3                              0                         0  \n4                              0                         0  \n...                          ...                       ...  \n13135                          0                         1  \n13136                          0                         1  \n13137                          0                         1  \n13138                          0                         1  \n13139                          0                         0  \n\n[13140 rows x 9 columns]",
            "text/html": "<div>\n<style scoped>\n    .dataframe tbody tr th:only-of-type {\n        vertical-align: middle;\n    }\n\n    .dataframe tbody tr th {\n        vertical-align: top;\n    }\n\n    .dataframe thead th {\n        text-align: right;\n    }\n</style>\n<table border=\"1\" class=\"dataframe\">\n  <thead>\n    <tr style=\"text-align: right;\">\n      <th></th>\n      <th>hdl_cholesterol_human_high</th>\n      <th>hdl_cholesterol_human_low</th>\n      <th>hdl_cholesterol_human_ok</th>\n      <th>hemoglobin_human_high</th>\n      <th>hemoglobin_human_low</th>\n      <th>hemoglobin_human_ok</th>\n      <th>cholesterol_ldl_human_high</th>\n      <th>cholesterol_ldl_human_low</th>\n      <th>cholesterol_ldl_human_ok</th>\n    </tr>\n  </thead>\n  <tbody>\n    <tr>\n      <th>0</th>\n      <td>0</td>\n      <td>0</td>\n      <td>1</td>\n      <td>0</td>\n      <td>0</td>\n      <td>1</td>\n      <td>0</td>\n      <td>0</td>\n      <td>1</td>\n    </tr>\n    <tr>\n      <th>1</th>\n      <td>0</td>\n      <td>0</td>\n      <td>1</td>\n      <td>1</td>\n      <td>0</td>\n      <td>0</td>\n      <td>1</td>\n      <td>0</td>\n      <td>0</td>\n    </tr>\n    <tr>\n      <th>2</th>\n      <td>0</td>\n      <td>0</td>\n      <td>1</td>\n      <td>0</td>\n      <td>0</td>\n      <td>1</td>\n      <td>1</td>\n      <td>0</td>\n      <td>0</td>\n    </tr>\n    <tr>\n      <th>3</th>\n      <td>0</td>\n      <td>1</td>\n      <td>0</td>\n      <td>0</td>\n      <td>0</td>\n      <td>1</td>\n      <td>1</td>\n      <td>0</td>\n      <td>0</td>\n    </tr>\n    <tr>\n      <th>4</th>\n      <td>0</td>\n      <td>0</td>\n      <td>1</td>\n      <td>0</td>\n      <td>0</td>\n      <td>1</td>\n      <td>1</td>\n      <td>0</td>\n      <td>0</td>\n    </tr>\n    <tr>\n      <th>...</th>\n      <td>...</td>\n      <td>...</td>\n      <td>...</td>\n      <td>...</td>\n      <td>...</td>\n      <td>...</td>\n      <td>...</td>\n      <td>...</td>\n      <td>...</td>\n    </tr>\n    <tr>\n      <th>13135</th>\n      <td>1</td>\n      <td>0</td>\n      <td>0</td>\n      <td>0</td>\n      <td>0</td>\n      <td>1</td>\n      <td>0</td>\n      <td>0</td>\n      <td>1</td>\n    </tr>\n    <tr>\n      <th>13136</th>\n      <td>0</td>\n      <td>0</td>\n      <td>1</td>\n      <td>0</td>\n      <td>0</td>\n      <td>1</td>\n      <td>0</td>\n      <td>0</td>\n      <td>1</td>\n    </tr>\n    <tr>\n      <th>13137</th>\n      <td>0</td>\n      <td>0</td>\n      <td>1</td>\n      <td>0</td>\n      <td>0</td>\n      <td>1</td>\n      <td>0</td>\n      <td>0</td>\n      <td>1</td>\n    </tr>\n    <tr>\n      <th>13138</th>\n      <td>0</td>\n      <td>0</td>\n      <td>1</td>\n      <td>0</td>\n      <td>0</td>\n      <td>1</td>\n      <td>0</td>\n      <td>0</td>\n      <td>1</td>\n    </tr>\n    <tr>\n      <th>13139</th>\n      <td>1</td>\n      <td>0</td>\n      <td>0</td>\n      <td>0</td>\n      <td>0</td>\n      <td>1</td>\n      <td>1</td>\n      <td>0</td>\n      <td>0</td>\n    </tr>\n  </tbody>\n</table>\n<p>13140 rows × 9 columns</p>\n</div>"
          },
          "metadata": {}
        }
      ],
      "execution_count": 60,
      "metadata": {
        "jupyter": {
          "source_hidden": false,
          "outputs_hidden": false
        },
        "nteract": {
          "transient": {
            "deleting": false
          }
        },
        "gather": {
          "logged": 1642018020905
        }
      }
    },
    {
      "cell_type": "code",
      "source": [
        "x_columns = X.columns"
      ],
      "outputs": [],
      "execution_count": 61,
      "metadata": {
        "jupyter": {
          "source_hidden": false,
          "outputs_hidden": false
        },
        "nteract": {
          "transient": {
            "deleting": false
          }
        },
        "gather": {
          "logged": 1642018025080
        }
      }
    },
    {
      "cell_type": "code",
      "source": [
        "N_so, N_o = Y_2.shape"
      ],
      "outputs": [],
      "execution_count": 62,
      "metadata": {
        "jupyter": {
          "source_hidden": false,
          "outputs_hidden": false
        },
        "nteract": {
          "transient": {
            "deleting": false
          }
        },
        "gather": {
          "logged": 1642018027613
        }
      }
    },
    {
      "cell_type": "code",
      "source": [
        "# blood_levels = {'low': ([0,0,1]),\n",
        "                # 'ok': ([0,1,0]),\n",
        "                # 'high': ([1,0,0])}\n",
        "# Y['hdl_cholesterol_human_ord'] = Y.hdl_cholesterol_human.map(blood_levels)\n",
        "# Y['hemoglobin_human_ord'] = Y.hemoglobin_human.map(blood_levels)\n",
        "# Y['cholesterol_ldl_human_ord'] = Y.cholesterol_ldl_human.map(blood_levels)\n",
        "# Y_mod = Y.drop(['hdl_cholesterol_human', 'hemoglobin_human', 'cholesterol_ldl_human'], axis=1)"
      ],
      "outputs": [],
      "execution_count": 12,
      "metadata": {
        "jupyter": {
          "source_hidden": false,
          "outputs_hidden": false
        },
        "nteract": {
          "transient": {
            "deleting": false
          }
        },
        "gather": {
          "logged": 1640765646363
        }
      }
    },
    {
      "cell_type": "code",
      "source": [
        "# Y_mod['hdl_cholesterol_human_ord'] = Y_mod['hdl_cholesterol_human_ord'].apply(np.array)\n",
        "# Y_mod['hemoglobin_human_ord'] = Y_mod['hemoglobin_human_ord'].apply(np.array)\n",
        "# Y_mod['cholesterol_ldl_human_ord'] = Y_mod['cholesterol_ldl_human_ord'].apply(np.array)"
      ],
      "outputs": [],
      "execution_count": 13,
      "metadata": {
        "jupyter": {
          "source_hidden": false,
          "outputs_hidden": false
        },
        "nteract": {
          "transient": {
            "deleting": false
          }
        },
        "gather": {
          "logged": 1640765646654
        }
      }
    },
    {
      "cell_type": "code",
      "source": [
        "# for idx, row in Y_mod.iterrows():\n",
        "    # row.hdl_cholesterol_human_ord = np.array(row.hdl_cholesterol_human_ord)"
      ],
      "outputs": [],
      "execution_count": 14,
      "metadata": {
        "jupyter": {
          "source_hidden": false,
          "outputs_hidden": false
        },
        "nteract": {
          "transient": {
            "deleting": false
          }
        },
        "gather": {
          "logged": 1640765646937
        }
      }
    },
    {
      "cell_type": "code",
      "source": [
        "# temp = np.array(Y_mod['hdl_cholesterol_human_ord'].iloc[0])"
      ],
      "outputs": [],
      "execution_count": 15,
      "metadata": {
        "jupyter": {
          "source_hidden": false,
          "outputs_hidden": false
        },
        "nteract": {
          "transient": {
            "deleting": false
          }
        },
        "gather": {
          "logged": 1640765647319
        }
      }
    },
    {
      "cell_type": "code",
      "source": [
        "# Label encoder for Target variables\n",
        "# le = LabelEncoder()\n",
        "# Y_enc = Y.apply(le.fit_transform)"
      ],
      "outputs": [],
      "execution_count": 16,
      "metadata": {
        "jupyter": {
          "source_hidden": false,
          "outputs_hidden": false
        },
        "nteract": {
          "transient": {
            "deleting": false
          }
        },
        "gather": {
          "logged": 1640765647591
        }
      }
    },
    {
      "cell_type": "code",
      "source": [
        "# Normalization of X\n",
        "\n",
        "# https://www.analyticsvidhya.com/blog/2020/04/feature-scaling-machine-learning-normalization-standardization/\n",
        "#Normalization is good to use when you know that the distribution of your data does not follow a \n",
        "#Gaussian distribution. \n",
        "#This can be useful in algorithms that do not assume any distribution of the data like \n",
        "#K-Nearest Neighbors and Neural Networks.\n",
        "#Standardization, on the other hand, can be helpful in cases where the data follows a Gaussian distribution. \n",
        "#However, this does not have to be necessarily true. Also, unlike normalization, standardization does not have a \n",
        "#bounding range. So, even if you have outliers in your data, they will not be affected by standardization.\n",
        "\n",
        "#https://machinelearningmastery.com/how-to-improve-neural-network-stability-and-modeling-performance-with-data-scaling/\n",
        "#If the distribution of the quantity is normal, then it should be standardized, otherwise the data should \n",
        "#be normalized. This applies if the range of quantity values is large (10s, 100s, etc.) or small (0.01, 0.0001).\n",
        "\n",
        "from sklearn.preprocessing import MinMaxScaler\n",
        "\n",
        "# fit scaler on training data\n",
        "norm = MinMaxScaler().fit(X)\n",
        "\n",
        "# transform training data\n",
        "X_norm = norm.transform(X)\n",
        "\n",
        "# transform validation data\n",
        "# X_val_norm = norm.transform(X_val)\n",
        "\n",
        "# transform test data\n",
        "# X_test_norm = norm.transform(X_test)"
      ],
      "outputs": [],
      "execution_count": 63,
      "metadata": {
        "jupyter": {
          "source_hidden": false,
          "outputs_hidden": false
        },
        "nteract": {
          "transient": {
            "deleting": false
          }
        },
        "gather": {
          "logged": 1642018036962
        }
      }
    },
    {
      "cell_type": "code",
      "source": [
        "X_df = pd.DataFrame(X_norm, columns=x_columns)"
      ],
      "outputs": [],
      "execution_count": 64,
      "metadata": {
        "jupyter": {
          "source_hidden": false,
          "outputs_hidden": false
        },
        "nteract": {
          "transient": {
            "deleting": false
          }
        },
        "gather": {
          "logged": 1642018040120
        }
      }
    },
    {
      "cell_type": "code",
      "source": [
        "X_train, X_test, Y_train, Y_test = train_test_split(X_df,Y_2,test_size=0.2,random_state=27)\n",
        "# X_val, X_test, Y_val, Y_test = train_test_split(X_test, Y_test, test_size=0.5, random_state=27)"
      ],
      "outputs": [],
      "execution_count": 65,
      "metadata": {
        "jupyter": {
          "source_hidden": false,
          "outputs_hidden": false
        },
        "nteract": {
          "transient": {
            "deleting": false
          }
        },
        "gather": {
          "logged": 1642018043644
        }
      }
    },
    {
      "cell_type": "code",
      "source": [
        "X_train.shape"
      ],
      "outputs": [
        {
          "output_type": "execute_result",
          "execution_count": 66,
          "data": {
            "text/plain": "(10512, 182)"
          },
          "metadata": {}
        }
      ],
      "execution_count": 66,
      "metadata": {
        "jupyter": {
          "source_hidden": false,
          "outputs_hidden": false
        },
        "nteract": {
          "transient": {
            "deleting": false
          }
        },
        "gather": {
          "logged": 1642018046268
        }
      }
    },
    {
      "cell_type": "code",
      "source": [
        "Y_train.hist(alpha=0.5, figsize=(20, 10))\r\n",
        "plt.tight_layout()\r\n",
        "plt.show()"
      ],
      "outputs": [
        {
          "output_type": "stream",
          "name": "stderr",
          "text": "/anaconda/envs/azureml_py36/lib/python3.6/site-packages/pandas/plotting/_matplotlib/tools.py:307: MatplotlibDeprecationWarning: \nThe rowNum attribute was deprecated in Matplotlib 3.2 and will be removed two minor releases later. Use ax.get_subplotspec().rowspan.start instead.\n  layout[ax.rowNum, ax.colNum] = ax.get_visible()\n/anaconda/envs/azureml_py36/lib/python3.6/site-packages/pandas/plotting/_matplotlib/tools.py:307: MatplotlibDeprecationWarning: \nThe colNum attribute was deprecated in Matplotlib 3.2 and will be removed two minor releases later. Use ax.get_subplotspec().colspan.start instead.\n  layout[ax.rowNum, ax.colNum] = ax.get_visible()\n/anaconda/envs/azureml_py36/lib/python3.6/site-packages/pandas/plotting/_matplotlib/tools.py:313: MatplotlibDeprecationWarning: \nThe rowNum attribute was deprecated in Matplotlib 3.2 and will be removed two minor releases later. Use ax.get_subplotspec().rowspan.start instead.\n  if not layout[ax.rowNum + 1, ax.colNum]:\n/anaconda/envs/azureml_py36/lib/python3.6/site-packages/pandas/plotting/_matplotlib/tools.py:313: MatplotlibDeprecationWarning: \nThe colNum attribute was deprecated in Matplotlib 3.2 and will be removed two minor releases later. Use ax.get_subplotspec().colspan.start instead.\n  if not layout[ax.rowNum + 1, ax.colNum]:\n"
        },
        {
          "output_type": "display_data",
          "data": {
            "text/plain": "<Figure size 1440x720 with 9 Axes>",
            "image/png": "[encoded data removed]"
          },
          "metadata": {
            "needs_background": "light"
          }
        }
      ],
      "execution_count": 67,
      "metadata": {
        "jupyter": {
          "source_hidden": false,
          "outputs_hidden": false
        },
        "nteract": {
          "transient": {
            "deleting": false
          }
        },
        "gather": {
          "logged": 1642018052146
        }
      }
    },
    {
      "cell_type": "code",
      "source": [
        "import numpy as np\r\n",
        "import pandas as pd\r\n",
        "import random\r\n",
        "from sklearn.datasets import make_classification\r\n",
        "from sklearn.neighbors import NearestNeighbors\r\n",
        "\r\n",
        "def create_dataset(n_sample=1000):\r\n",
        "    ''' \r\n",
        "    Create a unevenly distributed sample data set multilabel  \r\n",
        "    classification using make_classification function\r\n",
        "    \r\n",
        "    args\r\n",
        "    nsample: int, Number of sample to be created\r\n",
        "    \r\n",
        "    return\r\n",
        "    X: pandas.DataFrame, feature vector dataframe with 10 features \r\n",
        "    y: pandas.DataFrame, target vector dataframe with 5 labels\r\n",
        "    '''\r\n",
        "    X, y = make_classification(n_classes=5, class_sep=2, \r\n",
        "                           weights=[0.1,0.025, 0.205, 0.008, 0.9], n_informative=3, n_redundant=1, flip_y=0,\r\n",
        "                           n_features=10, n_clusters_per_class=1, n_samples=1000, random_state=10)\r\n",
        "    y = pd.get_dummies(y, prefix='class')\r\n",
        "    return pd.DataFrame(X), y\r\n",
        "\r\n",
        "def get_tail_label(df):\r\n",
        "    \"\"\"\r\n",
        "    Give tail label colums of the given target dataframe\r\n",
        "    \r\n",
        "    args\r\n",
        "    df: pandas.DataFrame, target label df whose tail label has to identified\r\n",
        "    \r\n",
        "    return\r\n",
        "    tail_label: list, a list containing column name of all the tail label\r\n",
        "    \"\"\"\r\n",
        "    columns = df.columns\r\n",
        "    n = len(columns)\r\n",
        "    irpl = np.zeros(n)\r\n",
        "    for column in range(n):\r\n",
        "        irpl[column] = df[columns[column]].value_counts()[1]\r\n",
        "    irpl = max(irpl)/irpl\r\n",
        "    mir = np.average(irpl)\r\n",
        "    tail_label = []\r\n",
        "    for i in range(n):\r\n",
        "        if irpl[i] > mir:\r\n",
        "            tail_label.append(columns[i])\r\n",
        "    return tail_label\r\n",
        "\r\n",
        "def get_index(df):\r\n",
        "  \"\"\"\r\n",
        "  give the index of all tail_label rows\r\n",
        "  args\r\n",
        "  df: pandas.DataFrame, target label df from which index for tail label has to identified\r\n",
        "    \r\n",
        "  return\r\n",
        "  index: list, a list containing index number of all the tail label\r\n",
        "  \"\"\"\r\n",
        "  tail_labels = get_tail_label(df)\r\n",
        "  index = set()\r\n",
        "  for tail_label in tail_labels:\r\n",
        "    sub_index = set(df[df[tail_label]==1].index)\r\n",
        "    index = index.union(sub_index)\r\n",
        "  return list(index)\r\n",
        "\r\n",
        "def get_minority_instace(X, y):\r\n",
        "    \"\"\"\r\n",
        "    Give minority dataframe containing all the tail labels\r\n",
        "    \r\n",
        "    args\r\n",
        "    X: pandas.DataFrame, the feature vector dataframe\r\n",
        "    y: pandas.DataFrame, the target vector dataframe\r\n",
        "    \r\n",
        "    return\r\n",
        "    X_sub: pandas.DataFrame, the feature vector minority dataframe\r\n",
        "    y_sub: pandas.DataFrame, the target vector minority dataframe\r\n",
        "    \"\"\"\r\n",
        "    print(type(y))\r\n",
        "    index = get_index(y)\r\n",
        "    X_sub = X[X.index.isin(index)].reset_index(drop = True)\r\n",
        "    y_sub = y[y.index.isin(index)].reset_index(drop = True)\r\n",
        "    return X_sub, y_sub\r\n",
        "\r\n",
        "def nearest_neighbour(X):\r\n",
        "    \"\"\"\r\n",
        "    Give index of 5 nearest neighbor of all the instance\r\n",
        "    \r\n",
        "    args\r\n",
        "    X: np.array, array whose nearest neighbor has to find\r\n",
        "    \r\n",
        "    return\r\n",
        "    indices: list of list, index of 5 NN of each element in X\r\n",
        "    \"\"\"\r\n",
        "    nbs=NearestNeighbors(n_neighbors=5,metric='euclidean',algorithm='kd_tree').fit(X)\r\n",
        "    euclidean,indices= nbs.kneighbors(X)\r\n",
        "    return indices\r\n",
        "\r\n",
        "def MLSMOTE(X,y, n_sample):\r\n",
        "    \"\"\"\r\n",
        "    Give the augmented data using MLSMOTE algorithm\r\n",
        "    \r\n",
        "    args\r\n",
        "    X: pandas.DataFrame, input vector DataFrame\r\n",
        "    y: pandas.DataFrame, feature vector dataframe\r\n",
        "    n_sample: int, number of newly generated sample\r\n",
        "    \r\n",
        "    return\r\n",
        "    new_X: pandas.DataFrame, augmented feature vector data\r\n",
        "    target: pandas.DataFrame, augmented target vector data\r\n",
        "    \"\"\"\r\n",
        "    indices2 = nearest_neighbour(X)\r\n",
        "    n = len(indices2)\r\n",
        "    new_X = np.zeros((n_sample, X.shape[1]))\r\n",
        "    target = np.zeros((n_sample, y.shape[1]))\r\n",
        "    for i in range(n_sample):\r\n",
        "        reference = random.randint(0,n-1)\r\n",
        "        neighbour = random.choice(indices2[reference,1:])\r\n",
        "        all_point = indices2[reference]\r\n",
        "        nn_df = y[y.index.isin(all_point)]\r\n",
        "        ser = nn_df.sum(axis = 0, skipna = True)\r\n",
        "        target[i] = np.array([1 if val>2 else 0 for val in ser])\r\n",
        "        ratio = random.random()\r\n",
        "        gap = X.loc[reference,:] - X.loc[neighbour,:]\r\n",
        "        new_X[i] = np.array(X.loc[reference,:] + ratio * gap)\r\n",
        "    new_X = pd.DataFrame(new_X, columns=X.columns)\r\n",
        "    target = pd.DataFrame(target, columns=y.columns)\r\n",
        "    new_X = pd.concat([X, new_X], axis=0)\r\n",
        "    target = pd.concat([y, target], axis=0)\r\n",
        "    return new_X, target"
      ],
      "outputs": [],
      "execution_count": 68,
      "metadata": {
        "jupyter": {
          "source_hidden": false,
          "outputs_hidden": false
        },
        "nteract": {
          "transient": {
            "deleting": false
          }
        },
        "gather": {
          "logged": 1642018055462
        }
      }
    },
    {
      "cell_type": "code",
      "source": [
        "X_sub, y_sub = get_minority_instace(X_train, Y_train)   #Getting minority instance of that datframe\r\n",
        "X_res,y_res =MLSMOTE(X_sub, y_sub, 1000)     #Applying MLSMOTE to augment the dataframe"
      ],
      "outputs": [
        {
          "output_type": "stream",
          "name": "stdout",
          "text": "<class 'pandas.core.frame.DataFrame'>\n"
        }
      ],
      "execution_count": 69,
      "metadata": {
        "jupyter": {
          "source_hidden": false,
          "outputs_hidden": false
        },
        "nteract": {
          "transient": {
            "deleting": false
          }
        },
        "gather": {
          "logged": 1642018064061
        }
      }
    },
    {
      "cell_type": "code",
      "source": [
        "y_res.hist(alpha=0.5, figsize=(20, 10))\r\n",
        "plt.tight_layout()\r\n",
        "plt.show()"
      ],
      "outputs": [
        {
          "output_type": "stream",
          "name": "stderr",
          "text": "/anaconda/envs/azureml_py36/lib/python3.6/site-packages/pandas/plotting/_matplotlib/tools.py:307: MatplotlibDeprecationWarning: \nThe rowNum attribute was deprecated in Matplotlib 3.2 and will be removed two minor releases later. Use ax.get_subplotspec().rowspan.start instead.\n  layout[ax.rowNum, ax.colNum] = ax.get_visible()\n/anaconda/envs/azureml_py36/lib/python3.6/site-packages/pandas/plotting/_matplotlib/tools.py:307: MatplotlibDeprecationWarning: \nThe colNum attribute was deprecated in Matplotlib 3.2 and will be removed two minor releases later. Use ax.get_subplotspec().colspan.start instead.\n  layout[ax.rowNum, ax.colNum] = ax.get_visible()\n/anaconda/envs/azureml_py36/lib/python3.6/site-packages/pandas/plotting/_matplotlib/tools.py:313: MatplotlibDeprecationWarning: \nThe rowNum attribute was deprecated in Matplotlib 3.2 and will be removed two minor releases later. Use ax.get_subplotspec().rowspan.start instead.\n  if not layout[ax.rowNum + 1, ax.colNum]:\n/anaconda/envs/azureml_py36/lib/python3.6/site-packages/pandas/plotting/_matplotlib/tools.py:313: MatplotlibDeprecationWarning: \nThe colNum attribute was deprecated in Matplotlib 3.2 and will be removed two minor releases later. Use ax.get_subplotspec().colspan.start instead.\n  if not layout[ax.rowNum + 1, ax.colNum]:\n"
        },
        {
          "output_type": "display_data",
          "data": {
            "text/plain": "<Figure size 1440x720 with 9 Axes>",
            "image/png": "[encoded data removed]"
          },
          "metadata": {
            "needs_background": "light"
          }
        }
      ],
      "execution_count": 70,
      "metadata": {
        "jupyter": {
          "source_hidden": false,
          "outputs_hidden": false
        },
        "nteract": {
          "transient": {
            "deleting": false
          }
        },
        "gather": {
          "logged": 1642018113241
        }
      }
    },
    {
      "cell_type": "code",
      "source": [
        "Y_test.hist(alpha=0.5, figsize=(20, 10))\r\n",
        "plt.tight_layout()\r\n",
        "plt.show()"
      ],
      "outputs": [
        {
          "output_type": "display_data",
          "data": {
            "text/plain": "<Figure size 1440x720 with 9 Axes>",
            "image/png": "[encoded data removed]"
          },
          "metadata": {
            "needs_background": "light"
          }
        }
      ],
      "execution_count": 71,
      "metadata": {
        "jupyter": {
          "source_hidden": false,
          "outputs_hidden": false
        },
        "nteract": {
          "transient": {
            "deleting": false
          }
        },
        "gather": {
          "logged": 1642018262352
        }
      }
    },
    {
      "cell_type": "code",
      "source": [
        "sm.qqplot(X_norm, line ='45')\n",
        "pl.show()"
      ],
      "outputs": [
        {
          "output_type": "display_data",
          "data": {
            "text/plain": "<Figure size 432x288 with 1 Axes>",
            "image/png": "[encoded data removed]"
          },
          "metadata": {
            "needs_background": "light"
          }
        }
      ],
      "execution_count": 72,
      "metadata": {
        "jupyter": {
          "source_hidden": false,
          "outputs_hidden": false
        },
        "nteract": {
          "transient": {
            "deleting": false
          }
        },
        "gather": {
          "logged": 1642018276025
        }
      }
    },
    {
      "cell_type": "code",
      "source": [
        "# Calculating number of neurons in hidden layers\n",
        "# one additional rule of thumb that helps for supervised learning problems. You can usually prevent over-fitting if you keep your number of neurons below:\n",
        "\n",
        "# Nh=Ns/(α∗(Ni+No))\n",
        "\n",
        "# Ni = number of input neurons.\n",
        "# No = number of output neurons.\n",
        "# Ns = number of samples in training data set.\n",
        "# α  = an arbitrary scaling factor usually 2-10.\n",
        "\n",
        "# Others recommend setting α to a value between 5 and 10, but I find a value of 2 will often work without overfitting. You can think of α as \n",
        "# the effective branching factor or number of nonzero weights for each neuron. Dropout layers will bring the \"effective\" branching factor way down \n",
        "# from the actual mean branching factor for your network.\n",
        "\n",
        "# As explained by this excellent NN Design text, you want to limit the number of free parameters in your model (its degree or number of nonzero weights) to a \n",
        "# small portion of the degrees of freedom in your data. The degrees of freedom in your data is the number samples * degrees of freedom (dimensions) in each \n",
        "# sample or Ns∗(Ni+No)\n",
        "# (assuming they're all independent). So α is a way to indicate how general you want your model to be, or how much you want to prevent overfitting.\n",
        "\n",
        "# For an automated procedure you'd start with an α of 2 (twice as many degrees of freedom in your training data as your model) and work your way up to 10 \n",
        "# if the error (loss) for your training dataset is significantly smaller than for your test dataset.\n",
        "\n",
        "\n",
        "# There are many rule-of-thumb methods for determining the correct number of neurons to use in the hidden layers, such as the following:\n",
        "# \n",
        "# The number of hidden neurons should be between the size of the input layer and the size of the output layer.\n",
        "# The number of hidden neurons should be 2/3 the size of the input layer, plus the size of the output layer.\n",
        "# The number of hidden neurons should be less than twice the size of the input layer.\n",
        "\n",
        "alpha = 2\n",
        "N_h = math.ceil(N_s/(alpha * (N_i + N_o)))\n"
      ],
      "outputs": [],
      "execution_count": 73,
      "metadata": {
        "jupyter": {
          "source_hidden": false,
          "outputs_hidden": false
        },
        "nteract": {
          "transient": {
            "deleting": false
          }
        },
        "gather": {
          "logged": 1642018281887
        }
      }
    },
    {
      "cell_type": "code",
      "source": [
        "def create_model(learning_rate=0.001):\n",
        "    model = Sequential()\n",
        "    model.add(Dense(N_h, input_dim=N_i, kernel_initializer='he_uniform', activation='relu'))\n",
        "    model.add(Dense(N_h, kernel_initializer='he_uniform', activation='relu'))\n",
        "    model.add(Dense(N_o, kernel_initializer='he_uniform', activation='sigmoid'))\n",
        "    optimizer = keras.optimizers.Adam(learning_rate=learning_rate)\n",
        "    model.compile(loss='binary_crossentropy', optimizer=optimizer, metrics=['binary_accuracy'])\n",
        "    \n",
        "    return model"
      ],
      "outputs": [],
      "execution_count": 74,
      "metadata": {
        "jupyter": {
          "source_hidden": false,
          "outputs_hidden": false
        },
        "nteract": {
          "transient": {
            "deleting": false
          }
        },
        "gather": {
          "logged": 1642018286702
        }
      }
    },
    {
      "cell_type": "code",
      "source": [
        "%%time\n",
        "seed=7\n",
        "np.random.seed(seed)\n",
        "epochs = 100\n",
        "model_CV = KerasClassifier(build_fn=create_model, epochs=epochs, verbose=1)\n",
        "\n",
        "batch_size = [1,10, 100, 500, 1000, X_res.shape[0]]\n",
        "leraning_rate = [0.1, 0.01, 0.001, 0.0001]\n",
        "param_grid = dict(batch_size=batch_size, learning_rate=leraning_rate)\n",
        "\n",
        "grid = GridSearchCV(estimator=model_CV, param_grid=param_grid, n_jobs=-1, cv=10)\n",
        "grid_result = grid.fit(X_res, y_res)\n",
        "\n",
        "print(f'Best Accuracy for {grid_result.best_score_} using {grid_result.best_params_}')\n",
        "means = grid_result.cv_results_['mean_test_score']\n",
        "stds = grid_result.cv_results_['std_test_score']\n",
        "params = grid_result.cv_results_['params']\n",
        "for mean, stdev, param in zip(means, stds, params):\n",
        "    print(f' mean={mean:.4}, std={stdev:.4} using {param}')"
      ],
      "outputs": [
        {
          "output_type": "stream",
          "name": "stderr",
          "text": "/anaconda/envs/azureml_py36/lib/python3.6/site-packages/joblib/externals/loky/process_executor.py:706: UserWarning: A worker stopped while some jobs were given to the executor. This can be caused by a too short worker timeout or by a memory leak.\n  \"timeout or by a memory leak.\", UserWarning\n"
        },
        {
          "output_type": "stream",
          "name": "stdout",
          "text": "Train on 2577 samples\nEpoch 1/100\n2577/2577 [==============================] - 4s 1ms/sample - loss: 0.5678 - accuracy: 0.7052\b\b\b\b\b\b\b\b\b\b\b\b\b\b\b\b\b\b\b\b\b\b\b\b\b\b\b\b\b\b\b\b\b\b\b\b\b\b\b\b\b\b\b\b\b\b\b\b\b\b\b\b\b\b\b\b\b\b\b\b\b\b\b\b\b\b\b\b\b\b\b\b\b\b\b\b\b\b\b\b\b\b\b\b\b\b\nEpoch 2/100\n2577/2577 [==============================] - 3s 1ms/sample - loss: 0.5196 - accuracy: 0.7210\b\b\b\b\b\b\b\b\b\b\b\b\b\b\b\b\b\b\b\b\b\b\b\b\b\b\b\b\b\b\b\b\b\b\b\b\b\b\b\b\b\b\b\b\b\b\b\b\b\b\b\b\b\b\b\b\b\b\b\b\b\b\b\b\b\b\b\b\b\b\b\b\b\b\b\b\b\b\b\b\nEpoch 3/100\n2577/2577 [==============================] - 3s 1ms/sample - loss: 0.4794 - accuracy: 0.7515\b\b\b\b\b\b\b\b\b\b\b\b\b\b\b\b\b\b\b\b\b\b\b\b\b\b\b\b\b\b\b\b\b\b\b\b\b\b\b\b\b\b\b\b\b\b\b\b\b\b\b\b\b\b\b\b\b\b\b\b\b\b\b\b\b\b\b\b\b\b\b\b\b\b\b\b\b\b\b\b\nEpoch 4/100\n2577/2577 [==============================] - 3s 1ms/sample - loss: 0.4400 - accuracy: 0.7782\b\b\b\b\b\b\b\b\b\b\b\b\b\b\b\b\b\b\b\b\b\b\b\b\b\b\b\b\b\b\b\b\b\b\b\b\b\b\b\b\b\b\b\b\b\b\b\b\b\b\b\b\b\b\b\b\b\b\b\b\b\b\b\b\b\b\b\b\b\b\b\b\b\b\b\b\b\b\b\b\nEpoch 5/100\n2577/2577 [==============================] - 3s 1ms/sample - loss: 0.4005 - accuracy: 0.7997\b\b\b\b\b\b\b\b\b\b\b\b\b\b\b\b\b\b\b\b\b\b\b\b\b\b\b\b\b\b\b\b\b\b\b\b\b\b\b\b\b\b\b\b\b\b\b\b\b\b\b\b\b\b\b\b\b\b\b\b\b\b\b\b\b\b\b\b\b\b\b\b\b\b\b\b\b\b\b\b\nEpoch 6/100\n2577/2577 [==============================] - 3s 1ms/sample - loss: 0.3609 - accuracy: 0.8274\b\b\b\b\b\b\b\b\b\b\b\b\b\b\b\b\b\b\b\b\b\b\b\b\b\b\b\b\b\b\b\b\b\b\b\b\b\b\b\b\b\b\b\b\b\b\b\b\b\b\b\b\b\b\b\b\b\b\b\b\b\b\b\b\b\b\b\b\b\b\b\b\b\b\b\b\b\b\b\b\nEpoch 7/100\n2577/2577 [==============================] - 3s 1ms/sample - loss: 0.3284 - accuracy: 0.8463\b\b\b\b\b\b\b\b\b\b\b\b\b\b\b\b\b\b\b\b\b\b\b\b\b\b\b\b\b\b\b\b\b\b\b\b\b\b\b\b\b\b\b\b\b\b\b\b\b\b\b\b\b\b\b\b\b\b\b\b\b\b\b\b\b\b\b\b\b\b\b\b\b\b\b\b\b\b\b\b\nEpoch 8/100\n2577/2577 [==============================] - 3s 1ms/sample - loss: 0.2989 - accuracy: 0.8594\b\b\b\b\b\b\b\b\b\b\b\b\b\b\b\b\b\b\b\b\b\b\b\b\b\b\b\b\b\b\b\b\b\b\b\b\b\b\b\b\b\b\b\b\b\b\b\b\b\b\b\b\b\b\b\b\b\b\b\b\b\b\b\b\b\b\b\b\b\b\b\b\b\b\b\b\b\b\b\b\nEpoch 9/100\n2577/2577 [==============================] - 3s 1ms/sample - loss: 0.2732 - accuracy: 0.8758\b\b\b\b\b\b\b\b\b\b\b\b\b\b\b\b\b\b\b\b\b\b\b\b\b\b\b\b\b\b\b\b\b\b\b\b\b\b\b\b\b\b\b\b\b\b\b\b\b\b\b\b\b\b\b\b\b\b\b\b\b\b\b\b\b\b\b\b\b\b\b\b\b\b\b\b\b\b\b\b\nEpoch 10/100\n2577/2577 [==============================] - 3s 1ms/sample - loss: 0.2477 - accuracy: 0.8893\b\b\b\b\b\b\b\b\b\b\b\b\b\b\b\b\b\b\b\b\b\b\b\b\b\b\b\b\b\b\b\b\b\b\b\b\b\b\b\b\b\b\b\b\b\b\b\b\b\b\b\b\b\b\b\b\b\b\b\b\b\b\b\b\b\b\b\b\b\b\b\b\b\b\b\b\b\b\b\b\nEpoch 11/100\n2577/2577 [==============================] - 3s 1ms/sample - loss: 0.2263 - accuracy: 0.9033\b\b\b\b\b\b\b\b\b\b\b\b\b\b\b\b\b\b\b\b\b\b\b\b\b\b\b\b\b\b\b\b\b\b\b\b\b\b\b\b\b\b\b\b\b\b\b\b\b\b\b\b\b\b\b\b\b\b\b\b\b\b\b\b\b\b\b\b\b\b\b\b\b\b\b\b\b\b\b\b\nEpoch 12/100\n2577/2577 [==============================] - 3s 1ms/sample - loss: 0.2067 - accuracy: 0.9154\b\b\b\b\b\b\b\b\b\b\b\b\b\b\b\b\b\b\b\b\b\b\b\b\b\b\b\b\b\b\b\b\b\b\b\b\b\b\b\b\b\b\b\b\b\b\b\b\b\b\b\b\b\b\b\b\b\b\b\b\b\b\b\b\b\b\b\b\b\b\b\b\b\b\b\b\b\b\b\b\nEpoch 13/100\n2577/2577 [==============================] - 3s 1ms/sample - loss: 0.1878 - accuracy: 0.9260\b\b\b\b\b\b\b\b\b\b\b\b\b\b\b\b\b\b\b\b\b\b\b\b\b\b\b\b\b\b\b\b\b\b\b\b\b\b\b\b\b\b\b\b\b\b\b\b\b\b\b\b\b\b\b\b\b\b\b\b\b\b\b\b\b\b\b\b\b\b\b\b\b\b\b\b\b\b\b\b\nEpoch 14/100\n2577/2577 [==============================] - 3s 1ms/sample - loss: 0.1750 - accuracy: 0.9317\b\b\b\b\b\b\b\b\b\b\b\b\b\b\b\b\b\b\b\b\b\b\b\b\b\b\b\b\b\b\b\b\b\b\b\b\b\b\b\b\b\b\b\b\b\b\b\b\b\b\b\b\b\b\b\b\b\b\b\b\b\b\b\b\b\b\b\b\b\b\b\b\b\b\b\b\b\b\b\b\nEpoch 15/100\n2577/2577 [==============================] - 3s 1ms/sample - loss: 0.1566 - accuracy: 0.9432\b\b\b\b\b\b\b\b\b\b\b\b\b\b\b\b\b\b\b\b\b\b\b\b\b\b\b\b\b\b\b\b\b\b\b\b\b\b\b\b\b\b\b\b\b\b\b\b\b\b\b\b\b\b\b\b\b\b\b\b\b\b\b\b\b\b\b\b\b\b\b\b\b\b\b\b\b\b\b\b\nEpoch 16/100\n2577/2577 [==============================] - 3s 1ms/sample - loss: 0.1445 - accuracy: 0.9488\b\b\b\b\b\b\b\b\b\b\b\b\b\b\b\b\b\b\b\b\b\b\b\b\b\b\b\b\b\b\b\b\b\b\b\b\b\b\b\b\b\b\b\b\b\b\b\b\b\b\b\b\b\b\b\b\b\b\b\b\b\b\b\b\b\b\b\b\b\b\b\b\b\b\b\b\b\b\b\b\nEpoch 17/100\n2577/2577 [==============================] - 3s 1ms/sample - loss: 0.1372 - accuracy: 0.9517\b\b\b\b\b\b\b\b\b\b\b\b\b\b\b\b\b\b\b\b\b\b\b\b\b\b\b\b\b\b\b\b\b\b\b\b\b\b\b\b\b\b\b\b\b\b\b\b\b\b\b\b\b\b\b\b\b\b\b\b\b\b\b\b\b\b\b\b\b\b\b\b\b\b\b\b\b\b\b\b\nEpoch 18/100\n2577/2577 [==============================] - 3s 1ms/sample - loss: 0.1238 - accuracy: 0.9565\b\b\b\b\b\b\b\b\b\b\b\b\b\b\b\b\b\b\b\b\b\b\b\b\b\b\b\b\b\b\b\b\b\b\b\b\b\b\b\b\b\b\b\b\b\b\b\b\b\b\b\b\b\b\b\b\b\b\b\b\b\b\b\b\b\b\b\b\b\b\b\b\b\b\b\b\b\b\b\b\nEpoch 19/100\n2577/2577 [==============================] - 3s 1ms/sample - loss: 0.1158 - accuracy: 0.9613\b\b\b\b\b\b\b\b\b\b\b\b\b\b\b\b\b\b\b\b\b\b\b\b\b\b\b\b\b\b\b\b\b\b\b\b\b\b\b\b\b\b\b\b\b\b\b\b\b\b\b\b\b\b\b\b\b\b\b\b\b\b\b\b\b\b\b\b\b\b\b\b\b\b\b\b\b\b\b\b\nEpoch 20/100\n2577/2577 [==============================] - 3s 1ms/sample - loss: 0.1066 - accuracy: 0.9643\b\b\b\b\b\b\b\b\b\b\b\b\b\b\b\b\b\b\b\b\b\b\b\b\b\b\b\b\b\b\b\b\b\b\b\b\b\b\b\b\b\b\b\b\b\b\b\b\b\b\b\b\b\b\b\b\b\b\b\b\b\b\b\b\b\b\b\b\b\b\b\b\b\b\b\b\b\b\b\b\nEpoch 21/100\n2577/2577 [==============================] - 4s 1ms/sample - loss: 0.1024 - accuracy: 0.9647\b\b\b\b\b\b\b\b\b\b\b\b\b\b\b\b\b\b\b\b\b\b\b\b\b\b\b\b\b\b\b\b\b\b\b\b\b\b\b\b\b\b\b\b\b\b\b\b\b\b\b\b\b\b\b\b\b\b\b\b\b\b\b\b\b\b\b\b\b\b\b\b\b\b\b\b\b\b\b\b\nEpoch 22/100\n2577/2577 [==============================] - 3s 1ms/sample - loss: 0.0941 - accuracy: 0.9687\b\b\b\b\b\b\b\b\b\b\b\b\b\b\b\b\b\b\b\b\b\b\b\b\b\b\b\b\b\b\b\b\b\b\b\b\b\b\b\b\b\b\b\b\b\b\b\b\b\b\b\b\b\b\b\b\b\b\b\b\b\b\b\b\b\b\b\b\b\b\b\b\b\b\b\b\b\b\b\b\nEpoch 23/100\n2577/2577 [==============================] - 3s 1ms/sample - loss: 0.0855 - accuracy: 0.9723\b\b\b\b\b\b\b\b\b\b\b\b\b\b\b\b\b\b\b\b\b\b\b\b\b\b\b\b\b\b\b\b\b\b\b\b\b\b\b\b\b\b\b\b\b\b\b\b\b\b\b\b\b\b\b\b\b\b\b\b\b\b\b\b\b\b\b\b\b\b\b\b\b\b\b\b\b\b\b\b\nEpoch 24/100\n2577/2577 [==============================] - 3s 1ms/sample - loss: 0.0785 - accuracy: 0.9735\b\b\b\b\b\b\b\b\b\b\b\b\b\b\b\b\b\b\b\b\b\b\b\b\b\b\b\b\b\b\b\b\b\b\b\b\b\b\b\b\b\b\b\b\b\b\b\b\b\b\b\b\b\b\b\b\b\b\b\b\b\b\b\b\b\b\b\b\b\b\b\b\b\b\b\b\b\b\b\b\nEpoch 25/100\n2577/2577 [==============================] - 4s 1ms/sample - loss: 0.0752 - accuracy: 0.9771\b\b\b\b\b\b\b\b\b\b\b\b\b\b\b\b\b\b\b\b\b\b\b\b\b\b\b\b\b\b\b\b\b\b\b\b\b\b\b\b\b\b\b\b\b\b\b\b\b\b\b\b\b\b\b\b\b\b\b\b\b\b\b\b\b\b\b\b\b\b\b\b\b\b\b\b\b\b\b\b\nEpoch 26/100\n2577/2577 [==============================] - 3s 1ms/sample - loss: 0.0708 - accuracy: 0.9784\b\b\b\b\b\b\b\b\b\b\b\b\b\b\b\b\b\b\b\b\b\b\b\b\b\b\b\b\b\b\b\b\b\b\b\b\b\b\b\b\b\b\b\b\b\b\b\b\b\b\b\b\b\b\b\b\b\b\b\b\b\b\b\b\b\b\b\b\b\b\b\b\b\b\b\b\b\b\b\b\nEpoch 27/100\n2577/2577 [==============================] - 3s 1ms/sample - loss: 0.0644 - accuracy: 0.9807\b\b\b\b\b\b\b\b\b\b\b\b\b\b\b\b\b\b\b\b\b\b\b\b\b\b\b\b\b\b\b\b\b\b\b\b\b\b\b\b\b\b\b\b\b\b\b\b\b\b\b\b\b\b\b\b\b\b\b\b\b\b\b\b\b\b\b\b\b\b\b\b\b\b\b\b\b\b\b\b\nEpoch 28/100\n2577/2577 [==============================] - 3s 1ms/sample - loss: 0.0591 - accuracy: 0.9825\b\b\b\b\b\b\b\b\b\b\b\b\b\b\b\b\b\b\b\b\b\b\b\b\b\b\b\b\b\b\b\b\b\b\b\b\b\b\b\b\b\b\b\b\b\b\b\b\b\b\b\b\b\b\b\b\b\b\b\b\b\b\b\b\b\b\b\b\b\b\b\b\b\b\b\b\b\b\b\b\nEpoch 29/100\n2577/2577 [==============================] - 3s 1ms/sample - loss: 0.0574 - accuracy: 0.9833\b\b\b\b\b\b\b\b\b\b\b\b\b\b\b\b\b\b\b\b\b\b\b\b\b\b\b\b\b\b\b\b\b\b\b\b\b\b\b\b\b\b\b\b\b\b\b\b\b\b\b\b\b\b\b\b\b\b\b\b\b\b\b\b\b\b\b\b\b\b\b\b\b\b\b\b\b\b\b\b\nEpoch 30/100\n2577/2577 [==============================] - 3s 1ms/sample - loss: 0.0490 - accuracy: 0.9873\b\b\b\b\b\b\b\b\b\b\b\b\b\b\b\b\b\b\b\b\b\b\b\b\b\b\b\b\b\b\b\b\b\b\b\b\b\b\b\b\b\b\b\b\b\b\b\b\b\b\b\b\b\b\b\b\b\b\b\b\b\b\b\b\b\b\b\b\b\b\b\b\b\b\b\b\b\b\b\b\nEpoch 31/100\n2577/2577 [==============================] - 4s 1ms/sample - loss: 0.0477 - accuracy: 0.9861\b\b\b\b\b\b\b\b\b\b\b\b\b\b\b\b\b\b\b\b\b\b\b\b\b\b\b\b\b\b\b\b\b\b\b\b\b\b\b\b\b\b\b\b\b\b\b\b\b\b\b\b\b\b\b\b\b\b\b\b\b\b\b\b\b\b\b\b\b\b\b\b\b\b\b\b\b\b\b\b\nEpoch 32/100\n2577/2577 [==============================] - 3s 1ms/sample - loss: 0.0456 - accuracy: 0.9860\b\b\b\b\b\b\b\b\b\b\b\b\b\b\b\b\b\b\b\b\b\b\b\b\b\b\b\b\b\b\b\b\b\b\b\b\b\b\b\b\b\b\b\b\b\b\b\b\b\b\b\b\b\b\b\b\b\b\b\b\b\b\b\b\b\b\b\b\b\b\b\b\b\b\b\b\b\b\b\b\nEpoch 33/100\n2577/2577 [==============================] - 3s 1ms/sample - loss: 0.0428 - accuracy: 0.9883\b\b\b\b\b\b\b\b\b\b\b\b\b\b\b\b\b\b\b\b\b\b\b\b\b\b\b\b\b\b\b\b\b\b\b\b\b\b\b\b\b\b\b\b\b\b\b\b\b\b\b\b\b\b\b\b\b\b\b\b\b\b\b\b\b\b\b\b\b\b\b\b\b\b\b\b\b\b\b\b\nEpoch 34/100\n2577/2577 [==============================] - 3s 1ms/sample - loss: 0.0405 - accuracy: 0.9879\b\b\b\b\b\b\b\b\b\b\b\b\b\b\b\b\b\b\b\b\b\b\b\b\b\b\b\b\b\b\b\b\b\b\b\b\b\b\b\b\b\b\b\b\b\b\b\b\b\b\b\b\b\b\b\b\b\b\b\b\b\b\b\b\b\b\b\b\b\b\b\b\b\b\b\b\b\b\b\b\nEpoch 35/100\n2577/2577 [==============================] - 3s 1ms/sample - loss: 0.0349 - accuracy: 0.9906\b\b\b\b\b\b\b\b\b\b\b\b\b\b\b\b\b\b\b\b\b\b\b\b\b\b\b\b\b\b\b\b\b\b\b\b\b\b\b\b\b\b\b\b\b\b\b\b\b\b\b\b\b\b\b\b\b\b\b\b\b\b\b\b\b\b\b\b\b\b\b\b\b\b\b\b\b\b\b\b\b\b\b\b\b\b\b\b\nEpoch 36/100\n2577/2577 [==============================] - 3s 1ms/sample - loss: 0.0376 - accuracy: 0.9883\b\b\b\b\b\b\b\b\b\b\b\b\b\b\b\b\b\b\b\b\b\b\b\b\b\b\b\b\b\b\b\b\b\b\b\b\b\b\b\b\b\b\b\b\b\b\b\b\b\b\b\b\b\b\b\b\b\b\b\b\b\b\b\b\b\b\b\b\b\b\b\b\b\b\b\b\b\b\b\b\nEpoch 37/100\n2577/2577 [==============================] - 3s 1ms/sample - loss: 0.0336 - accuracy: 0.9902\b\b\b\b\b\b\b\b\b\b\b\b\b\b\b\b\b\b\b\b\b\b\b\b\b\b\b\b\b\b\b\b\b\b\b\b\b\b\b\b\b\b\b\b\b\b\b\b\b\b\b\b\b\b\b\b\b\b\b\b\b\b\b\b\b\b\b\b\b\b\b\b\b\b\b\b\b\b\b\b\nEpoch 38/100\n2577/2577 [==============================] - 4s 1ms/sample - loss: 0.0325 - accuracy: 0.9911\b\b\b\b\b\b\b\b\b\b\b\b\b\b\b\b\b\b\b\b\b\b\b\b\b\b\b\b\b\b\b\b\b\b\b\b\b\b\b\b\b\b\b\b\b\b\b\b\b\b\b\b\b\b\b\b\b\b\b\b\b\b\b\b\b\b\b\b\b\b\b\b\b\b\b\b\b\b\b\b\b\b\b\b\b\b\b\b\nEpoch 39/100\n2577/2577 [==============================] - 3s 1ms/sample - loss: 0.0301 - accuracy: 0.9912\b\b\b\b\b\b\b\b\b\b\b\b\b\b\b\b\b\b\b\b\b\b\b\b\b\b\b\b\b\b\b\b\b\b\b\b\b\b\b\b\b\b\b\b\b\b\b\b\b\b\b\b\b\b\b\b\b\b\b\b\b\b\b\b\b\b\b\b\b\b\b\b\b\b\b\b\b\b\b\b\nEpoch 40/100\n2577/2577 [==============================] - 3s 1ms/sample - loss: 0.0296 - accuracy: 0.9916\b\b\b\b\b\b\b\b\b\b\b\b\b\b\b\b\b\b\b\b\b\b\b\b\b\b\b\b\b\b\b\b\b\b\b\b\b\b\b\b\b\b\b\b\b\b\b\b\b\b\b\b\b\b\b\b\b\b\b\b\b\b\b\b\b\b\b\b\b\b\b\b\b\b\b\b\b\b\b\b\nEpoch 41/100\n2577/2577 [==============================] - 3s 1ms/sample - loss: 0.0251 - accuracy: 0.9926\b\b\b\b\b\b\b\b\b\b\b\b\b\b\b\b\b\b\b\b\b\b\b\b\b\b\b\b\b\b\b\b\b\b\b\b\b\b\b\b\b\b\b\b\b\b\b\b\b\b\b\b\b\b\b\b\b\b\b\b\b\b\b\b\b\b\b\b\b\b\b\b\b\b\b\b\b\b\b\b\nEpoch 42/100\n2577/2577 [==============================] - 3s 1ms/sample - loss: 0.0249 - accuracy: 0.9932\b\b\b\b\b\b\b\b\b\b\b\b\b\b\b\b\b\b\b\b\b\b\b\b\b\b\b\b\b\b\b\b\b\b\b\b\b\b\b\b\b\b\b\b\b\b\b\b\b\b\b\b\b\b\b\b\b\b\b\b\b\b\b\b\b\b\b\b\b\b\b\b\b\b\b\b\b\b\b\b\b\b\b\b\b\b\b\b\nEpoch 43/100\n2577/2577 [==============================] - 4s 1ms/sample - loss: 0.0277 - accuracy: 0.9922\b\b\b\b\b\b\b\b\b\b\b\b\b\b\b\b\b\b\b\b\b\b\b\b\b\b\b\b\b\b\b\b\b\b\b\b\b\b\b\b\b\b\b\b\b\b\b\b\b\b\b\b\b\b\b\b\b\b\b\b\b\b\b\b\b\b\b\b\b\b\b\b\b\b\b\b\b\b\b\b\nEpoch 44/100\n2577/2577 [==============================] - 3s 1ms/sample - loss: 0.0225 - accuracy: 0.9928\b\b\b\b\b\b\b\b\b\b\b\b\b\b\b\b\b\b\b\b\b\b\b\b\b\b\b\b\b\b\b\b\b\b\b\b\b\b\b\b\b\b\b\b\b\b\b\b\b\b\b\b\b\b\b\b\b\b\b\b\b\b\b\b\b\b\b\b\b\b\b\b\b\b\b\b\b\b\b\b\nEpoch 45/100\n2577/2577 [==============================] - 3s 1ms/sample - loss: 0.0236 - accuracy: 0.9932\b\b\b\b\b\b\b\b\b\b\b\b\b\b\b\b\b\b\b\b\b\b\b\b\b\b\b\b\b\b\b\b\b\b\b\b\b\b\b\b\b\b\b\b\b\b\b\b\b\b\b\b\b\b\b\b\b\b\b\b\b\b\b\b\b\b\b\b\b\b\b\b\b\b\b\b\b\b\b\b\nEpoch 46/100\n2577/2577 [==============================] - 3s 1ms/sample - loss: 0.0229 - accuracy: 0.9931\b\b\b\b\b\b\b\b\b\b\b\b\b\b\b\b\b\b\b\b\b\b\b\b\b\b\b\b\b\b\b\b\b\b\b\b\b\b\b\b\b\b\b\b\b\b\b\b\b\b\b\b\b\b\b\b\b\b\b\b\b\b\b\b\b\b\b\b\b\b\b\b\b\b\b\b\b\b\b\b\nEpoch 47/100\n2577/2577 [==============================] - 3s 1ms/sample - loss: 0.0301 - accuracy: 0.9917\b\b\b\b\b\b\b\b\b\b\b\b\b\b\b\b\b\b\b\b\b\b\b\b\b\b\b\b\b\b\b\b\b\b\b\b\b\b\b\b\b\b\b\b\b\b\b\b\b\b\b\b\b\b\b\b\b\b\b\b\b\b\b\b\b\b\b\b\b\b\b\b\b\b\b\b\b\b\b\b\nEpoch 48/100\n2577/2577 [==============================] - 3s 1ms/sample - loss: 0.0215 - accuracy: 0.9939\b\b\b\b\b\b\b\b\b\b\b\b\b\b\b\b\b\b\b\b\b\b\b\b\b\b\b\b\b\b\b\b\b\b\b\b\b\b\b\b\b\b\b\b\b\b\b\b\b\b\b\b\b\b\b\b\b\b\b\b\b\b\b\b\b\b\b\b\b\b\b\b\b\b\b\b\b\b\b\b\nEpoch 49/100\n2577/2577 [==============================] - 3s 1ms/sample - loss: 0.0201 - accuracy: 0.9939\b\b\b\b\b\b\b\b\b\b\b\b\b\b\b\b\b\b\b\b\b\b\b\b\b\b\b\b\b\b\b\b\b\b\b\b\b\b\b\b\b\b\b\b\b\b\b\b\b\b\b\b\b\b\b\b\b\b\b\b\b\b\b\b\b\b\b\b\b\b\b\b\b\b\b\b\b\b\b\b\b\b\b\b\b\b\b\b\nEpoch 50/100\n2577/2577 [==============================] - 3s 1ms/sample - loss: 0.0224 - accuracy: 0.9935\b\b\b\b\b\b\b\b\b\b\b\b\b\b\b\b\b\b\b\b\b\b\b\b\b\b\b\b\b\b\b\b\b\b\b\b\b\b\b\b\b\b\b\b\b\b\b\b\b\b\b\b\b\b\b\b\b\b\b\b\b\b\b\b\b\b\b\b\b\b\b\b\b\b\b\b\b\b\b\b\b\b\b\b\b\b\b\b\nEpoch 51/100\n2577/2577 [==============================] - 3s 1ms/sample - loss: 0.0189 - accuracy: 0.9947\b\b\b\b\b\b\b\b\b\b\b\b\b\b\b\b\b\b\b\b\b\b\b\b\b\b\b\b\b\b\b\b\b\b\b\b\b\b\b\b\b\b\b\b\b\b\b\b\b\b\b\b\b\b\b\b\b\b\b\b\b\b\b\b\b\b\b\b\b\b\b\b\b\b\b\b\b\b\b\b\nEpoch 52/100\n2577/2577 [==============================] - 3s 1ms/sample - loss: 0.0200 - accuracy: 0.9947\b\b\b\b\b\b\b\b\b\b\b\b\b\b\b\b\b\b\b\b\b\b\b\b\b\b\b\b\b\b\b\b\b\b\b\b\b\b\b\b\b\b\b\b\b\b\b\b\b\b\b\b\b\b\b\b\b\b\b\b\b\b\b\b\b\b\b\b\b\b\b\b\b\b\b\b\b\b\b\b\nEpoch 53/100\n2577/2577 [==============================] - 3s 1ms/sample - loss: 0.0322 - accuracy: 0.9915\b\b\b\b\b\b\b\b\b\b\b\b\b\b\b\b\b\b\b\b\b\b\b\b\b\b\b\b\b\b\b\b\b\b\b\b\b\b\b\b\b\b\b\b\b\b\b\b\b\b\b\b\b\b\b\b\b\b\b\b\b\b\b\b\b\b\b\b\b\b\b\b\b\b\b\b\b\b\b\b\b\b\b\b\b\b\b\b\nEpoch 54/100\n2577/2577 [==============================] - 3s 1ms/sample - loss: 0.0140 - accuracy: 0.9960\b\b\b\b\b\b\b\b\b\b\b\b\b\b\b\b\b\b\b\b\b\b\b\b\b\b\b\b\b\b\b\b\b\b\b\b\b\b\b\b\b\b\b\b\b\b\b\b\b\b\b\b\b\b\b\b\b\b\b\b\b\b\b\b\b\b\b\b\b\b\b\b\b\b\b\b\b\b\b\b\b\b\b\b\b\b\b\b\nEpoch 55/100\n2577/2577 [==============================] - 3s 1ms/sample - loss: 0.0233 - accuracy: 0.9937\b\b\b\b\b\b\b\b\b\b\b\b\b\b\b\b\b\b\b\b\b\b\b\b\b\b\b\b\b\b\b\b\b\b\b\b\b\b\b\b\b\b\b\b\b\b\b\b\b\b\b\b\b\b\b\b\b\b\b\b\b\b\b\b\b\b\b\b\b\b\b\b\b\b\b\b\b\b\b\b\nEpoch 56/100\n2577/2577 [==============================] - 3s 1ms/sample - loss: 0.0170 - accuracy: 0.9953\b\b\b\b\b\b\b\b\b\b\b\b\b\b\b\b\b\b\b\b\b\b\b\b\b\b\b\b\b\b\b\b\b\b\b\b\b\b\b\b\b\b\b\b\b\b\b\b\b\b\b\b\b\b\b\b\b\b\b\b\b\b\b\b\b\b\b\b\b\b\b\b\b\b\b\b\b\b\b\b\nEpoch 57/100\n2577/2577 [==============================] - 3s 1ms/sample - loss: 0.0183 - accuracy: 0.9939\b\b\b\b\b\b\b\b\b\b\b\b\b\b\b\b\b\b\b\b\b\b\b\b\b\b\b\b\b\b\b\b\b\b\b\b\b\b\b\b\b\b\b\b\b\b\b\b\b\b\b\b\b\b\b\b\b\b\b\b\b\b\b\b\b\b\b\b\b\b\b\b\b\b\b\b\b\b\b\b\nEpoch 58/100\n2577/2577 [==============================] - 3s 1ms/sample - loss: 0.0197 - accuracy: 0.9941\b\b\b\b\b\b\b\b\b\b\b\b\b\b\b\b\b\b\b\b\b\b\b\b\b\b\b\b\b\b\b\b\b\b\b\b\b\b\b\b\b\b\b\b\b\b\b\b\b\b\b\b\b\b\b\b\b\b\b\b\b\b\b\b\b\b\b\b\b\b\b\b\b\b\b\b\b\b\b\b\nEpoch 59/100\n2577/2577 [==============================] - 3s 1ms/sample - loss: 0.0143 - accuracy: 0.9963\b\b\b\b\b\b\b\b\b\b\b\b\b\b\b\b\b\b\b\b\b\b\b\b\b\b\b\b\b\b\b\b\b\b\b\b\b\b\b\b\b\b\b\b\b\b\b\b\b\b\b\b\b\b\b\b\b\b\b\b\b\b\b\b\b\b\b\b\b\b\b\b\b\b\b\b\b\b\b\b\b\b\b\b\b\b\b\b\b\b\nEpoch 60/100\n2577/2577 [==============================] - 3s 1ms/sample - loss: 0.0154 - accuracy: 0.9956\b\b\b\b\b\b\b\b\b\b\b\b\b\b\b\b\b\b\b\b\b\b\b\b\b\b\b\b\b\b\b\b\b\b\b\b\b\b\b\b\b\b\b\b\b\b\b\b\b\b\b\b\b\b\b\b\b\b\b\b\b\b\b\b\b\b\b\b\b\b\b\b\b\b\b\b\b\b\b\b\nEpoch 61/100\n2577/2577 [==============================] - 3s 1ms/sample - loss: 0.0155 - accuracy: 0.9959\b\b\b\b\b\b\b\b\b\b\b\b\b\b\b\b\b\b\b\b\b\b\b\b\b\b\b\b\b\b\b\b\b\b\b\b\b\b\b\b\b\b\b\b\b\b\b\b\b\b\b\b\b\b\b\b\b\b\b\b\b\b\b\b\b\b\b\b\b\b\b\b\b\b\b\b\b\b\b\b\nEpoch 62/100\n2577/2577 [==============================] - 3s 1ms/sample - loss: 0.0109 - accuracy: 0.9966\b\b\b\b\b\b\b\b\b\b\b\b\b\b\b\b\b\b\b\b\b\b\b\b\b\b\b\b\b\b\b\b\b\b\b\b\b\b\b\b\b\b\b\b\b\b\b\b\b\b\b\b\b\b\b\b\b\b\b\b\b\b\b\b\b\b\b\b\b\b\b\b\b\b\b\b\b\b\b\b\b\b\b\b\b\b\b\b\nEpoch 63/100\n2577/2577 [==============================] - 3s 1ms/sample - loss: 0.0142 - accuracy: 0.9963\b\b\b\b\b\b\b\b\b\b\b\b\b\b\b\b\b\b\b\b\b\b\b\b\b\b\b\b\b\b\b\b\b\b\b\b\b\b\b\b\b\b\b\b\b\b\b\b\b\b\b\b\b\b\b\b\b\b\b\b\b\b\b\b\b\b\b\b\b\b\b\b\b\b\b\b\b\b\b\b\nEpoch 64/100\n2577/2577 [==============================] - 3s 1ms/sample - loss: 0.0138 - accuracy: 0.9962\b\b\b\b\b\b\b\b\b\b\b\b\b\b\b\b\b\b\b\b\b\b\b\b\b\b\b\b\b\b\b\b\b\b\b\b\b\b\b\b\b\b\b\b\b\b\b\b\b\b\b\b\b\b\b\b\b\b\b\b\b\b\b\b\b\b\b\b\b\b\b\b\b\b\b\b\b\b\b\b\nEpoch 65/100\n2577/2577 [==============================] - 3s 1ms/sample - loss: 0.0154 - accuracy: 0.9954\b\b\b\b\b\b\b\b\b\b\b\b\b\b\b\b\b\b\b\b\b\b\b\b\b\b\b\b\b\b\b\b\b\b\b\b\b\b\b\b\b\b\b\b\b\b\b\b\b\b\b\b\b\b\b\b\b\b\b\b\b\b\b\b\b\b\b\b\b\b\b\b\b\b\b\b\b\b\b\b\nEpoch 66/100\n2577/2577 [==============================] - 3s 1ms/sample - loss: 0.0137 - accuracy: 0.9957\b\b\b\b\b\b\b\b\b\b\b\b\b\b\b\b\b\b\b\b\b\b\b\b\b\b\b\b\b\b\b\b\b\b\b\b\b\b\b\b\b\b\b\b\b\b\b\b\b\b\b\b\b\b\b\b\b\b\b\b\b\b\b\b\b\b\b\b\b\b\b\b\b\b\b\b\b\b\b\b\b\b\b\b\b\b\b\b\nEpoch 67/100\n2577/2577 [==============================] - 3s 1ms/sample - loss: 0.0180 - accuracy: 0.9950\b\b\b\b\b\b\b\b\b\b\b\b\b\b\b\b\b\b\b\b\b\b\b\b\b\b\b\b\b\b\b\b\b\b\b\b\b\b\b\b\b\b\b\b\b\b\b\b\b\b\b\b\b\b\b\b\b\b\b\b\b\b\b\b\b\b\b\b\b\b\b\b\b\b\b\b\b\b\b\b\b\b\b\b\b\b\b\b\nEpoch 68/100\n2577/2577 [==============================] - 3s 1ms/sample - loss: 0.0130 - accuracy: 0.9964\b\b\b\b\b\b\b\b\b\b\b\b\b\b\b\b\b\b\b\b\b\b\b\b\b\b\b\b\b\b\b\b\b\b\b\b\b\b\b\b\b\b\b\b\b\b\b\b\b\b\b\b\b\b\b\b\b\b\b\b\b\b\b\b\b\b\b\b\b\b\b\b\b\b\b\b\b\b\b\b\nEpoch 69/100\n2577/2577 [==============================] - 3s 1ms/sample - loss: 0.0155 - accuracy: 0.9958\b\b\b\b\b\b\b\b\b\b\b\b\b\b\b\b\b\b\b\b\b\b\b\b\b\b\b\b\b\b\b\b\b\b\b\b\b\b\b\b\b\b\b\b\b\b\b\b\b\b\b\b\b\b\b\b\b\b\b\b\b\b\b\b\b\b\b\b\b\b\b\b\b\b\b\b\b\b\b\b\b\b\b\b\b\b\b\b\nEpoch 70/100\n2577/2577 [==============================] - 4s 1ms/sample - loss: 0.0104 - accuracy: 0.9969\b\b\b\b\b\b\b\b\b\b\b\b\b\b\b\b\b\b\b\b\b\b\b\b\b\b\b\b\b\b\b\b\b\b\b\b\b\b\b\b\b\b\b\b\b\b\b\b\b\b\b\b\b\b\b\b\b\b\b\b\b\b\b\b\b\b\b\b\b\b\b\b\b\b\b\b\b\b\b\b\nEpoch 71/100\n2577/2577 [==============================] - 3s 1ms/sample - loss: 0.0090 - accuracy: 0.9974\b\b\b\b\b\b\b\b\b\b\b\b\b\b\b\b\b\b\b\b\b\b\b\b\b\b\b\b\b\b\b\b\b\b\b\b\b\b\b\b\b\b\b\b\b\b\b\b\b\b\b\b\b\b\b\b\b\b\b\b\b\b\b\b\b\b\b\b\b\b\b\b\b\b\b\b\b\b\b\b\b\b\b\b\b\b\b\b\nEpoch 72/100\n2577/2577 [==============================] - 3s 1ms/sample - loss: 0.0124 - accuracy: 0.9961\b\b\b\b\b\b\b\b\b\b\b\b\b\b\b\b\b\b\b\b\b\b\b\b\b\b\b\b\b\b\b\b\b\b\b\b\b\b\b\b\b\b\b\b\b\b\b\b\b\b\b\b\b\b\b\b\b\b\b\b\b\b\b\b\b\b\b\b\b\b\b\b\b\b\b\b\b\b\b\b\b\b\b\b\b\b\b\b\nEpoch 73/100\n2577/2577 [==============================] - 4s 1ms/sample - loss: 0.0215 - accuracy: 0.9941\b\b\b\b\b\b\b\b\b\b\b\b\b\b\b\b\b\b\b\b\b\b\b\b\b\b\b\b\b\b\b\b\b\b\b\b\b\b\b\b\b\b\b\b\b\b\b\b\b\b\b\b\b\b\b\b\b\b\b\b\b\b\b\b\b\b\b\b\b\b\b\b\b\b\b\b\b\b\b\b\b\b\b\b\b\b\b\b\nEpoch 74/100\n2577/2577 [==============================] - 4s 1ms/sample - loss: 0.0040 - accuracy: 0.9991\b\b\b\b\b\b\b\b\b\b\b\b\b\b\b\b\b\b\b\b\b\b\b\b\b\b\b\b\b\b\b\b\b\b\b\b\b\b\b\b\b\b\b\b\b\b\b\b\b\b\b\b\b\b\b\b\b\b\b\b\b\b\b\b\b\b\b\b\b\b\b\b\b\b\b\b\b\b\b\b\nEpoch 75/100\n2577/2577 [==============================] - 4s 1ms/sample - loss: 0.0211 - accuracy: 0.9954\b\b\b\b\b\b\b\b\b\b\b\b\b\b\b\b\b\b\b\b\b\b\b\b\b\b\b\b\b\b\b\b\b\b\b\b\b\b\b\b\b\b\b\b\b\b\b\b\b\b\b\b\b\b\b\b\b\b\b\b\b\b\b\b\b\b\b\b\b\b\b\b\b\b\b\b\b\b\b\b\b\b\b\b\b\b\b\b\nEpoch 76/100\n2577/2577 [==============================] - 4s 1ms/sample - loss: 0.0067 - accuracy: 0.9981\b\b\b\b\b\b\b\b\b\b\b\b\b\b\b\b\b\b\b\b\b\b\b\b\b\b\b\b\b\b\b\b\b\b\b\b\b\b\b\b\b\b\b\b\b\b\b\b\b\b\b\b\b\b\b\b\b\b\b\b\b\b\b\b\b\b\b\b\b\b\b\b\b\b\b\b\b\b\b\b\b\b\b\b\b\b\b\b\b\b\nEpoch 77/100\n2577/2577 [==============================] - 4s 1ms/sample - loss: 0.0168 - accuracy: 0.9952\b\b\b\b\b\b\b\b\b\b\b\b\b\b\b\b\b\b\b\b\b\b\b\b\b\b\b\b\b\b\b\b\b\b\b\b\b\b\b\b\b\b\b\b\b\b\b\b\b\b\b\b\b\b\b\b\b\b\b\b\b\b\b\b\b\b\b\b\b\b\b\b\b\b\b\b\b\b\b\b\nEpoch 78/100\n2577/2577 [==============================] - 3s 1ms/sample - loss: 0.0066 - accuracy: 0.9981\b\b\b\b\b\b\b\b\b\b\b\b\b\b\b\b\b\b\b\b\b\b\b\b\b\b\b\b\b\b\b\b\b\b\b\b\b\b\b\b\b\b\b\b\b\b\b\b\b\b\b\b\b\b\b\b\b\b\b\b\b\b\b\b\b\b\b\b\b\b\b\b\b\b\b\b\b\b\b\b\b\b\b\b\b\b\b\b\nEpoch 79/100\n2577/2577 [==============================] - 3s 1ms/sample - loss: 0.0107 - accuracy: 0.9968\b\b\b\b\b\b\b\b\b\b\b\b\b\b\b\b\b\b\b\b\b\b\b\b\b\b\b\b\b\b\b\b\b\b\b\b\b\b\b\b\b\b\b\b\b\b\b\b\b\b\b\b\b\b\b\b\b\b\b\b\b\b\b\b\b\b\b\b\b\b\b\b\b\b\b\b\b\b\b\b\b\b\b\b\b\b\b\b\nEpoch 80/100\n2577/2577 [==============================] - 3s 1ms/sample - loss: 0.0149 - accuracy: 0.9959\b\b\b\b\b\b\b\b\b\b\b\b\b\b\b\b\b\b\b\b\b\b\b\b\b\b\b\b\b\b\b\b\b\b\b\b\b\b\b\b\b\b\b\b\b\b\b\b\b\b\b\b\b\b\b\b\b\b\b\b\b\b\b\b\b\b\b\b\b\b\b\b\b\b\b\b\b\b\b\b\nEpoch 81/100\n2577/2577 [==============================] - 3s 1ms/sample - loss: 0.0032 - accuracy: 0.9993\b\b\b\b\b\b\b\b\b\b\b\b\b\b\b\b\b\b\b\b\b\b\b\b\b\b\b\b\b\b\b\b\b\b\b\b\b\b\b\b\b\b\b\b\b\b\b\b\b\b\b\b\b\b\b\b\b\b\b\b\b\b\b\b\b\b\b\b\b\b\b\b\b\b\b\b\b\b\b\b\b\b\b\b\b\b\b\b\nEpoch 82/100\n2577/2577 [==============================] - 3s 1ms/sample - loss: 0.0150 - accuracy: 0.9960\b\b\b\b\b\b\b\b\b\b\b\b\b\b\b\b\b\b\b\b\b\b\b\b\b\b\b\b\b\b\b\b\b\b\b\b\b\b\b\b\b\b\b\b\b\b\b\b\b\b\b\b\b\b\b\b\b\b\b\b\b\b\b\b\b\b\b\b\b\b\b\b\b\b\b\b\b\b\b\b\nEpoch 83/100\n2577/2577 [==============================] - 3s 1ms/sample - loss: 0.0119 - accuracy: 0.9975\b\b\b\b\b\b\b\b\b\b\b\b\b\b\b\b\b\b\b\b\b\b\b\b\b\b\b\b\b\b\b\b\b\b\b\b\b\b\b\b\b\b\b\b\b\b\b\b\b\b\b\b\b\b\b\b\b\b\b\b\b\b\b\b\b\b\b\b\b\b\b\b\b\b\b\b\b\b\b\b\b\b\b\b\b\b\b\b\nEpoch 84/100\n2577/2577 [==============================] - 3s 1ms/sample - loss: 0.0079 - accuracy: 0.9976\b\b\b\b\b\b\b\b\b\b\b\b\b\b\b\b\b\b\b\b\b\b\b\b\b\b\b\b\b\b\b\b\b\b\b\b\b\b\b\b\b\b\b\b\b\b\b\b\b\b\b\b\b\b\b\b\b\b\b\b\b\b\b\b\b\b\b\b\b\b\b\b\b\b\b\b\b\b\b\b\b\b\b\b\b\b\b\b\nEpoch 85/100\n2577/2577 [==============================] - 3s 1ms/sample - loss: 0.0095 - accuracy: 0.9972\b\b\b\b\b\b\b\b\b\b\b\b\b\b\b\b\b\b\b\b\b\b\b\b\b\b\b\b\b\b\b\b\b\b\b\b\b\b\b\b\b\b\b\b\b\b\b\b\b\b\b\b\b\b\b\b\b\b\b\b\b\b\b\b\b\b\b\b\b\b\b\b\b\b\b\b\b\b\b\b\b\b\b\b\b\b\b\b\nEpoch 86/100\n2577/2577 [==============================] - 3s 1ms/sample - loss: 0.0145 - accuracy: 0.9950\b\b\b\b\b\b\b\b\b\b\b\b\b\b\b\b\b\b\b\b\b\b\b\b\b\b\b\b\b\b\b\b\b\b\b\b\b\b\b\b\b\b\b\b\b\b\b\b\b\b\b\b\b\b\b\b\b\b\b\b\b\b\b\b\b\b\b\b\b\b\b\b\b\b\b\b\b\b\b\b\b\b\b\b\b\b\b\b\nEpoch 87/100\n2577/2577 [==============================] - 3s 1ms/sample - loss: 0.0072 - accuracy: 0.9983\b\b\b\b\b\b\b\b\b\b\b\b\b\b\b\b\b\b\b\b\b\b\b\b\b\b\b\b\b\b\b\b\b\b\b\b\b\b\b\b\b\b\b\b\b\b\b\b\b\b\b\b\b\b\b\b\b\b\b\b\b\b\b\b\b\b\b\b\b\b\b\b\b\b\b\b\b\b\b\b\b\b\b\b\b\b\b\b\nEpoch 88/100\n2577/2577 [==============================] - 4s 1ms/sample - loss: 0.0095 - accuracy: 0.9977\b\b\b\b\b\b\b\b\b\b\b\b\b\b\b\b\b\b\b\b\b\b\b\b\b\b\b\b\b\b\b\b\b\b\b\b\b\b\b\b\b\b\b\b\b\b\b\b\b\b\b\b\b\b\b\b\b\b\b\b\b\b\b\b\b\b\b\b\b\b\b\b\b\b\b\b\b\b\b\b\nEpoch 89/100\n2577/2577 [==============================] - 3s 1ms/sample - loss: 0.0143 - accuracy: 0.9961\b\b\b\b\b\b\b\b\b\b\b\b\b\b\b\b\b\b\b\b\b\b\b\b\b\b\b\b\b\b\b\b\b\b\b\b\b\b\b\b\b\b\b\b\b\b\b\b\b\b\b\b\b\b\b\b\b\b\b\b\b\b\b\b\b\b\b\b\b\b\b\b\b\b\b\b\b\b\b\b\b\b\b\b\b\b\b\b\nEpoch 90/100\n2577/2577 [==============================] - 3s 1ms/sample - loss: 0.0102 - accuracy: 0.9979\b\b\b\b\b\b\b\b\b\b\b\b\b\b\b\b\b\b\b\b\b\b\b\b\b\b\b\b\b\b\b\b\b\b\b\b\b\b\b\b\b\b\b\b\b\b\b\b\b\b\b\b\b\b\b\b\b\b\b\b\b\b\b\b\b\b\b\b\b\b\b\b\b\b\b\b\b\b\b\b\b\b\b\b\b\b\b\b\nEpoch 91/100\n2577/2577 [==============================] - 3s 1ms/sample - loss: 0.0158 - accuracy: 0.9959\b\b\b\b\b\b\b\b\b\b\b\b\b\b\b\b\b\b\b\b\b\b\b\b\b\b\b\b\b\b\b\b\b\b\b\b\b\b\b\b\b\b\b\b\b\b\b\b\b\b\b\b\b\b\b\b\b\b\b\b\b\b\b\b\b\b\b\b\b\b\b\b\b\b\b\b\b\b\b\b\b\b\b\b\b\b\b\b\nEpoch 92/100\n2577/2577 [==============================] - 3s 1ms/sample - loss: 0.0044 - accuracy: 0.9988\b\b\b\b\b\b\b\b\b\b\b\b\b\b\b\b\b\b\b\b\b\b\b\b\b\b\b\b\b\b\b\b\b\b\b\b\b\b\b\b\b\b\b\b\b\b\b\b\b\b\b\b\b\b\b\b\b\b\b\b\b\b\b\b\b\b\b\b\b\b\b\b\b\b\b\b\b\b\b\b\b\b\b\b\b\b\b\b\nEpoch 93/100\n2577/2577 [==============================] - 3s 1ms/sample - loss: 0.0144 - accuracy: 0.9967\b\b\b\b\b\b\b\b\b\b\b\b\b\b\b\b\b\b\b\b\b\b\b\b\b\b\b\b\b\b\b\b\b\b\b\b\b\b\b\b\b\b\b\b\b\b\b\b\b\b\b\b\b\b\b\b\b\b\b\b\b\b\b\b\b\b\b\b\b\b\b\b\b\b\b\b\b\b\b\b\b\b\b\b\b\b\b\b\nEpoch 94/100\n2577/2577 [==============================] - 3s 1ms/sample - loss: 0.0102 - accuracy: 0.9970\b\b\b\b\b\b\b\b\b\b\b\b\b\b\b\b\b\b\b\b\b\b\b\b\b\b\b\b\b\b\b\b\b\b\b\b\b\b\b\b\b\b\b\b\b\b\b\b\b\b\b\b\b\b\b\b\b\b\b\b\b\b\b\b\b\b\b\b\b\b\b\b\b\b\b\b\b\b\b\b\b\b\b\b\b\b\b\b\nEpoch 95/100\n2577/2577 [==============================] - 3s 1ms/sample - loss: 0.0066 - accuracy: 0.9978\b\b\b\b\b\b\b\b\b\b\b\b\b\b\b\b\b\b\b\b\b\b\b\b\b\b\b\b\b\b\b\b\b\b\b\b\b\b\b\b\b\b\b\b\b\b\b\b\b\b\b\b\b\b\b\b\b\b\b\b\b\b\b\b\b\b\b\b\b\b\b\b\b\b\b\b\b\b\b\b\b\b\nEpoch 96/100\n2577/2577 [==============================] - 3s 1ms/sample - loss: 0.0083 - accuracy: 0.9980\b\b\b\b\b\b\b\b\b\b\b\b\b\b\b\b\b\b\b\b\b\b\b\b\b\b\b\b\b\b\b\b\b\b\b\b\b\b\b\b\b\b\b\b\b\b\b\b\b\b\b\b\b\b\b\b\b\b\b\b\b\b\b\b\b\b\b\b\b\b\b\b\b\b\b\b\b\b\b\b\b\b\b\b\b\b\b\b\nEpoch 97/100\n2577/2577 [==============================] - 3s 1ms/sample - loss: 0.0109 - accuracy: 0.9978\b\b\b\b\b\b\b\b\b\b\b\b\b\b\b\b\b\b\b\b\b\b\b\b\b\b\b\b\b\b\b\b\b\b\b\b\b\b\b\b\b\b\b\b\b\b\b\b\b\b\b\b\b\b\b\b\b\b\b\b\b\b\b\b\b\b\b\b\b\b\b\b\b\b\b\b\b\b\b\b\b\b\b\b\b\b\b\b\nEpoch 98/100\n2577/2577 [==============================] - 3s 1ms/sample - loss: 0.0161 - accuracy: 0.9961\b\b\b\b\b\b\b\b\b\b\b\b\b\b\b\b\b\b\b\b\b\b\b\b\b\b\b\b\b\b\b\b\b\b\b\b\b\b\b\b\b\b\b\b\b\b\b\b\b\b\b\b\b\b\b\b\b\b\b\b\b\b\b\b\b\b\b\b\b\b\b\b\b\b\b\b\b\b\b\b\b\b\b\b\b\b\b\b\nEpoch 99/100\n2577/2577 [==============================] - 3s 1ms/sample - loss: 0.0061 - accuracy: 0.9978\b\b\b\b\b\b\b\b\b\b\b\b\b\b\b\b\b\b\b\b\b\b\b\b\b\b\b\b\b\b\b\b\b\b\b\b\b\b\b\b\b\b\b\b\b\b\b\b\b\b\b\b\b\b\b\b\b\b\b\b\b\b\b\b\b\b\b\b\b\b\b\b\b\b\b\b\b\b\b\b\b\b\b\b\b\b\b\b\nEpoch 100/100\n2577/2577 [==============================] - 3s 1ms/sample - loss: 0.0124 - accuracy: 0.9973\b\b\b\b\b\b\b\b\b\b\b\b\b\b\b\b\b\b\b\b\b\b\b\b\b\b\b\b\b\b\b\b\b\b\b\b\b\b\b\b\b\b\b\b\b\b\b\b\b\b\b\b\b\b\b\b\b\b\b\b\b\b\b\b\b\b\b\b\b\b\b\b\b\b\b\b\b\b\b\b\b\b\b\b\b\b\b\b\nBest Accuracy for 0.9961217761039733 using {'batch_size': 1, 'learning_rate': 0.001}\n mean=0.6991, std=0.008594 using {'batch_size': 1, 'learning_rate': 0.1}\n mean=0.7031, std=0.006074 using {'batch_size': 1, 'learning_rate': 0.01}\n mean=0.9961, std=0.007321 using {'batch_size': 1, 'learning_rate': 0.001}\n mean=0.9551, std=0.01452 using {'batch_size': 1, 'learning_rate': 0.0001}\n mean=0.6983, std=0.009783 using {'batch_size': 10, 'learning_rate': 0.1}\n mean=0.835, std=0.1101 using {'batch_size': 10, 'learning_rate': 0.01}\n mean=0.9921, std=0.006797 using {'batch_size': 10, 'learning_rate': 0.001}\n mean=0.8306, std=0.02268 using {'batch_size': 10, 'learning_rate': 0.0001}\n mean=0.709, std=0.01309 using {'batch_size': 100, 'learning_rate': 0.1}\n mean=0.9656, std=0.03919 using {'batch_size': 100, 'learning_rate': 0.01}\n mean=0.8951, std=0.03313 using {'batch_size': 100, 'learning_rate': 0.001}\n mean=0.7353, std=0.01093 using {'batch_size': 100, 'learning_rate': 0.0001}\n mean=0.7096, std=0.0159 using {'batch_size': 500, 'learning_rate': 0.1}\n mean=0.8809, std=0.04331 using {'batch_size': 500, 'learning_rate': 0.01}\n mean=0.7715, std=0.01683 using {'batch_size': 500, 'learning_rate': 0.001}\n mean=0.7053, std=0.00932 using {'batch_size': 500, 'learning_rate': 0.0001}\n mean=0.7091, std=0.01228 using {'batch_size': 1000, 'learning_rate': 0.1}\n mean=0.8736, std=0.03334 using {'batch_size': 1000, 'learning_rate': 0.01}\n mean=0.7481, std=0.01382 using {'batch_size': 1000, 'learning_rate': 0.001}\n mean=0.709, std=0.003866 using {'batch_size': 1000, 'learning_rate': 0.0001}\n mean=0.7056, std=0.006402 using {'batch_size': 2577, 'learning_rate': 0.1}\n mean=0.7651, std=0.02076 using {'batch_size': 2577, 'learning_rate': 0.01}\n mean=0.7106, std=0.008516 using {'batch_size': 2577, 'learning_rate': 0.001}\n mean=0.6745, std=0.03309 using {'batch_size': 2577, 'learning_rate': 0.0001}\nCPU times: user 6min 43s, sys: 37.2 s, total: 7min 20s\nWall time: 3h 20min 10s\n"
        }
      ],
      "execution_count": 78,
      "metadata": {
        "jupyter": {
          "source_hidden": false,
          "outputs_hidden": false
        },
        "nteract": {
          "transient": {
            "deleting": false
          }
        }
      }
    },
    {
      "cell_type": "code",
      "source": [
        "class PlotLearning(keras.callbacks.Callback):\n",
        "    \"\"\"\n",
        "    Callback to plot learning curves of the model during training\n",
        "    \"\"\"\n",
        "    def on_train_begin(self, logs={}):\n",
        "        self.metrics = {}\n",
        "        for metric in logs:\n",
        "            self.metrics[metric] = []\n",
        "\n",
        "    \n",
        "    def on_epoch_end(self, epoch, logs={}):\n",
        "        # Storing metrics\n",
        "        for metric in logs:\n",
        "            if metric in self.metrics:\n",
        "                self.metrics[metric].append(logs.get(metric))\n",
        "            else:\n",
        "                self.metrics[metric] = [logs.get(metric)]\n",
        "        \n",
        "\n",
        "        # Plotting\n",
        "        metrics = [x for x in logs if 'val' not in x]\n",
        "\n",
        "        f, axs = plt.subplots(1, len(metrics), figsize=(15, 5))\n",
        "        clear_output(wait=True)\n",
        "\n",
        "        for i, metric in enumerate(metrics):\n",
        "            axs[i].plot(range(1, epoch +2), self.metrics[metric], label=metric)\n",
        "            if logs['val_' + metric]:\n",
        "                axs[i].plot(range(1, epoch + 2), self.metrics['val_' + metric], label='val_' + metric)\n",
        "            \n",
        "            axs[i].legend()\n",
        "            axs[i].grid()\n",
        "\n",
        "        \n",
        "        plt.tight_layout()\n",
        "        plt.show()\n",
        "        \n"
      ],
      "outputs": [],
      "execution_count": 79,
      "metadata": {
        "jupyter": {
          "source_hidden": false,
          "outputs_hidden": false
        },
        "nteract": {
          "transient": {
            "deleting": false
          }
        },
        "gather": {
          "logged": 1642041685902
        }
      }
    },
    {
      "cell_type": "code",
      "source": [
        "class PlotLosses(keras.callbacks.Callback):\n",
        "    def on_train_begin(self, logs={}):\n",
        "        self.i = 0\n",
        "        self.x = []\n",
        "        self.losses = []\n",
        "        self.val_losses = []\n",
        "\n",
        "        self.fig = plt.figure()\n",
        "\n",
        "        self.logs = []\n",
        "    \n",
        "    def on_epoch_end(self, epoch, logs={}):\n",
        "\n",
        "        self.logs.append(logs)\n",
        "        self.x.append(self.i)\n",
        "        self.losses.append(logs.get('loss'))\n",
        "        self.val_losses.append(logs.get('val_loss'))\n",
        "        self.i += 1\n",
        "\n",
        "        clear_output(wait=True)\n",
        "        plt.plot(self.x, self.losses, label='loss')\n",
        "        plt.plot(self.x, self.val_losses, label='val_loss')\n",
        "        plt.legend()\n",
        "        plt.show();\n",
        "\n",
        "plot_losses = PlotLosses()"
      ],
      "outputs": [],
      "execution_count": 80,
      "metadata": {
        "jupyter": {
          "source_hidden": false,
          "outputs_hidden": false
        },
        "nteract": {
          "transient": {
            "deleting": false
          }
        },
        "gather": {
          "logged": 1642041689846
        }
      }
    },
    {
      "cell_type": "code",
      "source": [
        "# Building model\n",
        "# Hyperparameters to consider by order of importance\n",
        "    # 1. Learing rate alpha\n",
        "    # iterations\n",
        "    # 3. Hidden layers L\n",
        "    # 4. Number of nuerons per hidden layer\n",
        "    # Regularization\n",
        "        # L2 Regularization\n",
        "        # Dropout Regularization (keep probability)\n",
        "    # Adam Optimization technique for optimizing weights (w, b) \n",
        "    # It is combination of Momentum and RMS prop is used to speed up gradient descent\n",
        "        # 2.alpha (learning rate) and beta1 of momentum.\n",
        "        # 2. beta2 of RMS prop\n",
        "        # then apply Bias correction\n",
        "        # 2. epsilon\n",
        "    # 5. Learning Rate Decay\n",
        "    # One of the things that help speed up learning of algorithm us to slowly reduce learning rate over time\n",
        "    # alpha = (1/(1+ (decay rate * epoch number))) * aplha0\n",
        "    # 6. Number of mini-batches\n",
        "\n",
        "batch_size = grid_result.best_params_['batch_size']\n",
        "learning_rate = grid_result.best_params_['learning_rate']\n",
        "\n",
        "# batch_size = 10\n",
        "# learning_rate = 0.001\n",
        "filepath = 'best_model.hdf5'\n",
        "\n",
        "# bcm_callback = mltb.keras.BinaryClassifierMetricsCallback(X_test, Y_test)\n",
        "# es_callback = EarlyStopping(monitor='val_f1', patience=200,  mode='max')\n",
        "early_stopping = EarlyStopping(monitor='val_loss', patience=200, mode='min')\n",
        "check_point = ModelCheckpoint(filepath=filepath, monitor='val_loss', mode='min', verbose=1, save_best_only=True)\n",
        "\n",
        "# callbacks_list = [PlotLearning()]\n",
        "callbacks_list = [plot_losses, early_stopping, check_point]\n",
        "\n",
        "model = Sequential()\n",
        "model.add(Dense(N_h, input_dim=N_i, kernel_initializer='he_uniform', activation='relu'))\n",
        "model.add(Dense(N_h, kernel_initializer='he_uniform', activation='relu'))\n",
        "model.add(Dense(N_o, kernel_initializer='he_uniform', activation='sigmoid'))\n",
        "optimizer = keras.optimizers.Adam(learning_rate=learning_rate)\n",
        "# model.compile(loss='binary_crossentropy', optimizer=optimizer, metrics=['accuracy'])\n",
        "model.compile(loss='binary_crossentropy', optimizer=optimizer, metrics=['accuracy', 'binary_accuracy'])\n",
        "\n",
        "\n",
        "# Fit the model\n",
        "# history = model.fit(X_train, Y_train, epochs=5000, batch_size = batch_size, verbose=1, validation_data=(X_test, Y_test), shuffle=True, callbacks=callbacks_list)\n",
        "history = model.fit(X_res, y_res, epochs=5000, batch_size = batch_size, verbose=1, validation_data=(X_test, Y_test), shuffle=True, callbacks=callbacks_list)\n",
        "# list all data in history\n",
        "print(history.history.keys())\n",
        "# summarize history for accuracy\n",
        "plt.plot(history.history['accuracy'])\n",
        "plt.plot(history.history['val_accuracy'])\n",
        "plt.title('model accuracy')\n",
        "plt.ylabel('accuracy')\n",
        "plt.xlabel('epoch')\n",
        "plt.legend(['train', 'test'], loc='upper left')\n",
        "plt.show()\n",
        "# summarize history for accuracy\n",
        "plt.plot(history.history['binary_accuracy'])\n",
        "plt.plot(history.history['val_binary_accuracy'])\n",
        "plt.title('model binary accuracy')\n",
        "plt.ylabel('bin_accuracy')\n",
        "plt.xlabel('epoch')\n",
        "plt.legend(['train', 'test'], loc='upper left')\n",
        "plt.show()\n",
        "# summarize history for loss\n",
        "# plt.plot(history.history['loss'])\n",
        "# plt.plot(history.history['val_loss'])\n",
        "# plt.title('model loss')\n",
        "# plt.ylabel('loss')\n",
        "# plt.xlabel('epoch')\n",
        "# plt.legend(['train', 'test'], loc='upper left')\n",
        "# plt.show()"
      ],
      "outputs": [
        {
          "output_type": "stream",
          "name": "stdout",
          "text": "\b\b\b\b\b\b\b\b\b\b\b\b\b\b\b\b\b\b\b\b\b\b\b\b\b\b\b\b\b\b\b\b\b\b\b\b\b\b\b\b\b\b\b\b\b\b\b\b\b\b\b\b\b\b\b\b\b\b\b\b\b\b\b\b\b\b\b\b\b\b\b\b\b\b\b\b\b\b\b\b\b\b\b\b\b\b\b\b\b\b\b\b\b\b\b\b\b\b\b\b\b\b\b\b\b\b\b\b\b\b\b\b\r2571/2577 [============================>.] - ETA: 0s - loss: 0.0072 - accuracy: 0.9983 - binary_accuracy: 0.9983"
        },
        {
          "output_type": "display_data",
          "data": {
            "text/plain": "<Figure size 432x288 with 1 Axes>",
            "image/png": "[encoded data removed]"
          },
          "metadata": {
            "needs_background": "light"
          }
        },
        {
          "output_type": "stream",
          "name": "stdout",
          "text": "\nEpoch 00194: val_loss did not improve from 0.67020\n2577/2577 [==============================] - 9s 3ms/sample - loss: 0.0072 - accuracy: 0.9983 - binary_accuracy: 0.9983 - val_loss: 8.9027 - val_accuracy: 0.6364 - val_binary_accuracy: 0.6364\nEpoch 195/5000\n 218/2577 [=>............................] - ETA: 5s - loss: 1.2459e-04 - accuracy: 1.0000 - binary_accuracy: 1.0000\b\b\b\b\b\b\b\b\b\b\b\b\b\b\b\b\b\b\b\b\b\b\b\b\b\b\b\b\b\b\b\b\b\b\b\b\b\b\b\b\b\b\b\b\b\b\b\b\b\b\b\b\b\b\b\b\b\b\b\b\b\b\b\b\b\b\b\b\b\b\b\b\b\b\b\b\b\b\b\b\b\b\b\b\b\b\b\b\b\b\b\b\b\b\b\b\b\b\b\b\b\b\b\b\b\b\b\b\b\b\b\b\b\b\b\b\r 243/2577 [=>............................] - ETA: 4s - loss: 0.0057 - accuracy: 0.9991 - binary_accuracy: 0.9991    \b\b\b\b\b\b\b\b\b\b\b\b\b\b\b\b\b\b\b\b\b\b\b\b\b\b\b\b\b\b\b\b\b\b\b\b\b\b\b\b\b\b\b\b\b\b\b\b\b\b\b\b\b\b\b\b\b\b\b\b\b\b\b\b\b\b\b\b\b\b\b\b\b\b\b\b\b\b\b\b\b\b\b\b\b\b\b\b\b\b\b\b\b\b\b\b\b\b\b\b\b\b\b\b\b\b\b\b\b\b\b\b\r 763/2577 [=======>......................] - ETA: 3s - loss: 0.0186 - accuracy: 0.9939 - binary_accuracy: 0.9939\b\b\b\b\b\b\b\b\b\b\b\b\b\b\b\b\b\b\b\b\b\b\b\b\b\b\b\b\b\b\b\b\b\b\b\b\b\b\b\b\b\b\b\b\b\b\b\b\b\b\b\b\b\b\b\b\b\b\b\b\b\b\b\b\b\b\b\b\b\b\b\b\b\b\b\b\b\b\b\b\b\b\b\b\b\b\b\b\b\b\b\b\b\b\b\b\b\b\b\b\b\b\b\b\b\b\b\b\b\b\b\b\r 787/2577 [========>.....................] - ETA: 3s - loss: 0.0181 - accuracy: 0.9941 - binary_accuracy: 0.9941"
        }
      ],
      "execution_count": null,
      "metadata": {
        "jupyter": {
          "source_hidden": false,
          "outputs_hidden": false
        },
        "nteract": {
          "transient": {
            "deleting": false
          }
        },
        "gather": {
          "logged": 1642047504436
        }
      }
    },
    {
      "cell_type": "code",
      "source": [
        "saved_model = load_model('best_model.hdf5')"
      ],
      "outputs": [],
      "execution_count": 20,
      "metadata": {
        "jupyter": {
          "source_hidden": false,
          "outputs_hidden": false
        },
        "nteract": {
          "transient": {
            "deleting": false
          }
        },
        "gather": {
          "logged": 1641708182397
        }
      }
    },
    {
      "cell_type": "code",
      "source": [
        "predictions = (saved_model.predict(X_test) > 0.5).astype('int32')"
      ],
      "outputs": [],
      "execution_count": 21,
      "metadata": {
        "jupyter": {
          "source_hidden": false,
          "outputs_hidden": false
        },
        "nteract": {
          "transient": {
            "deleting": false
          }
        },
        "gather": {
          "logged": 1641708188713
        }
      }
    },
    {
      "cell_type": "code",
      "source": [
        "Y_true = Y_test.reset_index(drop=True)"
      ],
      "outputs": [],
      "execution_count": 22,
      "metadata": {
        "jupyter": {
          "source_hidden": false,
          "outputs_hidden": false
        },
        "nteract": {
          "transient": {
            "deleting": false
          }
        },
        "gather": {
          "logged": 1641708206849
        }
      }
    },
    {
      "cell_type": "code",
      "source": [
        "Y_true"
      ],
      "outputs": [
        {
          "output_type": "execute_result",
          "execution_count": 23,
          "data": {
            "text/plain": "      hdl_cholesterol_human_high  hdl_cholesterol_human_low  \\\n0                              0                          1   \n1                              0                          0   \n2                              1                          0   \n3                              1                          0   \n4                              1                          0   \n...                          ...                        ...   \n2623                           0                          0   \n2624                           1                          0   \n2625                           0                          0   \n2626                           0                          1   \n2627                           1                          0   \n\n      hdl_cholesterol_human_ok  hemoglobin_human_high  hemoglobin_human_low  \\\n0                            0                      0                     0   \n1                            1                      0                     0   \n2                            0                      0                     0   \n3                            0                      0                     0   \n4                            0                      0                     0   \n...                        ...                    ...                   ...   \n2623                         1                      0                     0   \n2624                         0                      0                     0   \n2625                         1                      0                     0   \n2626                         0                      0                     0   \n2627                         0                      0                     0   \n\n      hemoglobin_human_ok  cholesterol_ldl_human_high  \\\n0                       1                           0   \n1                       1                           1   \n2                       1                           1   \n3                       1                           0   \n4                       1                           1   \n...                   ...                         ...   \n2623                    1                           1   \n2624                    1                           1   \n2625                    1                           0   \n2626                    1                           0   \n2627                    1                           0   \n\n      cholesterol_ldl_human_low  cholesterol_ldl_human_ok  \n0                             0                         1  \n1                             0                         0  \n2                             0                         0  \n3                             0                         1  \n4                             0                         0  \n...                         ...                       ...  \n2623                          0                         0  \n2624                          0                         0  \n2625                          0                         1  \n2626                          0                         1  \n2627                          0                         1  \n\n[2628 rows x 9 columns]",
            "text/html": "<div>\n<style scoped>\n    .dataframe tbody tr th:only-of-type {\n        vertical-align: middle;\n    }\n\n    .dataframe tbody tr th {\n        vertical-align: top;\n    }\n\n    .dataframe thead th {\n        text-align: right;\n    }\n</style>\n<table border=\"1\" class=\"dataframe\">\n  <thead>\n    <tr style=\"text-align: right;\">\n      <th></th>\n      <th>hdl_cholesterol_human_high</th>\n      <th>hdl_cholesterol_human_low</th>\n      <th>hdl_cholesterol_human_ok</th>\n      <th>hemoglobin_human_high</th>\n      <th>hemoglobin_human_low</th>\n      <th>hemoglobin_human_ok</th>\n      <th>cholesterol_ldl_human_high</th>\n      <th>cholesterol_ldl_human_low</th>\n      <th>cholesterol_ldl_human_ok</th>\n    </tr>\n  </thead>\n  <tbody>\n    <tr>\n      <th>0</th>\n      <td>0</td>\n      <td>1</td>\n      <td>0</td>\n      <td>0</td>\n      <td>0</td>\n      <td>1</td>\n      <td>0</td>\n      <td>0</td>\n      <td>1</td>\n    </tr>\n    <tr>\n      <th>1</th>\n      <td>0</td>\n      <td>0</td>\n      <td>1</td>\n      <td>0</td>\n      <td>0</td>\n      <td>1</td>\n      <td>1</td>\n      <td>0</td>\n      <td>0</td>\n    </tr>\n    <tr>\n      <th>2</th>\n      <td>1</td>\n      <td>0</td>\n      <td>0</td>\n      <td>0</td>\n      <td>0</td>\n      <td>1</td>\n      <td>1</td>\n      <td>0</td>\n      <td>0</td>\n    </tr>\n    <tr>\n      <th>3</th>\n      <td>1</td>\n      <td>0</td>\n      <td>0</td>\n      <td>0</td>\n      <td>0</td>\n      <td>1</td>\n      <td>0</td>\n      <td>0</td>\n      <td>1</td>\n    </tr>\n    <tr>\n      <th>4</th>\n      <td>1</td>\n      <td>0</td>\n      <td>0</td>\n      <td>0</td>\n      <td>0</td>\n      <td>1</td>\n      <td>1</td>\n      <td>0</td>\n      <td>0</td>\n    </tr>\n    <tr>\n      <th>...</th>\n      <td>...</td>\n      <td>...</td>\n      <td>...</td>\n      <td>...</td>\n      <td>...</td>\n      <td>...</td>\n      <td>...</td>\n      <td>...</td>\n      <td>...</td>\n    </tr>\n    <tr>\n      <th>2623</th>\n      <td>0</td>\n      <td>0</td>\n      <td>1</td>\n      <td>0</td>\n      <td>0</td>\n      <td>1</td>\n      <td>1</td>\n      <td>0</td>\n      <td>0</td>\n    </tr>\n    <tr>\n      <th>2624</th>\n      <td>1</td>\n      <td>0</td>\n      <td>0</td>\n      <td>0</td>\n      <td>0</td>\n      <td>1</td>\n      <td>1</td>\n      <td>0</td>\n      <td>0</td>\n    </tr>\n    <tr>\n      <th>2625</th>\n      <td>0</td>\n      <td>0</td>\n      <td>1</td>\n      <td>0</td>\n      <td>0</td>\n      <td>1</td>\n      <td>0</td>\n      <td>0</td>\n      <td>1</td>\n    </tr>\n    <tr>\n      <th>2626</th>\n      <td>0</td>\n      <td>1</td>\n      <td>0</td>\n      <td>0</td>\n      <td>0</td>\n      <td>1</td>\n      <td>0</td>\n      <td>0</td>\n      <td>1</td>\n    </tr>\n    <tr>\n      <th>2627</th>\n      <td>1</td>\n      <td>0</td>\n      <td>0</td>\n      <td>0</td>\n      <td>0</td>\n      <td>1</td>\n      <td>0</td>\n      <td>0</td>\n      <td>1</td>\n    </tr>\n  </tbody>\n</table>\n<p>2628 rows × 9 columns</p>\n</div>"
          },
          "metadata": {}
        }
      ],
      "execution_count": 23,
      "metadata": {
        "jupyter": {
          "source_hidden": false,
          "outputs_hidden": false
        },
        "nteract": {
          "transient": {
            "deleting": false
          }
        },
        "gather": {
          "logged": 1641708209532
        }
      }
    },
    {
      "cell_type": "code",
      "source": [
        "column_names = ['hdl_cholesterol_human_high_pred', 'hdl_cholesterol_human_low_pred', 'hdl_cholesterol_human_ok_pred', 'hemoglobin_human_high_pred', 'hemoglobin_human_low_pred', 'hemoglobin_human_ok_pred', 'cholesterol_ldl_human_high_pred', 'cholesterol_ldl_human_low_pred', 'cholesterol_ldl_human_ok_pred']\n",
        "Y_test_pred = pd.DataFrame(data=predictions, columns=column_names)"
      ],
      "outputs": [],
      "execution_count": 24,
      "metadata": {
        "jupyter": {
          "source_hidden": false,
          "outputs_hidden": false
        },
        "nteract": {
          "transient": {
            "deleting": false
          }
        },
        "gather": {
          "logged": 1641708215767
        }
      }
    },
    {
      "cell_type": "code",
      "source": [
        "Y_test_pred"
      ],
      "outputs": [
        {
          "output_type": "execute_result",
          "execution_count": 25,
          "data": {
            "text/plain": "      hdl_cholesterol_human_high_pred  hdl_cholesterol_human_low_pred  \\\n0                                   0                               1   \n1                                   0                               0   \n2                                   1                               0   \n3                                   1                               0   \n4                                   1                               0   \n...                               ...                             ...   \n2623                                0                               0   \n2624                                1                               0   \n2625                                0                               0   \n2626                                0                               1   \n2627                                1                               0   \n\n      hdl_cholesterol_human_ok_pred  hemoglobin_human_high_pred  \\\n0                                 0                           0   \n1                                 1                           0   \n2                                 0                           0   \n3                                 0                           0   \n4                                 0                           0   \n...                             ...                         ...   \n2623                              1                           0   \n2624                              0                           0   \n2625                              1                           0   \n2626                              0                           0   \n2627                              0                           0   \n\n      hemoglobin_human_low_pred  hemoglobin_human_ok_pred  \\\n0                             0                         1   \n1                             0                         1   \n2                             0                         1   \n3                             0                         1   \n4                             0                         1   \n...                         ...                       ...   \n2623                          0                         1   \n2624                          0                         1   \n2625                          0                         1   \n2626                          0                         1   \n2627                          0                         1   \n\n      cholesterol_ldl_human_high_pred  cholesterol_ldl_human_low_pred  \\\n0                                   0                               0   \n1                                   1                               0   \n2                                   1                               0   \n3                                   0                               0   \n4                                   1                               0   \n...                               ...                             ...   \n2623                                1                               0   \n2624                                1                               0   \n2625                                0                               0   \n2626                                0                               0   \n2627                                0                               0   \n\n      cholesterol_ldl_human_ok_pred  \n0                                 1  \n1                                 0  \n2                                 0  \n3                                 1  \n4                                 0  \n...                             ...  \n2623                              0  \n2624                              0  \n2625                              1  \n2626                              1  \n2627                              1  \n\n[2628 rows x 9 columns]",
            "text/html": "<div>\n<style scoped>\n    .dataframe tbody tr th:only-of-type {\n        vertical-align: middle;\n    }\n\n    .dataframe tbody tr th {\n        vertical-align: top;\n    }\n\n    .dataframe thead th {\n        text-align: right;\n    }\n</style>\n<table border=\"1\" class=\"dataframe\">\n  <thead>\n    <tr style=\"text-align: right;\">\n      <th></th>\n      <th>hdl_cholesterol_human_high_pred</th>\n      <th>hdl_cholesterol_human_low_pred</th>\n      <th>hdl_cholesterol_human_ok_pred</th>\n      <th>hemoglobin_human_high_pred</th>\n      <th>hemoglobin_human_low_pred</th>\n      <th>hemoglobin_human_ok_pred</th>\n      <th>cholesterol_ldl_human_high_pred</th>\n      <th>cholesterol_ldl_human_low_pred</th>\n      <th>cholesterol_ldl_human_ok_pred</th>\n    </tr>\n  </thead>\n  <tbody>\n    <tr>\n      <th>0</th>\n      <td>0</td>\n      <td>1</td>\n      <td>0</td>\n      <td>0</td>\n      <td>0</td>\n      <td>1</td>\n      <td>0</td>\n      <td>0</td>\n      <td>1</td>\n    </tr>\n    <tr>\n      <th>1</th>\n      <td>0</td>\n      <td>0</td>\n      <td>1</td>\n      <td>0</td>\n      <td>0</td>\n      <td>1</td>\n      <td>1</td>\n      <td>0</td>\n      <td>0</td>\n    </tr>\n    <tr>\n      <th>2</th>\n      <td>1</td>\n      <td>0</td>\n      <td>0</td>\n      <td>0</td>\n      <td>0</td>\n      <td>1</td>\n      <td>1</td>\n      <td>0</td>\n      <td>0</td>\n    </tr>\n    <tr>\n      <th>3</th>\n      <td>1</td>\n      <td>0</td>\n      <td>0</td>\n      <td>0</td>\n      <td>0</td>\n      <td>1</td>\n      <td>0</td>\n      <td>0</td>\n      <td>1</td>\n    </tr>\n    <tr>\n      <th>4</th>\n      <td>1</td>\n      <td>0</td>\n      <td>0</td>\n      <td>0</td>\n      <td>0</td>\n      <td>1</td>\n      <td>1</td>\n      <td>0</td>\n      <td>0</td>\n    </tr>\n    <tr>\n      <th>...</th>\n      <td>...</td>\n      <td>...</td>\n      <td>...</td>\n      <td>...</td>\n      <td>...</td>\n      <td>...</td>\n      <td>...</td>\n      <td>...</td>\n      <td>...</td>\n    </tr>\n    <tr>\n      <th>2623</th>\n      <td>0</td>\n      <td>0</td>\n      <td>1</td>\n      <td>0</td>\n      <td>0</td>\n      <td>1</td>\n      <td>1</td>\n      <td>0</td>\n      <td>0</td>\n    </tr>\n    <tr>\n      <th>2624</th>\n      <td>1</td>\n      <td>0</td>\n      <td>0</td>\n      <td>0</td>\n      <td>0</td>\n      <td>1</td>\n      <td>1</td>\n      <td>0</td>\n      <td>0</td>\n    </tr>\n    <tr>\n      <th>2625</th>\n      <td>0</td>\n      <td>0</td>\n      <td>1</td>\n      <td>0</td>\n      <td>0</td>\n      <td>1</td>\n      <td>0</td>\n      <td>0</td>\n      <td>1</td>\n    </tr>\n    <tr>\n      <th>2626</th>\n      <td>0</td>\n      <td>1</td>\n      <td>0</td>\n      <td>0</td>\n      <td>0</td>\n      <td>1</td>\n      <td>0</td>\n      <td>0</td>\n      <td>1</td>\n    </tr>\n    <tr>\n      <th>2627</th>\n      <td>1</td>\n      <td>0</td>\n      <td>0</td>\n      <td>0</td>\n      <td>0</td>\n      <td>1</td>\n      <td>0</td>\n      <td>0</td>\n      <td>1</td>\n    </tr>\n  </tbody>\n</table>\n<p>2628 rows × 9 columns</p>\n</div>"
          },
          "metadata": {}
        }
      ],
      "execution_count": 25,
      "metadata": {
        "jupyter": {
          "source_hidden": false,
          "outputs_hidden": false
        },
        "nteract": {
          "transient": {
            "deleting": false
          }
        },
        "gather": {
          "logged": 1641708218590
        }
      }
    },
    {
      "cell_type": "code",
      "source": [
        "Y_test_pred.loc[((Y_test_pred['hdl_cholesterol_human_high_pred']==0) & (Y_test_pred['hdl_cholesterol_human_low_pred']==0) & (Y_test_pred['hdl_cholesterol_human_ok_pred']==0)) | ((Y_test_pred['hemoglobin_human_high_pred']==0) & (Y_test_pred['hemoglobin_human_low_pred']==0) & (Y_test_pred['hemoglobin_human_ok_pred']==0)) | ((Y_test_pred['cholesterol_ldl_human_high_pred']==0) & (Y_test_pred['cholesterol_ldl_human_low_pred']==0) & (Y_test_pred['cholesterol_ldl_human_ok_pred']==0))]"
      ],
      "outputs": [
        {
          "output_type": "execute_result",
          "execution_count": 38,
          "data": {
            "text/plain": "      hdl_cholesterol_human_high_pred  hdl_cholesterol_human_low_pred  \\\n44                                  0                               0   \n75                                  0                               0   \n184                                 0                               0   \n210                                 0                               0   \n261                                 0                               0   \n339                                 0                               0   \n352                                 0                               0   \n366                                 0                               1   \n415                                 0                               0   \n539                                 1                               0   \n542                                 0                               0   \n596                                 0                               0   \n630                                 0                               0   \n667                                 0                               0   \n675                                 0                               0   \n741                                 0                               0   \n746                                 0                               0   \n750                                 0                               1   \n799                                 0                               0   \n802                                 0                               0   \n963                                 0                               0   \n982                                 0                               0   \n997                                 0                               0   \n1093                                0                               0   \n1190                                0                               0   \n1216                                1                               0   \n1240                                0                               0   \n1267                                0                               0   \n1322                                0                               0   \n1379                                0                               0   \n1414                                0                               0   \n1451                                0                               0   \n1495                                0                               0   \n1506                                1                               0   \n1548                                0                               0   \n1562                                0                               0   \n1571                                0                               0   \n1620                                1                               0   \n1716                                0                               0   \n1814                                0                               0   \n1833                                0                               0   \n1839                                0                               0   \n1871                                0                               0   \n1890                                0                               0   \n2057                                0                               0   \n2059                                0                               0   \n2116                                0                               0   \n2163                                0                               0   \n2349                                0                               1   \n2351                                0                               0   \n2394                                0                               0   \n2395                                0                               0   \n2460                                0                               0   \n2517                                0                               0   \n2518                                0                               0   \n2552                                1                               0   \n\n      hdl_cholesterol_human_ok_pred  hemoglobin_human_high_pred  \\\n44                                0                           0   \n75                                1                           0   \n184                               1                           0   \n210                               0                           0   \n261                               0                           0   \n339                               0                           0   \n352                               0                           1   \n366                               0                           1   \n415                               0                           0   \n539                               1                           0   \n542                               0                           0   \n596                               0                           0   \n630                               1                           0   \n667                               1                           0   \n675                               1                           0   \n741                               0                           0   \n746                               0                           0   \n750                               0                           0   \n799                               1                           0   \n802                               0                           0   \n963                               0                           0   \n982                               0                           0   \n997                               0                           0   \n1093                              0                           0   \n1190                              0                           0   \n1216                              0                           0   \n1240                              0                           0   \n1267                              0                           0   \n1322                              0                           0   \n1379                              0                           0   \n1414                              1                           0   \n1451                              1                           0   \n1495                              0                           0   \n1506                              0                           0   \n1548                              0                           0   \n1562                              1                           0   \n1571                              0                           0   \n1620                              0                           0   \n1716                              1                           0   \n1814                              1                           0   \n1833                              1                           0   \n1839                              1                           0   \n1871                              0                           0   \n1890                              1                           0   \n2057                              0                           0   \n2059                              0                           0   \n2116                              0                           0   \n2163                              1                           0   \n2349                              0                           0   \n2351                              0                           0   \n2394                              1                           0   \n2395                              0                           0   \n2460                              0                           0   \n2517                              1                           0   \n2518                              1                           0   \n2552                              0                           0   \n\n      hemoglobin_human_low_pred  hemoglobin_human_ok_pred  \\\n44                            0                         1   \n75                            0                         1   \n184                           0                         0   \n210                           0                         1   \n261                           0                         1   \n339                           0                         1   \n352                           0                         0   \n366                           0                         0   \n415                           0                         1   \n539                           0                         0   \n542                           0                         1   \n596                           0                         1   \n630                           0                         1   \n667                           0                         1   \n675                           0                         0   \n741                           1                         0   \n746                           0                         1   \n750                           0                         1   \n799                           0                         1   \n802                           0                         1   \n963                           0                         1   \n982                           0                         1   \n997                           0                         1   \n1093                          1                         0   \n1190                          0                         1   \n1216                          1                         0   \n1240                          0                         1   \n1267                          0                         1   \n1322                          0                         1   \n1379                          1                         0   \n1414                          0                         1   \n1451                          0                         1   \n1495                          0                         1   \n1506                          0                         1   \n1548                          0                         1   \n1562                          0                         1   \n1571                          0                         1   \n1620                          0                         1   \n1716                          0                         1   \n1814                          0                         0   \n1833                          0                         1   \n1839                          1                         0   \n1871                          0                         1   \n1890                          0                         0   \n2057                          0                         1   \n2059                          0                         1   \n2116                          0                         1   \n2163                          0                         0   \n2349                          0                         1   \n2351                          0                         1   \n2394                          0                         1   \n2395                          0                         1   \n2460                          0                         1   \n2517                          0                         1   \n2518                          0                         0   \n2552                          0                         1   \n\n      cholesterol_ldl_human_high_pred  cholesterol_ldl_human_low_pred  \\\n44                                  0                               0   \n75                                  0                               0   \n184                                 0                               0   \n210                                 1                               0   \n261                                 0                               0   \n339                                 1                               0   \n352                                 0                               0   \n366                                 0                               0   \n415                                 0                               0   \n539                                 0                               0   \n542                                 1                               0   \n596                                 1                               0   \n630                                 0                               0   \n667                                 0                               0   \n675                                 0                               0   \n741                                 0                               0   \n746                                 1                               0   \n750                                 0                               0   \n799                                 0                               0   \n802                                 1                               0   \n963                                 1                               0   \n982                                 1                               0   \n997                                 0                               0   \n1093                                0                               0   \n1190                                0                               0   \n1216                                0                               0   \n1240                                0                               0   \n1267                                1                               0   \n1322                                0                               1   \n1379                                0                               1   \n1414                                0                               0   \n1451                                0                               0   \n1495                                0                               0   \n1506                                0                               0   \n1548                                0                               1   \n1562                                0                               0   \n1571                                0                               0   \n1620                                0                               0   \n1716                                0                               0   \n1814                                1                               0   \n1833                                0                               0   \n1839                                0                               0   \n1871                                0                               0   \n1890                                0                               1   \n2057                                0                               0   \n2059                                0                               0   \n2116                                0                               1   \n2163                                0                               0   \n2349                                0                               0   \n2351                                0                               1   \n2394                                0                               0   \n2395                                1                               0   \n2460                                0                               0   \n2517                                0                               0   \n2518                                0                               0   \n2552                                0                               0   \n\n      cholesterol_ldl_human_ok_pred  \n44                                0  \n75                                0  \n184                               1  \n210                               0  \n261                               1  \n339                               0  \n352                               1  \n366                               0  \n415                               1  \n539                               1  \n542                               0  \n596                               0  \n630                               0  \n667                               0  \n675                               1  \n741                               1  \n746                               0  \n750                               0  \n799                               0  \n802                               0  \n963                               0  \n982                               0  \n997                               1  \n1093                              1  \n1190                              1  \n1216                              0  \n1240                              1  \n1267                              0  \n1322                              0  \n1379                              1  \n1414                              0  \n1451                              0  \n1495                              1  \n1506                              0  \n1548                              0  \n1562                              0  \n1571                              1  \n1620                              0  \n1716                              0  \n1814                              0  \n1833                              0  \n1839                              0  \n1871                              1  \n1890                              1  \n2057                              1  \n2059                              1  \n2116                              0  \n2163                              1  \n2349                              0  \n2351                              0  \n2394                              0  \n2395                              0  \n2460                              1  \n2517                              0  \n2518                              0  \n2552                              0  ",
            "text/html": "<div>\n<style scoped>\n    .dataframe tbody tr th:only-of-type {\n        vertical-align: middle;\n    }\n\n    .dataframe tbody tr th {\n        vertical-align: top;\n    }\n\n    .dataframe thead th {\n        text-align: right;\n    }\n</style>\n<table border=\"1\" class=\"dataframe\">\n  <thead>\n    <tr style=\"text-align: right;\">\n      <th></th>\n      <th>hdl_cholesterol_human_high_pred</th>\n      <th>hdl_cholesterol_human_low_pred</th>\n      <th>hdl_cholesterol_human_ok_pred</th>\n      <th>hemoglobin_human_high_pred</th>\n      <th>hemoglobin_human_low_pred</th>\n      <th>hemoglobin_human_ok_pred</th>\n      <th>cholesterol_ldl_human_high_pred</th>\n      <th>cholesterol_ldl_human_low_pred</th>\n      <th>cholesterol_ldl_human_ok_pred</th>\n    </tr>\n  </thead>\n  <tbody>\n    <tr>\n      <th>44</th>\n      <td>0</td>\n      <td>0</td>\n      <td>0</td>\n      <td>0</td>\n      <td>0</td>\n      <td>1</td>\n      <td>0</td>\n      <td>0</td>\n      <td>0</td>\n    </tr>\n    <tr>\n      <th>75</th>\n      <td>0</td>\n      <td>0</td>\n      <td>1</td>\n      <td>0</td>\n      <td>0</td>\n      <td>1</td>\n      <td>0</td>\n      <td>0</td>\n      <td>0</td>\n    </tr>\n    <tr>\n      <th>184</th>\n      <td>0</td>\n      <td>0</td>\n      <td>1</td>\n      <td>0</td>\n      <td>0</td>\n      <td>0</td>\n      <td>0</td>\n      <td>0</td>\n      <td>1</td>\n    </tr>\n    <tr>\n      <th>210</th>\n      <td>0</td>\n      <td>0</td>\n      <td>0</td>\n      <td>0</td>\n      <td>0</td>\n      <td>1</td>\n      <td>1</td>\n      <td>0</td>\n      <td>0</td>\n    </tr>\n    <tr>\n      <th>261</th>\n      <td>0</td>\n      <td>0</td>\n      <td>0</td>\n      <td>0</td>\n      <td>0</td>\n      <td>1</td>\n      <td>0</td>\n      <td>0</td>\n      <td>1</td>\n    </tr>\n    <tr>\n      <th>339</th>\n      <td>0</td>\n      <td>0</td>\n      <td>0</td>\n      <td>0</td>\n      <td>0</td>\n      <td>1</td>\n      <td>1</td>\n      <td>0</td>\n      <td>0</td>\n    </tr>\n    <tr>\n      <th>352</th>\n      <td>0</td>\n      <td>0</td>\n      <td>0</td>\n      <td>1</td>\n      <td>0</td>\n      <td>0</td>\n      <td>0</td>\n      <td>0</td>\n      <td>1</td>\n    </tr>\n    <tr>\n      <th>366</th>\n      <td>0</td>\n      <td>1</td>\n      <td>0</td>\n      <td>1</td>\n      <td>0</td>\n      <td>0</td>\n      <td>0</td>\n      <td>0</td>\n      <td>0</td>\n    </tr>\n    <tr>\n      <th>415</th>\n      <td>0</td>\n      <td>0</td>\n      <td>0</td>\n      <td>0</td>\n      <td>0</td>\n      <td>1</td>\n      <td>0</td>\n      <td>0</td>\n      <td>1</td>\n    </tr>\n    <tr>\n      <th>539</th>\n      <td>1</td>\n      <td>0</td>\n      <td>1</td>\n      <td>0</td>\n      <td>0</td>\n      <td>0</td>\n      <td>0</td>\n      <td>0</td>\n      <td>1</td>\n    </tr>\n    <tr>\n      <th>542</th>\n      <td>0</td>\n      <td>0</td>\n      <td>0</td>\n      <td>0</td>\n      <td>0</td>\n      <td>1</td>\n      <td>1</td>\n      <td>0</td>\n      <td>0</td>\n    </tr>\n    <tr>\n      <th>596</th>\n      <td>0</td>\n      <td>0</td>\n      <td>0</td>\n      <td>0</td>\n      <td>0</td>\n      <td>1</td>\n      <td>1</td>\n      <td>0</td>\n      <td>0</td>\n    </tr>\n    <tr>\n      <th>630</th>\n      <td>0</td>\n      <td>0</td>\n      <td>1</td>\n      <td>0</td>\n      <td>0</td>\n      <td>1</td>\n      <td>0</td>\n      <td>0</td>\n      <td>0</td>\n    </tr>\n    <tr>\n      <th>667</th>\n      <td>0</td>\n      <td>0</td>\n      <td>1</td>\n      <td>0</td>\n      <td>0</td>\n      <td>1</td>\n      <td>0</td>\n      <td>0</td>\n      <td>0</td>\n    </tr>\n    <tr>\n      <th>675</th>\n      <td>0</td>\n      <td>0</td>\n      <td>1</td>\n      <td>0</td>\n      <td>0</td>\n      <td>0</td>\n      <td>0</td>\n      <td>0</td>\n      <td>1</td>\n    </tr>\n    <tr>\n      <th>741</th>\n      <td>0</td>\n      <td>0</td>\n      <td>0</td>\n      <td>0</td>\n      <td>1</td>\n      <td>0</td>\n      <td>0</td>\n      <td>0</td>\n      <td>1</td>\n    </tr>\n    <tr>\n      <th>746</th>\n      <td>0</td>\n      <td>0</td>\n      <td>0</td>\n      <td>0</td>\n      <td>0</td>\n      <td>1</td>\n      <td>1</td>\n      <td>0</td>\n      <td>0</td>\n    </tr>\n    <tr>\n      <th>750</th>\n      <td>0</td>\n      <td>1</td>\n      <td>0</td>\n      <td>0</td>\n      <td>0</td>\n      <td>1</td>\n      <td>0</td>\n      <td>0</td>\n      <td>0</td>\n    </tr>\n    <tr>\n      <th>799</th>\n      <td>0</td>\n      <td>0</td>\n      <td>1</td>\n      <td>0</td>\n      <td>0</td>\n      <td>1</td>\n      <td>0</td>\n      <td>0</td>\n      <td>0</td>\n    </tr>\n    <tr>\n      <th>802</th>\n      <td>0</td>\n      <td>0</td>\n      <td>0</td>\n      <td>0</td>\n      <td>0</td>\n      <td>1</td>\n      <td>1</td>\n      <td>0</td>\n      <td>0</td>\n    </tr>\n    <tr>\n      <th>963</th>\n      <td>0</td>\n      <td>0</td>\n      <td>0</td>\n      <td>0</td>\n      <td>0</td>\n      <td>1</td>\n      <td>1</td>\n      <td>0</td>\n      <td>0</td>\n    </tr>\n    <tr>\n      <th>982</th>\n      <td>0</td>\n      <td>0</td>\n      <td>0</td>\n      <td>0</td>\n      <td>0</td>\n      <td>1</td>\n      <td>1</td>\n      <td>0</td>\n      <td>0</td>\n    </tr>\n    <tr>\n      <th>997</th>\n      <td>0</td>\n      <td>0</td>\n      <td>0</td>\n      <td>0</td>\n      <td>0</td>\n      <td>1</td>\n      <td>0</td>\n      <td>0</td>\n      <td>1</td>\n    </tr>\n    <tr>\n      <th>1093</th>\n      <td>0</td>\n      <td>0</td>\n      <td>0</td>\n      <td>0</td>\n      <td>1</td>\n      <td>0</td>\n      <td>0</td>\n      <td>0</td>\n      <td>1</td>\n    </tr>\n    <tr>\n      <th>1190</th>\n      <td>0</td>\n      <td>0</td>\n      <td>0</td>\n      <td>0</td>\n      <td>0</td>\n      <td>1</td>\n      <td>0</td>\n      <td>0</td>\n      <td>1</td>\n    </tr>\n    <tr>\n      <th>1216</th>\n      <td>1</td>\n      <td>0</td>\n      <td>0</td>\n      <td>0</td>\n      <td>1</td>\n      <td>0</td>\n      <td>0</td>\n      <td>0</td>\n      <td>0</td>\n    </tr>\n    <tr>\n      <th>1240</th>\n      <td>0</td>\n      <td>0</td>\n      <td>0</td>\n      <td>0</td>\n      <td>0</td>\n      <td>1</td>\n      <td>0</td>\n      <td>0</td>\n      <td>1</td>\n    </tr>\n    <tr>\n      <th>1267</th>\n      <td>0</td>\n      <td>0</td>\n      <td>0</td>\n      <td>0</td>\n      <td>0</td>\n      <td>1</td>\n      <td>1</td>\n      <td>0</td>\n      <td>0</td>\n    </tr>\n    <tr>\n      <th>1322</th>\n      <td>0</td>\n      <td>0</td>\n      <td>0</td>\n      <td>0</td>\n      <td>0</td>\n      <td>1</td>\n      <td>0</td>\n      <td>1</td>\n      <td>0</td>\n    </tr>\n    <tr>\n      <th>1379</th>\n      <td>0</td>\n      <td>0</td>\n      <td>0</td>\n      <td>0</td>\n      <td>1</td>\n      <td>0</td>\n      <td>0</td>\n      <td>1</td>\n      <td>1</td>\n    </tr>\n    <tr>\n      <th>1414</th>\n      <td>0</td>\n      <td>0</td>\n      <td>1</td>\n      <td>0</td>\n      <td>0</td>\n      <td>1</td>\n      <td>0</td>\n      <td>0</td>\n      <td>0</td>\n    </tr>\n    <tr>\n      <th>1451</th>\n      <td>0</td>\n      <td>0</td>\n      <td>1</td>\n      <td>0</td>\n      <td>0</td>\n      <td>1</td>\n      <td>0</td>\n      <td>0</td>\n      <td>0</td>\n    </tr>\n    <tr>\n      <th>1495</th>\n      <td>0</td>\n      <td>0</td>\n      <td>0</td>\n      <td>0</td>\n      <td>0</td>\n      <td>1</td>\n      <td>0</td>\n      <td>0</td>\n      <td>1</td>\n    </tr>\n    <tr>\n      <th>1506</th>\n      <td>1</td>\n      <td>0</td>\n      <td>0</td>\n      <td>0</td>\n      <td>0</td>\n      <td>1</td>\n      <td>0</td>\n      <td>0</td>\n      <td>0</td>\n    </tr>\n    <tr>\n      <th>1548</th>\n      <td>0</td>\n      <td>0</td>\n      <td>0</td>\n      <td>0</td>\n      <td>0</td>\n      <td>1</td>\n      <td>0</td>\n      <td>1</td>\n      <td>0</td>\n    </tr>\n    <tr>\n      <th>1562</th>\n      <td>0</td>\n      <td>0</td>\n      <td>1</td>\n      <td>0</td>\n      <td>0</td>\n      <td>1</td>\n      <td>0</td>\n      <td>0</td>\n      <td>0</td>\n    </tr>\n    <tr>\n      <th>1571</th>\n      <td>0</td>\n      <td>0</td>\n      <td>0</td>\n      <td>0</td>\n      <td>0</td>\n      <td>1</td>\n      <td>0</td>\n      <td>0</td>\n      <td>1</td>\n    </tr>\n    <tr>\n      <th>1620</th>\n      <td>1</td>\n      <td>0</td>\n      <td>0</td>\n      <td>0</td>\n      <td>0</td>\n      <td>1</td>\n      <td>0</td>\n      <td>0</td>\n      <td>0</td>\n    </tr>\n    <tr>\n      <th>1716</th>\n      <td>0</td>\n      <td>0</td>\n      <td>1</td>\n      <td>0</td>\n      <td>0</td>\n      <td>1</td>\n      <td>0</td>\n      <td>0</td>\n      <td>0</td>\n    </tr>\n    <tr>\n      <th>1814</th>\n      <td>0</td>\n      <td>0</td>\n      <td>1</td>\n      <td>0</td>\n      <td>0</td>\n      <td>0</td>\n      <td>1</td>\n      <td>0</td>\n      <td>0</td>\n    </tr>\n    <tr>\n      <th>1833</th>\n      <td>0</td>\n      <td>0</td>\n      <td>1</td>\n      <td>0</td>\n      <td>0</td>\n      <td>1</td>\n      <td>0</td>\n      <td>0</td>\n      <td>0</td>\n    </tr>\n    <tr>\n      <th>1839</th>\n      <td>0</td>\n      <td>0</td>\n      <td>1</td>\n      <td>0</td>\n      <td>1</td>\n      <td>0</td>\n      <td>0</td>\n      <td>0</td>\n      <td>0</td>\n    </tr>\n    <tr>\n      <th>1871</th>\n      <td>0</td>\n      <td>0</td>\n      <td>0</td>\n      <td>0</td>\n      <td>0</td>\n      <td>1</td>\n      <td>0</td>\n      <td>0</td>\n      <td>1</td>\n    </tr>\n    <tr>\n      <th>1890</th>\n      <td>0</td>\n      <td>0</td>\n      <td>1</td>\n      <td>0</td>\n      <td>0</td>\n      <td>0</td>\n      <td>0</td>\n      <td>1</td>\n      <td>1</td>\n    </tr>\n    <tr>\n      <th>2057</th>\n      <td>0</td>\n      <td>0</td>\n      <td>0</td>\n      <td>0</td>\n      <td>0</td>\n      <td>1</td>\n      <td>0</td>\n      <td>0</td>\n      <td>1</td>\n    </tr>\n    <tr>\n      <th>2059</th>\n      <td>0</td>\n      <td>0</td>\n      <td>0</td>\n      <td>0</td>\n      <td>0</td>\n      <td>1</td>\n      <td>0</td>\n      <td>0</td>\n      <td>1</td>\n    </tr>\n    <tr>\n      <th>2116</th>\n      <td>0</td>\n      <td>0</td>\n      <td>0</td>\n      <td>0</td>\n      <td>0</td>\n      <td>1</td>\n      <td>0</td>\n      <td>1</td>\n      <td>0</td>\n    </tr>\n    <tr>\n      <th>2163</th>\n      <td>0</td>\n      <td>0</td>\n      <td>1</td>\n      <td>0</td>\n      <td>0</td>\n      <td>0</td>\n      <td>0</td>\n      <td>0</td>\n      <td>1</td>\n    </tr>\n    <tr>\n      <th>2349</th>\n      <td>0</td>\n      <td>1</td>\n      <td>0</td>\n      <td>0</td>\n      <td>0</td>\n      <td>1</td>\n      <td>0</td>\n      <td>0</td>\n      <td>0</td>\n    </tr>\n    <tr>\n      <th>2351</th>\n      <td>0</td>\n      <td>0</td>\n      <td>0</td>\n      <td>0</td>\n      <td>0</td>\n      <td>1</td>\n      <td>0</td>\n      <td>1</td>\n      <td>0</td>\n    </tr>\n    <tr>\n      <th>2394</th>\n      <td>0</td>\n      <td>0</td>\n      <td>1</td>\n      <td>0</td>\n      <td>0</td>\n      <td>1</td>\n      <td>0</td>\n      <td>0</td>\n      <td>0</td>\n    </tr>\n    <tr>\n      <th>2395</th>\n      <td>0</td>\n      <td>0</td>\n      <td>0</td>\n      <td>0</td>\n      <td>0</td>\n      <td>1</td>\n      <td>1</td>\n      <td>0</td>\n      <td>0</td>\n    </tr>\n    <tr>\n      <th>2460</th>\n      <td>0</td>\n      <td>0</td>\n      <td>0</td>\n      <td>0</td>\n      <td>0</td>\n      <td>1</td>\n      <td>0</td>\n      <td>0</td>\n      <td>1</td>\n    </tr>\n    <tr>\n      <th>2517</th>\n      <td>0</td>\n      <td>0</td>\n      <td>1</td>\n      <td>0</td>\n      <td>0</td>\n      <td>1</td>\n      <td>0</td>\n      <td>0</td>\n      <td>0</td>\n    </tr>\n    <tr>\n      <th>2518</th>\n      <td>0</td>\n      <td>0</td>\n      <td>1</td>\n      <td>0</td>\n      <td>0</td>\n      <td>0</td>\n      <td>0</td>\n      <td>0</td>\n      <td>0</td>\n    </tr>\n    <tr>\n      <th>2552</th>\n      <td>1</td>\n      <td>0</td>\n      <td>0</td>\n      <td>0</td>\n      <td>0</td>\n      <td>1</td>\n      <td>0</td>\n      <td>0</td>\n      <td>0</td>\n    </tr>\n  </tbody>\n</table>\n</div>"
          },
          "metadata": {}
        }
      ],
      "execution_count": 38,
      "metadata": {
        "jupyter": {
          "source_hidden": false,
          "outputs_hidden": false
        },
        "nteract": {
          "transient": {
            "deleting": false
          }
        },
        "gather": {
          "logged": 1641777056480
        }
      }
    },
    {
      "cell_type": "code",
      "source": [
        "mcm = multilabel_confusion_matrix(Y_true, Y_test_pred)\n",
        "print(mcm)"
      ],
      "outputs": [
        {
          "output_type": "stream",
          "name": "stdout",
          "text": "[[[2114   11]\n  [  13  490]]\n\n [[2011    7]\n  [  14  596]]\n\n [[1098   15]\n  [  15 1500]]\n\n [[2437    0]\n  [   5  186]]\n\n [[2515    1]\n  [   1  111]]\n\n [[ 296    7]\n  [   5 2320]]\n\n [[1595    7]\n  [  11 1015]]\n\n [[2519    2]\n  [   3  104]]\n\n [[1118   15]\n  [  14 1481]]]\n"
        }
      ],
      "execution_count": 26,
      "metadata": {
        "jupyter": {
          "source_hidden": false,
          "outputs_hidden": false
        },
        "nteract": {
          "transient": {
            "deleting": false
          }
        },
        "gather": {
          "logged": 1641708223471
        }
      }
    },
    {
      "cell_type": "code",
      "source": [
        "print(classification_report(Y_true, Y_test_pred))"
      ],
      "outputs": [
        {
          "output_type": "stream",
          "name": "stdout",
          "text": "              precision    recall  f1-score   support\n\n           0       0.98      0.97      0.98       503\n           1       0.99      0.98      0.98       610\n           2       0.99      0.99      0.99      1515\n           3       1.00      0.97      0.99       191\n           4       0.99      0.99      0.99       112\n           5       1.00      1.00      1.00      2325\n           6       0.99      0.99      0.99      1026\n           7       0.98      0.97      0.98       107\n           8       0.99      0.99      0.99      1495\n\n   micro avg       0.99      0.99      0.99      7884\n   macro avg       0.99      0.98      0.99      7884\nweighted avg       0.99      0.99      0.99      7884\n samples avg       0.99      0.99      0.99      7884\n\n"
        }
      ],
      "execution_count": 27,
      "metadata": {
        "jupyter": {
          "source_hidden": false,
          "outputs_hidden": false
        },
        "nteract": {
          "transient": {
            "deleting": false
          }
        },
        "gather": {
          "logged": 1641708228354
        }
      }
    },
    {
      "cell_type": "code",
      "source": [
        "# Normalization of X\n",
        "\n",
        "# https://www.analyticsvidhya.com/blog/2020/04/feature-scaling-machine-learning-normalization-standardization/\n",
        "#Normalization is good to use when you know that the distribution of your data does not follow a \n",
        "#Gaussian distribution. \n",
        "#This can be useful in algorithms that do not assume any distribution of the data like \n",
        "#K-Nearest Neighbors and Neural Networks.\n",
        "#Standardization, on the other hand, can be helpful in cases where the data follows a Gaussian distribution. \n",
        "#However, this does not have to be necessarily true. Also, unlike normalization, standardization does not have a \n",
        "#bounding range. So, even if you have outliers in your data, they will not be affected by standardization.\n",
        "\n",
        "#https://machinelearningmastery.com/how-to-improve-neural-network-stability-and-modeling-performance-with-data-scaling/\n",
        "#If the distribution of the quantity is normal, then it should be standardized, otherwise the data should \n",
        "#be normalized. This applies if the range of quantity values is large (10s, 100s, etc.) or small (0.01, 0.0001).\n",
        "\n",
        "from sklearn.preprocessing import MinMaxScaler\n",
        "\n",
        "# fit scaler on training data\n",
        "norm_2 = MinMaxScaler().fit(unk_data)\n",
        "\n",
        "# transform training data\n",
        "unk_data_norm = norm_2.transform(unk_data)\n",
        "\n",
        "# transform validation data\n",
        "# X_val_norm = norm.transform(X_val)\n",
        "\n",
        "# transform test data\n",
        "# X_test_norm = norm.transform(X_test)"
      ],
      "outputs": [],
      "execution_count": 28,
      "metadata": {
        "jupyter": {
          "source_hidden": false,
          "outputs_hidden": false
        },
        "nteract": {
          "transient": {
            "deleting": false
          }
        },
        "gather": {
          "logged": 1641708240882
        }
      }
    },
    {
      "cell_type": "code",
      "source": [
        "unkown_probab = saved_model.predict(unk_data_norm)"
      ],
      "outputs": [],
      "execution_count": 34,
      "metadata": {
        "jupyter": {
          "source_hidden": false,
          "outputs_hidden": false
        },
        "nteract": {
          "transient": {
            "deleting": false
          }
        },
        "gather": {
          "logged": 1641757803695
        }
      }
    },
    {
      "cell_type": "code",
      "source": [
        "unkown_probab"
      ],
      "outputs": [
        {
          "output_type": "execute_result",
          "execution_count": 35,
          "data": {
            "text/plain": "array([[3.3300190e-19, 1.7679261e-01, 4.7411951e-03, ..., 7.2072142e-01,\n        0.0000000e+00, 3.4793511e-01],\n       [9.9994564e-01, 2.0428747e-04, 1.7367582e-05, ..., 7.5700742e-01,\n        1.7391457e-08, 6.4820014e-02],\n       [0.0000000e+00, 0.0000000e+00, 1.0000000e+00, ..., 1.0000000e+00,\n        0.0000000e+00, 0.0000000e+00],\n       ...,\n       [8.6704624e-14, 1.3059787e-37, 1.0000000e+00, ..., 3.6689325e-21,\n        7.9901854e-20, 1.0000000e+00],\n       [9.9941874e-01, 9.1222712e-25, 1.0000000e+00, ..., 1.0000000e+00,\n        0.0000000e+00, 2.9010723e-06],\n       [3.6019888e-02, 1.0391324e-06, 2.1282660e-03, ..., 2.6889297e-04,\n        2.2547489e-21, 1.0000000e+00]], dtype=float32)"
          },
          "metadata": {}
        }
      ],
      "execution_count": 35,
      "metadata": {
        "jupyter": {
          "source_hidden": false,
          "outputs_hidden": false
        },
        "nteract": {
          "transient": {
            "deleting": false
          }
        },
        "gather": {
          "logged": 1641757817701
        }
      }
    },
    {
      "cell_type": "code",
      "source": [
        "unknown_predictions = (saved_model.predict(unk_data_norm) > 0.5).astype('int32')\n",
        "column_names = ['hdl_cholesterol_human_high_pred', 'hdl_cholesterol_human_low_pred', 'hdl_cholesterol_human_ok_pred', 'hemoglobin_human_high_pred', 'hemoglobin_human_low_pred', 'hemoglobin_human_ok_pred', 'cholesterol_ldl_human_high_pred', 'cholesterol_ldl_human_low_pred', 'cholesterol_ldl_human_ok_pred']\n",
        "unknown_pred_classes = pd.DataFrame(data=unknown_predictions, columns=column_names)"
      ],
      "outputs": [],
      "execution_count": 29,
      "metadata": {
        "jupyter": {
          "source_hidden": false,
          "outputs_hidden": false
        },
        "nteract": {
          "transient": {
            "deleting": false
          }
        },
        "gather": {
          "logged": 1641708244351
        }
      }
    },
    {
      "cell_type": "code",
      "source": [
        "unknown_pred_classes"
      ],
      "outputs": [
        {
          "output_type": "execute_result",
          "execution_count": 30,
          "data": {
            "text/plain": "      hdl_cholesterol_human_high_pred  hdl_cholesterol_human_low_pred  \\\n0                                   0                               0   \n1                                   1                               0   \n2                                   0                               0   \n3                                   1                               1   \n4                                   1                               0   \n...                               ...                             ...   \n3655                                1                               0   \n3656                                0                               0   \n3657                                0                               0   \n3658                                1                               0   \n3659                                0                               0   \n\n      hdl_cholesterol_human_ok_pred  hemoglobin_human_high_pred  \\\n0                                 0                           0   \n1                                 0                           0   \n2                                 1                           0   \n3                                 0                           0   \n4                                 1                           0   \n...                             ...                         ...   \n3655                              0                           0   \n3656                              1                           0   \n3657                              1                           0   \n3658                              1                           0   \n3659                              0                           0   \n\n      hemoglobin_human_low_pred  hemoglobin_human_ok_pred  \\\n0                             1                         0   \n1                             0                         1   \n2                             0                         1   \n3                             1                         1   \n4                             0                         1   \n...                         ...                       ...   \n3655                          0                         1   \n3656                          0                         1   \n3657                          0                         1   \n3658                          0                         1   \n3659                          0                         1   \n\n      cholesterol_ldl_human_high_pred  cholesterol_ldl_human_low_pred  \\\n0                                   1                               0   \n1                                   1                               0   \n2                                   1                               0   \n3                                   0                               0   \n4                                   0                               0   \n...                               ...                             ...   \n3655                                1                               0   \n3656                                0                               0   \n3657                                0                               0   \n3658                                1                               0   \n3659                                0                               0   \n\n      cholesterol_ldl_human_ok_pred  \n0                                 0  \n1                                 0  \n2                                 0  \n3                                 1  \n4                                 1  \n...                             ...  \n3655                              0  \n3656                              1  \n3657                              1  \n3658                              0  \n3659                              1  \n\n[3660 rows x 9 columns]",
            "text/html": "<div>\n<style scoped>\n    .dataframe tbody tr th:only-of-type {\n        vertical-align: middle;\n    }\n\n    .dataframe tbody tr th {\n        vertical-align: top;\n    }\n\n    .dataframe thead th {\n        text-align: right;\n    }\n</style>\n<table border=\"1\" class=\"dataframe\">\n  <thead>\n    <tr style=\"text-align: right;\">\n      <th></th>\n      <th>hdl_cholesterol_human_high_pred</th>\n      <th>hdl_cholesterol_human_low_pred</th>\n      <th>hdl_cholesterol_human_ok_pred</th>\n      <th>hemoglobin_human_high_pred</th>\n      <th>hemoglobin_human_low_pred</th>\n      <th>hemoglobin_human_ok_pred</th>\n      <th>cholesterol_ldl_human_high_pred</th>\n      <th>cholesterol_ldl_human_low_pred</th>\n      <th>cholesterol_ldl_human_ok_pred</th>\n    </tr>\n  </thead>\n  <tbody>\n    <tr>\n      <th>0</th>\n      <td>0</td>\n      <td>0</td>\n      <td>0</td>\n      <td>0</td>\n      <td>1</td>\n      <td>0</td>\n      <td>1</td>\n      <td>0</td>\n      <td>0</td>\n    </tr>\n    <tr>\n      <th>1</th>\n      <td>1</td>\n      <td>0</td>\n      <td>0</td>\n      <td>0</td>\n      <td>0</td>\n      <td>1</td>\n      <td>1</td>\n      <td>0</td>\n      <td>0</td>\n    </tr>\n    <tr>\n      <th>2</th>\n      <td>0</td>\n      <td>0</td>\n      <td>1</td>\n      <td>0</td>\n      <td>0</td>\n      <td>1</td>\n      <td>1</td>\n      <td>0</td>\n      <td>0</td>\n    </tr>\n    <tr>\n      <th>3</th>\n      <td>1</td>\n      <td>1</td>\n      <td>0</td>\n      <td>0</td>\n      <td>1</td>\n      <td>1</td>\n      <td>0</td>\n      <td>0</td>\n      <td>1</td>\n    </tr>\n    <tr>\n      <th>4</th>\n      <td>1</td>\n      <td>0</td>\n      <td>1</td>\n      <td>0</td>\n      <td>0</td>\n      <td>1</td>\n      <td>0</td>\n      <td>0</td>\n      <td>1</td>\n    </tr>\n    <tr>\n      <th>...</th>\n      <td>...</td>\n      <td>...</td>\n      <td>...</td>\n      <td>...</td>\n      <td>...</td>\n      <td>...</td>\n      <td>...</td>\n      <td>...</td>\n      <td>...</td>\n    </tr>\n    <tr>\n      <th>3655</th>\n      <td>1</td>\n      <td>0</td>\n      <td>0</td>\n      <td>0</td>\n      <td>0</td>\n      <td>1</td>\n      <td>1</td>\n      <td>0</td>\n      <td>0</td>\n    </tr>\n    <tr>\n      <th>3656</th>\n      <td>0</td>\n      <td>0</td>\n      <td>1</td>\n      <td>0</td>\n      <td>0</td>\n      <td>1</td>\n      <td>0</td>\n      <td>0</td>\n      <td>1</td>\n    </tr>\n    <tr>\n      <th>3657</th>\n      <td>0</td>\n      <td>0</td>\n      <td>1</td>\n      <td>0</td>\n      <td>0</td>\n      <td>1</td>\n      <td>0</td>\n      <td>0</td>\n      <td>1</td>\n    </tr>\n    <tr>\n      <th>3658</th>\n      <td>1</td>\n      <td>0</td>\n      <td>1</td>\n      <td>0</td>\n      <td>0</td>\n      <td>1</td>\n      <td>1</td>\n      <td>0</td>\n      <td>0</td>\n    </tr>\n    <tr>\n      <th>3659</th>\n      <td>0</td>\n      <td>0</td>\n      <td>0</td>\n      <td>0</td>\n      <td>0</td>\n      <td>1</td>\n      <td>0</td>\n      <td>0</td>\n      <td>1</td>\n    </tr>\n  </tbody>\n</table>\n<p>3660 rows × 9 columns</p>\n</div>"
          },
          "metadata": {}
        }
      ],
      "execution_count": 30,
      "metadata": {
        "jupyter": {
          "source_hidden": false,
          "outputs_hidden": false
        },
        "nteract": {
          "transient": {
            "deleting": false
          }
        },
        "gather": {
          "logged": 1641708247979
        }
      }
    },
    {
      "cell_type": "code",
      "source": [
        "total_df = pd.concat([ID_df, unknown_pred_classes], axis=1)"
      ],
      "outputs": [],
      "execution_count": 31,
      "metadata": {
        "jupyter": {
          "source_hidden": false,
          "outputs_hidden": false
        },
        "nteract": {
          "transient": {
            "deleting": false
          }
        },
        "gather": {
          "logged": 1641708253518
        }
      }
    },
    {
      "cell_type": "code",
      "source": [
        "total_df"
      ],
      "outputs": [
        {
          "output_type": "execute_result",
          "execution_count": 32,
          "data": {
            "text/plain": "       Reading_ID  hdl_cholesterol_human_high_pred  \\\n0     ID_37BEI22R                                0   \n1     ID_4W85V5DV                                1   \n2     ID_L4YR3NDY                                0   \n3     ID_U88E3SQ6                                1   \n4     ID_NW7Z3XU7                                1   \n...           ...                              ...   \n3655  ID_ADCBL266                                1   \n3656  ID_SW51B61O                                0   \n3657  ID_CO8IHJRA                                0   \n3658  ID_VN5CP3ZZ                                1   \n3659  ID_UPO13B7Z                                0   \n\n      hdl_cholesterol_human_low_pred  hdl_cholesterol_human_ok_pred  \\\n0                                  0                              0   \n1                                  0                              0   \n2                                  0                              1   \n3                                  1                              0   \n4                                  0                              1   \n...                              ...                            ...   \n3655                               0                              0   \n3656                               0                              1   \n3657                               0                              1   \n3658                               0                              1   \n3659                               0                              0   \n\n      hemoglobin_human_high_pred  hemoglobin_human_low_pred  \\\n0                              0                          1   \n1                              0                          0   \n2                              0                          0   \n3                              0                          1   \n4                              0                          0   \n...                          ...                        ...   \n3655                           0                          0   \n3656                           0                          0   \n3657                           0                          0   \n3658                           0                          0   \n3659                           0                          0   \n\n      hemoglobin_human_ok_pred  cholesterol_ldl_human_high_pred  \\\n0                            0                                1   \n1                            1                                1   \n2                            1                                1   \n3                            1                                0   \n4                            1                                0   \n...                        ...                              ...   \n3655                         1                                1   \n3656                         1                                0   \n3657                         1                                0   \n3658                         1                                1   \n3659                         1                                0   \n\n      cholesterol_ldl_human_low_pred  cholesterol_ldl_human_ok_pred  \n0                                  0                              0  \n1                                  0                              0  \n2                                  0                              0  \n3                                  0                              1  \n4                                  0                              1  \n...                              ...                            ...  \n3655                               0                              0  \n3656                               0                              1  \n3657                               0                              1  \n3658                               0                              0  \n3659                               0                              1  \n\n[3660 rows x 10 columns]",
            "text/html": "<div>\n<style scoped>\n    .dataframe tbody tr th:only-of-type {\n        vertical-align: middle;\n    }\n\n    .dataframe tbody tr th {\n        vertical-align: top;\n    }\n\n    .dataframe thead th {\n        text-align: right;\n    }\n</style>\n<table border=\"1\" class=\"dataframe\">\n  <thead>\n    <tr style=\"text-align: right;\">\n      <th></th>\n      <th>Reading_ID</th>\n      <th>hdl_cholesterol_human_high_pred</th>\n      <th>hdl_cholesterol_human_low_pred</th>\n      <th>hdl_cholesterol_human_ok_pred</th>\n      <th>hemoglobin_human_high_pred</th>\n      <th>hemoglobin_human_low_pred</th>\n      <th>hemoglobin_human_ok_pred</th>\n      <th>cholesterol_ldl_human_high_pred</th>\n      <th>cholesterol_ldl_human_low_pred</th>\n      <th>cholesterol_ldl_human_ok_pred</th>\n    </tr>\n  </thead>\n  <tbody>\n    <tr>\n      <th>0</th>\n      <td>ID_37BEI22R</td>\n      <td>0</td>\n      <td>0</td>\n      <td>0</td>\n      <td>0</td>\n      <td>1</td>\n      <td>0</td>\n      <td>1</td>\n      <td>0</td>\n      <td>0</td>\n    </tr>\n    <tr>\n      <th>1</th>\n      <td>ID_4W85V5DV</td>\n      <td>1</td>\n      <td>0</td>\n      <td>0</td>\n      <td>0</td>\n      <td>0</td>\n      <td>1</td>\n      <td>1</td>\n      <td>0</td>\n      <td>0</td>\n    </tr>\n    <tr>\n      <th>2</th>\n      <td>ID_L4YR3NDY</td>\n      <td>0</td>\n      <td>0</td>\n      <td>1</td>\n      <td>0</td>\n      <td>0</td>\n      <td>1</td>\n      <td>1</td>\n      <td>0</td>\n      <td>0</td>\n    </tr>\n    <tr>\n      <th>3</th>\n      <td>ID_U88E3SQ6</td>\n      <td>1</td>\n      <td>1</td>\n      <td>0</td>\n      <td>0</td>\n      <td>1</td>\n      <td>1</td>\n      <td>0</td>\n      <td>0</td>\n      <td>1</td>\n    </tr>\n    <tr>\n      <th>4</th>\n      <td>ID_NW7Z3XU7</td>\n      <td>1</td>\n      <td>0</td>\n      <td>1</td>\n      <td>0</td>\n      <td>0</td>\n      <td>1</td>\n      <td>0</td>\n      <td>0</td>\n      <td>1</td>\n    </tr>\n    <tr>\n      <th>...</th>\n      <td>...</td>\n      <td>...</td>\n      <td>...</td>\n      <td>...</td>\n      <td>...</td>\n      <td>...</td>\n      <td>...</td>\n      <td>...</td>\n      <td>...</td>\n      <td>...</td>\n    </tr>\n    <tr>\n      <th>3655</th>\n      <td>ID_ADCBL266</td>\n      <td>1</td>\n      <td>0</td>\n      <td>0</td>\n      <td>0</td>\n      <td>0</td>\n      <td>1</td>\n      <td>1</td>\n      <td>0</td>\n      <td>0</td>\n    </tr>\n    <tr>\n      <th>3656</th>\n      <td>ID_SW51B61O</td>\n      <td>0</td>\n      <td>0</td>\n      <td>1</td>\n      <td>0</td>\n      <td>0</td>\n      <td>1</td>\n      <td>0</td>\n      <td>0</td>\n      <td>1</td>\n    </tr>\n    <tr>\n      <th>3657</th>\n      <td>ID_CO8IHJRA</td>\n      <td>0</td>\n      <td>0</td>\n      <td>1</td>\n      <td>0</td>\n      <td>0</td>\n      <td>1</td>\n      <td>0</td>\n      <td>0</td>\n      <td>1</td>\n    </tr>\n    <tr>\n      <th>3658</th>\n      <td>ID_VN5CP3ZZ</td>\n      <td>1</td>\n      <td>0</td>\n      <td>1</td>\n      <td>0</td>\n      <td>0</td>\n      <td>1</td>\n      <td>1</td>\n      <td>0</td>\n      <td>0</td>\n    </tr>\n    <tr>\n      <th>3659</th>\n      <td>ID_UPO13B7Z</td>\n      <td>0</td>\n      <td>0</td>\n      <td>0</td>\n      <td>0</td>\n      <td>0</td>\n      <td>1</td>\n      <td>0</td>\n      <td>0</td>\n      <td>1</td>\n    </tr>\n  </tbody>\n</table>\n<p>3660 rows × 10 columns</p>\n</div>"
          },
          "metadata": {}
        }
      ],
      "execution_count": 32,
      "metadata": {
        "jupyter": {
          "source_hidden": false,
          "outputs_hidden": false
        },
        "nteract": {
          "transient": {
            "deleting": false
          }
        },
        "gather": {
          "logged": 1641708257202
        }
      }
    },
    {
      "cell_type": "code",
      "source": [
        "total_df.loc[((total_df['hdl_cholesterol_human_high_pred']==0) & (total_df['hdl_cholesterol_human_low_pred']==0) & (total_df['hdl_cholesterol_human_ok_pred']==0)) | ((total_df['hemoglobin_human_high_pred']==0) & (total_df['hemoglobin_human_low_pred']==0) & (total_df['hemoglobin_human_ok_pred']==0)) | ((total_df['cholesterol_ldl_human_high_pred']==0) & (total_df['cholesterol_ldl_human_low_pred']==0) & (total_df['cholesterol_ldl_human_ok_pred']==0))]"
      ],
      "outputs": [
        {
          "output_type": "execute_result",
          "execution_count": 37,
          "data": {
            "text/plain": "       Reading_ID  hdl_cholesterol_human_high_pred  \\\n0     ID_37BEI22R                                0   \n7     ID_6VJ41WZC                                0   \n8     ID_S0ISRB3K                                0   \n15    ID_CKNMMKIG                                0   \n18    ID_0PVFMGRP                                1   \n...           ...                              ...   \n3638  ID_WQ6A1JW2                                0   \n3643  ID_6X7590GS                                0   \n3645  ID_TBB5QKOG                                0   \n3653  ID_LLPPYV63                                1   \n3659  ID_UPO13B7Z                                0   \n\n      hdl_cholesterol_human_low_pred  hdl_cholesterol_human_ok_pred  \\\n0                                  0                              0   \n7                                  0                              0   \n8                                  0                              0   \n15                                 0                              0   \n18                                 0                              0   \n...                              ...                            ...   \n3638                               0                              1   \n3643                               0                              0   \n3645                               0                              0   \n3653                               0                              0   \n3659                               0                              0   \n\n      hemoglobin_human_high_pred  hemoglobin_human_low_pred  \\\n0                              0                          1   \n7                              0                          0   \n8                              0                          0   \n15                             0                          0   \n18                             0                          0   \n...                          ...                        ...   \n3638                           0                          0   \n3643                           0                          0   \n3645                           0                          0   \n3653                           0                          0   \n3659                           0                          0   \n\n      hemoglobin_human_ok_pred  cholesterol_ldl_human_high_pred  \\\n0                            0                                1   \n7                            1                                1   \n8                            1                                1   \n15                           1                                0   \n18                           1                                0   \n...                        ...                              ...   \n3638                         1                                0   \n3643                         1                                0   \n3645                         1                                0   \n3653                         0                                0   \n3659                         1                                0   \n\n      cholesterol_ldl_human_low_pred  cholesterol_ldl_human_ok_pred  \n0                                  0                              0  \n7                                  0                              0  \n8                                  0                              1  \n15                                 0                              1  \n18                                 0                              0  \n...                              ...                            ...  \n3638                               0                              0  \n3643                               0                              1  \n3645                               0                              1  \n3653                               0                              1  \n3659                               0                              1  \n\n[451 rows x 10 columns]",
            "text/html": "<div>\n<style scoped>\n    .dataframe tbody tr th:only-of-type {\n        vertical-align: middle;\n    }\n\n    .dataframe tbody tr th {\n        vertical-align: top;\n    }\n\n    .dataframe thead th {\n        text-align: right;\n    }\n</style>\n<table border=\"1\" class=\"dataframe\">\n  <thead>\n    <tr style=\"text-align: right;\">\n      <th></th>\n      <th>Reading_ID</th>\n      <th>hdl_cholesterol_human_high_pred</th>\n      <th>hdl_cholesterol_human_low_pred</th>\n      <th>hdl_cholesterol_human_ok_pred</th>\n      <th>hemoglobin_human_high_pred</th>\n      <th>hemoglobin_human_low_pred</th>\n      <th>hemoglobin_human_ok_pred</th>\n      <th>cholesterol_ldl_human_high_pred</th>\n      <th>cholesterol_ldl_human_low_pred</th>\n      <th>cholesterol_ldl_human_ok_pred</th>\n    </tr>\n  </thead>\n  <tbody>\n    <tr>\n      <th>0</th>\n      <td>ID_37BEI22R</td>\n      <td>0</td>\n      <td>0</td>\n      <td>0</td>\n      <td>0</td>\n      <td>1</td>\n      <td>0</td>\n      <td>1</td>\n      <td>0</td>\n      <td>0</td>\n    </tr>\n    <tr>\n      <th>7</th>\n      <td>ID_6VJ41WZC</td>\n      <td>0</td>\n      <td>0</td>\n      <td>0</td>\n      <td>0</td>\n      <td>0</td>\n      <td>1</td>\n      <td>1</td>\n      <td>0</td>\n      <td>0</td>\n    </tr>\n    <tr>\n      <th>8</th>\n      <td>ID_S0ISRB3K</td>\n      <td>0</td>\n      <td>0</td>\n      <td>0</td>\n      <td>0</td>\n      <td>0</td>\n      <td>1</td>\n      <td>1</td>\n      <td>0</td>\n      <td>1</td>\n    </tr>\n    <tr>\n      <th>15</th>\n      <td>ID_CKNMMKIG</td>\n      <td>0</td>\n      <td>0</td>\n      <td>0</td>\n      <td>0</td>\n      <td>0</td>\n      <td>1</td>\n      <td>0</td>\n      <td>0</td>\n      <td>1</td>\n    </tr>\n    <tr>\n      <th>18</th>\n      <td>ID_0PVFMGRP</td>\n      <td>1</td>\n      <td>0</td>\n      <td>0</td>\n      <td>0</td>\n      <td>0</td>\n      <td>1</td>\n      <td>0</td>\n      <td>0</td>\n      <td>0</td>\n    </tr>\n    <tr>\n      <th>...</th>\n      <td>...</td>\n      <td>...</td>\n      <td>...</td>\n      <td>...</td>\n      <td>...</td>\n      <td>...</td>\n      <td>...</td>\n      <td>...</td>\n      <td>...</td>\n      <td>...</td>\n    </tr>\n    <tr>\n      <th>3638</th>\n      <td>ID_WQ6A1JW2</td>\n      <td>0</td>\n      <td>0</td>\n      <td>1</td>\n      <td>0</td>\n      <td>0</td>\n      <td>1</td>\n      <td>0</td>\n      <td>0</td>\n      <td>0</td>\n    </tr>\n    <tr>\n      <th>3643</th>\n      <td>ID_6X7590GS</td>\n      <td>0</td>\n      <td>0</td>\n      <td>0</td>\n      <td>0</td>\n      <td>0</td>\n      <td>1</td>\n      <td>0</td>\n      <td>0</td>\n      <td>1</td>\n    </tr>\n    <tr>\n      <th>3645</th>\n      <td>ID_TBB5QKOG</td>\n      <td>0</td>\n      <td>0</td>\n      <td>0</td>\n      <td>0</td>\n      <td>0</td>\n      <td>1</td>\n      <td>0</td>\n      <td>0</td>\n      <td>1</td>\n    </tr>\n    <tr>\n      <th>3653</th>\n      <td>ID_LLPPYV63</td>\n      <td>1</td>\n      <td>0</td>\n      <td>0</td>\n      <td>0</td>\n      <td>0</td>\n      <td>0</td>\n      <td>0</td>\n      <td>0</td>\n      <td>1</td>\n    </tr>\n    <tr>\n      <th>3659</th>\n      <td>ID_UPO13B7Z</td>\n      <td>0</td>\n      <td>0</td>\n      <td>0</td>\n      <td>0</td>\n      <td>0</td>\n      <td>1</td>\n      <td>0</td>\n      <td>0</td>\n      <td>1</td>\n    </tr>\n  </tbody>\n</table>\n<p>451 rows × 10 columns</p>\n</div>"
          },
          "metadata": {}
        }
      ],
      "execution_count": 37,
      "metadata": {
        "jupyter": {
          "source_hidden": false,
          "outputs_hidden": false
        },
        "nteract": {
          "transient": {
            "deleting": false
          }
        },
        "gather": {
          "logged": 1641765015738
        }
      }
    },
    {
      "cell_type": "code",
      "source": [
        "id_list = []\n",
        "for ind in total_df.index:\n",
        "    id_list.append(total_df['Reading_ID'][ind]+'_hdl_cholesterol_human')\n",
        "    id_list.append(total_df['Reading_ID'][ind]+'_hemoglobin(hgb)_human')\n",
        "    id_list.append(total_df['Reading_ID'][ind]+'_cholesterol_ldl_human')\n",
        "for index, row in total_df.iterrows():\n",
        "    "
      ],
      "outputs": [],
      "execution_count": 33,
      "metadata": {
        "jupyter": {
          "source_hidden": false,
          "outputs_hidden": true
        },
        "nteract": {
          "transient": {
            "deleting": false
          }
        },
        "gather": {
          "logged": 1641708261940
        }
      }
    }
  ],
  "metadata": {
    "kernelspec": {
      "name": "python3-azureml",
      "language": "python",
      "display_name": "Python 3.6 - AzureML"
    },
    "language_info": {
      "name": "python",
      "version": "3.6.9",
      "mimetype": "text/x-python",
      "codemirror_mode": {
        "name": "ipython",
        "version": 3
      },
      "pygments_lexer": "ipython3",
      "nbconvert_exporter": "python",
      "file_extension": ".py"
    },
    "kernel_info": {
      "name": "python3-azureml"
    },
    "nteract": {
      "version": "nteract-front-end@1.0.0"
    },
    "microsoft": {
      "host": {
        "AzureML": {
          "notebookHasBeenCompleted": true
        }
      }
    }
  },
  "nbformat": 4,
  "nbformat_minor": 0
}