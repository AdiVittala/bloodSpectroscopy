{
  "cells": [
    {
      "cell_type": "markdown",
      "source": [
        "**XGBoost**"
      ],
      "metadata": {
        "nteract": {
          "transient": {
            "deleting": false
          }
        }
      }
    },
    {
      "cell_type": "code",
      "source": [
        "import pandas as pd\n",
        "import glob\n",
        "import numpy as np\n",
        "import seaborn as sns\n",
        "import matplotlib.pyplot as plt\n",
        "import matplotlib\n",
        "from sklearn.preprocessing import OneHotEncoder\n",
        "from sklearn.model_selection import train_test_split\n",
        "from sklearn.metrics import classification_report\n",
        "from sklearn.metrics import confusion_matrix\n",
        "from sklearn.metrics import precision_recall_fscore_support\n",
        "from sklearn.metrics import accuracy_score\n",
        "from sklearn.model_selection import GridSearchCV\n",
        "from sklearn.tree import DecisionTreeClassifier\n",
        "from sklearn.ensemble import RandomForestClassifier\n",
        "from sklearn.metrics import precision_recall_curve\n",
        "from sklearn.model_selection import RandomizedSearchCV\n",
        "import xgboost as xgb\n",
        "from sklearn.metrics import average_precision_score"
      ],
      "outputs": [],
      "execution_count": 81,
      "metadata": {
        "gather": {
          "logged": 1627520458716
        }
      }
    },
    {
      "cell_type": "code",
      "source": [
        "dataset = pd.read_csv('dataset_anomaly_threshold_1.2.csv')"
      ],
      "outputs": [],
      "execution_count": 82,
      "metadata": {
        "gather": {
          "logged": 1627520459702
        }
      }
    },
    {
      "cell_type": "code",
      "source": [
        "dataset.drop(['Unnamed: 0'], axis=1, inplace=True)"
      ],
      "outputs": [],
      "execution_count": 83,
      "metadata": {
        "gather": {
          "logged": 1627520460714
        }
      }
    },
    {
      "cell_type": "code",
      "source": [
        "com_columns = dataset.columns.tolist()"
      ],
      "outputs": [],
      "execution_count": 84,
      "metadata": {
        "gather": {
          "logged": 1627520461826
        }
      }
    },
    {
      "cell_type": "code",
      "source": [
        "dataset.shape[0]"
      ],
      "outputs": [
        {
          "output_type": "execute_result",
          "execution_count": 85,
          "data": {
            "text/plain": "3802"
          },
          "metadata": {}
        }
      ],
      "execution_count": 85,
      "metadata": {
        "collapsed": true,
        "jupyter": {
          "source_hidden": false,
          "outputs_hidden": false
        },
        "nteract": {
          "transient": {
            "deleting": false
          }
        },
        "gather": {
          "logged": 1627520463061
        }
      }
    },
    {
      "cell_type": "code",
      "source": [
        "com_columns"
      ],
      "outputs": [
        {
          "output_type": "execute_result",
          "execution_count": 86,
          "data": {
            "text/plain": "['Wmi_SerialNumber',\n 'socket',\n 'channel',\n 'bank',\n 'Generation_x',\n 'ClusterType_x',\n 'HwSkuId_x',\n 'BIOSVersion',\n 'CPUID',\n 'MemoryManufacturer',\n 'MemoryPartNumber',\n 'AgeOfDimm',\n 'UEfit_sum',\n 'MA_Uefit',\n 'logMA_Uefit',\n 'fm_nibble7_sum',\n 'fm_nibble6_sum',\n 'fm_nibble5_sum',\n 'fm_nibble4_sum',\n 'fm_nibble3_sum',\n 'fm_nibble2_sum',\n 'fm_nibble1_sum',\n 'fm_nibble0_sum',\n 'cnt_rk7_sum',\n 'cnt_rk6_sum',\n 'cnt_rk5_sum',\n 'cnt_rk4_sum',\n 'cnt_rk3_sum',\n 'cnt_rk2_sum',\n 'cnt_rk1_sum',\n 'cnt_rk0_sum',\n 'diffUECount_sum',\n 'DimmTemp_avg',\n 'TotalDIMMCount_sum',\n 'repeatue_sum',\n 'z_ma_uefit',\n 'anomaly_label',\n 'anomaly_id']",
            "text/html": "['Wmi_SerialNumber', 'socket', 'channel', 'bank', 'Generation_x', 'ClusterType_x', 'HwSkuId_x', 'BIOSVersion', 'CPUID', 'MemoryManufacturer', 'MemoryPartNumber', 'AgeOfDimm', 'UEfit_sum', 'MA_Uefit', 'logMA_Uefit', 'fm_nibble7_sum', 'fm_nibble6_sum', 'fm_nibble5_sum', 'fm_nibble4_sum', 'fm_nibble3_sum', 'fm_nibble2_sum', 'fm_nibble1_sum', 'fm_nibble0_sum', 'cnt_rk7_sum', 'cnt_rk6_sum', 'cnt_rk5_sum', 'cnt_rk4_sum', 'cnt_rk3_sum', 'cnt_rk2_sum', 'cnt_rk1_sum', 'cnt_rk0_sum', 'diffUECount_sum', 'DimmTemp_avg', 'TotalDIMMCount_sum', 'repeatue_sum', 'z_ma_uefit', 'anomaly_label', 'anomaly_id']"
          },
          "metadata": {}
        }
      ],
      "execution_count": 86,
      "metadata": {
        "gather": {
          "logged": 1627520464011
        }
      }
    },
    {
      "cell_type": "code",
      "source": [
        "subset_cols = ['AgeOfDimm', 'MemoryManufacturer','diffUECount_sum', 'TotalDIMMCount_sum', 'fm_nibble7_sum', 'fm_nibble6_sum', 'fm_nibble5_sum', 'fm_nibble4_sum', 'fm_nibble3_sum', 'fm_nibble2_sum', 'fm_nibble1_sum','fm_nibble0_sum', 'cnt_rk7_sum', 'cnt_rk6_sum', 'cnt_rk5_sum', 'cnt_rk4_sum', 'cnt_rk3_sum', 'cnt_rk2_sum', 'cnt_rk1_sum', 'cnt_rk0_sum', 'DimmTemp_avg', 'repeatue_sum', 'anomaly_label']\r\n",
        "dataset_sub = dataset[subset_cols]"
      ],
      "outputs": [],
      "execution_count": 87,
      "metadata": {
        "gather": {
          "logged": 1627520465257
        }
      }
    },
    {
      "cell_type": "code",
      "source": [
        "encoder = OneHotEncoder(sparse=False, handle_unknown='ignore')\r\n",
        "    \r\n",
        "dataset_encoded = pd.DataFrame(encoder.fit_transform(dataset_sub[['MemoryManufacturer']]))\r\n",
        "dataset_encoded.columns = encoder.get_feature_names(['MemoryManufacturer'])\r\n",
        "dataset_sub.drop(['MemoryManufacturer'], axis=1, inplace=True)\r\n",
        "    \r\n",
        "dataset_sub_enc = pd.concat([dataset_encoded, dataset_sub], axis=1)"
      ],
      "outputs": [
        {
          "output_type": "stream",
          "name": "stderr",
          "text": [
            "/anaconda/envs/azureml_py36/lib/python3.6/site-packages/pandas/core/frame.py:4117: SettingWithCopyWarning:\n",
            "\n",
            "\n",
            "A value is trying to be set on a copy of a slice from a DataFrame\n",
            "\n",
            "See the caveats in the documentation: http://pandas.pydata.org/pandas-docs/stable/user_guide/indexing.html#returning-a-view-versus-a-copy\n",
            "\n"
          ]
        }
      ],
      "execution_count": 88,
      "metadata": {
        "gather": {
          "logged": 1627520467006
        }
      }
    },
    {
      "cell_type": "code",
      "source": [
        "X = dataset_sub_enc.drop(axis=1, labels=['anomaly_label'])\r\n",
        "y = dataset_sub_enc['anomaly_label']\r\n",
        "\r\n",
        "#X_train, X_test, y_train, y_test = train_test_split(X.values, y.values, test_size=0.3, random_state=42)\r\n",
        "X_train, X_test, y_train, y_test = train_test_split(X, y, test_size=0.3, random_state=42)\r\n",
        "\r\n",
        "print(y.value_counts())"
      ],
      "outputs": [
        {
          "output_type": "stream",
          "name": "stdout",
          "text": [
            "0    3454\n",
            "1     348\n",
            "Name: anomaly_label, dtype: int64\n"
          ]
        }
      ],
      "execution_count": 89,
      "metadata": {
        "gather": {
          "logged": 1627520468079
        }
      }
    },
    {
      "cell_type": "code",
      "source": [
        "X_train.shape[0]"
      ],
      "outputs": [
        {
          "output_type": "execute_result",
          "execution_count": 90,
          "data": {
            "text/plain": "2661"
          },
          "metadata": {}
        }
      ],
      "execution_count": 90,
      "metadata": {
        "collapsed": true,
        "jupyter": {
          "source_hidden": false,
          "outputs_hidden": false
        },
        "nteract": {
          "transient": {
            "deleting": false
          }
        },
        "gather": {
          "logged": 1627520469156
        }
      }
    },
    {
      "cell_type": "code",
      "source": [
        "algorithm_stats = pd.DataFrame()"
      ],
      "outputs": [],
      "execution_count": 91,
      "metadata": {
        "gather": {
          "logged": 1627520470266
        }
      }
    },
    {
      "cell_type": "code",
      "source": [
        "def print_report(y_true, y_pred):\r\n",
        "    print('Accuracy: %.4f\\n' % (accuracy_score(y_true, y_pred)))\r\n",
        "    print('Classification Report:')\r\n",
        "    print(classification_report(y_true, y_pred, target_names=['Non-Anomaly', 'Anomaly']))\r\n",
        "    #print(confusion_matrix(y_true, y_pred))\r\n",
        "    cm = pd.DataFrame(confusion_matrix(y_true, y_pred))\r\n",
        "    cm['Total'] = np.sum(cm, axis=1)\r\n",
        "    cm = cm.append(np.sum(cm, axis=0), ignore_index=True)\r\n",
        "    cm.columns = ['Predicted Non-Anomaly', 'Predicted Anomaly', 'Total']\r\n",
        "    cm = cm.set_index([['Actual Non-Anomaly', 'Actual Anomaly', 'Total']])\r\n",
        "    print(cm)\r\n",
        "\r\n",
        "def create_stats(y_true, y_pred):\r\n",
        "    acc = accuracy_score(y_true, y_pred)\r\n",
        "    stats = precision_recall_fscore_support(y_true, y_pred, average='weighted')\r\n",
        "    return pd.Series([acc, stats[0], stats[1], stats[2]], index=['Accuracy', 'Precision', 'Recall', 'F1'])"
      ],
      "outputs": [],
      "execution_count": 92,
      "metadata": {
        "gather": {
          "logged": 1627520470847
        }
      }
    },
    {
      "cell_type": "code",
      "source": [
        "parameters = {'XGBoost__booster': ['gbtree', 'gblinear', 'dart'],\r\n",
        "              'XGBoost__learning_rate': [0.001, 0.1, 0.2, 0.3],\r\n",
        "              'XGBoost__n_estimators': [int(x) for x in np.linspace(start = 100, stop = 1000, num = 10)],\r\n",
        "              'XGBoost__subsample': np.arange(0.5, 1, 0.05),\r\n",
        "              'XGBoost__max_depth': np.arange(3, 20, 1),\r\n",
        "              'XGBoost__colsample_bytree': np.arange(0.1, 1.05, 0.05),\r\n",
        "              'XGBoost__objective': ['reg:logistic','binary:logistic'],\r\n",
        "              'XGBoost__eval_metric': ['error', 'logloss'],\r\n",
        "              'gamma':[i/10.0 for i in range(0,5)],\r\n",
        "              'reg_alpha':[1e-5, 1e-2, 0.1, 1, 100]\r\n",
        "              }\r\n",
        "\r\n",
        "\r\n",
        "clf_xg = RandomizedSearchCV(\r\n",
        "    estimator=xgb.XGBClassifier(verbose=True), \r\n",
        "    param_distributions=parameters, \r\n",
        "    n_iter=100,\r\n",
        "    cv=10,\r\n",
        "    #scoring='f1'\r\n",
        ")\r\n",
        "\r\n",
        "clf_xg.fit(X_train, y_train)\r\n",
        "\r\n",
        "print(f'Best  score: {clf_xg.best_score_}')\r\n",
        "print(f'Best params: {clf_xg.best_params_}\\n')\r\n",
        "\r\n",
        "algorithm_stats['RandomForest'] = create_stats(y_test, clf_xg.predict(X_test))\r\n",
        "print_report(y_test, clf_xg.predict(X_test))\r\n",
        "\r\n",
        "#print('Tuned Model Parameters: {}'.format(clf_xg.best_params_))"
      ],
      "outputs": [
        {
          "output_type": "stream",
          "name": "stdout",
          "text": [
            "Best  score: 0.9853439779223339\n",
            "Best params: {'reg_alpha': 0.01, 'gamma': 0.2, 'XGBoost__subsample': 0.7500000000000002, 'XGBoost__objective': 'binary:logistic', 'XGBoost__n_estimators': 900, 'XGBoost__max_depth': 4, 'XGBoost__learning_rate': 0.1, 'XGBoost__eval_metric': 'logloss', 'XGBoost__colsample_bytree': 0.3500000000000001, 'XGBoost__booster': 'dart'}\n",
            "\n",
            "Accuracy: 0.9798\n",
            "\n",
            "Classification Report:\n",
            "              precision    recall  f1-score   support\n",
            "\n",
            " Non-Anomaly       0.98      1.00      0.99      1041\n",
            "     Anomaly       1.00      0.77      0.87       100\n",
            "\n",
            "    accuracy                           0.98      1141\n",
            "   macro avg       0.99      0.89      0.93      1141\n",
            "weighted avg       0.98      0.98      0.98      1141\n",
            "\n",
            "                    Predicted Non-Anomaly  Predicted Anomaly  Total\n",
            "Actual Non-Anomaly                   1041                  0   1041\n",
            "Actual Anomaly                         23                 77    100\n",
            "Total                                1064                 77   1141\n"
          ]
        }
      ],
      "execution_count": 93,
      "metadata": {
        "collapsed": true,
        "jupyter": {
          "source_hidden": false,
          "outputs_hidden": false
        },
        "nteract": {
          "transient": {
            "deleting": false
          }
        },
        "gather": {
          "logged": 1627520678222
        }
      }
    },
    {
      "cell_type": "code",
      "source": [
        "xg_clf = xgb.XGBClassifier()\r\n",
        "xg_clf.set_params(**clf_xg.best_params_)\r\n",
        "xg_clf.fit(X_train, y_train)"
      ],
      "outputs": [
        {
          "output_type": "execute_result",
          "execution_count": 94,
          "data": {
            "text/plain": "XGBClassifier(XGBoost__booster='dart',\n              XGBoost__colsample_bytree=0.3500000000000001,\n              XGBoost__eval_metric='logloss', XGBoost__learning_rate=0.1,\n              XGBoost__max_depth=4, XGBoost__n_estimators=900,\n              XGBoost__objective='binary:logistic',\n              XGBoost__subsample=0.7500000000000002, base_score=0.5,\n              booster='gbtree', colsample_bylevel=1, colsample_bynode=1,\n              colsample_bytree=1, gamma=0.2, learning_rate=0.1,\n              max_delta_step=0, max_depth=3, min_child_weight=1, missing=None,\n              n_estimators=100, n_jobs=1, nthread=None,\n              objective='binary:logistic', random_state=0, reg_alpha=0.01,\n              reg_lambda=1, scale_pos_weight=1, seed=None, silent=None,\n              subsample=1, ...)"
          },
          "metadata": {}
        }
      ],
      "execution_count": 94,
      "metadata": {
        "collapsed": true,
        "jupyter": {
          "source_hidden": false,
          "outputs_hidden": false
        },
        "nteract": {
          "transient": {
            "deleting": false
          }
        },
        "gather": {
          "logged": 1627520679886
        }
      }
    },
    {
      "cell_type": "code",
      "source": [
        "sizes = [10, 100, 400, 800, 1200, 1600, 2000, 2394]\r\n",
        "from sklearn.model_selection import learning_curve\r\n",
        "\r\n",
        "train_sizes, train_scores, validation_scores = learning_curve(\r\n",
        "    estimator=xg_clf,\r\n",
        "    X = X_train,\r\n",
        "    y = y_train,\r\n",
        "    #train_sizes = sizes,\r\n",
        "    cv = 10,\r\n",
        "    scoring = 'f1'\r\n",
        ")\r\n",
        "\r\n",
        "train_score_mean = train_scores.mean(axis=1)\r\n",
        "validation_score_mean = validation_scores.mean(axis=1)"
      ],
      "outputs": [],
      "execution_count": 95,
      "metadata": {
        "collapsed": true,
        "jupyter": {
          "source_hidden": false,
          "outputs_hidden": false
        },
        "nteract": {
          "transient": {
            "deleting": false
          }
        },
        "gather": {
          "logged": 1627520684350
        }
      }
    },
    {
      "cell_type": "code",
      "source": [
        "idx_train_size = [i for i, element in enumerate(train_score_mean) if element == 0]\r\n",
        "\r\n",
        "if idx_train_size:\r\n",
        "    train_sizes = np.delete(train_sizes, idx_train_size)\r\n",
        "    train_score_mean = [i for i in train_score_mean if i != 0]\r\n",
        "    validation_score_mean = [i for i in validation_score_mean if i != 0]\r\n",
        "\r\n",
        "plt.plot(train_sizes, train_score_mean, marker='*', linestyle='--',color='blue',label='Training Score')\r\n",
        "plt.plot(train_sizes, validation_score_mean, marker='x', linestyle='--', color='green',label='Validation Score')\r\n",
        "plt.ylabel('Mean F1 Score')\r\n",
        "plt.xlabel('Training set size')\r\n",
        "plt.title('Learning Curves for XGBoost model')\r\n",
        "plt.grid()\r\n",
        "plt.legend()"
      ],
      "outputs": [
        {
          "output_type": "execute_result",
          "execution_count": 96,
          "data": {
            "text/plain": "<matplotlib.legend.Legend at 0x7f2e6792fda0>"
          },
          "metadata": {}
        },
        {
          "output_type": "display_data",
          "data": {
            "text/plain": "<Figure size 432x288 with 1 Axes>",
            "image/png": "[encoded data removed]"
          },
          "metadata": {
            "needs_background": "light"
          }
        }
      ],
      "execution_count": 96,
      "metadata": {
        "collapsed": true,
        "jupyter": {
          "source_hidden": false,
          "outputs_hidden": false
        },
        "nteract": {
          "transient": {
            "deleting": false
          }
        },
        "gather": {
          "logged": 1627520684932
        }
      }
    },
    {
      "cell_type": "code",
      "source": [
        "predictions = xg_clf.predict(X_test)"
      ],
      "outputs": [],
      "execution_count": 97,
      "metadata": {
        "collapsed": true,
        "jupyter": {
          "source_hidden": false,
          "outputs_hidden": false
        },
        "nteract": {
          "transient": {
            "deleting": false
          }
        },
        "gather": {
          "logged": 1627520685553
        }
      }
    },
    {
      "cell_type": "code",
      "source": [
        "pred_prob = xg_clf.predict_proba(X_test)[:,1]"
      ],
      "outputs": [],
      "execution_count": 98,
      "metadata": {
        "collapsed": true,
        "jupyter": {
          "source_hidden": false,
          "outputs_hidden": false
        },
        "nteract": {
          "transient": {
            "deleting": false
          }
        },
        "gather": {
          "logged": 1627520685932
        }
      }
    },
    {
      "cell_type": "code",
      "source": [
        "from numpy import argmax\r\n",
        "\r\n",
        "# predict probabilities\r\n",
        "#ypred = rf_clf.predict_proba(X_test)\r\n",
        "# retrieve the probabilities for the positive class (anomaly)\r\n",
        "#pos_probs = ypred[:, 1]\r\n",
        "# calculate the no skill line as the proportion of the positive class\r\n",
        "no_skill = len(y[y==1])/len(y)\r\n",
        "# plot the no skill precision-recall curve\r\n",
        "plt.plot([0, 1], [no_skill, no_skill], linestyle='--', label='No Skill')\r\n",
        "# calculate model precision-recall curve\r\n",
        "precision, recall, thresholds = precision_recall_curve(y_test, pred_prob)\r\n",
        "# convert to f score\r\n",
        "fscore = (2*precision*recall)/(precision+recall)\r\n",
        "# locate index of the largest f score\r\n",
        "ix = argmax(fscore)\r\n",
        "print('Best Threshold=%f, F-Score=%.3f' % (thresholds[ix], fscore[ix]))\r\n",
        "# plot the model precision recall curve\r\n",
        "plt.plot(recall, precision, marker='.', label='XGBoost')\r\n",
        "plt.scatter(recall[ix], precision[ix], marker='o', color='black', label='Best')\r\n",
        "plt.xlabel('Recall')\r\n",
        "plt.ylabel('Precision')\r\n",
        "plt.legend()\r\n",
        "plt.grid()\r\n",
        "plt.savefig('XGBoost_PR_Threshold')\r\n",
        "plt.show()"
      ],
      "outputs": [
        {
          "output_type": "stream",
          "name": "stdout",
          "text": [
            "Best Threshold=0.321821, F-Score=0.969\n"
          ]
        },
        {
          "output_type": "display_data",
          "data": {
            "text/plain": "<Figure size 432x288 with 1 Axes>",
            "image/png": "[encoded data removed]"
          },
          "metadata": {
            "needs_background": "light"
          }
        }
      ],
      "execution_count": 99,
      "metadata": {
        "gather": {
          "logged": 1627520686533
        }
      }
    },
    {
      "cell_type": "code",
      "source": [
        "# apply threshold to positive probabilities to create labels\r\n",
        "def to_labels(pos_probs, threshold):\r\n",
        "    return(pos_probs >= threshold).astype('int')"
      ],
      "outputs": [],
      "execution_count": 100,
      "metadata": {
        "collapsed": true,
        "jupyter": {
          "source_hidden": false,
          "outputs_hidden": false
        },
        "nteract": {
          "transient": {
            "deleting": false
          }
        },
        "gather": {
          "logged": 1627520687092
        }
      }
    },
    {
      "cell_type": "code",
      "source": [
        "from numpy import arange\n",
        "from numpy import argmax\n",
        "from sklearn.metrics import f1_score\n",
        "# define thresholds\n",
        "self_thresholds = arange(0, 1, 0.001)\n",
        "# evaluate each threshold\n",
        "scores = [f1_score(y_test, to_labels(pred_prob, t)) for t in self_thresholds]\n",
        "# get best threshold\n",
        "ix = argmax(scores)\n",
        "print('Threshold=%.3f, F-Score=%.5f' % (self_thresholds[ix], scores[ix]))"
      ],
      "outputs": [
        {
          "output_type": "stream",
          "name": "stdout",
          "text": [
            "Threshold=0.286, F-Score=0.96939\n"
          ]
        }
      ],
      "execution_count": 101,
      "metadata": {
        "scrolled": false,
        "gather": {
          "logged": 1627520687667
        }
      }
    },
    {
      "cell_type": "code",
      "source": [
        "t = self_thresholds[ix]\r\n",
        "algorithm_stats['XGBoost_NewThreshold'] = create_stats(y_test, to_labels(pred_prob, t))\r\n",
        "print_report(y_test, to_labels(pred_prob, t))"
      ],
      "outputs": [
        {
          "output_type": "stream",
          "name": "stdout",
          "text": [
            "Accuracy: 0.9947\n",
            "\n",
            "Classification Report:\n",
            "              precision    recall  f1-score   support\n",
            "\n",
            " Non-Anomaly       1.00      1.00      1.00      1041\n",
            "     Anomaly       0.99      0.95      0.97       100\n",
            "\n",
            "    accuracy                           0.99      1141\n",
            "   macro avg       0.99      0.97      0.98      1141\n",
            "weighted avg       0.99      0.99      0.99      1141\n",
            "\n",
            "                    Predicted Non-Anomaly  Predicted Anomaly  Total\n",
            "Actual Non-Anomaly                   1040                  1   1041\n",
            "Actual Anomaly                          5                 95    100\n",
            "Total                                1045                 96   1141\n"
          ]
        }
      ],
      "execution_count": 102,
      "metadata": {
        "collapsed": true,
        "jupyter": {
          "source_hidden": false,
          "outputs_hidden": false
        },
        "nteract": {
          "transient": {
            "deleting": false
          }
        },
        "gather": {
          "logged": 1627520688174
        }
      }
    },
    {
      "cell_type": "code",
      "source": [
        "plt.figure(figsize=(10,8)) \r\n",
        "sorted_idx = xg_clf.feature_importances_.argsort()\r\n",
        "plt.barh(X.columns[sorted_idx], xg_clf.feature_importances_[sorted_idx])\r\n",
        "plt.xlabel(\"Xgboost Feature Importance\")"
      ],
      "outputs": [
        {
          "output_type": "execute_result",
          "execution_count": 103,
          "data": {
            "text/plain": "Text(0.5, 0, 'Xgboost Feature Importance')"
          },
          "metadata": {}
        },
        {
          "output_type": "display_data",
          "data": {
            "text/plain": "<Figure size 720x576 with 1 Axes>",
            "image/png": "[encoded data removed]"
          },
          "metadata": {
            "needs_background": "light"
          }
        }
      ],
      "execution_count": 103,
      "metadata": {
        "collapsed": true,
        "jupyter": {
          "source_hidden": false,
          "outputs_hidden": false
        },
        "nteract": {
          "transient": {
            "deleting": false
          }
        },
        "gather": {
          "logged": 1627520689032
        }
      }
    },
    {
      "cell_type": "code",
      "source": [
        "import shap\r\n",
        "\r\n",
        "explainer = shap.TreeExplainer(xg_clf)\r\n",
        "shap_values = explainer.shap_values(X_test)\r\n",
        "\r\n",
        "shap.summary_plot(shap_values, X_test)"
      ],
      "outputs": [
        {
          "output_type": "stream",
          "name": "stderr",
          "text": [
            "/anaconda/envs/azureml_py36/lib/python3.6/site-packages/shap/explainers/tree.py:104: UserWarning:\n",
            "\n",
            "Setting feature_perturbation = \"tree_path_dependent\" because no background data was given.\n",
            "\n"
          ]
        },
        {
          "output_type": "display_data",
          "data": {
            "text/plain": "<Figure size 576x684 with 2 Axes>",
            "image/png": "[encoded data removed]"
          },
          "metadata": {
            "needs_background": "light"
          }
        }
      ],
      "execution_count": 104,
      "metadata": {
        "collapsed": true,
        "jupyter": {
          "source_hidden": false,
          "outputs_hidden": false
        },
        "nteract": {
          "transient": {
            "deleting": false
          }
        },
        "gather": {
          "logged": 1627520689647
        }
      }
    },
    {
      "cell_type": "code",
      "source": [
        "def compare_outcomes(arr1, arr2):\r\n",
        "    if arr1 == arr2:\r\n",
        "        return 'correct'\r\n",
        "    else:\r\n",
        "        return 'incorrect'"
      ],
      "outputs": [],
      "execution_count": 105,
      "metadata": {
        "collapsed": true,
        "jupyter": {
          "source_hidden": false,
          "outputs_hidden": false
        },
        "nteract": {
          "transient": {
            "deleting": false
          }
        },
        "gather": {
          "logged": 1627520690699
        }
      }
    },
    {
      "cell_type": "code",
      "source": [
        "predict_outcomes = [1 if x >= self_thresholds[ix] else 0 for x in pred_prob]\r\n",
        "depict_outcomes = pd.DataFrame({'predict_outcomes':predict_outcomes})\r\n",
        "depict_outcomes['assign_outcomes'] = y_test.to_numpy()\r\n",
        "y_test_index = y_test.index\r\n",
        "tmp_df = dataset.iloc[y_test_index]\r\n",
        "tmp_df = tmp_df.reset_index()\r\n",
        "outcomes_complete = pd.concat([tmp_df, depict_outcomes], axis=1)\r\n",
        "outcomes_complete = outcomes_complete.sort_values(by = ['AgeOfDimm'], ascending=False)\r\n",
        "outcomes_complete['anomaly_id'] = outcomes_complete['anomaly_label'].apply(lambda x: 'outlier' if x==1 else 'inlier')\r\n",
        "outcomes_complete['predict_id'] = outcomes_complete.apply(lambda x: compare_outcomes(x.predict_outcomes, x.assign_outcomes), axis=1)"
      ],
      "outputs": [],
      "execution_count": 106,
      "metadata": {
        "collapsed": true,
        "jupyter": {
          "source_hidden": false,
          "outputs_hidden": false
        },
        "nteract": {
          "transient": {
            "deleting": false
          }
        },
        "gather": {
          "logged": 1627520691485
        }
      }
    },
    {
      "cell_type": "code",
      "source": [
        "outcomes_complete.drop(['index'], axis=1, inplace=True)"
      ],
      "outputs": [],
      "execution_count": 107,
      "metadata": {
        "collapsed": true,
        "jupyter": {
          "source_hidden": false,
          "outputs_hidden": false
        },
        "nteract": {
          "transient": {
            "deleting": false
          }
        },
        "gather": {
          "logged": 1627520692115
        }
      }
    },
    {
      "cell_type": "code",
      "source": [
        "pd.set_option('display.max_columns', None)\r\n",
        "outcomes_complete[outcomes_complete.MemoryManufacturer == 'Micron'].sort_values(by = ['AgeOfDimm'])"
      ],
      "outputs": [
        {
          "output_type": "execute_result",
          "execution_count": 108,
          "data": {
            "text/plain": "     Wmi_SerialNumber  socket  channel  bank  Generation_x ClusterType_x  \\\n72           F1439C94     0.0      5.0  10.0           7.1       Compute   \n527          276E215B     0.0      0.0   6.0           6.0       Compute   \n270          276E215B     0.0      0.0   6.0           6.0       Compute   \n957          F1439C94     0.0      5.0  10.0           7.1       Compute   \n319          F09B9269     1.0      0.0  14.0           6.0       Compute   \n431          F1439C94     0.0      5.0  10.0           7.1       Compute   \n73           F1439C94     0.0      5.0  10.0           7.1       Compute   \n413          244F0CD0     0.0      3.0  14.0           6.0       Compute   \n470          244F0CD0     0.0      3.0  14.0           6.0       Compute   \n747          F1439C94     0.0      5.0  10.0           7.1       Compute   \n127          F1439C94     0.0      5.0  10.0           7.1       Compute   \n191          F1439C94     0.0      5.0  10.0           7.1       Compute   \n245          F1439C94     0.0      5.0  10.0           7.1       Compute   \n526          F1439C94     0.0      5.0  10.0           7.1       Compute   \n624          F12A318E     0.0      1.0   5.0           7.1       Compute   \n988          286BECB6     0.0      0.0   9.0           7.1       Compute   \n542          2766BBB2     0.0      5.0   3.0           6.0       Compute   \n32           F08999D2     0.0      4.0   3.0           6.1       Compute   \n172          26118E65     0.0      2.0   0.0           7.1       Compute   \n600          F141369A     0.0      1.0  14.0           6.0       Compute   \n896          F084B019     0.0      3.0  13.0           6.1       Compute   \n1025         F097AE2D     0.0      1.0  10.0           6.1       Compute   \n124          26172E9D     1.0      4.0   5.0           6.0       Compute   \n608          20CEF78C     1.0      1.0   3.0           6.0       Compute   \n791          242F1974     0.0      1.0   0.0           6.0       Compute   \n697          F0D08EE9     0.0      1.0  15.0           6.0       Compute   \n1081         F0AFC843     0.0      3.0   8.0           6.0       Compute   \n843          F0AFC843     0.0      3.0   8.0           6.0       Compute   \n915          233656D5     1.0      0.0   2.0           6.0       Compute   \n425          233656D5     1.0      0.0   2.0           6.0       Compute   \n88           2636726A     0.0      4.0   7.0           6.0       Compute   \n980          F0A8BAE0     0.0      1.0  12.0           6.0       Compute   \n193          F09B91AB     0.0      3.0   5.0           6.0       Compute   \n844          26172725     1.0      2.0   3.0           6.0       Compute   \n101          20AB0678     0.0      0.0   5.0           6.0       Compute   \n452          F08CA7D5     0.0      4.0  14.0           6.0       Compute   \n800          F180AFA2     0.0      2.0   0.0           6.0       Compute   \n373          F197A4B8     0.0      1.0  13.0           6.0       Compute   \n961          F096F003     1.0      4.0   8.0           6.1       Compute   \n705          F1077A92     0.0      3.0  13.0           6.0       Compute   \n836          20A5D406     0.0      2.0   7.0           6.1       Compute   \n570          F096216B     0.0      2.0   4.0           6.1       Compute   \n492          F0B02163     0.0      3.0   2.0           6.0       Compute   \n834          26433809     0.0      5.0   9.0           6.0       Compute   \n783          2093E6F7     0.0      2.0   4.0           6.1       Compute   \n910          2093E6F7     0.0      2.0   4.0           6.1       Compute   \n\n                                             HwSkuId_x        BIOSVersion  \\\n72                Lenovo-Azure-Compute-Intel-WCS-C2030  C2030.BS.2A23.AT1   \n527      Ingrasys-Azure-Compute_GP-Low-Intel-WCS-C2010  C2010.BS.3F52.AM1   \n270      Ingrasys-Azure-Compute_GP-Low-Intel-WCS-C2010  C2010.BS.3F52.AM1   \n957               Lenovo-Azure-Compute-Intel-WCS-C2030  C2030.BS.2A23.AT1   \n319                           Wiwynn_Azure_Gen6_GP_Med  C2010.BS.3F38.AM3   \n431               Lenovo-Azure-Compute-Intel-WCS-C2030  C2030.BS.2A23.AT1   \n73                Lenovo-Azure-Compute-Intel-WCS-C2030  C2030.BS.2A23.AT1   \n413                           Wiwynn_Azure_Gen6_GP_Med  C2010.BS.3F38.AM3   \n470                           Wiwynn_Azure_Gen6_GP_Med  C2010.BS.3F38.AM3   \n747               Lenovo-Azure-Compute-Intel-WCS-C2030  C2030.BS.2A23.AT1   \n127               Lenovo-Azure-Compute-Intel-WCS-C2030  C2030.BS.2A23.AT1   \n191               Lenovo-Azure-Compute-Intel-WCS-C2030  C2030.BS.2A23.AT1   \n245               Lenovo-Azure-Compute-Intel-WCS-C2030  C2030.BS.2A23.AT1   \n526               Lenovo-Azure-Compute-Intel-WCS-C2030  C2030.BS.2A23.AT1   \n624               Lenovo-Azure-Compute-Intel-WCS-C2030  C2030.BS.2A23.AT1   \n988               Lenovo-Azure-Compute-Intel-WCS-C2030  C2030.BS.2A23.AT1   \n542      Ingrasys-Azure-Compute_GP-Low-Intel-WCS-C2010  C2010.BS.3F38.AM3   \n32    Ingrasys-Azure-Compute_Optimized-Intel-WCS-C2010  C2010.BS.3F38.AO1   \n172               Lenovo-Azure-Compute-Intel-WCS-C2030  C2030.BS.2A23.AT1   \n600        Lenovo-Azure-Compute_GP-Med-Intel-WCS-C2010  C2010.BS.3F38.AM3   \n896     Lenovo-Azure-Compute_Optimized-Intel-WCS-C2010  C2010.BS.3F38.AO1   \n1025  Ingrasys-Azure-Compute_Optimized-Intel-WCS-C2010  C2010.BS.3F38.AO1   \n124        Lenovo-Azure-Compute_GP-Med-Intel-WCS-C2010  C2010.BS.3F38.AM3   \n608                           Wiwynn_Azure_Gen6_GP_Med  C2010.BS.3F38.AM3   \n791                           Wiwynn_Azure_Gen6_GP_Med  C2010.BS.3F38.AM3   \n697                           Wiwynn_Azure_Gen6_GP_Med  C2010.BS.3F38.AM3   \n1081                          Wiwynn_Azure_Gen6_GP_Med  C2010.BS.3F38.AM3   \n843                           Wiwynn_Azure_Gen6_GP_Med  C2010.BS.3F38.AM3   \n915                           Wiwynn_Azure_Gen6_GP_Low  C2010.BS.3F38.AM3   \n425                           Wiwynn_Azure_Gen6_GP_Low  C2010.BS.3F38.AM3   \n88                            Wiwynn_Azure_Gen6_GP_Med  C2010.BS.3F38.AM3   \n980                           Wiwynn_Azure_Gen6_GP_Low  C2010.BS.3F38.AM3   \n193                           Wiwynn_Azure_Gen6_GP_Low  C2010.BS.3F38.AM3   \n844        Lenovo-Azure-Compute_GP-Med-Intel-WCS-C2010  C2010.BS.3F38.AM3   \n101                           Wiwynn_Azure_Gen6_GP_Med  C2010.BS.3F38.AM3   \n452        Lenovo-Azure-Compute_GP-Med-Intel-WCS-C2010  C2010.BS.3F38.AM3   \n800        Lenovo-Azure-Compute_GP-Med-Intel-WCS-C2010  C2010.BS.3F38.AM3   \n373      Ingrasys-Azure-Compute_GP-Med-Intel-WCS-C2010  C2010.BS.3F38.AM3   \n961   Ingrasys-Azure-Compute_Optimized-Intel-WCS-C2010  C2010.BS.3F38.AO1   \n705      Ingrasys-Azure-Compute_GP-Med-Intel-WCS-C2010  C2010.BS.3F38.AM3   \n836   Ingrasys-Azure-Compute_Optimized-Intel-WCS-C2010  C2010.BS.3F38.AO1   \n570   Ingrasys-Azure-Compute_Optimized-Intel-WCS-C2010  C2010.BS.3F38.AO1   \n492      Ingrasys-Azure-Compute_GP-Low-Intel-WCS-C2010  C2010.BS.3F38.AM3   \n834        Lenovo-Azure-Compute_GP-Med-Intel-WCS-C2010  C2010.BS.3F38.AM3   \n783   Ingrasys-Azure-Compute_Optimized-Intel-WCS-C2010  C2010.BS.3F38.AO1   \n910   Ingrasys-Azure-Compute_Optimized-Intel-WCS-C2010  C2010.BS.3F38.AO1   \n\n                                               CPUID MemoryManufacturer  \\\n72    Intel(R) Xeon(R) Platinum 8272CL CPU @ 2.60GHz             Micron   \n527    Intel(R) Xeon(R) Platinum 8171M CPU @ 2.60GHz             Micron   \n270    Intel(R) Xeon(R) Platinum 8171M CPU @ 2.60GHz             Micron   \n957   Intel(R) Xeon(R) Platinum 8272CL CPU @ 2.60GHz             Micron   \n319    Intel(R) Xeon(R) Platinum 8171M CPU @ 2.60GHz             Micron   \n431   Intel(R) Xeon(R) Platinum 8272CL CPU @ 2.60GHz             Micron   \n73    Intel(R) Xeon(R) Platinum 8272CL CPU @ 2.60GHz             Micron   \n413    Intel(R) Xeon(R) Platinum 8171M CPU @ 2.60GHz             Micron   \n470    Intel(R) Xeon(R) Platinum 8171M CPU @ 2.60GHz             Micron   \n747   Intel(R) Xeon(R) Platinum 8272CL CPU @ 2.60GHz             Micron   \n127   Intel(R) Xeon(R) Platinum 8272CL CPU @ 2.60GHz             Micron   \n191   Intel(R) Xeon(R) Platinum 8272CL CPU @ 2.60GHz             Micron   \n245   Intel(R) Xeon(R) Platinum 8272CL CPU @ 2.60GHz             Micron   \n526   Intel(R) Xeon(R) Platinum 8272CL CPU @ 2.60GHz             Micron   \n624   Intel(R) Xeon(R) Platinum 8272CL CPU @ 2.60GHz             Micron   \n988   Intel(R) Xeon(R) Platinum 8272CL CPU @ 2.60GHz             Micron   \n542    Intel(R) Xeon(R) Platinum 8171M CPU @ 2.60GHz             Micron   \n32      Intel(R) Xeon(R) Platinum 8168 CPU @ 2.70GHz             Micron   \n172   Intel(R) Xeon(R) Platinum 8272CL CPU @ 2.60GHz             Micron   \n600    Intel(R) Xeon(R) Platinum 8171M CPU @ 2.60GHz             Micron   \n896     Intel(R) Xeon(R) Platinum 8168 CPU @ 2.70GHz             Micron   \n1025    Intel(R) Xeon(R) Platinum 8168 CPU @ 2.70GHz             Micron   \n124    Intel(R) Xeon(R) Platinum 8171M CPU @ 2.60GHz             Micron   \n608    Intel(R) Xeon(R) Platinum 8171M CPU @ 2.60GHz             Micron   \n791    Intel(R) Xeon(R) Platinum 8171M CPU @ 2.60GHz             Micron   \n697    Intel(R) Xeon(R) Platinum 8171M CPU @ 2.60GHz             Micron   \n1081   Intel(R) Xeon(R) Platinum 8171M CPU @ 2.60GHz             Micron   \n843    Intel(R) Xeon(R) Platinum 8171M CPU @ 2.60GHz             Micron   \n915    Intel(R) Xeon(R) Platinum 8171M CPU @ 2.60GHz             Micron   \n425    Intel(R) Xeon(R) Platinum 8171M CPU @ 2.60GHz             Micron   \n88     Intel(R) Xeon(R) Platinum 8171M CPU @ 2.60GHz             Micron   \n980    Intel(R) Xeon(R) Platinum 8171M CPU @ 2.60GHz             Micron   \n193    Intel(R) Xeon(R) Platinum 8171M CPU @ 2.60GHz             Micron   \n844    Intel(R) Xeon(R) Platinum 8171M CPU @ 2.60GHz             Micron   \n101    Intel(R) Xeon(R) Platinum 8171M CPU @ 2.60GHz             Micron   \n452    Intel(R) Xeon(R) Platinum 8171M CPU @ 2.60GHz             Micron   \n800    Intel(R) Xeon(R) Platinum 8171M CPU @ 2.60GHz             Micron   \n373    Intel(R) Xeon(R) Platinum 8171M CPU @ 2.60GHz             Micron   \n961     Intel(R) Xeon(R) Platinum 8168 CPU @ 2.70GHz             Micron   \n705    Intel(R) Xeon(R) Platinum 8171M CPU @ 2.60GHz             Micron   \n836     Intel(R) Xeon(R) Platinum 8168 CPU @ 2.70GHz             Micron   \n570     Intel(R) Xeon(R) Platinum 8168 CPU @ 2.70GHz             Micron   \n492    Intel(R) Xeon(R) Platinum 8171M CPU @ 2.60GHz             Micron   \n834    Intel(R) Xeon(R) Platinum 8171M CPU @ 2.60GHz             Micron   \n783     Intel(R) Xeon(R) Platinum 8168 CPU @ 2.70GHz             Micron   \n910     Intel(R) Xeon(R) Platinum 8168 CPU @ 2.70GHz             Micron   \n\n       MemoryPartNumber  AgeOfDimm    UEfit_sum     MA_Uefit  logMA_Uefit  \\\n72    18ASF4G72PZ-2G9E1          4    25.979138   123.400906     4.815438   \n527   36ASF4G72PZ-2G6J1         10   207.833105   122.473080     4.807891   \n270   36ASF4G72PZ-2G6J1         12   129.895691    92.782636     4.530260   \n957   18ASF4G72PZ-2G9E1         16   675.457591   204.121800     5.318717   \n319   36ASF4G72PZ-2G6E1         18    51.958276   196.699189     5.281676   \n431   18ASF4G72PZ-2G9E1         19   909.269835   311.749658     5.742200   \n73    18ASF4G72PZ-2G9E1         22  6754.575913  1243.287325     7.125514   \n413   36ASF4G72PZ-2G6E1         25   467.624486  1399.162153     7.243629   \n470   36ASF4G72PZ-2G6E1         28  4260.578653  1941.012749     7.570965   \n747   18ASF4G72PZ-2G9E1         29   467.624486  1992.971025     7.597382   \n127   18ASF4G72PZ-2G9E1         32    25.979138  1031.742914     6.939005   \n191   18ASF4G72PZ-2G9E1         35    77.937414   872.156780     6.770969   \n245   18ASF4G72PZ-2G9E1         42    25.979138   764.528922     6.639260   \n526   18ASF4G72PZ-2G9E1         43   623.499315   244.946159     5.501038   \n624   18ASF2G72PZ-2G9E1         73    51.958276   133.606996     4.894903   \n988   18ASF2G72PZ-2G9E1         75    51.958276   103.916553     4.643588   \n542   36ASF4G72PZ-2G6J1        106   103.916553   593.808872     6.386558   \n32    36ASF2G72PZ-2G6F1        108    25.979138   515.871457     6.245858   \n172   36ASF4G72PZ-2G6E1        132   467.624486   534.427984     6.281197   \n600   36ASF4G72PZ-2G6E1        140   233.812243   564.118428     6.335264   \n896   36ASF2G72PZ-2G6F1        165   259.791381  5489.020756     8.610505   \n1025  36ASF2G72PZ-2G6F1        168    25.979138  5370.258982     8.588631   \n124   36ASF4G72PZ-2G6E1        180  1792.560531  1788.849225     7.489328   \n608   36ASF2G72PZ-2G6F1        189   285.770519  1658.953535     7.413942   \n791   36ASF2G72PZ-2G6F1        193  3740.995891  1462.254346     7.287735   \n697   36ASF2G72PZ-2G6F1        195   701.436729  1013.186387     6.920855   \n1081  36ASF4G72PZ-2G6E1        196   545.561901   835.043726     6.727484   \n843   36ASF4G72PZ-2G6E1        198   545.561901   905.558529     6.808552   \n915   36ASF4G72PZ-2G6E1        218  1662.664840   549.273206     6.308596   \n425   36ASF4G72PZ-2G6E1        221   441.645348   534.427984     6.281197   \n88    36ASF4G72PZ-2G6E1        244   233.812243   400.820988     5.993515   \n980   36ASF4G72PZ-2G6E1        245   259.791381   374.841850     5.926504   \n193   36ASF4G72PZ-2G6E1        296   337.728796   408.243599     6.011864   \n844   36ASF4G72PZ-2G6E1        300   467.624486   430.511432     6.064974   \n101   36ASF2G72PZ-2G6F1        313   233.812243   259.791381     5.559879   \n452   36ASF2G72PZ-2G6F1        314   415.666210   278.347909     5.628872   \n800   36ASF4G72PZ-2G6E1        321   233.812243   270.925298     5.601843   \n373   36ASF4G72PZ-2G6E1        323   233.812243   256.080076     5.545490   \n961   36ASF2G72PZ-2G6F1        326   181.853967   200.410494     5.300368   \n705   36ASF4G72PZ-2G6E1        330   233.812243   178.142661     5.182585   \n836   36ASF2G72PZ-2G6F1        331   259.791381   181.853967     5.203204   \n570   36ASF2G72PZ-2G6F1        335    25.979138   152.163523     5.024956   \n492   36ASF4G72PZ-2G6E1        350    25.979138   163.297440     5.095573   \n834   36ASF4G72PZ-2G6E1        352   337.728796   133.606996     4.894903   \n783   36ASF2G72PZ-2G6F1        354    51.958276   100.205247     4.607221   \n910   36ASF2G72PZ-2G6F1        355    25.979138    96.493942     4.569480   \n\n      fm_nibble7_sum  fm_nibble6_sum  fm_nibble5_sum  fm_nibble4_sum  \\\n72                 0               1               0               0   \n527                6               6               4               6   \n270                6               6               4               6   \n957                0               1               1               0   \n319                0               0               1               0   \n431                1               1               0               0   \n73                 0               0               0              16   \n413                0               3               0               0   \n470                0               0               0               6   \n747                2               0               0               0   \n127                1               2               0               0   \n191                2               1               0               0   \n245                1               0               0               0   \n526                3               0               0               0   \n624                1               0               0               1   \n988                0               1               0               0   \n542                0               0               2               0   \n32                 1               2               3               4   \n172                0               3               0               6   \n600                3               0               0               0   \n896                1               2               2               1   \n1025               0               0               1               0   \n124                0               2               3               0   \n608                0               3               0               0   \n791                0               0               3               0   \n697                0               3               0               0   \n1081               0               9               6               0   \n843                0               9               6               0   \n915                0               0               4               0   \n425                0               0               0               2   \n88                 3               0               0               0   \n980                0               0               1               3   \n193                2               0               3               0   \n844                3               3               0               0   \n101                0               0               3               0   \n452               10               7               5               5   \n800                0               3               0               0   \n373                0               0               6               3   \n961                1               2               1               1   \n705                0               0               0               3   \n836                0               0               0               1   \n570                0               1               0               0   \n492                2               2               2               2   \n834                2               0               3               0   \n783                1               0               1               0   \n910                1               0               1               0   \n\n      fm_nibble3_sum  fm_nibble2_sum  fm_nibble1_sum  fm_nibble0_sum  \\\n72                 0               1               0               0   \n527                6               2               6               4   \n270                6               2               6               4   \n957                0               1               1               0   \n319                0               0               1               0   \n431                1               1               0               0   \n73                 0               0               0              16   \n413                0               3               0               0   \n470                0               0               0               6   \n747                2               0               0               0   \n127                1               2               0               0   \n191                2               1               0               0   \n245                1               0               0               0   \n526                3               0               0               0   \n624                1               0               0               1   \n988                0               1               0               0   \n542                0               0               2               0   \n32                 1               0               3               3   \n172                0               3               0               6   \n600                3               0               0               0   \n896                1               3               3               0   \n1025               0               0               1               0   \n124                0               2               3               0   \n608                0               3               0               0   \n791                0               0               3               0   \n697                0               3               0               0   \n1081               0               9               6               0   \n843                0               9               6               0   \n915                0               0               4               0   \n425                6               0               0               2   \n88                 3               0               0               0   \n980                0               0               1               3   \n193                2               0               3               0   \n844                3               3               0               0   \n101                0               0               3               0   \n452                8               3               5               5   \n800                0               3               0               0   \n373                0               0               6               3   \n961                1               2               1               1   \n705                0               0               0               3   \n836                0               0               0               1   \n570                0               1               0               0   \n492                2               2               2               2   \n834                2               0               3               0   \n783                1               0               1               0   \n910                1               0               1               0   \n\n      cnt_rk7_sum  cnt_rk6_sum  cnt_rk5_sum  cnt_rk4_sum  cnt_rk3_sum  \\\n72              0            0            0            0            0   \n527             0            0            0            0            0   \n270             0            0            0            0            0   \n957             0            0            0            0            0   \n319             0            0            0            0            0   \n431             0            0            0            0            0   \n73              0            0            0            0            0   \n413             0            0            0            0            0   \n470             0            0            0            0            0   \n747             0            0            0            0            0   \n127             0            0            0            0            0   \n191             0            0            0            0            0   \n245             0            0            0            0            0   \n526             0            0            0            0            0   \n624             0            0            0          740            0   \n988             0            0            0           84            0   \n542             0            0            0            0            0   \n32              0            0            0            0            0   \n172             0            0            0            0            0   \n600             0            0            0            0            0   \n896             0            0            0            0            0   \n1025            0            0            0            0            0   \n124             0            0            0            0            0   \n608             0            0            0          396            0   \n791             0            0            0         1629            0   \n697             0            0            0            0            0   \n1081            0            0            0            0            0   \n843             0            0            0            0            0   \n915             0            0            0            0            0   \n425             0            0            0            0            0   \n88              0            0            0            0            0   \n980             0            0            0            0            0   \n193             0            0            0            0            0   \n844             0            0            0            0            0   \n101             0            0            0            0            0   \n452             0            0           14            0            0   \n800             0            0            0            0            0   \n373             0            0            0            0            0   \n961             0            0            0          238            0   \n705             0            0            0            0            0   \n836             0            0            0            0            0   \n570             0            0            0            0            0   \n492             0            0            0            0            0   \n834             0            0            0            0            0   \n783             0            0            0            0            0   \n910             0            0            0            0            0   \n\n      cnt_rk2_sum  cnt_rk1_sum  cnt_rk0_sum  diffUECount_sum  DimmTemp_avg  \\\n72              0            0          372                1       31.2900   \n527             0            0           40                2       33.0000   \n270             0            0            0                3       32.4300   \n957             0            0         3576                2       31.2900   \n319             0          212            0                1       35.0000   \n431             0            0           99                6       32.0250   \n73              0            0        39552               10       33.1000   \n413             0            0            0                3       36.0000   \n470             0          144            0               10       29.8000   \n747             0            0         3088                2       28.5000   \n127             0            0           55                1       29.0000   \n191             0            0           61                2       31.8950   \n245             0            0           97                1       37.0000   \n526             0            0         3507                3       28.0000   \n624             0            0            0                1       35.7900   \n988             0            0            0                1       39.0000   \n542             0            0          212                2       29.0000   \n32              0           65            0                1       32.4200   \n172             0            0         2133                6       36.8550   \n600             0         1818            0                3       37.9200   \n896             0            0          270                4       35.2975   \n1025            0            0          314                1       32.4200   \n124             0            0         1820                5       36.5040   \n608             0            0            0                4       35.7125   \n791             0            0            0                6       33.9600   \n697             0            0            0                3       34.7300   \n1081            0         1152            0                6       37.8650   \n843             0         3339         2724                6       30.3650   \n915             0            0        23032                4       35.6400   \n425             0            0         3444                5       34.3100   \n88              0         4419            0                3       33.0000   \n980             0         2944            0                4       43.2500   \n193             0            0         3408                5       32.4000   \n844             0         1035          891                6       32.8650   \n101             0            0            0                3       34.7300   \n452             0            0            0                3       31.2200   \n800             0          729            0                3       39.0000   \n373             0         2484            0                3       36.0000   \n961             0          282            0                4       38.9800   \n705             0         1827            0                3       31.0000   \n836             0           96            0                4       33.6050   \n570             0          108            0                1       32.0000   \n492             0          335            0                1       26.0000   \n834             0            0          939                5       28.8000   \n783             0          122            0                2       34.2100   \n910             0          220            0                1       32.4200   \n\n      TotalDIMMCount_sum  repeatue_sum  z_ma_uefit  anomaly_label anomaly_id  \\\n72                3196.0             0   -1.113611              0     inlier   \n527               3196.0             6   -1.119963              0     inlier   \n270               3196.0             2   -1.353625              0     inlier   \n957               3196.0            24   -0.690039              0     inlier   \n319               3196.0             1   -0.721214              0     inlier   \n431               3196.0            29   -0.333624              0     inlier   \n73                3196.0           250    0.830609              0     inlier   \n413               3196.0            15    0.930017              0     inlier   \n470               3196.0           154    1.205512              1    outlier   \n747               3196.0            16    1.227745              1    outlier   \n127               3196.0             0    0.673637              0     inlier   \n191               3196.0             1    0.532214              0     inlier   \n245               3196.0             0    0.421364              0     inlier   \n526               3196.0            21   -0.536592              0     inlier   \n624               3196.0             1   -1.046732              0     inlier   \n988               3196.0             1   -1.258245              0     inlier   \n542               3196.0             2    0.208683              0     inlier   \n32                3196.0             0    0.090267              0     inlier   \n172               3196.0            12    0.120009              0     inlier   \n600               3196.0             6    0.165514              0     inlier   \n896               3196.0             6    2.080416              1    outlier   \n1025              3196.0             0    2.062006              1    outlier   \n124               3196.0            64    1.136804              0     inlier   \n608               3196.0             7    1.073357              0     inlier   \n791               3196.0           138    0.967138              0     inlier   \n697               3196.0            24    0.658363              0     inlier   \n1081              3196.0            15    0.495616              0     inlier   \n843               3196.0            15    0.563845              0     inlier   \n915               3196.0            60    0.143069              0     inlier   \n425               3196.0            12    0.120009              0     inlier   \n88                3196.0             6   -0.122111              0     inlier   \n980               3196.0             6   -0.178509              0     inlier   \n193               3196.0             8   -0.106668              0     inlier   \n844               3196.0            12   -0.061970              0     inlier   \n101               3196.0             6   -0.487071              0     inlier   \n452               3196.0            13   -0.429004              0     inlier   \n800               3196.0             6   -0.451752              0     inlier   \n373               3196.0             6   -0.499181              0     inlier   \n961               3196.0             3   -0.705482              0     inlier   \n705               3196.0             6   -0.804611              0     inlier   \n836               3196.0             6   -0.787258              0     inlier   \n570               3196.0             0   -0.937276              0     inlier   \n492               3196.0             0   -0.877842              0     inlier   \n834               3196.0             8   -1.046732              0     inlier   \n783               3196.0             0   -1.288853              0     inlier   \n910               3196.0             0   -1.320616              0     inlier   \n\n      predict_outcomes  assign_outcomes predict_id  \n72                   0                0    correct  \n527                  0                0    correct  \n270                  0                0    correct  \n957                  0                0    correct  \n319                  0                0    correct  \n431                  0                0    correct  \n73                   0                0    correct  \n413                  0                0    correct  \n470                  0                1  incorrect  \n747                  0                1  incorrect  \n127                  0                0    correct  \n191                  0                0    correct  \n245                  0                0    correct  \n526                  0                0    correct  \n624                  0                0    correct  \n988                  0                0    correct  \n542                  0                0    correct  \n32                   0                0    correct  \n172                  0                0    correct  \n600                  1                0  incorrect  \n896                  1                1    correct  \n1025                 1                1    correct  \n124                  0                0    correct  \n608                  0                0    correct  \n791                  0                0    correct  \n697                  0                0    correct  \n1081                 0                0    correct  \n843                  0                0    correct  \n915                  0                0    correct  \n425                  0                0    correct  \n88                   0                0    correct  \n980                  0                0    correct  \n193                  0                0    correct  \n844                  0                0    correct  \n101                  0                0    correct  \n452                  0                0    correct  \n800                  0                0    correct  \n373                  0                0    correct  \n961                  0                0    correct  \n705                  0                0    correct  \n836                  0                0    correct  \n570                  0                0    correct  \n492                  0                0    correct  \n834                  0                0    correct  \n783                  0                0    correct  \n910                  0                0    correct  ",
            "text/html": "<div>\n<style scoped>\n    .dataframe tbody tr th:only-of-type {\n        vertical-align: middle;\n    }\n\n    .dataframe tbody tr th {\n        vertical-align: top;\n    }\n\n    .dataframe thead th {\n        text-align: right;\n    }\n</style>\n<table border=\"1\" class=\"dataframe\">\n  <thead>\n    <tr style=\"text-align: right;\">\n      <th></th>\n      <th>Wmi_SerialNumber</th>\n      <th>socket</th>\n      <th>channel</th>\n      <th>bank</th>\n      <th>Generation_x</th>\n      <th>ClusterType_x</th>\n      <th>HwSkuId_x</th>\n      <th>BIOSVersion</th>\n      <th>CPUID</th>\n      <th>MemoryManufacturer</th>\n      <th>MemoryPartNumber</th>\n      <th>AgeOfDimm</th>\n      <th>UEfit_sum</th>\n      <th>MA_Uefit</th>\n      <th>logMA_Uefit</th>\n      <th>fm_nibble7_sum</th>\n      <th>fm_nibble6_sum</th>\n      <th>fm_nibble5_sum</th>\n      <th>fm_nibble4_sum</th>\n      <th>fm_nibble3_sum</th>\n      <th>fm_nibble2_sum</th>\n      <th>fm_nibble1_sum</th>\n      <th>fm_nibble0_sum</th>\n      <th>cnt_rk7_sum</th>\n      <th>cnt_rk6_sum</th>\n      <th>cnt_rk5_sum</th>\n      <th>cnt_rk4_sum</th>\n      <th>cnt_rk3_sum</th>\n      <th>cnt_rk2_sum</th>\n      <th>cnt_rk1_sum</th>\n      <th>cnt_rk0_sum</th>\n      <th>diffUECount_sum</th>\n      <th>DimmTemp_avg</th>\n      <th>TotalDIMMCount_sum</th>\n      <th>repeatue_sum</th>\n      <th>z_ma_uefit</th>\n      <th>anomaly_label</th>\n      <th>anomaly_id</th>\n      <th>predict_outcomes</th>\n      <th>assign_outcomes</th>\n      <th>predict_id</th>\n    </tr>\n  </thead>\n  <tbody>\n    <tr>\n      <th>72</th>\n      <td>F1439C94</td>\n      <td>0.0</td>\n      <td>5.0</td>\n      <td>10.0</td>\n      <td>7.1</td>\n      <td>Compute</td>\n      <td>Lenovo-Azure-Compute-Intel-WCS-C2030</td>\n      <td>C2030.BS.2A23.AT1</td>\n      <td>Intel(R) Xeon(R) Platinum 8272CL CPU @ 2.60GHz</td>\n      <td>Micron</td>\n      <td>18ASF4G72PZ-2G9E1</td>\n      <td>4</td>\n      <td>25.979138</td>\n      <td>123.400906</td>\n      <td>4.815438</td>\n      <td>0</td>\n      <td>1</td>\n      <td>0</td>\n      <td>0</td>\n      <td>0</td>\n      <td>1</td>\n      <td>0</td>\n      <td>0</td>\n      <td>0</td>\n      <td>0</td>\n      <td>0</td>\n      <td>0</td>\n      <td>0</td>\n      <td>0</td>\n      <td>0</td>\n      <td>372</td>\n      <td>1</td>\n      <td>31.2900</td>\n      <td>3196.0</td>\n      <td>0</td>\n      <td>-1.113611</td>\n      <td>0</td>\n      <td>inlier</td>\n      <td>0</td>\n      <td>0</td>\n      <td>correct</td>\n    </tr>\n    <tr>\n      <th>527</th>\n      <td>276E215B</td>\n      <td>0.0</td>\n      <td>0.0</td>\n      <td>6.0</td>\n      <td>6.0</td>\n      <td>Compute</td>\n      <td>Ingrasys-Azure-Compute_GP-Low-Intel-WCS-C2010</td>\n      <td>C2010.BS.3F52.AM1</td>\n      <td>Intel(R) Xeon(R) Platinum 8171M CPU @ 2.60GHz</td>\n      <td>Micron</td>\n      <td>36ASF4G72PZ-2G6J1</td>\n      <td>10</td>\n      <td>207.833105</td>\n      <td>122.473080</td>\n      <td>4.807891</td>\n      <td>6</td>\n      <td>6</td>\n      <td>4</td>\n      <td>6</td>\n      <td>6</td>\n      <td>2</td>\n      <td>6</td>\n      <td>4</td>\n      <td>0</td>\n      <td>0</td>\n      <td>0</td>\n      <td>0</td>\n      <td>0</td>\n      <td>0</td>\n      <td>0</td>\n      <td>40</td>\n      <td>2</td>\n      <td>33.0000</td>\n      <td>3196.0</td>\n      <td>6</td>\n      <td>-1.119963</td>\n      <td>0</td>\n      <td>inlier</td>\n      <td>0</td>\n      <td>0</td>\n      <td>correct</td>\n    </tr>\n    <tr>\n      <th>270</th>\n      <td>276E215B</td>\n      <td>0.0</td>\n      <td>0.0</td>\n      <td>6.0</td>\n      <td>6.0</td>\n      <td>Compute</td>\n      <td>Ingrasys-Azure-Compute_GP-Low-Intel-WCS-C2010</td>\n      <td>C2010.BS.3F52.AM1</td>\n      <td>Intel(R) Xeon(R) Platinum 8171M CPU @ 2.60GHz</td>\n      <td>Micron</td>\n      <td>36ASF4G72PZ-2G6J1</td>\n      <td>12</td>\n      <td>129.895691</td>\n      <td>92.782636</td>\n      <td>4.530260</td>\n      <td>6</td>\n      <td>6</td>\n      <td>4</td>\n      <td>6</td>\n      <td>6</td>\n      <td>2</td>\n      <td>6</td>\n      <td>4</td>\n      <td>0</td>\n      <td>0</td>\n      <td>0</td>\n      <td>0</td>\n      <td>0</td>\n      <td>0</td>\n      <td>0</td>\n      <td>0</td>\n      <td>3</td>\n      <td>32.4300</td>\n      <td>3196.0</td>\n      <td>2</td>\n      <td>-1.353625</td>\n      <td>0</td>\n      <td>inlier</td>\n      <td>0</td>\n      <td>0</td>\n      <td>correct</td>\n    </tr>\n    <tr>\n      <th>957</th>\n      <td>F1439C94</td>\n      <td>0.0</td>\n      <td>5.0</td>\n      <td>10.0</td>\n      <td>7.1</td>\n      <td>Compute</td>\n      <td>Lenovo-Azure-Compute-Intel-WCS-C2030</td>\n      <td>C2030.BS.2A23.AT1</td>\n      <td>Intel(R) Xeon(R) Platinum 8272CL CPU @ 2.60GHz</td>\n      <td>Micron</td>\n      <td>18ASF4G72PZ-2G9E1</td>\n      <td>16</td>\n      <td>675.457591</td>\n      <td>204.121800</td>\n      <td>5.318717</td>\n      <td>0</td>\n      <td>1</td>\n      <td>1</td>\n      <td>0</td>\n      <td>0</td>\n      <td>1</td>\n      <td>1</td>\n      <td>0</td>\n      <td>0</td>\n      <td>0</td>\n      <td>0</td>\n      <td>0</td>\n      <td>0</td>\n      <td>0</td>\n      <td>0</td>\n      <td>3576</td>\n      <td>2</td>\n      <td>31.2900</td>\n      <td>3196.0</td>\n      <td>24</td>\n      <td>-0.690039</td>\n      <td>0</td>\n      <td>inlier</td>\n      <td>0</td>\n      <td>0</td>\n      <td>correct</td>\n    </tr>\n    <tr>\n      <th>319</th>\n      <td>F09B9269</td>\n      <td>1.0</td>\n      <td>0.0</td>\n      <td>14.0</td>\n      <td>6.0</td>\n      <td>Compute</td>\n      <td>Wiwynn_Azure_Gen6_GP_Med</td>\n      <td>C2010.BS.3F38.AM3</td>\n      <td>Intel(R) Xeon(R) Platinum 8171M CPU @ 2.60GHz</td>\n      <td>Micron</td>\n      <td>36ASF4G72PZ-2G6E1</td>\n      <td>18</td>\n      <td>51.958276</td>\n      <td>196.699189</td>\n      <td>5.281676</td>\n      <td>0</td>\n      <td>0</td>\n      <td>1</td>\n      <td>0</td>\n      <td>0</td>\n      <td>0</td>\n      <td>1</td>\n      <td>0</td>\n      <td>0</td>\n      <td>0</td>\n      <td>0</td>\n      <td>0</td>\n      <td>0</td>\n      <td>0</td>\n      <td>212</td>\n      <td>0</td>\n      <td>1</td>\n      <td>35.0000</td>\n      <td>3196.0</td>\n      <td>1</td>\n      <td>-0.721214</td>\n      <td>0</td>\n      <td>inlier</td>\n      <td>0</td>\n      <td>0</td>\n      <td>correct</td>\n    </tr>\n    <tr>\n      <th>431</th>\n      <td>F1439C94</td>\n      <td>0.0</td>\n      <td>5.0</td>\n      <td>10.0</td>\n      <td>7.1</td>\n      <td>Compute</td>\n      <td>Lenovo-Azure-Compute-Intel-WCS-C2030</td>\n      <td>C2030.BS.2A23.AT1</td>\n      <td>Intel(R) Xeon(R) Platinum 8272CL CPU @ 2.60GHz</td>\n      <td>Micron</td>\n      <td>18ASF4G72PZ-2G9E1</td>\n      <td>19</td>\n      <td>909.269835</td>\n      <td>311.749658</td>\n      <td>5.742200</td>\n      <td>1</td>\n      <td>1</td>\n      <td>0</td>\n      <td>0</td>\n      <td>1</td>\n      <td>1</td>\n      <td>0</td>\n      <td>0</td>\n      <td>0</td>\n      <td>0</td>\n      <td>0</td>\n      <td>0</td>\n      <td>0</td>\n      <td>0</td>\n      <td>0</td>\n      <td>99</td>\n      <td>6</td>\n      <td>32.0250</td>\n      <td>3196.0</td>\n      <td>29</td>\n      <td>-0.333624</td>\n      <td>0</td>\n      <td>inlier</td>\n      <td>0</td>\n      <td>0</td>\n      <td>correct</td>\n    </tr>\n    <tr>\n      <th>73</th>\n      <td>F1439C94</td>\n      <td>0.0</td>\n      <td>5.0</td>\n      <td>10.0</td>\n      <td>7.1</td>\n      <td>Compute</td>\n      <td>Lenovo-Azure-Compute-Intel-WCS-C2030</td>\n      <td>C2030.BS.2A23.AT1</td>\n      <td>Intel(R) Xeon(R) Platinum 8272CL CPU @ 2.60GHz</td>\n      <td>Micron</td>\n      <td>18ASF4G72PZ-2G9E1</td>\n      <td>22</td>\n      <td>6754.575913</td>\n      <td>1243.287325</td>\n      <td>7.125514</td>\n      <td>0</td>\n      <td>0</td>\n      <td>0</td>\n      <td>16</td>\n      <td>0</td>\n      <td>0</td>\n      <td>0</td>\n      <td>16</td>\n      <td>0</td>\n      <td>0</td>\n      <td>0</td>\n      <td>0</td>\n      <td>0</td>\n      <td>0</td>\n      <td>0</td>\n      <td>39552</td>\n      <td>10</td>\n      <td>33.1000</td>\n      <td>3196.0</td>\n      <td>250</td>\n      <td>0.830609</td>\n      <td>0</td>\n      <td>inlier</td>\n      <td>0</td>\n      <td>0</td>\n      <td>correct</td>\n    </tr>\n    <tr>\n      <th>413</th>\n      <td>244F0CD0</td>\n      <td>0.0</td>\n      <td>3.0</td>\n      <td>14.0</td>\n      <td>6.0</td>\n      <td>Compute</td>\n      <td>Wiwynn_Azure_Gen6_GP_Med</td>\n      <td>C2010.BS.3F38.AM3</td>\n      <td>Intel(R) Xeon(R) Platinum 8171M CPU @ 2.60GHz</td>\n      <td>Micron</td>\n      <td>36ASF4G72PZ-2G6E1</td>\n      <td>25</td>\n      <td>467.624486</td>\n      <td>1399.162153</td>\n      <td>7.243629</td>\n      <td>0</td>\n      <td>3</td>\n      <td>0</td>\n      <td>0</td>\n      <td>0</td>\n      <td>3</td>\n      <td>0</td>\n      <td>0</td>\n      <td>0</td>\n      <td>0</td>\n      <td>0</td>\n      <td>0</td>\n      <td>0</td>\n      <td>0</td>\n      <td>0</td>\n      <td>0</td>\n      <td>3</td>\n      <td>36.0000</td>\n      <td>3196.0</td>\n      <td>15</td>\n      <td>0.930017</td>\n      <td>0</td>\n      <td>inlier</td>\n      <td>0</td>\n      <td>0</td>\n      <td>correct</td>\n    </tr>\n    <tr>\n      <th>470</th>\n      <td>244F0CD0</td>\n      <td>0.0</td>\n      <td>3.0</td>\n      <td>14.0</td>\n      <td>6.0</td>\n      <td>Compute</td>\n      <td>Wiwynn_Azure_Gen6_GP_Med</td>\n      <td>C2010.BS.3F38.AM3</td>\n      <td>Intel(R) Xeon(R) Platinum 8171M CPU @ 2.60GHz</td>\n      <td>Micron</td>\n      <td>36ASF4G72PZ-2G6E1</td>\n      <td>28</td>\n      <td>4260.578653</td>\n      <td>1941.012749</td>\n      <td>7.570965</td>\n      <td>0</td>\n      <td>0</td>\n      <td>0</td>\n      <td>6</td>\n      <td>0</td>\n      <td>0</td>\n      <td>0</td>\n      <td>6</td>\n      <td>0</td>\n      <td>0</td>\n      <td>0</td>\n      <td>0</td>\n      <td>0</td>\n      <td>0</td>\n      <td>144</td>\n      <td>0</td>\n      <td>10</td>\n      <td>29.8000</td>\n      <td>3196.0</td>\n      <td>154</td>\n      <td>1.205512</td>\n      <td>1</td>\n      <td>outlier</td>\n      <td>0</td>\n      <td>1</td>\n      <td>incorrect</td>\n    </tr>\n    <tr>\n      <th>747</th>\n      <td>F1439C94</td>\n      <td>0.0</td>\n      <td>5.0</td>\n      <td>10.0</td>\n      <td>7.1</td>\n      <td>Compute</td>\n      <td>Lenovo-Azure-Compute-Intel-WCS-C2030</td>\n      <td>C2030.BS.2A23.AT1</td>\n      <td>Intel(R) Xeon(R) Platinum 8272CL CPU @ 2.60GHz</td>\n      <td>Micron</td>\n      <td>18ASF4G72PZ-2G9E1</td>\n      <td>29</td>\n      <td>467.624486</td>\n      <td>1992.971025</td>\n      <td>7.597382</td>\n      <td>2</td>\n      <td>0</td>\n      <td>0</td>\n      <td>0</td>\n      <td>2</td>\n      <td>0</td>\n      <td>0</td>\n      <td>0</td>\n      <td>0</td>\n      <td>0</td>\n      <td>0</td>\n      <td>0</td>\n      <td>0</td>\n      <td>0</td>\n      <td>0</td>\n      <td>3088</td>\n      <td>2</td>\n      <td>28.5000</td>\n      <td>3196.0</td>\n      <td>16</td>\n      <td>1.227745</td>\n      <td>1</td>\n      <td>outlier</td>\n      <td>0</td>\n      <td>1</td>\n      <td>incorrect</td>\n    </tr>\n    <tr>\n      <th>127</th>\n      <td>F1439C94</td>\n      <td>0.0</td>\n      <td>5.0</td>\n      <td>10.0</td>\n      <td>7.1</td>\n      <td>Compute</td>\n      <td>Lenovo-Azure-Compute-Intel-WCS-C2030</td>\n      <td>C2030.BS.2A23.AT1</td>\n      <td>Intel(R) Xeon(R) Platinum 8272CL CPU @ 2.60GHz</td>\n      <td>Micron</td>\n      <td>18ASF4G72PZ-2G9E1</td>\n      <td>32</td>\n      <td>25.979138</td>\n      <td>1031.742914</td>\n      <td>6.939005</td>\n      <td>1</td>\n      <td>2</td>\n      <td>0</td>\n      <td>0</td>\n      <td>1</td>\n      <td>2</td>\n      <td>0</td>\n      <td>0</td>\n      <td>0</td>\n      <td>0</td>\n      <td>0</td>\n      <td>0</td>\n      <td>0</td>\n      <td>0</td>\n      <td>0</td>\n      <td>55</td>\n      <td>1</td>\n      <td>29.0000</td>\n      <td>3196.0</td>\n      <td>0</td>\n      <td>0.673637</td>\n      <td>0</td>\n      <td>inlier</td>\n      <td>0</td>\n      <td>0</td>\n      <td>correct</td>\n    </tr>\n    <tr>\n      <th>191</th>\n      <td>F1439C94</td>\n      <td>0.0</td>\n      <td>5.0</td>\n      <td>10.0</td>\n      <td>7.1</td>\n      <td>Compute</td>\n      <td>Lenovo-Azure-Compute-Intel-WCS-C2030</td>\n      <td>C2030.BS.2A23.AT1</td>\n      <td>Intel(R) Xeon(R) Platinum 8272CL CPU @ 2.60GHz</td>\n      <td>Micron</td>\n      <td>18ASF4G72PZ-2G9E1</td>\n      <td>35</td>\n      <td>77.937414</td>\n      <td>872.156780</td>\n      <td>6.770969</td>\n      <td>2</td>\n      <td>1</td>\n      <td>0</td>\n      <td>0</td>\n      <td>2</td>\n      <td>1</td>\n      <td>0</td>\n      <td>0</td>\n      <td>0</td>\n      <td>0</td>\n      <td>0</td>\n      <td>0</td>\n      <td>0</td>\n      <td>0</td>\n      <td>0</td>\n      <td>61</td>\n      <td>2</td>\n      <td>31.8950</td>\n      <td>3196.0</td>\n      <td>1</td>\n      <td>0.532214</td>\n      <td>0</td>\n      <td>inlier</td>\n      <td>0</td>\n      <td>0</td>\n      <td>correct</td>\n    </tr>\n    <tr>\n      <th>245</th>\n      <td>F1439C94</td>\n      <td>0.0</td>\n      <td>5.0</td>\n      <td>10.0</td>\n      <td>7.1</td>\n      <td>Compute</td>\n      <td>Lenovo-Azure-Compute-Intel-WCS-C2030</td>\n      <td>C2030.BS.2A23.AT1</td>\n      <td>Intel(R) Xeon(R) Platinum 8272CL CPU @ 2.60GHz</td>\n      <td>Micron</td>\n      <td>18ASF4G72PZ-2G9E1</td>\n      <td>42</td>\n      <td>25.979138</td>\n      <td>764.528922</td>\n      <td>6.639260</td>\n      <td>1</td>\n      <td>0</td>\n      <td>0</td>\n      <td>0</td>\n      <td>1</td>\n      <td>0</td>\n      <td>0</td>\n      <td>0</td>\n      <td>0</td>\n      <td>0</td>\n      <td>0</td>\n      <td>0</td>\n      <td>0</td>\n      <td>0</td>\n      <td>0</td>\n      <td>97</td>\n      <td>1</td>\n      <td>37.0000</td>\n      <td>3196.0</td>\n      <td>0</td>\n      <td>0.421364</td>\n      <td>0</td>\n      <td>inlier</td>\n      <td>0</td>\n      <td>0</td>\n      <td>correct</td>\n    </tr>\n    <tr>\n      <th>526</th>\n      <td>F1439C94</td>\n      <td>0.0</td>\n      <td>5.0</td>\n      <td>10.0</td>\n      <td>7.1</td>\n      <td>Compute</td>\n      <td>Lenovo-Azure-Compute-Intel-WCS-C2030</td>\n      <td>C2030.BS.2A23.AT1</td>\n      <td>Intel(R) Xeon(R) Platinum 8272CL CPU @ 2.60GHz</td>\n      <td>Micron</td>\n      <td>18ASF4G72PZ-2G9E1</td>\n      <td>43</td>\n      <td>623.499315</td>\n      <td>244.946159</td>\n      <td>5.501038</td>\n      <td>3</td>\n      <td>0</td>\n      <td>0</td>\n      <td>0</td>\n      <td>3</td>\n      <td>0</td>\n      <td>0</td>\n      <td>0</td>\n      <td>0</td>\n      <td>0</td>\n      <td>0</td>\n      <td>0</td>\n      <td>0</td>\n      <td>0</td>\n      <td>0</td>\n      <td>3507</td>\n      <td>3</td>\n      <td>28.0000</td>\n      <td>3196.0</td>\n      <td>21</td>\n      <td>-0.536592</td>\n      <td>0</td>\n      <td>inlier</td>\n      <td>0</td>\n      <td>0</td>\n      <td>correct</td>\n    </tr>\n    <tr>\n      <th>624</th>\n      <td>F12A318E</td>\n      <td>0.0</td>\n      <td>1.0</td>\n      <td>5.0</td>\n      <td>7.1</td>\n      <td>Compute</td>\n      <td>Lenovo-Azure-Compute-Intel-WCS-C2030</td>\n      <td>C2030.BS.2A23.AT1</td>\n      <td>Intel(R) Xeon(R) Platinum 8272CL CPU @ 2.60GHz</td>\n      <td>Micron</td>\n      <td>18ASF2G72PZ-2G9E1</td>\n      <td>73</td>\n      <td>51.958276</td>\n      <td>133.606996</td>\n      <td>4.894903</td>\n      <td>1</td>\n      <td>0</td>\n      <td>0</td>\n      <td>1</td>\n      <td>1</td>\n      <td>0</td>\n      <td>0</td>\n      <td>1</td>\n      <td>0</td>\n      <td>0</td>\n      <td>0</td>\n      <td>740</td>\n      <td>0</td>\n      <td>0</td>\n      <td>0</td>\n      <td>0</td>\n      <td>1</td>\n      <td>35.7900</td>\n      <td>3196.0</td>\n      <td>1</td>\n      <td>-1.046732</td>\n      <td>0</td>\n      <td>inlier</td>\n      <td>0</td>\n      <td>0</td>\n      <td>correct</td>\n    </tr>\n    <tr>\n      <th>988</th>\n      <td>286BECB6</td>\n      <td>0.0</td>\n      <td>0.0</td>\n      <td>9.0</td>\n      <td>7.1</td>\n      <td>Compute</td>\n      <td>Lenovo-Azure-Compute-Intel-WCS-C2030</td>\n      <td>C2030.BS.2A23.AT1</td>\n      <td>Intel(R) Xeon(R) Platinum 8272CL CPU @ 2.60GHz</td>\n      <td>Micron</td>\n      <td>18ASF2G72PZ-2G9E1</td>\n      <td>75</td>\n      <td>51.958276</td>\n      <td>103.916553</td>\n      <td>4.643588</td>\n      <td>0</td>\n      <td>1</td>\n      <td>0</td>\n      <td>0</td>\n      <td>0</td>\n      <td>1</td>\n      <td>0</td>\n      <td>0</td>\n      <td>0</td>\n      <td>0</td>\n      <td>0</td>\n      <td>84</td>\n      <td>0</td>\n      <td>0</td>\n      <td>0</td>\n      <td>0</td>\n      <td>1</td>\n      <td>39.0000</td>\n      <td>3196.0</td>\n      <td>1</td>\n      <td>-1.258245</td>\n      <td>0</td>\n      <td>inlier</td>\n      <td>0</td>\n      <td>0</td>\n      <td>correct</td>\n    </tr>\n    <tr>\n      <th>542</th>\n      <td>2766BBB2</td>\n      <td>0.0</td>\n      <td>5.0</td>\n      <td>3.0</td>\n      <td>6.0</td>\n      <td>Compute</td>\n      <td>Ingrasys-Azure-Compute_GP-Low-Intel-WCS-C2010</td>\n      <td>C2010.BS.3F38.AM3</td>\n      <td>Intel(R) Xeon(R) Platinum 8171M CPU @ 2.60GHz</td>\n      <td>Micron</td>\n      <td>36ASF4G72PZ-2G6J1</td>\n      <td>106</td>\n      <td>103.916553</td>\n      <td>593.808872</td>\n      <td>6.386558</td>\n      <td>0</td>\n      <td>0</td>\n      <td>2</td>\n      <td>0</td>\n      <td>0</td>\n      <td>0</td>\n      <td>2</td>\n      <td>0</td>\n      <td>0</td>\n      <td>0</td>\n      <td>0</td>\n      <td>0</td>\n      <td>0</td>\n      <td>0</td>\n      <td>0</td>\n      <td>212</td>\n      <td>2</td>\n      <td>29.0000</td>\n      <td>3196.0</td>\n      <td>2</td>\n      <td>0.208683</td>\n      <td>0</td>\n      <td>inlier</td>\n      <td>0</td>\n      <td>0</td>\n      <td>correct</td>\n    </tr>\n    <tr>\n      <th>32</th>\n      <td>F08999D2</td>\n      <td>0.0</td>\n      <td>4.0</td>\n      <td>3.0</td>\n      <td>6.1</td>\n      <td>Compute</td>\n      <td>Ingrasys-Azure-Compute_Optimized-Intel-WCS-C2010</td>\n      <td>C2010.BS.3F38.AO1</td>\n      <td>Intel(R) Xeon(R) Platinum 8168 CPU @ 2.70GHz</td>\n      <td>Micron</td>\n      <td>36ASF2G72PZ-2G6F1</td>\n      <td>108</td>\n      <td>25.979138</td>\n      <td>515.871457</td>\n      <td>6.245858</td>\n      <td>1</td>\n      <td>2</td>\n      <td>3</td>\n      <td>4</td>\n      <td>1</td>\n      <td>0</td>\n      <td>3</td>\n      <td>3</td>\n      <td>0</td>\n      <td>0</td>\n      <td>0</td>\n      <td>0</td>\n      <td>0</td>\n      <td>0</td>\n      <td>65</td>\n      <td>0</td>\n      <td>1</td>\n      <td>32.4200</td>\n      <td>3196.0</td>\n      <td>0</td>\n      <td>0.090267</td>\n      <td>0</td>\n      <td>inlier</td>\n      <td>0</td>\n      <td>0</td>\n      <td>correct</td>\n    </tr>\n    <tr>\n      <th>172</th>\n      <td>26118E65</td>\n      <td>0.0</td>\n      <td>2.0</td>\n      <td>0.0</td>\n      <td>7.1</td>\n      <td>Compute</td>\n      <td>Lenovo-Azure-Compute-Intel-WCS-C2030</td>\n      <td>C2030.BS.2A23.AT1</td>\n      <td>Intel(R) Xeon(R) Platinum 8272CL CPU @ 2.60GHz</td>\n      <td>Micron</td>\n      <td>36ASF4G72PZ-2G6E1</td>\n      <td>132</td>\n      <td>467.624486</td>\n      <td>534.427984</td>\n      <td>6.281197</td>\n      <td>0</td>\n      <td>3</td>\n      <td>0</td>\n      <td>6</td>\n      <td>0</td>\n      <td>3</td>\n      <td>0</td>\n      <td>6</td>\n      <td>0</td>\n      <td>0</td>\n      <td>0</td>\n      <td>0</td>\n      <td>0</td>\n      <td>0</td>\n      <td>0</td>\n      <td>2133</td>\n      <td>6</td>\n      <td>36.8550</td>\n      <td>3196.0</td>\n      <td>12</td>\n      <td>0.120009</td>\n      <td>0</td>\n      <td>inlier</td>\n      <td>0</td>\n      <td>0</td>\n      <td>correct</td>\n    </tr>\n    <tr>\n      <th>600</th>\n      <td>F141369A</td>\n      <td>0.0</td>\n      <td>1.0</td>\n      <td>14.0</td>\n      <td>6.0</td>\n      <td>Compute</td>\n      <td>Lenovo-Azure-Compute_GP-Med-Intel-WCS-C2010</td>\n      <td>C2010.BS.3F38.AM3</td>\n      <td>Intel(R) Xeon(R) Platinum 8171M CPU @ 2.60GHz</td>\n      <td>Micron</td>\n      <td>36ASF4G72PZ-2G6E1</td>\n      <td>140</td>\n      <td>233.812243</td>\n      <td>564.118428</td>\n      <td>6.335264</td>\n      <td>3</td>\n      <td>0</td>\n      <td>0</td>\n      <td>0</td>\n      <td>3</td>\n      <td>0</td>\n      <td>0</td>\n      <td>0</td>\n      <td>0</td>\n      <td>0</td>\n      <td>0</td>\n      <td>0</td>\n      <td>0</td>\n      <td>0</td>\n      <td>1818</td>\n      <td>0</td>\n      <td>3</td>\n      <td>37.9200</td>\n      <td>3196.0</td>\n      <td>6</td>\n      <td>0.165514</td>\n      <td>0</td>\n      <td>inlier</td>\n      <td>1</td>\n      <td>0</td>\n      <td>incorrect</td>\n    </tr>\n    <tr>\n      <th>896</th>\n      <td>F084B019</td>\n      <td>0.0</td>\n      <td>3.0</td>\n      <td>13.0</td>\n      <td>6.1</td>\n      <td>Compute</td>\n      <td>Lenovo-Azure-Compute_Optimized-Intel-WCS-C2010</td>\n      <td>C2010.BS.3F38.AO1</td>\n      <td>Intel(R) Xeon(R) Platinum 8168 CPU @ 2.70GHz</td>\n      <td>Micron</td>\n      <td>36ASF2G72PZ-2G6F1</td>\n      <td>165</td>\n      <td>259.791381</td>\n      <td>5489.020756</td>\n      <td>8.610505</td>\n      <td>1</td>\n      <td>2</td>\n      <td>2</td>\n      <td>1</td>\n      <td>1</td>\n      <td>3</td>\n      <td>3</td>\n      <td>0</td>\n      <td>0</td>\n      <td>0</td>\n      <td>0</td>\n      <td>0</td>\n      <td>0</td>\n      <td>0</td>\n      <td>0</td>\n      <td>270</td>\n      <td>4</td>\n      <td>35.2975</td>\n      <td>3196.0</td>\n      <td>6</td>\n      <td>2.080416</td>\n      <td>1</td>\n      <td>outlier</td>\n      <td>1</td>\n      <td>1</td>\n      <td>correct</td>\n    </tr>\n    <tr>\n      <th>1025</th>\n      <td>F097AE2D</td>\n      <td>0.0</td>\n      <td>1.0</td>\n      <td>10.0</td>\n      <td>6.1</td>\n      <td>Compute</td>\n      <td>Ingrasys-Azure-Compute_Optimized-Intel-WCS-C2010</td>\n      <td>C2010.BS.3F38.AO1</td>\n      <td>Intel(R) Xeon(R) Platinum 8168 CPU @ 2.70GHz</td>\n      <td>Micron</td>\n      <td>36ASF2G72PZ-2G6F1</td>\n      <td>168</td>\n      <td>25.979138</td>\n      <td>5370.258982</td>\n      <td>8.588631</td>\n      <td>0</td>\n      <td>0</td>\n      <td>1</td>\n      <td>0</td>\n      <td>0</td>\n      <td>0</td>\n      <td>1</td>\n      <td>0</td>\n      <td>0</td>\n      <td>0</td>\n      <td>0</td>\n      <td>0</td>\n      <td>0</td>\n      <td>0</td>\n      <td>0</td>\n      <td>314</td>\n      <td>1</td>\n      <td>32.4200</td>\n      <td>3196.0</td>\n      <td>0</td>\n      <td>2.062006</td>\n      <td>1</td>\n      <td>outlier</td>\n      <td>1</td>\n      <td>1</td>\n      <td>correct</td>\n    </tr>\n    <tr>\n      <th>124</th>\n      <td>26172E9D</td>\n      <td>1.0</td>\n      <td>4.0</td>\n      <td>5.0</td>\n      <td>6.0</td>\n      <td>Compute</td>\n      <td>Lenovo-Azure-Compute_GP-Med-Intel-WCS-C2010</td>\n      <td>C2010.BS.3F38.AM3</td>\n      <td>Intel(R) Xeon(R) Platinum 8171M CPU @ 2.60GHz</td>\n      <td>Micron</td>\n      <td>36ASF4G72PZ-2G6E1</td>\n      <td>180</td>\n      <td>1792.560531</td>\n      <td>1788.849225</td>\n      <td>7.489328</td>\n      <td>0</td>\n      <td>2</td>\n      <td>3</td>\n      <td>0</td>\n      <td>0</td>\n      <td>2</td>\n      <td>3</td>\n      <td>0</td>\n      <td>0</td>\n      <td>0</td>\n      <td>0</td>\n      <td>0</td>\n      <td>0</td>\n      <td>0</td>\n      <td>0</td>\n      <td>1820</td>\n      <td>5</td>\n      <td>36.5040</td>\n      <td>3196.0</td>\n      <td>64</td>\n      <td>1.136804</td>\n      <td>0</td>\n      <td>inlier</td>\n      <td>0</td>\n      <td>0</td>\n      <td>correct</td>\n    </tr>\n    <tr>\n      <th>608</th>\n      <td>20CEF78C</td>\n      <td>1.0</td>\n      <td>1.0</td>\n      <td>3.0</td>\n      <td>6.0</td>\n      <td>Compute</td>\n      <td>Wiwynn_Azure_Gen6_GP_Med</td>\n      <td>C2010.BS.3F38.AM3</td>\n      <td>Intel(R) Xeon(R) Platinum 8171M CPU @ 2.60GHz</td>\n      <td>Micron</td>\n      <td>36ASF2G72PZ-2G6F1</td>\n      <td>189</td>\n      <td>285.770519</td>\n      <td>1658.953535</td>\n      <td>7.413942</td>\n      <td>0</td>\n      <td>3</td>\n      <td>0</td>\n      <td>0</td>\n      <td>0</td>\n      <td>3</td>\n      <td>0</td>\n      <td>0</td>\n      <td>0</td>\n      <td>0</td>\n      <td>0</td>\n      <td>396</td>\n      <td>0</td>\n      <td>0</td>\n      <td>0</td>\n      <td>0</td>\n      <td>4</td>\n      <td>35.7125</td>\n      <td>3196.0</td>\n      <td>7</td>\n      <td>1.073357</td>\n      <td>0</td>\n      <td>inlier</td>\n      <td>0</td>\n      <td>0</td>\n      <td>correct</td>\n    </tr>\n    <tr>\n      <th>791</th>\n      <td>242F1974</td>\n      <td>0.0</td>\n      <td>1.0</td>\n      <td>0.0</td>\n      <td>6.0</td>\n      <td>Compute</td>\n      <td>Wiwynn_Azure_Gen6_GP_Med</td>\n      <td>C2010.BS.3F38.AM3</td>\n      <td>Intel(R) Xeon(R) Platinum 8171M CPU @ 2.60GHz</td>\n      <td>Micron</td>\n      <td>36ASF2G72PZ-2G6F1</td>\n      <td>193</td>\n      <td>3740.995891</td>\n      <td>1462.254346</td>\n      <td>7.287735</td>\n      <td>0</td>\n      <td>0</td>\n      <td>3</td>\n      <td>0</td>\n      <td>0</td>\n      <td>0</td>\n      <td>3</td>\n      <td>0</td>\n      <td>0</td>\n      <td>0</td>\n      <td>0</td>\n      <td>1629</td>\n      <td>0</td>\n      <td>0</td>\n      <td>0</td>\n      <td>0</td>\n      <td>6</td>\n      <td>33.9600</td>\n      <td>3196.0</td>\n      <td>138</td>\n      <td>0.967138</td>\n      <td>0</td>\n      <td>inlier</td>\n      <td>0</td>\n      <td>0</td>\n      <td>correct</td>\n    </tr>\n    <tr>\n      <th>697</th>\n      <td>F0D08EE9</td>\n      <td>0.0</td>\n      <td>1.0</td>\n      <td>15.0</td>\n      <td>6.0</td>\n      <td>Compute</td>\n      <td>Wiwynn_Azure_Gen6_GP_Med</td>\n      <td>C2010.BS.3F38.AM3</td>\n      <td>Intel(R) Xeon(R) Platinum 8171M CPU @ 2.60GHz</td>\n      <td>Micron</td>\n      <td>36ASF2G72PZ-2G6F1</td>\n      <td>195</td>\n      <td>701.436729</td>\n      <td>1013.186387</td>\n      <td>6.920855</td>\n      <td>0</td>\n      <td>3</td>\n      <td>0</td>\n      <td>0</td>\n      <td>0</td>\n      <td>3</td>\n      <td>0</td>\n      <td>0</td>\n      <td>0</td>\n      <td>0</td>\n      <td>0</td>\n      <td>0</td>\n      <td>0</td>\n      <td>0</td>\n      <td>0</td>\n      <td>0</td>\n      <td>3</td>\n      <td>34.7300</td>\n      <td>3196.0</td>\n      <td>24</td>\n      <td>0.658363</td>\n      <td>0</td>\n      <td>inlier</td>\n      <td>0</td>\n      <td>0</td>\n      <td>correct</td>\n    </tr>\n    <tr>\n      <th>1081</th>\n      <td>F0AFC843</td>\n      <td>0.0</td>\n      <td>3.0</td>\n      <td>8.0</td>\n      <td>6.0</td>\n      <td>Compute</td>\n      <td>Wiwynn_Azure_Gen6_GP_Med</td>\n      <td>C2010.BS.3F38.AM3</td>\n      <td>Intel(R) Xeon(R) Platinum 8171M CPU @ 2.60GHz</td>\n      <td>Micron</td>\n      <td>36ASF4G72PZ-2G6E1</td>\n      <td>196</td>\n      <td>545.561901</td>\n      <td>835.043726</td>\n      <td>6.727484</td>\n      <td>0</td>\n      <td>9</td>\n      <td>6</td>\n      <td>0</td>\n      <td>0</td>\n      <td>9</td>\n      <td>6</td>\n      <td>0</td>\n      <td>0</td>\n      <td>0</td>\n      <td>0</td>\n      <td>0</td>\n      <td>0</td>\n      <td>0</td>\n      <td>1152</td>\n      <td>0</td>\n      <td>6</td>\n      <td>37.8650</td>\n      <td>3196.0</td>\n      <td>15</td>\n      <td>0.495616</td>\n      <td>0</td>\n      <td>inlier</td>\n      <td>0</td>\n      <td>0</td>\n      <td>correct</td>\n    </tr>\n    <tr>\n      <th>843</th>\n      <td>F0AFC843</td>\n      <td>0.0</td>\n      <td>3.0</td>\n      <td>8.0</td>\n      <td>6.0</td>\n      <td>Compute</td>\n      <td>Wiwynn_Azure_Gen6_GP_Med</td>\n      <td>C2010.BS.3F38.AM3</td>\n      <td>Intel(R) Xeon(R) Platinum 8171M CPU @ 2.60GHz</td>\n      <td>Micron</td>\n      <td>36ASF4G72PZ-2G6E1</td>\n      <td>198</td>\n      <td>545.561901</td>\n      <td>905.558529</td>\n      <td>6.808552</td>\n      <td>0</td>\n      <td>9</td>\n      <td>6</td>\n      <td>0</td>\n      <td>0</td>\n      <td>9</td>\n      <td>6</td>\n      <td>0</td>\n      <td>0</td>\n      <td>0</td>\n      <td>0</td>\n      <td>0</td>\n      <td>0</td>\n      <td>0</td>\n      <td>3339</td>\n      <td>2724</td>\n      <td>6</td>\n      <td>30.3650</td>\n      <td>3196.0</td>\n      <td>15</td>\n      <td>0.563845</td>\n      <td>0</td>\n      <td>inlier</td>\n      <td>0</td>\n      <td>0</td>\n      <td>correct</td>\n    </tr>\n    <tr>\n      <th>915</th>\n      <td>233656D5</td>\n      <td>1.0</td>\n      <td>0.0</td>\n      <td>2.0</td>\n      <td>6.0</td>\n      <td>Compute</td>\n      <td>Wiwynn_Azure_Gen6_GP_Low</td>\n      <td>C2010.BS.3F38.AM3</td>\n      <td>Intel(R) Xeon(R) Platinum 8171M CPU @ 2.60GHz</td>\n      <td>Micron</td>\n      <td>36ASF4G72PZ-2G6E1</td>\n      <td>218</td>\n      <td>1662.664840</td>\n      <td>549.273206</td>\n      <td>6.308596</td>\n      <td>0</td>\n      <td>0</td>\n      <td>4</td>\n      <td>0</td>\n      <td>0</td>\n      <td>0</td>\n      <td>4</td>\n      <td>0</td>\n      <td>0</td>\n      <td>0</td>\n      <td>0</td>\n      <td>0</td>\n      <td>0</td>\n      <td>0</td>\n      <td>0</td>\n      <td>23032</td>\n      <td>4</td>\n      <td>35.6400</td>\n      <td>3196.0</td>\n      <td>60</td>\n      <td>0.143069</td>\n      <td>0</td>\n      <td>inlier</td>\n      <td>0</td>\n      <td>0</td>\n      <td>correct</td>\n    </tr>\n    <tr>\n      <th>425</th>\n      <td>233656D5</td>\n      <td>1.0</td>\n      <td>0.0</td>\n      <td>2.0</td>\n      <td>6.0</td>\n      <td>Compute</td>\n      <td>Wiwynn_Azure_Gen6_GP_Low</td>\n      <td>C2010.BS.3F38.AM3</td>\n      <td>Intel(R) Xeon(R) Platinum 8171M CPU @ 2.60GHz</td>\n      <td>Micron</td>\n      <td>36ASF4G72PZ-2G6E1</td>\n      <td>221</td>\n      <td>441.645348</td>\n      <td>534.427984</td>\n      <td>6.281197</td>\n      <td>0</td>\n      <td>0</td>\n      <td>0</td>\n      <td>2</td>\n      <td>6</td>\n      <td>0</td>\n      <td>0</td>\n      <td>2</td>\n      <td>0</td>\n      <td>0</td>\n      <td>0</td>\n      <td>0</td>\n      <td>0</td>\n      <td>0</td>\n      <td>0</td>\n      <td>3444</td>\n      <td>5</td>\n      <td>34.3100</td>\n      <td>3196.0</td>\n      <td>12</td>\n      <td>0.120009</td>\n      <td>0</td>\n      <td>inlier</td>\n      <td>0</td>\n      <td>0</td>\n      <td>correct</td>\n    </tr>\n    <tr>\n      <th>88</th>\n      <td>2636726A</td>\n      <td>0.0</td>\n      <td>4.0</td>\n      <td>7.0</td>\n      <td>6.0</td>\n      <td>Compute</td>\n      <td>Wiwynn_Azure_Gen6_GP_Med</td>\n      <td>C2010.BS.3F38.AM3</td>\n      <td>Intel(R) Xeon(R) Platinum 8171M CPU @ 2.60GHz</td>\n      <td>Micron</td>\n      <td>36ASF4G72PZ-2G6E1</td>\n      <td>244</td>\n      <td>233.812243</td>\n      <td>400.820988</td>\n      <td>5.993515</td>\n      <td>3</td>\n      <td>0</td>\n      <td>0</td>\n      <td>0</td>\n      <td>3</td>\n      <td>0</td>\n      <td>0</td>\n      <td>0</td>\n      <td>0</td>\n      <td>0</td>\n      <td>0</td>\n      <td>0</td>\n      <td>0</td>\n      <td>0</td>\n      <td>4419</td>\n      <td>0</td>\n      <td>3</td>\n      <td>33.0000</td>\n      <td>3196.0</td>\n      <td>6</td>\n      <td>-0.122111</td>\n      <td>0</td>\n      <td>inlier</td>\n      <td>0</td>\n      <td>0</td>\n      <td>correct</td>\n    </tr>\n    <tr>\n      <th>980</th>\n      <td>F0A8BAE0</td>\n      <td>0.0</td>\n      <td>1.0</td>\n      <td>12.0</td>\n      <td>6.0</td>\n      <td>Compute</td>\n      <td>Wiwynn_Azure_Gen6_GP_Low</td>\n      <td>C2010.BS.3F38.AM3</td>\n      <td>Intel(R) Xeon(R) Platinum 8171M CPU @ 2.60GHz</td>\n      <td>Micron</td>\n      <td>36ASF4G72PZ-2G6E1</td>\n      <td>245</td>\n      <td>259.791381</td>\n      <td>374.841850</td>\n      <td>5.926504</td>\n      <td>0</td>\n      <td>0</td>\n      <td>1</td>\n      <td>3</td>\n      <td>0</td>\n      <td>0</td>\n      <td>1</td>\n      <td>3</td>\n      <td>0</td>\n      <td>0</td>\n      <td>0</td>\n      <td>0</td>\n      <td>0</td>\n      <td>0</td>\n      <td>2944</td>\n      <td>0</td>\n      <td>4</td>\n      <td>43.2500</td>\n      <td>3196.0</td>\n      <td>6</td>\n      <td>-0.178509</td>\n      <td>0</td>\n      <td>inlier</td>\n      <td>0</td>\n      <td>0</td>\n      <td>correct</td>\n    </tr>\n    <tr>\n      <th>193</th>\n      <td>F09B91AB</td>\n      <td>0.0</td>\n      <td>3.0</td>\n      <td>5.0</td>\n      <td>6.0</td>\n      <td>Compute</td>\n      <td>Wiwynn_Azure_Gen6_GP_Low</td>\n      <td>C2010.BS.3F38.AM3</td>\n      <td>Intel(R) Xeon(R) Platinum 8171M CPU @ 2.60GHz</td>\n      <td>Micron</td>\n      <td>36ASF4G72PZ-2G6E1</td>\n      <td>296</td>\n      <td>337.728796</td>\n      <td>408.243599</td>\n      <td>6.011864</td>\n      <td>2</td>\n      <td>0</td>\n      <td>3</td>\n      <td>0</td>\n      <td>2</td>\n      <td>0</td>\n      <td>3</td>\n      <td>0</td>\n      <td>0</td>\n      <td>0</td>\n      <td>0</td>\n      <td>0</td>\n      <td>0</td>\n      <td>0</td>\n      <td>0</td>\n      <td>3408</td>\n      <td>5</td>\n      <td>32.4000</td>\n      <td>3196.0</td>\n      <td>8</td>\n      <td>-0.106668</td>\n      <td>0</td>\n      <td>inlier</td>\n      <td>0</td>\n      <td>0</td>\n      <td>correct</td>\n    </tr>\n    <tr>\n      <th>844</th>\n      <td>26172725</td>\n      <td>1.0</td>\n      <td>2.0</td>\n      <td>3.0</td>\n      <td>6.0</td>\n      <td>Compute</td>\n      <td>Lenovo-Azure-Compute_GP-Med-Intel-WCS-C2010</td>\n      <td>C2010.BS.3F38.AM3</td>\n      <td>Intel(R) Xeon(R) Platinum 8171M CPU @ 2.60GHz</td>\n      <td>Micron</td>\n      <td>36ASF4G72PZ-2G6E1</td>\n      <td>300</td>\n      <td>467.624486</td>\n      <td>430.511432</td>\n      <td>6.064974</td>\n      <td>3</td>\n      <td>3</td>\n      <td>0</td>\n      <td>0</td>\n      <td>3</td>\n      <td>3</td>\n      <td>0</td>\n      <td>0</td>\n      <td>0</td>\n      <td>0</td>\n      <td>0</td>\n      <td>0</td>\n      <td>0</td>\n      <td>0</td>\n      <td>1035</td>\n      <td>891</td>\n      <td>6</td>\n      <td>32.8650</td>\n      <td>3196.0</td>\n      <td>12</td>\n      <td>-0.061970</td>\n      <td>0</td>\n      <td>inlier</td>\n      <td>0</td>\n      <td>0</td>\n      <td>correct</td>\n    </tr>\n    <tr>\n      <th>101</th>\n      <td>20AB0678</td>\n      <td>0.0</td>\n      <td>0.0</td>\n      <td>5.0</td>\n      <td>6.0</td>\n      <td>Compute</td>\n      <td>Wiwynn_Azure_Gen6_GP_Med</td>\n      <td>C2010.BS.3F38.AM3</td>\n      <td>Intel(R) Xeon(R) Platinum 8171M CPU @ 2.60GHz</td>\n      <td>Micron</td>\n      <td>36ASF2G72PZ-2G6F1</td>\n      <td>313</td>\n      <td>233.812243</td>\n      <td>259.791381</td>\n      <td>5.559879</td>\n      <td>0</td>\n      <td>0</td>\n      <td>3</td>\n      <td>0</td>\n      <td>0</td>\n      <td>0</td>\n      <td>3</td>\n      <td>0</td>\n      <td>0</td>\n      <td>0</td>\n      <td>0</td>\n      <td>0</td>\n      <td>0</td>\n      <td>0</td>\n      <td>0</td>\n      <td>0</td>\n      <td>3</td>\n      <td>34.7300</td>\n      <td>3196.0</td>\n      <td>6</td>\n      <td>-0.487071</td>\n      <td>0</td>\n      <td>inlier</td>\n      <td>0</td>\n      <td>0</td>\n      <td>correct</td>\n    </tr>\n    <tr>\n      <th>452</th>\n      <td>F08CA7D5</td>\n      <td>0.0</td>\n      <td>4.0</td>\n      <td>14.0</td>\n      <td>6.0</td>\n      <td>Compute</td>\n      <td>Lenovo-Azure-Compute_GP-Med-Intel-WCS-C2010</td>\n      <td>C2010.BS.3F38.AM3</td>\n      <td>Intel(R) Xeon(R) Platinum 8171M CPU @ 2.60GHz</td>\n      <td>Micron</td>\n      <td>36ASF2G72PZ-2G6F1</td>\n      <td>314</td>\n      <td>415.666210</td>\n      <td>278.347909</td>\n      <td>5.628872</td>\n      <td>10</td>\n      <td>7</td>\n      <td>5</td>\n      <td>5</td>\n      <td>8</td>\n      <td>3</td>\n      <td>5</td>\n      <td>5</td>\n      <td>0</td>\n      <td>0</td>\n      <td>14</td>\n      <td>0</td>\n      <td>0</td>\n      <td>0</td>\n      <td>0</td>\n      <td>0</td>\n      <td>3</td>\n      <td>31.2200</td>\n      <td>3196.0</td>\n      <td>13</td>\n      <td>-0.429004</td>\n      <td>0</td>\n      <td>inlier</td>\n      <td>0</td>\n      <td>0</td>\n      <td>correct</td>\n    </tr>\n    <tr>\n      <th>800</th>\n      <td>F180AFA2</td>\n      <td>0.0</td>\n      <td>2.0</td>\n      <td>0.0</td>\n      <td>6.0</td>\n      <td>Compute</td>\n      <td>Lenovo-Azure-Compute_GP-Med-Intel-WCS-C2010</td>\n      <td>C2010.BS.3F38.AM3</td>\n      <td>Intel(R) Xeon(R) Platinum 8171M CPU @ 2.60GHz</td>\n      <td>Micron</td>\n      <td>36ASF4G72PZ-2G6E1</td>\n      <td>321</td>\n      <td>233.812243</td>\n      <td>270.925298</td>\n      <td>5.601843</td>\n      <td>0</td>\n      <td>3</td>\n      <td>0</td>\n      <td>0</td>\n      <td>0</td>\n      <td>3</td>\n      <td>0</td>\n      <td>0</td>\n      <td>0</td>\n      <td>0</td>\n      <td>0</td>\n      <td>0</td>\n      <td>0</td>\n      <td>0</td>\n      <td>729</td>\n      <td>0</td>\n      <td>3</td>\n      <td>39.0000</td>\n      <td>3196.0</td>\n      <td>6</td>\n      <td>-0.451752</td>\n      <td>0</td>\n      <td>inlier</td>\n      <td>0</td>\n      <td>0</td>\n      <td>correct</td>\n    </tr>\n    <tr>\n      <th>373</th>\n      <td>F197A4B8</td>\n      <td>0.0</td>\n      <td>1.0</td>\n      <td>13.0</td>\n      <td>6.0</td>\n      <td>Compute</td>\n      <td>Ingrasys-Azure-Compute_GP-Med-Intel-WCS-C2010</td>\n      <td>C2010.BS.3F38.AM3</td>\n      <td>Intel(R) Xeon(R) Platinum 8171M CPU @ 2.60GHz</td>\n      <td>Micron</td>\n      <td>36ASF4G72PZ-2G6E1</td>\n      <td>323</td>\n      <td>233.812243</td>\n      <td>256.080076</td>\n      <td>5.545490</td>\n      <td>0</td>\n      <td>0</td>\n      <td>6</td>\n      <td>3</td>\n      <td>0</td>\n      <td>0</td>\n      <td>6</td>\n      <td>3</td>\n      <td>0</td>\n      <td>0</td>\n      <td>0</td>\n      <td>0</td>\n      <td>0</td>\n      <td>0</td>\n      <td>2484</td>\n      <td>0</td>\n      <td>3</td>\n      <td>36.0000</td>\n      <td>3196.0</td>\n      <td>6</td>\n      <td>-0.499181</td>\n      <td>0</td>\n      <td>inlier</td>\n      <td>0</td>\n      <td>0</td>\n      <td>correct</td>\n    </tr>\n    <tr>\n      <th>961</th>\n      <td>F096F003</td>\n      <td>1.0</td>\n      <td>4.0</td>\n      <td>8.0</td>\n      <td>6.1</td>\n      <td>Compute</td>\n      <td>Ingrasys-Azure-Compute_Optimized-Intel-WCS-C2010</td>\n      <td>C2010.BS.3F38.AO1</td>\n      <td>Intel(R) Xeon(R) Platinum 8168 CPU @ 2.70GHz</td>\n      <td>Micron</td>\n      <td>36ASF2G72PZ-2G6F1</td>\n      <td>326</td>\n      <td>181.853967</td>\n      <td>200.410494</td>\n      <td>5.300368</td>\n      <td>1</td>\n      <td>2</td>\n      <td>1</td>\n      <td>1</td>\n      <td>1</td>\n      <td>2</td>\n      <td>1</td>\n      <td>1</td>\n      <td>0</td>\n      <td>0</td>\n      <td>0</td>\n      <td>238</td>\n      <td>0</td>\n      <td>0</td>\n      <td>282</td>\n      <td>0</td>\n      <td>4</td>\n      <td>38.9800</td>\n      <td>3196.0</td>\n      <td>3</td>\n      <td>-0.705482</td>\n      <td>0</td>\n      <td>inlier</td>\n      <td>0</td>\n      <td>0</td>\n      <td>correct</td>\n    </tr>\n    <tr>\n      <th>705</th>\n      <td>F1077A92</td>\n      <td>0.0</td>\n      <td>3.0</td>\n      <td>13.0</td>\n      <td>6.0</td>\n      <td>Compute</td>\n      <td>Ingrasys-Azure-Compute_GP-Med-Intel-WCS-C2010</td>\n      <td>C2010.BS.3F38.AM3</td>\n      <td>Intel(R) Xeon(R) Platinum 8171M CPU @ 2.60GHz</td>\n      <td>Micron</td>\n      <td>36ASF4G72PZ-2G6E1</td>\n      <td>330</td>\n      <td>233.812243</td>\n      <td>178.142661</td>\n      <td>5.182585</td>\n      <td>0</td>\n      <td>0</td>\n      <td>0</td>\n      <td>3</td>\n      <td>0</td>\n      <td>0</td>\n      <td>0</td>\n      <td>3</td>\n      <td>0</td>\n      <td>0</td>\n      <td>0</td>\n      <td>0</td>\n      <td>0</td>\n      <td>0</td>\n      <td>1827</td>\n      <td>0</td>\n      <td>3</td>\n      <td>31.0000</td>\n      <td>3196.0</td>\n      <td>6</td>\n      <td>-0.804611</td>\n      <td>0</td>\n      <td>inlier</td>\n      <td>0</td>\n      <td>0</td>\n      <td>correct</td>\n    </tr>\n    <tr>\n      <th>836</th>\n      <td>20A5D406</td>\n      <td>0.0</td>\n      <td>2.0</td>\n      <td>7.0</td>\n      <td>6.1</td>\n      <td>Compute</td>\n      <td>Ingrasys-Azure-Compute_Optimized-Intel-WCS-C2010</td>\n      <td>C2010.BS.3F38.AO1</td>\n      <td>Intel(R) Xeon(R) Platinum 8168 CPU @ 2.70GHz</td>\n      <td>Micron</td>\n      <td>36ASF2G72PZ-2G6F1</td>\n      <td>331</td>\n      <td>259.791381</td>\n      <td>181.853967</td>\n      <td>5.203204</td>\n      <td>0</td>\n      <td>0</td>\n      <td>0</td>\n      <td>1</td>\n      <td>0</td>\n      <td>0</td>\n      <td>0</td>\n      <td>1</td>\n      <td>0</td>\n      <td>0</td>\n      <td>0</td>\n      <td>0</td>\n      <td>0</td>\n      <td>0</td>\n      <td>96</td>\n      <td>0</td>\n      <td>4</td>\n      <td>33.6050</td>\n      <td>3196.0</td>\n      <td>6</td>\n      <td>-0.787258</td>\n      <td>0</td>\n      <td>inlier</td>\n      <td>0</td>\n      <td>0</td>\n      <td>correct</td>\n    </tr>\n    <tr>\n      <th>570</th>\n      <td>F096216B</td>\n      <td>0.0</td>\n      <td>2.0</td>\n      <td>4.0</td>\n      <td>6.1</td>\n      <td>Compute</td>\n      <td>Ingrasys-Azure-Compute_Optimized-Intel-WCS-C2010</td>\n      <td>C2010.BS.3F38.AO1</td>\n      <td>Intel(R) Xeon(R) Platinum 8168 CPU @ 2.70GHz</td>\n      <td>Micron</td>\n      <td>36ASF2G72PZ-2G6F1</td>\n      <td>335</td>\n      <td>25.979138</td>\n      <td>152.163523</td>\n      <td>5.024956</td>\n      <td>0</td>\n      <td>1</td>\n      <td>0</td>\n      <td>0</td>\n      <td>0</td>\n      <td>1</td>\n      <td>0</td>\n      <td>0</td>\n      <td>0</td>\n      <td>0</td>\n      <td>0</td>\n      <td>0</td>\n      <td>0</td>\n      <td>0</td>\n      <td>108</td>\n      <td>0</td>\n      <td>1</td>\n      <td>32.0000</td>\n      <td>3196.0</td>\n      <td>0</td>\n      <td>-0.937276</td>\n      <td>0</td>\n      <td>inlier</td>\n      <td>0</td>\n      <td>0</td>\n      <td>correct</td>\n    </tr>\n    <tr>\n      <th>492</th>\n      <td>F0B02163</td>\n      <td>0.0</td>\n      <td>3.0</td>\n      <td>2.0</td>\n      <td>6.0</td>\n      <td>Compute</td>\n      <td>Ingrasys-Azure-Compute_GP-Low-Intel-WCS-C2010</td>\n      <td>C2010.BS.3F38.AM3</td>\n      <td>Intel(R) Xeon(R) Platinum 8171M CPU @ 2.60GHz</td>\n      <td>Micron</td>\n      <td>36ASF4G72PZ-2G6E1</td>\n      <td>350</td>\n      <td>25.979138</td>\n      <td>163.297440</td>\n      <td>5.095573</td>\n      <td>2</td>\n      <td>2</td>\n      <td>2</td>\n      <td>2</td>\n      <td>2</td>\n      <td>2</td>\n      <td>2</td>\n      <td>2</td>\n      <td>0</td>\n      <td>0</td>\n      <td>0</td>\n      <td>0</td>\n      <td>0</td>\n      <td>0</td>\n      <td>335</td>\n      <td>0</td>\n      <td>1</td>\n      <td>26.0000</td>\n      <td>3196.0</td>\n      <td>0</td>\n      <td>-0.877842</td>\n      <td>0</td>\n      <td>inlier</td>\n      <td>0</td>\n      <td>0</td>\n      <td>correct</td>\n    </tr>\n    <tr>\n      <th>834</th>\n      <td>26433809</td>\n      <td>0.0</td>\n      <td>5.0</td>\n      <td>9.0</td>\n      <td>6.0</td>\n      <td>Compute</td>\n      <td>Lenovo-Azure-Compute_GP-Med-Intel-WCS-C2010</td>\n      <td>C2010.BS.3F38.AM3</td>\n      <td>Intel(R) Xeon(R) Platinum 8171M CPU @ 2.60GHz</td>\n      <td>Micron</td>\n      <td>36ASF4G72PZ-2G6E1</td>\n      <td>352</td>\n      <td>337.728796</td>\n      <td>133.606996</td>\n      <td>4.894903</td>\n      <td>2</td>\n      <td>0</td>\n      <td>3</td>\n      <td>0</td>\n      <td>2</td>\n      <td>0</td>\n      <td>3</td>\n      <td>0</td>\n      <td>0</td>\n      <td>0</td>\n      <td>0</td>\n      <td>0</td>\n      <td>0</td>\n      <td>0</td>\n      <td>0</td>\n      <td>939</td>\n      <td>5</td>\n      <td>28.8000</td>\n      <td>3196.0</td>\n      <td>8</td>\n      <td>-1.046732</td>\n      <td>0</td>\n      <td>inlier</td>\n      <td>0</td>\n      <td>0</td>\n      <td>correct</td>\n    </tr>\n    <tr>\n      <th>783</th>\n      <td>2093E6F7</td>\n      <td>0.0</td>\n      <td>2.0</td>\n      <td>4.0</td>\n      <td>6.1</td>\n      <td>Compute</td>\n      <td>Ingrasys-Azure-Compute_Optimized-Intel-WCS-C2010</td>\n      <td>C2010.BS.3F38.AO1</td>\n      <td>Intel(R) Xeon(R) Platinum 8168 CPU @ 2.70GHz</td>\n      <td>Micron</td>\n      <td>36ASF2G72PZ-2G6F1</td>\n      <td>354</td>\n      <td>51.958276</td>\n      <td>100.205247</td>\n      <td>4.607221</td>\n      <td>1</td>\n      <td>0</td>\n      <td>1</td>\n      <td>0</td>\n      <td>1</td>\n      <td>0</td>\n      <td>1</td>\n      <td>0</td>\n      <td>0</td>\n      <td>0</td>\n      <td>0</td>\n      <td>0</td>\n      <td>0</td>\n      <td>0</td>\n      <td>122</td>\n      <td>0</td>\n      <td>2</td>\n      <td>34.2100</td>\n      <td>3196.0</td>\n      <td>0</td>\n      <td>-1.288853</td>\n      <td>0</td>\n      <td>inlier</td>\n      <td>0</td>\n      <td>0</td>\n      <td>correct</td>\n    </tr>\n    <tr>\n      <th>910</th>\n      <td>2093E6F7</td>\n      <td>0.0</td>\n      <td>2.0</td>\n      <td>4.0</td>\n      <td>6.1</td>\n      <td>Compute</td>\n      <td>Ingrasys-Azure-Compute_Optimized-Intel-WCS-C2010</td>\n      <td>C2010.BS.3F38.AO1</td>\n      <td>Intel(R) Xeon(R) Platinum 8168 CPU @ 2.70GHz</td>\n      <td>Micron</td>\n      <td>36ASF2G72PZ-2G6F1</td>\n      <td>355</td>\n      <td>25.979138</td>\n      <td>96.493942</td>\n      <td>4.569480</td>\n      <td>1</td>\n      <td>0</td>\n      <td>1</td>\n      <td>0</td>\n      <td>1</td>\n      <td>0</td>\n      <td>1</td>\n      <td>0</td>\n      <td>0</td>\n      <td>0</td>\n      <td>0</td>\n      <td>0</td>\n      <td>0</td>\n      <td>0</td>\n      <td>220</td>\n      <td>0</td>\n      <td>1</td>\n      <td>32.4200</td>\n      <td>3196.0</td>\n      <td>0</td>\n      <td>-1.320616</td>\n      <td>0</td>\n      <td>inlier</td>\n      <td>0</td>\n      <td>0</td>\n      <td>correct</td>\n    </tr>\n  </tbody>\n</table>\n</div>"
          },
          "metadata": {}
        }
      ],
      "execution_count": 108,
      "metadata": {
        "collapsed": true,
        "jupyter": {
          "source_hidden": false,
          "outputs_hidden": false
        },
        "nteract": {
          "transient": {
            "deleting": false
          }
        },
        "gather": {
          "logged": 1627520692817
        }
      }
    },
    {
      "cell_type": "code",
      "source": [
        "import plotly.express as px\r\n",
        "from plotly.subplots import make_subplots\r\n",
        "import plotly.graph_objects as go"
      ],
      "outputs": [],
      "execution_count": 109,
      "metadata": {
        "collapsed": true,
        "jupyter": {
          "source_hidden": false,
          "outputs_hidden": false
        },
        "nteract": {
          "transient": {
            "deleting": false
          }
        },
        "gather": {
          "logged": 1627520693836
        }
      }
    },
    {
      "cell_type": "code",
      "source": [
        "fig = px.scatter(outcomes_complete[outcomes_complete.MemoryManufacturer == 'SKHynix'],x='AgeOfDimm',y='MA_Uefit',color='anomaly_id')\r\n",
        "\r\n",
        "fig.show()"
      ],
      "outputs": [
        {
          "output_type": "display_data",
          "data": {
            "application/vnd.plotly.v1+json": {
              "config": {
                "plotlyServerURL": "https://plot.ly"
              },
              "data": [
                {
                  "hovertemplate": "anomaly_id=inlier<br>AgeOfDimm=%{x}<br>MA_Uefit=%{y}<extra></extra>",
                  "legendgroup": "inlier",
                  "marker": {
                    "color": "#636efa",
                    "symbol": "circle"
                  },
                  "mode": "markers",
                  "name": "inlier",
                  "orientation": "v",
                  "showlegend": true,
                  "type": "scatter",
                  "x": [
                    350,
                    338,
                    337,
                    324,
                    323,
                    322,
                    320,
                    317,
                    310,
                    307,
                    307,
                    298,
                    298,
                    297,
                    295,
                    288,
                    286,
                    284,
                    282,
                    282,
                    280,
                    280,
                    275,
                    274,
                    273,
                    273,
                    270,
                    269,
                    267,
                    267,
                    266,
                    264,
                    264,
                    263,
                    263,
                    261,
                    256,
                    256,
                    255,
                    255,
                    255,
                    255,
                    254,
                    249,
                    249,
                    247,
                    246,
                    239,
                    239,
                    229,
                    229,
                    226,
                    226,
                    223,
                    216,
                    215,
                    215,
                    214,
                    214,
                    213,
                    211,
                    209,
                    209,
                    209,
                    209,
                    208,
                    208,
                    208,
                    206,
                    206,
                    204,
                    204,
                    202,
                    201,
                    200,
                    200,
                    199,
                    198,
                    198,
                    196,
                    194,
                    193,
                    193,
                    193,
                    191,
                    187,
                    187,
                    187,
                    186,
                    186,
                    185,
                    185,
                    184,
                    183,
                    182,
                    182,
                    180,
                    178,
                    177,
                    174,
                    172,
                    172,
                    171,
                    171,
                    166,
                    165,
                    163,
                    161,
                    160,
                    157,
                    157,
                    156,
                    156,
                    154,
                    153,
                    128,
                    125,
                    124,
                    123,
                    120,
                    119,
                    118,
                    117,
                    116,
                    115,
                    114,
                    114,
                    113,
                    112,
                    112,
                    108,
                    106,
                    104,
                    100,
                    100,
                    99,
                    98,
                    98,
                    96,
                    95,
                    94,
                    92,
                    92,
                    86,
                    86,
                    86,
                    86,
                    84,
                    84,
                    82,
                    82,
                    79,
                    78,
                    77,
                    77,
                    76,
                    75,
                    75,
                    73,
                    73,
                    65,
                    64,
                    62,
                    62,
                    61,
                    59,
                    59,
                    58,
                    58,
                    57,
                    55,
                    54,
                    53,
                    53,
                    52,
                    51,
                    51,
                    50,
                    48,
                    48,
                    47,
                    44,
                    42,
                    41,
                    40,
                    40,
                    40,
                    40,
                    39,
                    39,
                    38,
                    38,
                    38,
                    38,
                    36,
                    35,
                    34,
                    33,
                    33,
                    32,
                    32,
                    31,
                    29,
                    28,
                    28,
                    28,
                    28,
                    26,
                    25,
                    23,
                    22,
                    22,
                    22,
                    21,
                    20,
                    19,
                    19,
                    18,
                    18,
                    17,
                    17,
                    17,
                    16,
                    15,
                    15,
                    15,
                    14,
                    13,
                    13,
                    12,
                    12,
                    12,
                    11,
                    10,
                    9,
                    9,
                    9,
                    7,
                    7,
                    6,
                    6,
                    5,
                    4
                  ],
                  "xaxis": "x",
                  "y": [
                    221.35884010518035,
                    130.2854887476212,
                    130.2854887476212,
                    395.9160968738352,
                    402.24063516255455,
                    397.1810045315791,
                    102.45752027725578,
                    125.22585811664557,
                    126.4907657743894,
                    108.78205856597513,
                    108.78205856597513,
                    718.4675495985235,
                    718.4675495985235,
                    724.7920878872429,
                    824.7197928490092,
                    118.901319827926,
                    1617.8168942544198,
                    1615.2870789389324,
                    1674.7377388528946,
                    1674.7377388528946,
                    1759.4865519217346,
                    1759.4865519217346,
                    185.94142568835167,
                    185.94142568835167,
                    1553.306603709482,
                    1553.306603709482,
                    1572.2802185756407,
                    1600.1081870460055,
                    1593.7836487572863,
                    1593.7836487572863,
                    103.72242793499987,
                    102.457520277256,
                    102.457520277256,
                    126.49076577438964,
                    126.49076577438964,
                    225.15356307841202,
                    222.6237477629243,
                    222.6237477629243,
                    141.66965766731622,
                    141.66965766731622,
                    141.66965766731622,
                    141.66965766731622,
                    112.57678153920703,
                    115.1065968546948,
                    115.1065968546948,
                    123.96095045890192,
                    125.2258581166458,
                    194.79577929255902,
                    194.79577929255902,
                    299.7831148853012,
                    299.7831148853012,
                    265.63060812621643,
                    265.63060812621643,
                    45.536675678781926,
                    1196.6026442257096,
                    1285.1461802677807,
                    1285.1461802677807,
                    1331.9477636043046,
                    1331.9477636043046,
                    2071.9187433844722,
                    2049.150405545082,
                    1035.959371692237,
                    1035.959371692237,
                    1035.959371692237,
                    1035.959371692237,
                    939.8263897037024,
                    939.8263897037024,
                    939.8263897037024,
                    209.97467118548616,
                    209.97467118548616,
                    277.0147770459116,
                    277.0147770459116,
                    603.3609527438318,
                    589.446968508649,
                    565.4137230115152,
                    565.4137230115152,
                    545.1752004876133,
                    906.938790602362,
                    906.938790602362,
                    812.0707162715713,
                    526.2015856214554,
                    531.2612162524309,
                    531.2612162524309,
                    531.2612162524309,
                    784.2427478012062,
                    1657.0290316444816,
                    1657.0290316444816,
                    1657.0290316444816,
                    1648.1746780402743,
                    1648.1746780402743,
                    1626.671247858629,
                    1626.671247858629,
                    1603.9029100192388,
                    971.4490811473007,
                    937.296574388216,
                    937.296574388216,
                    97.39788964628178,
                    89.80844369981854,
                    376.9424820076785,
                    1219.3709820651002,
                    1225.6955203538193,
                    1225.6955203538193,
                    1221.9007973805874,
                    1221.9007973805874,
                    132.8153040631101,
                    137.8749346940856,
                    260.5709774952416,
                    2001.0839145508148,
                    2036.5013289676435,
                    2068.12402041124,
                    2068.12402041124,
                    4571.376275086373,
                    4571.376275086373,
                    2890.31399794476,
                    2913.0823357841496,
                    647.6327207648641,
                    980.3034347515036,
                    962.5947275430893,
                    893.0248063671761,
                    621.0696599522425,
                    753.8849640153494,
                    766.5340405927882,
                    1763.281274894963,
                    1737.9831217400854,
                    1729.1287681358785,
                    1749.3672906597799,
                    1749.3672906597799,
                    1703.8306149810003,
                    1192.8079212524742,
                    1192.8079212524742,
                    2101.011619512577,
                    2243.946184837636,
                    2190.820063212393,
                    2351.4633357458656,
                    2351.4633357458656,
                    734.9113491491918,
                    1509.0348356884442,
                    1509.0348356884442,
                    1373.6897163098492,
                    1610.2274483079543,
                    1563.4258649714307,
                    1221.9007973805842,
                    1221.9007973805842,
                    426.2738806596858,
                    426.2738806596858,
                    426.2738806596858,
                    426.2738806596858,
                    308.6374684895051,
                    308.6374684895051,
                    631.1889212141937,
                    631.1889212141937,
                    731.1166261759599,
                    741.2358874379111,
                    652.6923513958396,
                    652.6923513958396,
                    660.2817973423028,
                    728.5868108604719,
                    728.5868108604719,
                    645.1029054493762,
                    645.1029054493762,
                    1595.0485564150274,
                    2504.517162332875,
                    2049.15040554508,
                    2049.15040554508,
                    1636.7905091205755,
                    1261.1129347706446,
                    1261.1129347706446,
                    1109.3240158413794,
                    1109.3240158413794,
                    198.59050226578847,
                    514.8174167017577,
                    516.0823243595015,
                    533.7910315679158,
                    533.7910315679158,
                    693.1693964436442,
                    731.1166261759605,
                    731.1166261759605,
                    760.2095023040697,
                    502.16834012431883,
                    502.16834012431883,
                    578.0627995889515,
                    408.56517345127196,
                    378.2073896654189,
                    347.8496058795659,
                    251.7166238910313,
                    251.7166238910313,
                    251.7166238910313,
                    251.7166238910313,
                    202.3852252390201,
                    202.3852252390201,
                    235.2728243403609,
                    235.2728243403609,
                    235.2728243403609,
                    235.2728243403609,
                    174.5572567686548,
                    488.2543558891362,
                    698.2290270746198,
                    751.3551486998629,
                    751.3551486998629,
                    760.2095023040698,
                    760.2095023040698,
                    712.1430113098022,
                    728.5868108604727,
                    435.1282342638935,
                    435.1282342638935,
                    435.1282342638935,
                    435.1282342638935,
                    197.3255946080446,
                    259.3060698374946,
                    567.9435383270004,
                    685.5799504971809,
                    685.5799504971809,
                    685.5799504971809,
                    771.5936712237643,
                    757.6796869885817,
                    1729.1287681358785,
                    1729.1287681358785,
                    1676.0026465106364,
                    1676.0026465106364,
                    1644.3799550670392,
                    1644.3799550670392,
                    1644.3799550670392,
                    1569.7504032601505,
                    1483.7366825335666,
                    1483.7366825335666,
                    1483.7366825335666,
                    1486.2664978490545,
                    1622.8765248853927,
                    1622.8765248853927,
                    1028.369925745771,
                    1028.369925745771,
                    1028.369925745771,
                    1068.8469707935753,
                    1314.2390563958872,
                    1331.9477636043014,
                    1331.9477636043014,
                    1331.9477636043014,
                    3481.025874111147,
                    3481.025874111147,
                    4334.8385430882645,
                    4334.8385430882645,
                    4568.84645977088,
                    5360.425671986997
                  ],
                  "yaxis": "y"
                },
                {
                  "hovertemplate": "anomaly_id=outlier<br>AgeOfDimm=%{x}<br>MA_Uefit=%{y}<extra></extra>",
                  "legendgroup": "outlier",
                  "marker": {
                    "color": "#EF553B",
                    "symbol": "circle"
                  },
                  "mode": "markers",
                  "name": "outlier",
                  "orientation": "v",
                  "showlegend": true,
                  "type": "scatter",
                  "x": [
                    235,
                    235,
                    234,
                    234,
                    231,
                    152,
                    152,
                    150,
                    150,
                    150,
                    149,
                    147,
                    147,
                    146,
                    143,
                    143,
                    142,
                    142,
                    142,
                    141,
                    140,
                    139,
                    138,
                    135,
                    134,
                    134,
                    131,
                    131,
                    3,
                    3,
                    3,
                    2,
                    2,
                    2,
                    1,
                    1,
                    1,
                    0,
                    0
                  ],
                  "xaxis": "x",
                  "y": [
                    8177.628007314165,
                    8177.628007314165,
                    8159.919300105749,
                    8159.919300105749,
                    8273.7609893027,
                    12936.210615746631,
                    12936.210615746631,
                    12910.912462591752,
                    12910.912462591752,
                    12910.912462591752,
                    11399.34781158782,
                    11251.353615631788,
                    11251.353615631788,
                    13540.836476148203,
                    28896.815441158862,
                    28896.815441158862,
                    34400.428660002464,
                    34400.428660002464,
                    34400.428660002464,
                    41047.51840144653,
                    50367.35802370341,
                    60304.472582939314,
                    61465.65781274818,
                    44142.7474399458,
                    37474.15426832008,
                    37474.15426832008,
                    9257.859147027437,
                    9257.859147027437,
                    6038.669158069264,
                    6038.669158069264,
                    6038.669158069264,
                    7771.17101329246,
                    7771.17101329246,
                    7771.17101329246,
                    9894.74015270147,
                    9894.74015270147,
                    9894.74015270147,
                    6959.521932906805,
                    6959.521932906805
                  ],
                  "yaxis": "y"
                }
              ],
              "layout": {
                "legend": {
                  "title": {
                    "text": "anomaly_id"
                  },
                  "tracegroupgap": 0
                },
                "margin": {
                  "t": 60
                },
                "template": {
                  "data": {
                    "bar": [
                      {
                        "error_x": {
                          "color": "#2a3f5f"
                        },
                        "error_y": {
                          "color": "#2a3f5f"
                        },
                        "marker": {
                          "line": {
                            "color": "#E5ECF6",
                            "width": 0.5
                          }
                        },
                        "type": "bar"
                      }
                    ],
                    "barpolar": [
                      {
                        "marker": {
                          "line": {
                            "color": "#E5ECF6",
                            "width": 0.5
                          }
                        },
                        "type": "barpolar"
                      }
                    ],
                    "carpet": [
                      {
                        "aaxis": {
                          "endlinecolor": "#2a3f5f",
                          "gridcolor": "white",
                          "linecolor": "white",
                          "minorgridcolor": "white",
                          "startlinecolor": "#2a3f5f"
                        },
                        "baxis": {
                          "endlinecolor": "#2a3f5f",
                          "gridcolor": "white",
                          "linecolor": "white",
                          "minorgridcolor": "white",
                          "startlinecolor": "#2a3f5f"
                        },
                        "type": "carpet"
                      }
                    ],
                    "choropleth": [
                      {
                        "colorbar": {
                          "outlinewidth": 0,
                          "ticks": ""
                        },
                        "type": "choropleth"
                      }
                    ],
                    "contour": [
                      {
                        "colorbar": {
                          "outlinewidth": 0,
                          "ticks": ""
                        },
                        "colorscale": [
                          [
                            0,
                            "#0d0887"
                          ],
                          [
                            0.1111111111111111,
                            "#46039f"
                          ],
                          [
                            0.2222222222222222,
                            "#7201a8"
                          ],
                          [
                            0.3333333333333333,
                            "#9c179e"
                          ],
                          [
                            0.4444444444444444,
                            "#bd3786"
                          ],
                          [
                            0.5555555555555556,
                            "#d8576b"
                          ],
                          [
                            0.6666666666666666,
                            "#ed7953"
                          ],
                          [
                            0.7777777777777778,
                            "#fb9f3a"
                          ],
                          [
                            0.8888888888888888,
                            "#fdca26"
                          ],
                          [
                            1,
                            "#f0f921"
                          ]
                        ],
                        "type": "contour"
                      }
                    ],
                    "contourcarpet": [
                      {
                        "colorbar": {
                          "outlinewidth": 0,
                          "ticks": ""
                        },
                        "type": "contourcarpet"
                      }
                    ],
                    "heatmap": [
                      {
                        "colorbar": {
                          "outlinewidth": 0,
                          "ticks": ""
                        },
                        "colorscale": [
                          [
                            0,
                            "#0d0887"
                          ],
                          [
                            0.1111111111111111,
                            "#46039f"
                          ],
                          [
                            0.2222222222222222,
                            "#7201a8"
                          ],
                          [
                            0.3333333333333333,
                            "#9c179e"
                          ],
                          [
                            0.4444444444444444,
                            "#bd3786"
                          ],
                          [
                            0.5555555555555556,
                            "#d8576b"
                          ],
                          [
                            0.6666666666666666,
                            "#ed7953"
                          ],
                          [
                            0.7777777777777778,
                            "#fb9f3a"
                          ],
                          [
                            0.8888888888888888,
                            "#fdca26"
                          ],
                          [
                            1,
                            "#f0f921"
                          ]
                        ],
                        "type": "heatmap"
                      }
                    ],
                    "heatmapgl": [
                      {
                        "colorbar": {
                          "outlinewidth": 0,
                          "ticks": ""
                        },
                        "colorscale": [
                          [
                            0,
                            "#0d0887"
                          ],
                          [
                            0.1111111111111111,
                            "#46039f"
                          ],
                          [
                            0.2222222222222222,
                            "#7201a8"
                          ],
                          [
                            0.3333333333333333,
                            "#9c179e"
                          ],
                          [
                            0.4444444444444444,
                            "#bd3786"
                          ],
                          [
                            0.5555555555555556,
                            "#d8576b"
                          ],
                          [
                            0.6666666666666666,
                            "#ed7953"
                          ],
                          [
                            0.7777777777777778,
                            "#fb9f3a"
                          ],
                          [
                            0.8888888888888888,
                            "#fdca26"
                          ],
                          [
                            1,
                            "#f0f921"
                          ]
                        ],
                        "type": "heatmapgl"
                      }
                    ],
                    "histogram": [
                      {
                        "marker": {
                          "colorbar": {
                            "outlinewidth": 0,
                            "ticks": ""
                          }
                        },
                        "type": "histogram"
                      }
                    ],
                    "histogram2d": [
                      {
                        "colorbar": {
                          "outlinewidth": 0,
                          "ticks": ""
                        },
                        "colorscale": [
                          [
                            0,
                            "#0d0887"
                          ],
                          [
                            0.1111111111111111,
                            "#46039f"
                          ],
                          [
                            0.2222222222222222,
                            "#7201a8"
                          ],
                          [
                            0.3333333333333333,
                            "#9c179e"
                          ],
                          [
                            0.4444444444444444,
                            "#bd3786"
                          ],
                          [
                            0.5555555555555556,
                            "#d8576b"
                          ],
                          [
                            0.6666666666666666,
                            "#ed7953"
                          ],
                          [
                            0.7777777777777778,
                            "#fb9f3a"
                          ],
                          [
                            0.8888888888888888,
                            "#fdca26"
                          ],
                          [
                            1,
                            "#f0f921"
                          ]
                        ],
                        "type": "histogram2d"
                      }
                    ],
                    "histogram2dcontour": [
                      {
                        "colorbar": {
                          "outlinewidth": 0,
                          "ticks": ""
                        },
                        "colorscale": [
                          [
                            0,
                            "#0d0887"
                          ],
                          [
                            0.1111111111111111,
                            "#46039f"
                          ],
                          [
                            0.2222222222222222,
                            "#7201a8"
                          ],
                          [
                            0.3333333333333333,
                            "#9c179e"
                          ],
                          [
                            0.4444444444444444,
                            "#bd3786"
                          ],
                          [
                            0.5555555555555556,
                            "#d8576b"
                          ],
                          [
                            0.6666666666666666,
                            "#ed7953"
                          ],
                          [
                            0.7777777777777778,
                            "#fb9f3a"
                          ],
                          [
                            0.8888888888888888,
                            "#fdca26"
                          ],
                          [
                            1,
                            "#f0f921"
                          ]
                        ],
                        "type": "histogram2dcontour"
                      }
                    ],
                    "mesh3d": [
                      {
                        "colorbar": {
                          "outlinewidth": 0,
                          "ticks": ""
                        },
                        "type": "mesh3d"
                      }
                    ],
                    "parcoords": [
                      {
                        "line": {
                          "colorbar": {
                            "outlinewidth": 0,
                            "ticks": ""
                          }
                        },
                        "type": "parcoords"
                      }
                    ],
                    "pie": [
                      {
                        "automargin": true,
                        "type": "pie"
                      }
                    ],
                    "scatter": [
                      {
                        "marker": {
                          "colorbar": {
                            "outlinewidth": 0,
                            "ticks": ""
                          }
                        },
                        "type": "scatter"
                      }
                    ],
                    "scatter3d": [
                      {
                        "line": {
                          "colorbar": {
                            "outlinewidth": 0,
                            "ticks": ""
                          }
                        },
                        "marker": {
                          "colorbar": {
                            "outlinewidth": 0,
                            "ticks": ""
                          }
                        },
                        "type": "scatter3d"
                      }
                    ],
                    "scattercarpet": [
                      {
                        "marker": {
                          "colorbar": {
                            "outlinewidth": 0,
                            "ticks": ""
                          }
                        },
                        "type": "scattercarpet"
                      }
                    ],
                    "scattergeo": [
                      {
                        "marker": {
                          "colorbar": {
                            "outlinewidth": 0,
                            "ticks": ""
                          }
                        },
                        "type": "scattergeo"
                      }
                    ],
                    "scattergl": [
                      {
                        "marker": {
                          "colorbar": {
                            "outlinewidth": 0,
                            "ticks": ""
                          }
                        },
                        "type": "scattergl"
                      }
                    ],
                    "scattermapbox": [
                      {
                        "marker": {
                          "colorbar": {
                            "outlinewidth": 0,
                            "ticks": ""
                          }
                        },
                        "type": "scattermapbox"
                      }
                    ],
                    "scatterpolar": [
                      {
                        "marker": {
                          "colorbar": {
                            "outlinewidth": 0,
                            "ticks": ""
                          }
                        },
                        "type": "scatterpolar"
                      }
                    ],
                    "scatterpolargl": [
                      {
                        "marker": {
                          "colorbar": {
                            "outlinewidth": 0,
                            "ticks": ""
                          }
                        },
                        "type": "scatterpolargl"
                      }
                    ],
                    "scatterternary": [
                      {
                        "marker": {
                          "colorbar": {
                            "outlinewidth": 0,
                            "ticks": ""
                          }
                        },
                        "type": "scatterternary"
                      }
                    ],
                    "surface": [
                      {
                        "colorbar": {
                          "outlinewidth": 0,
                          "ticks": ""
                        },
                        "colorscale": [
                          [
                            0,
                            "#0d0887"
                          ],
                          [
                            0.1111111111111111,
                            "#46039f"
                          ],
                          [
                            0.2222222222222222,
                            "#7201a8"
                          ],
                          [
                            0.3333333333333333,
                            "#9c179e"
                          ],
                          [
                            0.4444444444444444,
                            "#bd3786"
                          ],
                          [
                            0.5555555555555556,
                            "#d8576b"
                          ],
                          [
                            0.6666666666666666,
                            "#ed7953"
                          ],
                          [
                            0.7777777777777778,
                            "#fb9f3a"
                          ],
                          [
                            0.8888888888888888,
                            "#fdca26"
                          ],
                          [
                            1,
                            "#f0f921"
                          ]
                        ],
                        "type": "surface"
                      }
                    ],
                    "table": [
                      {
                        "cells": {
                          "fill": {
                            "color": "#EBF0F8"
                          },
                          "line": {
                            "color": "white"
                          }
                        },
                        "header": {
                          "fill": {
                            "color": "#C8D4E3"
                          },
                          "line": {
                            "color": "white"
                          }
                        },
                        "type": "table"
                      }
                    ]
                  },
                  "layout": {
                    "annotationdefaults": {
                      "arrowcolor": "#2a3f5f",
                      "arrowhead": 0,
                      "arrowwidth": 1
                    },
                    "autotypenumbers": "strict",
                    "coloraxis": {
                      "colorbar": {
                        "outlinewidth": 0,
                        "ticks": ""
                      }
                    },
                    "colorscale": {
                      "diverging": [
                        [
                          0,
                          "#8e0152"
                        ],
                        [
                          0.1,
                          "#c51b7d"
                        ],
                        [
                          0.2,
                          "#de77ae"
                        ],
                        [
                          0.3,
                          "#f1b6da"
                        ],
                        [
                          0.4,
                          "#fde0ef"
                        ],
                        [
                          0.5,
                          "#f7f7f7"
                        ],
                        [
                          0.6,
                          "#e6f5d0"
                        ],
                        [
                          0.7,
                          "#b8e186"
                        ],
                        [
                          0.8,
                          "#7fbc41"
                        ],
                        [
                          0.9,
                          "#4d9221"
                        ],
                        [
                          1,
                          "#276419"
                        ]
                      ],
                      "sequential": [
                        [
                          0,
                          "#0d0887"
                        ],
                        [
                          0.1111111111111111,
                          "#46039f"
                        ],
                        [
                          0.2222222222222222,
                          "#7201a8"
                        ],
                        [
                          0.3333333333333333,
                          "#9c179e"
                        ],
                        [
                          0.4444444444444444,
                          "#bd3786"
                        ],
                        [
                          0.5555555555555556,
                          "#d8576b"
                        ],
                        [
                          0.6666666666666666,
                          "#ed7953"
                        ],
                        [
                          0.7777777777777778,
                          "#fb9f3a"
                        ],
                        [
                          0.8888888888888888,
                          "#fdca26"
                        ],
                        [
                          1,
                          "#f0f921"
                        ]
                      ],
                      "sequentialminus": [
                        [
                          0,
                          "#0d0887"
                        ],
                        [
                          0.1111111111111111,
                          "#46039f"
                        ],
                        [
                          0.2222222222222222,
                          "#7201a8"
                        ],
                        [
                          0.3333333333333333,
                          "#9c179e"
                        ],
                        [
                          0.4444444444444444,
                          "#bd3786"
                        ],
                        [
                          0.5555555555555556,
                          "#d8576b"
                        ],
                        [
                          0.6666666666666666,
                          "#ed7953"
                        ],
                        [
                          0.7777777777777778,
                          "#fb9f3a"
                        ],
                        [
                          0.8888888888888888,
                          "#fdca26"
                        ],
                        [
                          1,
                          "#f0f921"
                        ]
                      ]
                    },
                    "colorway": [
                      "#636efa",
                      "#EF553B",
                      "#00cc96",
                      "#ab63fa",
                      "#FFA15A",
                      "#19d3f3",
                      "#FF6692",
                      "#B6E880",
                      "#FF97FF",
                      "#FECB52"
                    ],
                    "font": {
                      "color": "#2a3f5f"
                    },
                    "geo": {
                      "bgcolor": "white",
                      "lakecolor": "white",
                      "landcolor": "#E5ECF6",
                      "showlakes": true,
                      "showland": true,
                      "subunitcolor": "white"
                    },
                    "hoverlabel": {
                      "align": "left"
                    },
                    "hovermode": "closest",
                    "mapbox": {
                      "style": "light"
                    },
                    "paper_bgcolor": "white",
                    "plot_bgcolor": "#E5ECF6",
                    "polar": {
                      "angularaxis": {
                        "gridcolor": "white",
                        "linecolor": "white",
                        "ticks": ""
                      },
                      "bgcolor": "#E5ECF6",
                      "radialaxis": {
                        "gridcolor": "white",
                        "linecolor": "white",
                        "ticks": ""
                      }
                    },
                    "scene": {
                      "xaxis": {
                        "backgroundcolor": "#E5ECF6",
                        "gridcolor": "white",
                        "gridwidth": 2,
                        "linecolor": "white",
                        "showbackground": true,
                        "ticks": "",
                        "zerolinecolor": "white"
                      },
                      "yaxis": {
                        "backgroundcolor": "#E5ECF6",
                        "gridcolor": "white",
                        "gridwidth": 2,
                        "linecolor": "white",
                        "showbackground": true,
                        "ticks": "",
                        "zerolinecolor": "white"
                      },
                      "zaxis": {
                        "backgroundcolor": "#E5ECF6",
                        "gridcolor": "white",
                        "gridwidth": 2,
                        "linecolor": "white",
                        "showbackground": true,
                        "ticks": "",
                        "zerolinecolor": "white"
                      }
                    },
                    "shapedefaults": {
                      "line": {
                        "color": "#2a3f5f"
                      }
                    },
                    "ternary": {
                      "aaxis": {
                        "gridcolor": "white",
                        "linecolor": "white",
                        "ticks": ""
                      },
                      "baxis": {
                        "gridcolor": "white",
                        "linecolor": "white",
                        "ticks": ""
                      },
                      "bgcolor": "#E5ECF6",
                      "caxis": {
                        "gridcolor": "white",
                        "linecolor": "white",
                        "ticks": ""
                      }
                    },
                    "title": {
                      "x": 0.05
                    },
                    "xaxis": {
                      "automargin": true,
                      "gridcolor": "white",
                      "linecolor": "white",
                      "ticks": "",
                      "title": {
                        "standoff": 15
                      },
                      "zerolinecolor": "white",
                      "zerolinewidth": 2
                    },
                    "yaxis": {
                      "automargin": true,
                      "gridcolor": "white",
                      "linecolor": "white",
                      "ticks": "",
                      "title": {
                        "standoff": 15
                      },
                      "zerolinecolor": "white",
                      "zerolinewidth": 2
                    }
                  }
                },
                "xaxis": {
                  "anchor": "y",
                  "domain": [
                    0,
                    1
                  ],
                  "title": {
                    "text": "AgeOfDimm"
                  }
                },
                "yaxis": {
                  "anchor": "x",
                  "domain": [
                    0,
                    1
                  ],
                  "title": {
                    "text": "MA_Uefit"
                  }
                }
              }
            },
            "text/html": "<div>                            <div id=\"ff1b0702-88bc-479d-9bf5-4d99eb76ef40\" class=\"plotly-graph-div\" style=\"height:525px; width:100%;\"></div>            <script type=\"text/javascript\">                require([\"plotly\"], function(Plotly) {                    window.PLOTLYENV=window.PLOTLYENV || {};                                    if (document.getElementById(\"ff1b0702-88bc-479d-9bf5-4d99eb76ef40\")) {                    Plotly.newPlot(                        \"ff1b0702-88bc-479d-9bf5-4d99eb76ef40\",                        [{\"hovertemplate\": \"anomaly_id=inlier<br>AgeOfDimm=%{x}<br>MA_Uefit=%{y}<extra></extra>\", \"legendgroup\": \"inlier\", \"marker\": {\"color\": \"#636efa\", \"symbol\": \"circle\"}, \"mode\": \"markers\", \"name\": \"inlier\", \"orientation\": \"v\", \"showlegend\": true, \"type\": \"scatter\", \"x\": [350, 338, 337, 324, 323, 322, 320, 317, 310, 307, 307, 298, 298, 297, 295, 288, 286, 284, 282, 282, 280, 280, 275, 274, 273, 273, 270, 269, 267, 267, 266, 264, 264, 263, 263, 261, 256, 256, 255, 255, 255, 255, 254, 249, 249, 247, 246, 239, 239, 229, 229, 226, 226, 223, 216, 215, 215, 214, 214, 213, 211, 209, 209, 209, 209, 208, 208, 208, 206, 206, 204, 204, 202, 201, 200, 200, 199, 198, 198, 196, 194, 193, 193, 193, 191, 187, 187, 187, 186, 186, 185, 185, 184, 183, 182, 182, 180, 178, 177, 174, 172, 172, 171, 171, 166, 165, 163, 161, 160, 157, 157, 156, 156, 154, 153, 128, 125, 124, 123, 120, 119, 118, 117, 116, 115, 114, 114, 113, 112, 112, 108, 106, 104, 100, 100, 99, 98, 98, 96, 95, 94, 92, 92, 86, 86, 86, 86, 84, 84, 82, 82, 79, 78, 77, 77, 76, 75, 75, 73, 73, 65, 64, 62, 62, 61, 59, 59, 58, 58, 57, 55, 54, 53, 53, 52, 51, 51, 50, 48, 48, 47, 44, 42, 41, 40, 40, 40, 40, 39, 39, 38, 38, 38, 38, 36, 35, 34, 33, 33, 32, 32, 31, 29, 28, 28, 28, 28, 26, 25, 23, 22, 22, 22, 21, 20, 19, 19, 18, 18, 17, 17, 17, 16, 15, 15, 15, 14, 13, 13, 12, 12, 12, 11, 10, 9, 9, 9, 7, 7, 6, 6, 5, 4], \"xaxis\": \"x\", \"y\": [221.35884010518035, 130.2854887476212, 130.2854887476212, 395.9160968738352, 402.24063516255455, 397.1810045315791, 102.45752027725578, 125.22585811664557, 126.4907657743894, 108.78205856597513, 108.78205856597513, 718.4675495985235, 718.4675495985235, 724.7920878872429, 824.7197928490092, 118.901319827926, 1617.8168942544198, 1615.2870789389324, 1674.7377388528946, 1674.7377388528946, 1759.4865519217346, 1759.4865519217346, 185.94142568835167, 185.94142568835167, 1553.306603709482, 1553.306603709482, 1572.2802185756407, 1600.1081870460055, 1593.7836487572863, 1593.7836487572863, 103.72242793499987, 102.457520277256, 102.457520277256, 126.49076577438964, 126.49076577438964, 225.15356307841202, 222.6237477629243, 222.6237477629243, 141.66965766731622, 141.66965766731622, 141.66965766731622, 141.66965766731622, 112.57678153920703, 115.1065968546948, 115.1065968546948, 123.96095045890192, 125.2258581166458, 194.79577929255902, 194.79577929255902, 299.7831148853012, 299.7831148853012, 265.63060812621643, 265.63060812621643, 45.536675678781926, 1196.6026442257096, 1285.1461802677807, 1285.1461802677807, 1331.9477636043046, 1331.9477636043046, 2071.9187433844722, 2049.150405545082, 1035.959371692237, 1035.959371692237, 1035.959371692237, 1035.959371692237, 939.8263897037024, 939.8263897037024, 939.8263897037024, 209.97467118548616, 209.97467118548616, 277.0147770459116, 277.0147770459116, 603.3609527438318, 589.446968508649, 565.4137230115152, 565.4137230115152, 545.1752004876133, 906.938790602362, 906.938790602362, 812.0707162715713, 526.2015856214554, 531.2612162524309, 531.2612162524309, 531.2612162524309, 784.2427478012062, 1657.0290316444816, 1657.0290316444816, 1657.0290316444816, 1648.1746780402743, 1648.1746780402743, 1626.671247858629, 1626.671247858629, 1603.9029100192388, 971.4490811473007, 937.296574388216, 937.296574388216, 97.39788964628178, 89.80844369981854, 376.9424820076785, 1219.3709820651002, 1225.6955203538193, 1225.6955203538193, 1221.9007973805874, 1221.9007973805874, 132.8153040631101, 137.8749346940856, 260.5709774952416, 2001.0839145508148, 2036.5013289676435, 2068.12402041124, 2068.12402041124, 4571.376275086373, 4571.376275086373, 2890.31399794476, 2913.0823357841496, 647.6327207648641, 980.3034347515036, 962.5947275430893, 893.0248063671761, 621.0696599522425, 753.8849640153494, 766.5340405927882, 1763.281274894963, 1737.9831217400854, 1729.1287681358785, 1749.3672906597799, 1749.3672906597799, 1703.8306149810003, 1192.8079212524742, 1192.8079212524742, 2101.011619512577, 2243.946184837636, 2190.820063212393, 2351.4633357458656, 2351.4633357458656, 734.9113491491918, 1509.0348356884442, 1509.0348356884442, 1373.6897163098492, 1610.2274483079543, 1563.4258649714307, 1221.9007973805842, 1221.9007973805842, 426.2738806596858, 426.2738806596858, 426.2738806596858, 426.2738806596858, 308.6374684895051, 308.6374684895051, 631.1889212141937, 631.1889212141937, 731.1166261759599, 741.2358874379111, 652.6923513958396, 652.6923513958396, 660.2817973423028, 728.5868108604719, 728.5868108604719, 645.1029054493762, 645.1029054493762, 1595.0485564150274, 2504.517162332875, 2049.15040554508, 2049.15040554508, 1636.7905091205755, 1261.1129347706446, 1261.1129347706446, 1109.3240158413794, 1109.3240158413794, 198.59050226578847, 514.8174167017577, 516.0823243595015, 533.7910315679158, 533.7910315679158, 693.1693964436442, 731.1166261759605, 731.1166261759605, 760.2095023040697, 502.16834012431883, 502.16834012431883, 578.0627995889515, 408.56517345127196, 378.2073896654189, 347.8496058795659, 251.7166238910313, 251.7166238910313, 251.7166238910313, 251.7166238910313, 202.3852252390201, 202.3852252390201, 235.2728243403609, 235.2728243403609, 235.2728243403609, 235.2728243403609, 174.5572567686548, 488.2543558891362, 698.2290270746198, 751.3551486998629, 751.3551486998629, 760.2095023040698, 760.2095023040698, 712.1430113098022, 728.5868108604727, 435.1282342638935, 435.1282342638935, 435.1282342638935, 435.1282342638935, 197.3255946080446, 259.3060698374946, 567.9435383270004, 685.5799504971809, 685.5799504971809, 685.5799504971809, 771.5936712237643, 757.6796869885817, 1729.1287681358785, 1729.1287681358785, 1676.0026465106364, 1676.0026465106364, 1644.3799550670392, 1644.3799550670392, 1644.3799550670392, 1569.7504032601505, 1483.7366825335666, 1483.7366825335666, 1483.7366825335666, 1486.2664978490545, 1622.8765248853927, 1622.8765248853927, 1028.369925745771, 1028.369925745771, 1028.369925745771, 1068.8469707935753, 1314.2390563958872, 1331.9477636043014, 1331.9477636043014, 1331.9477636043014, 3481.025874111147, 3481.025874111147, 4334.8385430882645, 4334.8385430882645, 4568.84645977088, 5360.425671986997], \"yaxis\": \"y\"}, {\"hovertemplate\": \"anomaly_id=outlier<br>AgeOfDimm=%{x}<br>MA_Uefit=%{y}<extra></extra>\", \"legendgroup\": \"outlier\", \"marker\": {\"color\": \"#EF553B\", \"symbol\": \"circle\"}, \"mode\": \"markers\", \"name\": \"outlier\", \"orientation\": \"v\", \"showlegend\": true, \"type\": \"scatter\", \"x\": [235, 235, 234, 234, 231, 152, 152, 150, 150, 150, 149, 147, 147, 146, 143, 143, 142, 142, 142, 141, 140, 139, 138, 135, 134, 134, 131, 131, 3, 3, 3, 2, 2, 2, 1, 1, 1, 0, 0], \"xaxis\": \"x\", \"y\": [8177.628007314165, 8177.628007314165, 8159.919300105749, 8159.919300105749, 8273.7609893027, 12936.210615746631, 12936.210615746631, 12910.912462591752, 12910.912462591752, 12910.912462591752, 11399.34781158782, 11251.353615631788, 11251.353615631788, 13540.836476148203, 28896.815441158862, 28896.815441158862, 34400.428660002464, 34400.428660002464, 34400.428660002464, 41047.51840144653, 50367.35802370341, 60304.472582939314, 61465.65781274818, 44142.7474399458, 37474.15426832008, 37474.15426832008, 9257.859147027437, 9257.859147027437, 6038.669158069264, 6038.669158069264, 6038.669158069264, 7771.17101329246, 7771.17101329246, 7771.17101329246, 9894.74015270147, 9894.74015270147, 9894.74015270147, 6959.521932906805, 6959.521932906805], \"yaxis\": \"y\"}],                        {\"legend\": {\"title\": {\"text\": \"anomaly_id\"}, \"tracegroupgap\": 0}, \"margin\": {\"t\": 60}, \"template\": {\"data\": {\"bar\": [{\"error_x\": {\"color\": \"#2a3f5f\"}, \"error_y\": {\"color\": \"#2a3f5f\"}, \"marker\": {\"line\": {\"color\": \"#E5ECF6\", \"width\": 0.5}}, \"type\": \"bar\"}], \"barpolar\": [{\"marker\": {\"line\": {\"color\": \"#E5ECF6\", \"width\": 0.5}}, \"type\": \"barpolar\"}], \"carpet\": [{\"aaxis\": {\"endlinecolor\": \"#2a3f5f\", \"gridcolor\": \"white\", \"linecolor\": \"white\", \"minorgridcolor\": \"white\", \"startlinecolor\": \"#2a3f5f\"}, \"baxis\": {\"endlinecolor\": \"#2a3f5f\", \"gridcolor\": \"white\", \"linecolor\": \"white\", \"minorgridcolor\": \"white\", \"startlinecolor\": \"#2a3f5f\"}, \"type\": \"carpet\"}], \"choropleth\": [{\"colorbar\": {\"outlinewidth\": 0, \"ticks\": \"\"}, \"type\": \"choropleth\"}], \"contour\": [{\"colorbar\": {\"outlinewidth\": 0, \"ticks\": \"\"}, \"colorscale\": [[0.0, \"#0d0887\"], [0.1111111111111111, \"#46039f\"], [0.2222222222222222, \"#7201a8\"], [0.3333333333333333, \"#9c179e\"], [0.4444444444444444, \"#bd3786\"], [0.5555555555555556, \"#d8576b\"], [0.6666666666666666, \"#ed7953\"], [0.7777777777777778, \"#fb9f3a\"], [0.8888888888888888, \"#fdca26\"], [1.0, \"#f0f921\"]], \"type\": \"contour\"}], \"contourcarpet\": [{\"colorbar\": {\"outlinewidth\": 0, \"ticks\": \"\"}, \"type\": \"contourcarpet\"}], \"heatmap\": [{\"colorbar\": {\"outlinewidth\": 0, \"ticks\": \"\"}, \"colorscale\": [[0.0, \"#0d0887\"], [0.1111111111111111, \"#46039f\"], [0.2222222222222222, \"#7201a8\"], [0.3333333333333333, \"#9c179e\"], [0.4444444444444444, \"#bd3786\"], [0.5555555555555556, \"#d8576b\"], [0.6666666666666666, \"#ed7953\"], [0.7777777777777778, \"#fb9f3a\"], [0.8888888888888888, \"#fdca26\"], [1.0, \"#f0f921\"]], \"type\": \"heatmap\"}], \"heatmapgl\": [{\"colorbar\": {\"outlinewidth\": 0, \"ticks\": \"\"}, \"colorscale\": [[0.0, \"#0d0887\"], [0.1111111111111111, \"#46039f\"], [0.2222222222222222, \"#7201a8\"], [0.3333333333333333, \"#9c179e\"], [0.4444444444444444, \"#bd3786\"], [0.5555555555555556, \"#d8576b\"], [0.6666666666666666, \"#ed7953\"], [0.7777777777777778, \"#fb9f3a\"], [0.8888888888888888, \"#fdca26\"], [1.0, \"#f0f921\"]], \"type\": \"heatmapgl\"}], \"histogram\": [{\"marker\": {\"colorbar\": {\"outlinewidth\": 0, \"ticks\": \"\"}}, \"type\": \"histogram\"}], \"histogram2d\": [{\"colorbar\": {\"outlinewidth\": 0, \"ticks\": \"\"}, \"colorscale\": [[0.0, \"#0d0887\"], [0.1111111111111111, \"#46039f\"], [0.2222222222222222, \"#7201a8\"], [0.3333333333333333, \"#9c179e\"], [0.4444444444444444, \"#bd3786\"], [0.5555555555555556, \"#d8576b\"], [0.6666666666666666, \"#ed7953\"], [0.7777777777777778, \"#fb9f3a\"], [0.8888888888888888, \"#fdca26\"], [1.0, \"#f0f921\"]], \"type\": \"histogram2d\"}], \"histogram2dcontour\": [{\"colorbar\": {\"outlinewidth\": 0, \"ticks\": \"\"}, \"colorscale\": [[0.0, \"#0d0887\"], [0.1111111111111111, \"#46039f\"], [0.2222222222222222, \"#7201a8\"], [0.3333333333333333, \"#9c179e\"], [0.4444444444444444, \"#bd3786\"], [0.5555555555555556, \"#d8576b\"], [0.6666666666666666, \"#ed7953\"], [0.7777777777777778, \"#fb9f3a\"], [0.8888888888888888, \"#fdca26\"], [1.0, \"#f0f921\"]], \"type\": \"histogram2dcontour\"}], \"mesh3d\": [{\"colorbar\": {\"outlinewidth\": 0, \"ticks\": \"\"}, \"type\": \"mesh3d\"}], \"parcoords\": [{\"line\": {\"colorbar\": {\"outlinewidth\": 0, \"ticks\": \"\"}}, \"type\": \"parcoords\"}], \"pie\": [{\"automargin\": true, \"type\": \"pie\"}], \"scatter\": [{\"marker\": {\"colorbar\": {\"outlinewidth\": 0, \"ticks\": \"\"}}, \"type\": \"scatter\"}], \"scatter3d\": [{\"line\": {\"colorbar\": {\"outlinewidth\": 0, \"ticks\": \"\"}}, \"marker\": {\"colorbar\": {\"outlinewidth\": 0, \"ticks\": \"\"}}, \"type\": \"scatter3d\"}], \"scattercarpet\": [{\"marker\": {\"colorbar\": {\"outlinewidth\": 0, \"ticks\": \"\"}}, \"type\": \"scattercarpet\"}], \"scattergeo\": [{\"marker\": {\"colorbar\": {\"outlinewidth\": 0, \"ticks\": \"\"}}, \"type\": \"scattergeo\"}], \"scattergl\": [{\"marker\": {\"colorbar\": {\"outlinewidth\": 0, \"ticks\": \"\"}}, \"type\": \"scattergl\"}], \"scattermapbox\": [{\"marker\": {\"colorbar\": {\"outlinewidth\": 0, \"ticks\": \"\"}}, \"type\": \"scattermapbox\"}], \"scatterpolar\": [{\"marker\": {\"colorbar\": {\"outlinewidth\": 0, \"ticks\": \"\"}}, \"type\": \"scatterpolar\"}], \"scatterpolargl\": [{\"marker\": {\"colorbar\": {\"outlinewidth\": 0, \"ticks\": \"\"}}, \"type\": \"scatterpolargl\"}], \"scatterternary\": [{\"marker\": {\"colorbar\": {\"outlinewidth\": 0, \"ticks\": \"\"}}, \"type\": \"scatterternary\"}], \"surface\": [{\"colorbar\": {\"outlinewidth\": 0, \"ticks\": \"\"}, \"colorscale\": [[0.0, \"#0d0887\"], [0.1111111111111111, \"#46039f\"], [0.2222222222222222, \"#7201a8\"], [0.3333333333333333, \"#9c179e\"], [0.4444444444444444, \"#bd3786\"], [0.5555555555555556, \"#d8576b\"], [0.6666666666666666, \"#ed7953\"], [0.7777777777777778, \"#fb9f3a\"], [0.8888888888888888, \"#fdca26\"], [1.0, \"#f0f921\"]], \"type\": \"surface\"}], \"table\": [{\"cells\": {\"fill\": {\"color\": \"#EBF0F8\"}, \"line\": {\"color\": \"white\"}}, \"header\": {\"fill\": {\"color\": \"#C8D4E3\"}, \"line\": {\"color\": \"white\"}}, \"type\": \"table\"}]}, \"layout\": {\"annotationdefaults\": {\"arrowcolor\": \"#2a3f5f\", \"arrowhead\": 0, \"arrowwidth\": 1}, \"autotypenumbers\": \"strict\", \"coloraxis\": {\"colorbar\": {\"outlinewidth\": 0, \"ticks\": \"\"}}, \"colorscale\": {\"diverging\": [[0, \"#8e0152\"], [0.1, \"#c51b7d\"], [0.2, \"#de77ae\"], [0.3, \"#f1b6da\"], [0.4, \"#fde0ef\"], [0.5, \"#f7f7f7\"], [0.6, \"#e6f5d0\"], [0.7, \"#b8e186\"], [0.8, \"#7fbc41\"], [0.9, \"#4d9221\"], [1, \"#276419\"]], \"sequential\": [[0.0, \"#0d0887\"], [0.1111111111111111, \"#46039f\"], [0.2222222222222222, \"#7201a8\"], [0.3333333333333333, \"#9c179e\"], [0.4444444444444444, \"#bd3786\"], [0.5555555555555556, \"#d8576b\"], [0.6666666666666666, \"#ed7953\"], [0.7777777777777778, \"#fb9f3a\"], [0.8888888888888888, \"#fdca26\"], [1.0, \"#f0f921\"]], \"sequentialminus\": [[0.0, \"#0d0887\"], [0.1111111111111111, \"#46039f\"], [0.2222222222222222, \"#7201a8\"], [0.3333333333333333, \"#9c179e\"], [0.4444444444444444, \"#bd3786\"], [0.5555555555555556, \"#d8576b\"], [0.6666666666666666, \"#ed7953\"], [0.7777777777777778, \"#fb9f3a\"], [0.8888888888888888, \"#fdca26\"], [1.0, \"#f0f921\"]]}, \"colorway\": [\"#636efa\", \"#EF553B\", \"#00cc96\", \"#ab63fa\", \"#FFA15A\", \"#19d3f3\", \"#FF6692\", \"#B6E880\", \"#FF97FF\", \"#FECB52\"], \"font\": {\"color\": \"#2a3f5f\"}, \"geo\": {\"bgcolor\": \"white\", \"lakecolor\": \"white\", \"landcolor\": \"#E5ECF6\", \"showlakes\": true, \"showland\": true, \"subunitcolor\": \"white\"}, \"hoverlabel\": {\"align\": \"left\"}, \"hovermode\": \"closest\", \"mapbox\": {\"style\": \"light\"}, \"paper_bgcolor\": \"white\", \"plot_bgcolor\": \"#E5ECF6\", \"polar\": {\"angularaxis\": {\"gridcolor\": \"white\", \"linecolor\": \"white\", \"ticks\": \"\"}, \"bgcolor\": \"#E5ECF6\", \"radialaxis\": {\"gridcolor\": \"white\", \"linecolor\": \"white\", \"ticks\": \"\"}}, \"scene\": {\"xaxis\": {\"backgroundcolor\": \"#E5ECF6\", \"gridcolor\": \"white\", \"gridwidth\": 2, \"linecolor\": \"white\", \"showbackground\": true, \"ticks\": \"\", \"zerolinecolor\": \"white\"}, \"yaxis\": {\"backgroundcolor\": \"#E5ECF6\", \"gridcolor\": \"white\", \"gridwidth\": 2, \"linecolor\": \"white\", \"showbackground\": true, \"ticks\": \"\", \"zerolinecolor\": \"white\"}, \"zaxis\": {\"backgroundcolor\": \"#E5ECF6\", \"gridcolor\": \"white\", \"gridwidth\": 2, \"linecolor\": \"white\", \"showbackground\": true, \"ticks\": \"\", \"zerolinecolor\": \"white\"}}, \"shapedefaults\": {\"line\": {\"color\": \"#2a3f5f\"}}, \"ternary\": {\"aaxis\": {\"gridcolor\": \"white\", \"linecolor\": \"white\", \"ticks\": \"\"}, \"baxis\": {\"gridcolor\": \"white\", \"linecolor\": \"white\", \"ticks\": \"\"}, \"bgcolor\": \"#E5ECF6\", \"caxis\": {\"gridcolor\": \"white\", \"linecolor\": \"white\", \"ticks\": \"\"}}, \"title\": {\"x\": 0.05}, \"xaxis\": {\"automargin\": true, \"gridcolor\": \"white\", \"linecolor\": \"white\", \"ticks\": \"\", \"title\": {\"standoff\": 15}, \"zerolinecolor\": \"white\", \"zerolinewidth\": 2}, \"yaxis\": {\"automargin\": true, \"gridcolor\": \"white\", \"linecolor\": \"white\", \"ticks\": \"\", \"title\": {\"standoff\": 15}, \"zerolinecolor\": \"white\", \"zerolinewidth\": 2}}}, \"xaxis\": {\"anchor\": \"y\", \"domain\": [0.0, 1.0], \"title\": {\"text\": \"AgeOfDimm\"}}, \"yaxis\": {\"anchor\": \"x\", \"domain\": [0.0, 1.0], \"title\": {\"text\": \"MA_Uefit\"}}},                        {\"responsive\": true}                    ).then(function(){\n                            \nvar gd = document.getElementById('ff1b0702-88bc-479d-9bf5-4d99eb76ef40');\nvar x = new MutationObserver(function (mutations, observer) {{\n        var display = window.getComputedStyle(gd).display;\n        if (!display || display === 'none') {{\n            console.log([gd, 'removed!']);\n            Plotly.purge(gd);\n            observer.disconnect();\n        }}\n}});\n\n// Listen for the removal of the full notebook cells\nvar notebookContainer = gd.closest('#notebook-container');\nif (notebookContainer) {{\n    x.observe(notebookContainer, {childList: true});\n}}\n\n// Listen for the clearing of the current output cell\nvar outputEl = gd.closest('.output');\nif (outputEl) {{\n    x.observe(outputEl, {childList: true});\n}}\n\n                        })                };                });            </script>        </div>"
          },
          "metadata": {}
        }
      ],
      "execution_count": 110,
      "metadata": {
        "collapsed": true,
        "jupyter": {
          "source_hidden": false,
          "outputs_hidden": false
        },
        "nteract": {
          "transient": {
            "deleting": false
          }
        },
        "gather": {
          "logged": 1627520694392
        }
      }
    },
    {
      "cell_type": "code",
      "source": [
        "tmp_plot_df = outcomes_complete[outcomes_complete.MemoryManufacturer == 'Samsung']\r\n",
        "sns.scatterplot(x = 'AgeOfDimm', y = 'MA_Uefit', s=100, hue = 'anomaly_id', style = 'predict_id', data=tmp_plot_df)\r\n",
        "plt.show()"
      ],
      "outputs": [
        {
          "output_type": "display_data",
          "data": {
            "text/plain": "<Figure size 432x288 with 1 Axes>",
            "image/png": "[encoded data removed]"
          },
          "metadata": {
            "needs_background": "light"
          }
        }
      ],
      "execution_count": 111,
      "metadata": {
        "collapsed": true,
        "jupyter": {
          "source_hidden": false,
          "outputs_hidden": false
        },
        "nteract": {
          "transient": {
            "deleting": false
          }
        },
        "gather": {
          "logged": 1627520694933
        }
      }
    },
    {
      "cell_type": "code",
      "source": [],
      "outputs": [],
      "execution_count": null,
      "metadata": {
        "collapsed": true,
        "jupyter": {
          "source_hidden": false,
          "outputs_hidden": false
        },
        "nteract": {
          "transient": {
            "deleting": false
          }
        },
        "gather": {
          "logged": 1625587608151
        }
      }
    },
    {
      "cell_type": "code",
      "source": [],
      "outputs": [],
      "execution_count": null,
      "metadata": {
        "collapsed": true,
        "jupyter": {
          "source_hidden": false,
          "outputs_hidden": false
        },
        "nteract": {
          "transient": {
            "deleting": false
          }
        },
        "gather": {
          "logged": 1625713855622
        }
      }
    },
    {
      "cell_type": "code",
      "source": [],
      "outputs": [],
      "execution_count": null,
      "metadata": {
        "collapsed": true,
        "jupyter": {
          "source_hidden": false,
          "outputs_hidden": false
        },
        "nteract": {
          "transient": {
            "deleting": false
          }
        },
        "gather": {
          "logged": 1625716046983
        }
      }
    },
    {
      "cell_type": "code",
      "source": [],
      "outputs": [],
      "execution_count": null,
      "metadata": {
        "collapsed": true,
        "jupyter": {
          "source_hidden": false,
          "outputs_hidden": false
        },
        "nteract": {
          "transient": {
            "deleting": false
          }
        },
        "gather": {
          "logged": 1625717275552
        }
      }
    },
    {
      "cell_type": "code",
      "source": [],
      "outputs": [],
      "execution_count": null,
      "metadata": {
        "collapsed": true,
        "jupyter": {
          "source_hidden": false,
          "outputs_hidden": false
        },
        "nteract": {
          "transient": {
            "deleting": false
          }
        },
        "gather": {
          "logged": 1625717308630
        }
      }
    },
    {
      "cell_type": "code",
      "source": [],
      "outputs": [],
      "execution_count": null,
      "metadata": {
        "collapsed": true,
        "jupyter": {
          "source_hidden": false,
          "outputs_hidden": false
        },
        "nteract": {
          "transient": {
            "deleting": false
          }
        },
        "gather": {
          "logged": 1625717372884
        }
      }
    }
  ],
  "metadata": {
    "kernel_info": {
      "name": "python3"
    },
    "kernelspec": {
      "name": "python3",
      "language": "python",
      "display_name": "Python 3"
    },
    "language_info": {
      "name": "python",
      "version": "3.6.9",
      "mimetype": "text/x-python",
      "codemirror_mode": {
        "name": "ipython",
        "version": 3
      },
      "pygments_lexer": "ipython3",
      "nbconvert_exporter": "python",
      "file_extension": ".py"
    },
    "nteract": {
      "version": "nteract-front-end@1.0.0"
    },
    "microsoft": {
      "host": {
        "AzureML": {
          "notebookHasBeenCompleted": true
        }
      }
    }
  },
  "nbformat": 4,
  "nbformat_minor": 4
}